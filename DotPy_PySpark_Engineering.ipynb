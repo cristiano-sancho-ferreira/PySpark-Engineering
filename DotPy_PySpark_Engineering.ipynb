{
  "nbformat": 4,
  "nbformat_minor": 0,
  "metadata": {
    "colab": {
      "provenance": [],
      "collapsed_sections": [
        "fQ_tpKryjIsj",
        "gQjz6qp7jP7R",
        "ORKyzkkmNReO",
        "baJYuerrHYpy",
        "LhzkNA1frcIH",
        "ggoIwlIbwAJH",
        "B44qMJqozD6O",
        "2UV_k4MX2iaW",
        "ih01q1TheSbr",
        "X6Kd1p5pdqc-",
        "hsv8Sf96ONaR",
        "2zAZzmfiYGHN",
        "lbft7bhbYhVD",
        "Ve89BWXrwWSb",
        "sy2SDXqM224q",
        "UgtvbhNQu10J",
        "4f7YLp7idcxa",
        "BVdEt1iHdw7h",
        "fJQL3IzFr8ki",
        "LXsdMzHzGrZh",
        "gblqLicxMmcE",
        "W5y4bzT17qea",
        "T7LbNbPld7ma"
      ]
    },
    "kernelspec": {
      "name": "python3",
      "display_name": "Python 3"
    },
    "language_info": {
      "name": "python"
    }
  },
  "cells": [
    {
      "cell_type": "markdown",
      "source": [
        "\n",
        "# **1. Introdução**"
      ],
      "metadata": {
        "id": "fQ_tpKryjIsj"
      }
    },
    {
      "cell_type": "markdown",
      "source": [
        "O que é o driver?\n",
        "\n",
        "É a maquina principal onde ocorre o gerenciamento de criação e quem executará o código. Neste código possui o spark session que é o ponto de entrada. O Spark Session pega as suas tarefas e as divide em tarefas menores que serão tratadas pelos executores.\n",
        "\n",
        "O que é o cluster mananger?\n",
        "\n",
        "É o gerenciador de tarefas (ETL) e jobs que só é necessário se o Spark for executado de forma distribuída e também é responsável pela administração das máquinas que serão utilizadas como workers.\n",
        "\n",
        "O gerenciador de cluster se comunica com o driver e os executores para:\n",
        "\n",
        "Gerenciar a alocação de recursos, divisão do programa e execução do programa.\n",
        "\n",
        "O que são os work nodes?\n",
        "\n",
        "São as máquinas conectadas ao cluster que são responsáveis pela execução das tarefas designadas pelo cluster mananger. Se o Spark for executado de forma local, a máquina fará o papel de Driver Program e de Worker.\n",
        "\n",
        "Arquitetura do Spark\n",
        "\n",
        "A arquitetura de um código utilizando o spark é constituidas utilizando alguns objetos como: dataframe, colunas e entre outros.\n",
        "\n",
        "Para iniciarmos na hora de codar, nosso ponto de inicio para construir um dataframe é o SparkSession (driver program).\n",
        "\n",
        "O spark session é responsável por construir uma variável a qual conectará o ambiente do cluster, ou seja o a integração de sistemas para efetuaar a carga dos dados (processo de ETL), possibilitando a leitura de dataframes."
      ],
      "metadata": {
        "id": "N4f4x6rsj7kc"
      }
    },
    {
      "cell_type": "markdown",
      "source": [
        "  # **1.2 Spark Session**\n",
        "\n",
        "  \n"
      ],
      "metadata": {
        "id": "gQjz6qp7jP7R"
      }
    },
    {
      "cell_type": "code",
      "source": [
        "# instalar as dependencias\n",
        "# baixar a versão mais recente do java8;\n",
        "!apt-get install openjdk-8-jdk-headless -qq > /dev/null\n",
        "#download via stp do hadoop\n",
        "!wget -q https://dlcdn.apache.org/spark/spark-3.4.2/spark-3.4.2-bin-hadoop3.tgz\n",
        "!tar xf spark-3.4.2-bin-hadoop3.tgz\n",
        "# instalar o Findspark\n",
        "!pip install -q findspark"
      ],
      "metadata": {
        "id": "jtzbQGozjVvL"
      },
      "execution_count": null,
      "outputs": []
    },
    {
      "cell_type": "code",
      "source": [
        "import os\n",
        "os.environ[\"JAVA_HOME\"] = \"/usr/lib/jvm/java-8-openjdk-amd64\"\n",
        "os.environ[\"SPARK_HOME\"] = \"/content/sample_data/spark-3.3.2-bin-hadoop3\"\n",
        "\n",
        "# utilizando findspark para que o spark seja \"importavel\"\n",
        "\n",
        "import findspark\n",
        "findspark.init('spark-3.4.2-bin-hadoop3')"
      ],
      "metadata": {
        "id": "WHDJ6HvNkHqb"
      },
      "execution_count": null,
      "outputs": []
    },
    {
      "cell_type": "code",
      "source": [
        "from pyspark.sql import SparkSession\n",
        "spark = SparkSession.builder.getOrCreate();\n",
        "dir(spark)\n",
        "!ls sample_data"
      ],
      "metadata": {
        "colab": {
          "base_uri": "https://localhost:8080/"
        },
        "id": "upID95HfrVeK",
        "outputId": "93e34eb4-9941-430a-9548-4b6cd29bb71f"
      },
      "execution_count": null,
      "outputs": [
        {
          "output_type": "stream",
          "name": "stdout",
          "text": [
            "anscombe.json\t\t     california_housing_train.csv  mnist_train_small.csv\n",
            "california_housing_test.csv  mnist_test.csv\t\t   README.md\n"
          ]
        }
      ]
    },
    {
      "cell_type": "code",
      "source": [
        "# @title Texto de título padrão\n",
        "df = spark.read.csv(path='/content/sample_data/california_housing_test.csv',sep=',',header=True, inferSchema=True)\n",
        "type(df)"
      ],
      "metadata": {
        "colab": {
          "base_uri": "https://localhost:8080/",
          "height": 187
        },
        "id": "iluVPZL4tpi0",
        "outputId": "3959d194-9382-4ae4-bea5-f0a23a632ea8"
      },
      "execution_count": null,
      "outputs": [
        {
          "output_type": "execute_result",
          "data": {
            "text/plain": [
              "pyspark.sql.dataframe.DataFrame"
            ],
            "text/html": [
              "<div style=\"max-width:800px; border: 1px solid var(--colab-border-color);\"><style>\n",
              "      pre.function-repr-contents {\n",
              "        overflow-x: auto;\n",
              "        padding: 8px 12px;\n",
              "        max-height: 500px;\n",
              "      }\n",
              "\n",
              "      pre.function-repr-contents.function-repr-contents-collapsed {\n",
              "        cursor: pointer;\n",
              "        max-height: 100px;\n",
              "      }\n",
              "    </style>\n",
              "    <pre style=\"white-space: initial; background:\n",
              "         var(--colab-secondary-surface-color); padding: 8px 12px;\n",
              "         border-bottom: 1px solid var(--colab-border-color);\"><b>pyspark.sql.dataframe.DataFrame</b><br/>def __init__(jdf: JavaObject, sql_ctx: Union[&#x27;SQLContext&#x27;, &#x27;SparkSession&#x27;])</pre><pre class=\"function-repr-contents function-repr-contents-collapsed\" style=\"\"><a class=\"filepath\" style=\"display:none\" href=\"#\">/content/spark-3.4.2-bin-hadoop3/python/pyspark/sql/dataframe.py</a>A distributed collection of data grouped into named columns.\n",
              "\n",
              ".. versionadded:: 1.3.0\n",
              "\n",
              ".. versionchanged:: 3.4.0\n",
              "    Supports Spark Connect.\n",
              "\n",
              "Examples\n",
              "--------\n",
              "A :class:`DataFrame` is equivalent to a relational table in Spark SQL,\n",
              "and can be created using various functions in :class:`SparkSession`:\n",
              "\n",
              "&gt;&gt;&gt; people = spark.createDataFrame([\n",
              "...     {&quot;deptId&quot;: 1, &quot;age&quot;: 40, &quot;name&quot;: &quot;Hyukjin Kwon&quot;, &quot;gender&quot;: &quot;M&quot;, &quot;salary&quot;: 50},\n",
              "...     {&quot;deptId&quot;: 1, &quot;age&quot;: 50, &quot;name&quot;: &quot;Takuya Ueshin&quot;, &quot;gender&quot;: &quot;M&quot;, &quot;salary&quot;: 100},\n",
              "...     {&quot;deptId&quot;: 2, &quot;age&quot;: 60, &quot;name&quot;: &quot;Xinrong Meng&quot;, &quot;gender&quot;: &quot;F&quot;, &quot;salary&quot;: 150},\n",
              "...     {&quot;deptId&quot;: 3, &quot;age&quot;: 20, &quot;name&quot;: &quot;Haejoon Lee&quot;, &quot;gender&quot;: &quot;M&quot;, &quot;salary&quot;: 200}\n",
              "... ])\n",
              "\n",
              "Once created, it can be manipulated using the various domain-specific-language\n",
              "(DSL) functions defined in: :class:`DataFrame`, :class:`Column`.\n",
              "\n",
              "To select a column from the :class:`DataFrame`, use the apply method:\n",
              "\n",
              "&gt;&gt;&gt; age_col = people.age\n",
              "\n",
              "A more concrete example:\n",
              "\n",
              "&gt;&gt;&gt; # To create DataFrame using SparkSession\n",
              "... department = spark.createDataFrame([\n",
              "...     {&quot;id&quot;: 1, &quot;name&quot;: &quot;PySpark&quot;},\n",
              "...     {&quot;id&quot;: 2, &quot;name&quot;: &quot;ML&quot;},\n",
              "...     {&quot;id&quot;: 3, &quot;name&quot;: &quot;Spark SQL&quot;}\n",
              "... ])\n",
              "\n",
              "&gt;&gt;&gt; people.filter(people.age &gt; 30).join(\n",
              "...     department, people.deptId == department.id).groupBy(\n",
              "...     department.name, &quot;gender&quot;).agg({&quot;salary&quot;: &quot;avg&quot;, &quot;age&quot;: &quot;max&quot;}).show()\n",
              "+-------+------+-----------+--------+\n",
              "|   name|gender|avg(salary)|max(age)|\n",
              "+-------+------+-----------+--------+\n",
              "|     ML|     F|      150.0|      60|\n",
              "|PySpark|     M|       75.0|      50|\n",
              "+-------+------+-----------+--------+\n",
              "\n",
              "Notes\n",
              "-----\n",
              "A DataFrame should only be created as described above. It should not be directly\n",
              "created via using the constructor.</pre>\n",
              "      <script>\n",
              "      if (google.colab.kernel.accessAllowed && google.colab.files && google.colab.files.view) {\n",
              "        for (const element of document.querySelectorAll('.filepath')) {\n",
              "          element.style.display = 'block'\n",
              "          element.onclick = (event) => {\n",
              "            event.preventDefault();\n",
              "            event.stopPropagation();\n",
              "            google.colab.files.view(element.textContent, 81);\n",
              "          };\n",
              "        }\n",
              "      }\n",
              "      for (const element of document.querySelectorAll('.function-repr-contents')) {\n",
              "        element.onclick = (event) => {\n",
              "          event.preventDefault();\n",
              "          event.stopPropagation();\n",
              "          element.classList.toggle('function-repr-contents-collapsed');\n",
              "        };\n",
              "      }\n",
              "      </script>\n",
              "      </div>"
            ]
          },
          "metadata": {},
          "execution_count": 8
        }
      ]
    },
    {
      "cell_type": "code",
      "source": [
        "df.printSchema()"
      ],
      "metadata": {
        "colab": {
          "base_uri": "https://localhost:8080/"
        },
        "id": "ng9Cxmd0x_kD",
        "outputId": "5e767362-f2b3-4e4d-879e-173ecf7676f3"
      },
      "execution_count": null,
      "outputs": [
        {
          "output_type": "stream",
          "name": "stdout",
          "text": [
            "root\n",
            " |-- longitude: double (nullable = true)\n",
            " |-- latitude: double (nullable = true)\n",
            " |-- housing_median_age: double (nullable = true)\n",
            " |-- total_rooms: double (nullable = true)\n",
            " |-- total_bedrooms: double (nullable = true)\n",
            " |-- population: double (nullable = true)\n",
            " |-- households: double (nullable = true)\n",
            " |-- median_income: double (nullable = true)\n",
            " |-- median_house_value: double (nullable = true)\n",
            "\n"
          ]
        }
      ]
    },
    {
      "cell_type": "code",
      "source": [
        "df.show()"
      ],
      "metadata": {
        "colab": {
          "base_uri": "https://localhost:8080/"
        },
        "id": "DJtEAfxQyzqp",
        "outputId": "285f68f8-6f85-43ff-fab7-31d7fc6466c6"
      },
      "execution_count": null,
      "outputs": [
        {
          "output_type": "stream",
          "name": "stdout",
          "text": [
            "+---------+--------+------------------+-----------+--------------+----------+----------+-------------+------------------+\n",
            "|longitude|latitude|housing_median_age|total_rooms|total_bedrooms|population|households|median_income|median_house_value|\n",
            "+---------+--------+------------------+-----------+--------------+----------+----------+-------------+------------------+\n",
            "|  -122.05|   37.37|              27.0|     3885.0|         661.0|    1537.0|     606.0|       6.6085|          344700.0|\n",
            "|   -118.3|   34.26|              43.0|     1510.0|         310.0|     809.0|     277.0|        3.599|          176500.0|\n",
            "|  -117.81|   33.78|              27.0|     3589.0|         507.0|    1484.0|     495.0|       5.7934|          270500.0|\n",
            "|  -118.36|   33.82|              28.0|       67.0|          15.0|      49.0|      11.0|       6.1359|          330000.0|\n",
            "|  -119.67|   36.33|              19.0|     1241.0|         244.0|     850.0|     237.0|       2.9375|           81700.0|\n",
            "|  -119.56|   36.51|              37.0|     1018.0|         213.0|     663.0|     204.0|       1.6635|           67000.0|\n",
            "|  -121.43|   38.63|              43.0|     1009.0|         225.0|     604.0|     218.0|       1.6641|           67000.0|\n",
            "|  -120.65|   35.48|              19.0|     2310.0|         471.0|    1341.0|     441.0|        3.225|          166900.0|\n",
            "|  -122.84|    38.4|              15.0|     3080.0|         617.0|    1446.0|     599.0|       3.6696|          194400.0|\n",
            "|  -118.02|   34.08|              31.0|     2402.0|         632.0|    2830.0|     603.0|       2.3333|          164200.0|\n",
            "|  -118.24|   33.98|              45.0|      972.0|         249.0|    1288.0|     261.0|       2.2054|          125000.0|\n",
            "|  -119.12|   35.85|              37.0|      736.0|         166.0|     564.0|     138.0|       2.4167|           58300.0|\n",
            "|  -121.93|   37.25|              36.0|     1089.0|         182.0|     535.0|     170.0|         4.69|          252600.0|\n",
            "|  -117.03|   32.97|              16.0|     3936.0|         694.0|    1935.0|     659.0|       4.5625|          231200.0|\n",
            "|  -117.97|   33.73|              27.0|     2097.0|         325.0|    1217.0|     331.0|       5.7121|          222500.0|\n",
            "|  -117.99|   33.81|              42.0|      161.0|          40.0|     157.0|      50.0|          2.2|          153100.0|\n",
            "|  -120.81|   37.53|              15.0|      570.0|         123.0|     189.0|     107.0|        1.875|          181300.0|\n",
            "|   -121.2|   38.69|              26.0|     3077.0|         607.0|    1603.0|     595.0|       2.7174|          137500.0|\n",
            "|  -118.88|   34.21|              26.0|     1590.0|         196.0|     654.0|     199.0|       6.5851|          300000.0|\n",
            "|  -122.59|   38.01|              35.0|     8814.0|        1307.0|    3450.0|    1258.0|       6.1724|          414300.0|\n",
            "+---------+--------+------------------+-----------+--------------+----------+----------+-------------+------------------+\n",
            "only showing top 20 rows\n",
            "\n"
          ]
        }
      ]
    },
    {
      "cell_type": "markdown",
      "source": [
        "\n",
        "# **Leitura de arquivo Parquet e transformando em Dataframe.**\n",
        "\n"
      ],
      "metadata": {
        "id": "ORKyzkkmNReO"
      }
    },
    {
      "cell_type": "markdown",
      "source": [
        "Parquet é um formato de arquivo colunar que fornece optimizações para acelerar as consultas e é um formato muito mais eficiente do que CSV ou JSON, suportado por muitos sistemas de processamento de dados.\n",
        "\n",
        "\n",
        "É compatível com a maioria das estruturas de processamento de dados.\n",
        "Fornece esquemas eficientes de compressão e codificação de dados com desempenho melhorado para lidar com dados complexos em massa.\n",
        "\n",
        "\n",
        "Arquivos nesse formato reduzem o armazenamento de dados em média em 75%. O Spark por padrão suporta Parquet na sua biblioteca, logo não precisamos de adicionar quaisquer bibliotecas de dependência.\n",
        "\n",
        "\n",
        "Abaixo estão algumas das vantagens de usar o Parquet. A combinação destes benefícios com Spark melhora o desempenho e dá a capacidade de trabalhar com estrutura de arquivos.\n",
        "\n",
        "\n",
        "Reduz as operações de IO (maior eficiência as transformações).\n",
        "\n",
        "Obtém colunas específicas a que precisa de acessar (particionamentos).\n",
        "\n",
        "Consome menos espaço.\n",
        "\n",
        "Suporta Datatype nas colunas."
      ],
      "metadata": {
        "id": "1nZ2nzmfgg5e"
      }
    },
    {
      "cell_type": "code",
      "source": [
        "from pyspark.sql import SparkSession\n",
        "spark = SparkSession.builder.getOrCreate();\n",
        "df = spark.read.parquet('/content/part-00000-160310ee-f8df-4374-a58b-ff23cf718399-c000.snappy.parquet')\n",
        "df.show()"
      ],
      "metadata": {
        "colab": {
          "base_uri": "https://localhost:8080/"
        },
        "id": "OB20gv-ENtb4",
        "outputId": "ed4cf9eb-90bd-45fd-d5cd-007698eab8ae"
      },
      "execution_count": null,
      "outputs": [
        {
          "output_type": "stream",
          "name": "stdout",
          "text": [
            "+----------+--------------------+----------+----------+------+-----------+------------+\n",
            "|cliente_id|          nm_cliente|    nr_cpf|  dt_nasci|cep_id|complemento| nr_telefone|\n",
            "+----------+--------------------+----------+----------+------+-----------+------------+\n",
            "|      1820|   Vitor Hugo da Luz|0000108908|30-03-1986|512496| 179,casa 1|00-0910-2646|\n",
            "|      2275|         Ian Moreira|0000163362|20-03-1983|965268|  97,casa 1|00-1365-3969|\n",
            "|      2730|        Nicole Silva|0000217816|26-04-1989|931429| 194,casa 3|00-1820-5292|\n",
            "|      3185|       Enrico Araújo|0000272270|18-11-1982|287560| 304,casa 1|00-2275-6615|\n",
            "|      3640|       Lara Nogueira|0000326724|29-08-1988|840060| 207,casa 1|00-2730-7938|\n",
            "|      4095|Carlos Eduardo da...|0000381178|05-01-1997|746023| 121,casa 2|00-3185-9261|\n",
            "|      4550|     Larissa Correia|0000435632|15-07-1997|187173| 309,casa 1|00-3641-0584|\n",
            "|      5005|       Rafaela Viana|0000490086|19-05-1996|931949|  66,casa 3|00-4096-1907|\n",
            "|      5460|       Raul Carvalho|0000544540|06-01-1988|871432| 333,casa 2|00-4551-3230|\n",
            "|      5915|      Lorenzo Novaes|0000598994|25-05-1983|667061|  21,casa 3|00-5006-4553|\n",
            "|      6370|      Alexia Ribeiro|0000653448|30-07-1990|526407| 291,casa 2|00-5461-5876|\n",
            "|      6825|    Bárbara Nogueira|0000707902|14-02-1982|472787| 281,casa 3|00-5916-7199|\n",
            "|      7280|   Stephany da Rocha|0000762356|26-07-1989|512496| 314,casa 2|00-6371-8522|\n",
            "|      7735|      Caroline Pires|0000816810|29-05-1982|965268|  78,casa 3|00-6826-9845|\n",
            "|      8190|        Kaique Jesus|0000871264|09-04-1987|931429| 260,casa 2|00-7282-1168|\n",
            "|      8645|        Alice da Luz|0000925718|13-09-1998|287560| 142,casa 3|00-7737-2491|\n",
            "|      9100|       Eduarda Costa|0000980172|05-07-1983|840060| 197,casa 1|00-8192-3814|\n",
            "|      9555|        Helena Souza|0001034626|22-09-1995|746023| 205,casa 1|00-8647-5137|\n",
            "|     10010|      Lorena Azevedo|0001089080|22-11-1995|187173| 325,casa 3|00-9102-6460|\n",
            "|     10465|Maria Vitória da ...|0001143534|28-10-1996|931949| 193,casa 1|00-9557-7783|\n",
            "+----------+--------------------+----------+----------+------+-----------+------------+\n",
            "only showing top 20 rows\n",
            "\n"
          ]
        }
      ]
    },
    {
      "cell_type": "code",
      "source": [
        "df.printSchema()"
      ],
      "metadata": {
        "colab": {
          "base_uri": "https://localhost:8080/"
        },
        "id": "wU2wA1x8_D5S",
        "outputId": "42951fbf-2415-4473-e081-2875e19093d0"
      },
      "execution_count": null,
      "outputs": [
        {
          "output_type": "stream",
          "name": "stdout",
          "text": [
            "root\n",
            " |-- cliente_id: string (nullable = true)\n",
            " |-- nm_cliente: string (nullable = true)\n",
            " |-- nr_cpf: string (nullable = true)\n",
            " |-- dt_nasci: string (nullable = true)\n",
            " |-- cep_id: string (nullable = true)\n",
            " |-- complemento: string (nullable = true)\n",
            " |-- nr_telefone: string (nullable = true)\n",
            "\n"
          ]
        }
      ]
    },
    {
      "cell_type": "code",
      "source": [],
      "metadata": {
        "id": "uTXOvgSnHqW_"
      },
      "execution_count": null,
      "outputs": []
    },
    {
      "cell_type": "markdown",
      "source": [
        "**Arquivo ORC**"
      ],
      "metadata": {
        "id": "Ic-7rhBdQo-W"
      }
    },
    {
      "cell_type": "code",
      "source": [
        "df_orc = spark.read.orc('/content/part-00000-e426960a-16f7-4fe3-92a7-d6bbfc898c7c-c000.snappy.orc')\n",
        "df_orc.show()"
      ],
      "metadata": {
        "id": "_JidZv75QvDm",
        "colab": {
          "base_uri": "https://localhost:8080/"
        },
        "outputId": "b7a96b19-cb89-48a1-ec27-380eab8f657c"
      },
      "execution_count": null,
      "outputs": [
        {
          "output_type": "stream",
          "name": "stdout",
          "text": [
            "+----------+--------------------+-------------+-------+-----------+\n",
            "|produto_id|          nm_produto|fornecedor_id|dpto_id|vlr_produto|\n",
            "+----------+--------------------+-------------+-------+-----------+\n",
            "|         1|           Iphone 11|            1|      1|    4500.45|\n",
            "|         2|    Galaxy s22 Ultra|            2|      1|    6800.36|\n",
            "|         3|    Notebook Samsung|            2|      2|    5000.40|\n",
            "|         4|      Notebook HP i7|            3|      2|    4500.85|\n",
            "|         5|    suporte notebook|            4|      3|     200.34|\n",
            "|         6|Capa celular dive...|            4|      3|      55.78|\n",
            "+----------+--------------------+-------------+-------+-----------+\n",
            "\n"
          ]
        }
      ]
    },
    {
      "cell_type": "markdown",
      "source": [
        "# **Criando um Dataframe a partir de leitura de um banco de dados**\n",
        "\n",
        "\n"
      ],
      "metadata": {
        "id": "baJYuerrHYpy"
      }
    },
    {
      "cell_type": "markdown",
      "source": [
        "Criando a SparkSession"
      ],
      "metadata": {
        "id": "Lyfe_l1nLkxC"
      }
    },
    {
      "cell_type": "code",
      "source": [
        "import os\n",
        "os.environ[\"JAVA_HOME\"] = \"/usr/lib/jvm/java-8-openjdk-amd64\"\n",
        "os.environ[\"SPARK_HOME\"] = \"/content/sample_data/spark-3.3.2-bin-hadoop3\"\n",
        "\n",
        "# utilizando findspark para que o spark seja \"importavel\"\n",
        "\n",
        "import findspark\n",
        "findspark.init('spark-3.4.2-bin-hadoop3')"
      ],
      "metadata": {
        "id": "cxs1xjsnJnDY"
      },
      "execution_count": null,
      "outputs": []
    },
    {
      "cell_type": "code",
      "source": [
        "from pyspark.sql import SparkSession\n",
        "\n",
        "spark = SparkSession.builder\\\n",
        "  .config(\"spark.jars\",'/content/spark-3.4.2-bin-hadoop3/jars/sqlite-jdbc-3.34.0.jar')\\\n",
        "  .getOrCreate()"
      ],
      "metadata": {
        "id": "QBoGro2mHa_z"
      },
      "execution_count": null,
      "outputs": []
    },
    {
      "cell_type": "markdown",
      "source": [
        "Parametros importantes JDBC:\n",
        "\n",
        "Properties: dicionario que deverá conter o driver\n",
        "\n",
        "url: url do banco de dados\n",
        "\n",
        "table: tabela dentro do banco de dados\n",
        "\n",
        "\n",
        "Realizando a leitura de um banco de dados com JDBC"
      ],
      "metadata": {
        "id": "4NfMw2u0LqAA"
      }
    },
    {
      "cell_type": "code",
      "source": [
        "df = spark.read.jdbc(\n",
        "    properties={\n",
        "        'driver':'org.sqlite.JDBC'\n",
        "    },\n",
        "    url='jdbc:sqlite:/content/sample_data/vendas.db',\n",
        "    table='vendas'\n",
        ")"
      ],
      "metadata": {
        "id": "M0JvNH8QMTc6"
      },
      "execution_count": null,
      "outputs": []
    },
    {
      "cell_type": "markdown",
      "source": [
        "Metodo do dataframe para visualizar no terminal..."
      ],
      "metadata": {
        "id": "xqg5OhhcMdVK"
      }
    },
    {
      "cell_type": "markdown",
      "source": [
        "# **2.4.1 Realizando a leitura de arquivos desestruturados com Python**"
      ],
      "metadata": {
        "id": "LhzkNA1frcIH"
      }
    },
    {
      "cell_type": "code",
      "source": [
        "arquivo = open('/content/sample_data/06-09-2022.txt', 'r')\n",
        "\n",
        "linhas = []\n",
        "for linha in arquivo:\n",
        "  linha_lista = linha.split('\\t')\n",
        "  if len(linha_lista) == 6:\n",
        "    linhas.append(linha_lista)\n",
        "\n",
        "\n",
        "print(linhas)"
      ],
      "metadata": {
        "id": "tMC_Wgk-rfpm",
        "colab": {
          "base_uri": "https://localhost:8080/"
        },
        "outputId": "fbc2186b-d448-4aba-c9fd-4fd4acb58ab7"
      },
      "execution_count": null,
      "outputs": [
        {
          "output_type": "stream",
          "name": "stdout",
          "text": [
            "[['1', '00073944', 'CREME DE LEITE', '5', '6.75', '33.75\\n'], ['2', '00086268', 'LEITE', '12', '5.4', '64.8\\n'], ['3', '00098592', 'UVA', '0.3', '8.75', '2.625\\n'], ['4', '00110916', 'LARANJA', '3.4', '7.2', '24.48\\n'], ['5', '00123240', 'ACHOCOLATADO', '2', '4.44', '8.88\\n'], ['6', '00135564', 'QUEIJO', '0.2', '54.85', '10.97\\n'], ['7', '00147888', 'PRESUNTO', '0.2', '25.8', '5.16\\n'], ['8', '00160212', 'PAO', '0.4', '12.3', '4.92\\n']]\n"
          ]
        }
      ]
    },
    {
      "cell_type": "code",
      "source": [
        "\n",
        "\n",
        "linhas = []\n",
        "nome_arquivos = ['04-09-2022.txt', '05-09-2022.txt', '06-09-2022.txt']\n",
        "\n",
        "for nome_arquivo in nome_arquivos:\n",
        "  arquivo = open('/content/sample_data/{}'.format(nome_arquivo), 'r')\n",
        "  for linha in arquivo:\n",
        "    linha_lista = linha.split('\\t')\n",
        "    if len(linha_lista) == 6:\n",
        "      linhas.append(linha_lista)\n",
        "\n",
        "print(linhas)"
      ],
      "metadata": {
        "id": "fZAu5Os3t8bH",
        "colab": {
          "base_uri": "https://localhost:8080/"
        },
        "outputId": "98377e36-43a5-4ae2-8780-ac9bace86625"
      },
      "execution_count": null,
      "outputs": [
        {
          "output_type": "stream",
          "name": "stdout",
          "text": [
            "[['1', '123241', 'CHOLATE', '2', '12.8', '8.88\\n'], ['2', '00234156', 'DESODORANTE', '2', '12.3', '24.6\\n'], ['3', '00246480', 'SABONETE', '2', '3.3', '6.6\\n'], ['1', '00073944', 'CREME DE LEITE', '5', '6.75', '33.75\\n'], ['2', '00086268', 'LEITE', '12', '5.4', '64.8\\n'], ['3', '00098592', 'UVA', '0.3', '8.75', '2.625\\n'], ['4', '00110916', 'LARANJA', '3.4', '7.2', '24.48\\n'], ['5', '00123240', 'ACHOCOLATADO', '2', '4.44', '8.88\\n'], ['6', '00135564', 'QUEIJO', '0.2', '54.85', '10.97\\n'], ['7', '00147888', 'PRESUNTO', '0.2', '25.8', '5.16\\n'], ['8', '00160212', 'PAO', '0.4', '12.3', '4.92\\n'], ['9', '00172536', 'SHAMPOO', '2', '12.4', '24.8\\n'], ['10', '00184860', 'CONDICIONADOR', '2', '14.5', '29\\n'], ['11', '00197184', 'CARNE', '5.3', '55.8', '295.74\\n'], ['12', '00209508', 'FRANGO', '5.4', '30.45', '164.43\\n'], ['13', '00221832', 'PEIXE', '0.5', '40.77', '20.385\\n'], ['14', '00234156', 'DESODORANTE', '2', '12.3', '24.6\\n'], ['15', '00246480', 'SABONETE', '2', '3.3', '6.6\\n'], ['1', '00073944', 'CREME DE LEITE', '5', '6.75', '33.75\\n'], ['2', '00086268', 'LEITE', '12', '5.4', '64.8\\n'], ['3', '00098592', 'UVA', '0.3', '8.75', '2.625\\n'], ['4', '00110916', 'LARANJA', '3.4', '7.2', '24.48\\n'], ['5', '00123240', 'ACHOCOLATADO', '2', '4.44', '8.88\\n'], ['6', '00135564', 'QUEIJO', '0.2', '54.85', '10.97\\n'], ['7', '00147888', 'PRESUNTO', '0.2', '25.8', '5.16\\n'], ['8', '00160212', 'PAO', '0.4', '12.3', '4.92\\n']]\n"
          ]
        }
      ]
    },
    {
      "cell_type": "markdown",
      "source": [
        "# **2.4.2 Spark Create Dataframe**"
      ],
      "metadata": {
        "id": "ggoIwlIbwAJH"
      }
    },
    {
      "cell_type": "code",
      "source": [
        "from pyspark.sql import SparkSession\n",
        "spark = SparkSession.builder.getOrCreate();\n",
        "\n",
        "lista_cargos = [\n",
        "    ['Cassio', 'Analista de dados', 32],\n",
        "    ['Cassiano', 'Estagiario', 33],\n",
        "    ['Gabriel', 'Lider de dados', 6],\n",
        "    ['Ana Beatriz', 'Engenheira de dados', 12]\n",
        "]\n",
        "\n",
        "nome_colunas = ['Nome', 'Cargo', 'Idade']\n",
        "\n",
        "df = spark.createDataFrame(data=lista_cargos, schema=nome_colunas)\n",
        "\n",
        "df.show()"
      ],
      "metadata": {
        "id": "RnlOmPqRwCSn",
        "colab": {
          "base_uri": "https://localhost:8080/"
        },
        "outputId": "88ade060-25f8-4ff4-80e1-800d83237336"
      },
      "execution_count": null,
      "outputs": [
        {
          "output_type": "stream",
          "name": "stdout",
          "text": [
            "+-----------+-------------------+-----+\n",
            "|       Nome|              Cargo|Idade|\n",
            "+-----------+-------------------+-----+\n",
            "|     Cassio|  Analista de dados|   32|\n",
            "|   Cassiano|         Estagiario|   33|\n",
            "|    Gabriel|     Lider de dados|    6|\n",
            "|Ana Beatriz|Engenheira de dados|   12|\n",
            "+-----------+-------------------+-----+\n",
            "\n"
          ]
        }
      ]
    },
    {
      "cell_type": "code",
      "source": [
        "\n",
        "df_cupom = spark.createDataFrame(data=linhas, schema=['codigo',\n",
        "                                                      'codigo_produto',\n",
        "                                                      'nome_produto',\n",
        "                                                      'qtde_produto',\n",
        "                                                      'vlr_produto',\n",
        "                                                      'vlr_total_produto'])\n",
        "df_cupom.show()"
      ],
      "metadata": {
        "id": "DvITXv57x6L2",
        "colab": {
          "base_uri": "https://localhost:8080/"
        },
        "outputId": "a93e6fcf-5bd7-4a48-9c6b-ed55ceeb5df9"
      },
      "execution_count": null,
      "outputs": [
        {
          "output_type": "stream",
          "name": "stdout",
          "text": [
            "+------+--------------+--------------+------------+-----------+-----------------+\n",
            "|codigo|codigo_produto|  nome_produto|qtde_produto|vlr_produto|vlr_total_produto|\n",
            "+------+--------------+--------------+------------+-----------+-----------------+\n",
            "|     1|        123241|       CHOLATE|           2|       12.8|           8.88\\n|\n",
            "|     2|      00234156|   DESODORANTE|           2|       12.3|           24.6\\n|\n",
            "|     3|      00246480|      SABONETE|           2|        3.3|            6.6\\n|\n",
            "|     1|      00073944|CREME DE LEITE|           5|       6.75|          33.75\\n|\n",
            "|     2|      00086268|         LEITE|          12|        5.4|           64.8\\n|\n",
            "|     3|      00098592|           UVA|         0.3|       8.75|          2.625\\n|\n",
            "|     4|      00110916|       LARANJA|         3.4|        7.2|          24.48\\n|\n",
            "|     5|      00123240|  ACHOCOLATADO|           2|       4.44|           8.88\\n|\n",
            "|     6|      00135564|        QUEIJO|         0.2|      54.85|          10.97\\n|\n",
            "|     7|      00147888|      PRESUNTO|         0.2|       25.8|           5.16\\n|\n",
            "|     8|      00160212|           PAO|         0.4|       12.3|           4.92\\n|\n",
            "|     9|      00172536|       SHAMPOO|           2|       12.4|           24.8\\n|\n",
            "|    10|      00184860| CONDICIONADOR|           2|       14.5|             29\\n|\n",
            "|    11|      00197184|         CARNE|         5.3|       55.8|         295.74\\n|\n",
            "|    12|      00209508|        FRANGO|         5.4|      30.45|         164.43\\n|\n",
            "|    13|      00221832|         PEIXE|         0.5|      40.77|         20.385\\n|\n",
            "|    14|      00234156|   DESODORANTE|           2|       12.3|           24.6\\n|\n",
            "|    15|      00246480|      SABONETE|           2|        3.3|            6.6\\n|\n",
            "|     1|      00073944|CREME DE LEITE|           5|       6.75|          33.75\\n|\n",
            "|     2|      00086268|         LEITE|          12|        5.4|           64.8\\n|\n",
            "+------+--------------+--------------+------------+-----------+-----------------+\n",
            "only showing top 20 rows\n",
            "\n"
          ]
        }
      ]
    },
    {
      "cell_type": "markdown",
      "source": [
        "# **2.4.3 Pandas Dataframe para Spark Dataframe**"
      ],
      "metadata": {
        "id": "B44qMJqozD6O"
      }
    },
    {
      "cell_type": "markdown",
      "source": [
        "Pandas"
      ],
      "metadata": {
        "id": "Dz3qNIol1Ewv"
      }
    },
    {
      "cell_type": "code",
      "source": [
        "import pandas as pd\n",
        "\n",
        "df = pd.read_csv('/content/sample_data/clientes.csv', encoding='latin1', sep=';')\n",
        "df.head()"
      ],
      "metadata": {
        "id": "5TK8Ya5J1F1u",
        "colab": {
          "base_uri": "https://localhost:8080/",
          "height": 206
        },
        "outputId": "dd5d7d66-c6f7-4bb1-e384-c4f0da995d92"
      },
      "execution_count": null,
      "outputs": [
        {
          "output_type": "execute_result",
          "data": {
            "text/plain": [
              "   cliente_id         nm_cliente  nr_cpf  dt_nasci  \\\n",
              "0        1820  Vitor Hugo da Luz  108908  30031986   \n",
              "1        2275        Ian Moreira  163362  20031983   \n",
              "2        2730       Nicole Silva  217816  26041989   \n",
              "3        3185      Enrico Araújo  272270  18111982   \n",
              "4        3640      Lara Nogueira  326724  29081988   \n",
              "\n",
              "                        complemento   nr_telefone       cep    salario  \\\n",
              "0               179,casa 1           00-0910-2646  400487.0  3.580.121   \n",
              "1                97,casa 1           00-1365-3969  400487.0  1.116.351   \n",
              "2               194,casa 3           00-1820-5292  400487.0    8954.32   \n",
              "3               304,casa 1           00-2275-6615       NaN  6.986.852   \n",
              "4               207,casa 1           00-2730-7938  400487.0  6.358.743   \n",
              "\n",
              "   desconto       banco_pgto  \n",
              "0        21  033 - Santander  \n",
              "1       208  033 - Santander  \n",
              "2       219  033 - Santander  \n",
              "3        12  033 - Santander  \n",
              "4       220  033 - Santander  "
            ],
            "text/html": [
              "\n",
              "  <div id=\"df-1ef56a06-c930-4b45-9855-69dc63193fca\" class=\"colab-df-container\">\n",
              "    <div>\n",
              "<style scoped>\n",
              "    .dataframe tbody tr th:only-of-type {\n",
              "        vertical-align: middle;\n",
              "    }\n",
              "\n",
              "    .dataframe tbody tr th {\n",
              "        vertical-align: top;\n",
              "    }\n",
              "\n",
              "    .dataframe thead th {\n",
              "        text-align: right;\n",
              "    }\n",
              "</style>\n",
              "<table border=\"1\" class=\"dataframe\">\n",
              "  <thead>\n",
              "    <tr style=\"text-align: right;\">\n",
              "      <th></th>\n",
              "      <th>cliente_id</th>\n",
              "      <th>nm_cliente</th>\n",
              "      <th>nr_cpf</th>\n",
              "      <th>dt_nasci</th>\n",
              "      <th>complemento</th>\n",
              "      <th>nr_telefone</th>\n",
              "      <th>cep</th>\n",
              "      <th>salario</th>\n",
              "      <th>desconto</th>\n",
              "      <th>banco_pgto</th>\n",
              "    </tr>\n",
              "  </thead>\n",
              "  <tbody>\n",
              "    <tr>\n",
              "      <th>0</th>\n",
              "      <td>1820</td>\n",
              "      <td>Vitor Hugo da Luz</td>\n",
              "      <td>108908</td>\n",
              "      <td>30031986</td>\n",
              "      <td>179,casa 1</td>\n",
              "      <td>00-0910-2646</td>\n",
              "      <td>400487.0</td>\n",
              "      <td>3.580.121</td>\n",
              "      <td>21</td>\n",
              "      <td>033 - Santander</td>\n",
              "    </tr>\n",
              "    <tr>\n",
              "      <th>1</th>\n",
              "      <td>2275</td>\n",
              "      <td>Ian Moreira</td>\n",
              "      <td>163362</td>\n",
              "      <td>20031983</td>\n",
              "      <td>97,casa 1</td>\n",
              "      <td>00-1365-3969</td>\n",
              "      <td>400487.0</td>\n",
              "      <td>1.116.351</td>\n",
              "      <td>208</td>\n",
              "      <td>033 - Santander</td>\n",
              "    </tr>\n",
              "    <tr>\n",
              "      <th>2</th>\n",
              "      <td>2730</td>\n",
              "      <td>Nicole Silva</td>\n",
              "      <td>217816</td>\n",
              "      <td>26041989</td>\n",
              "      <td>194,casa 3</td>\n",
              "      <td>00-1820-5292</td>\n",
              "      <td>400487.0</td>\n",
              "      <td>8954.32</td>\n",
              "      <td>219</td>\n",
              "      <td>033 - Santander</td>\n",
              "    </tr>\n",
              "    <tr>\n",
              "      <th>3</th>\n",
              "      <td>3185</td>\n",
              "      <td>Enrico Araújo</td>\n",
              "      <td>272270</td>\n",
              "      <td>18111982</td>\n",
              "      <td>304,casa 1</td>\n",
              "      <td>00-2275-6615</td>\n",
              "      <td>NaN</td>\n",
              "      <td>6.986.852</td>\n",
              "      <td>12</td>\n",
              "      <td>033 - Santander</td>\n",
              "    </tr>\n",
              "    <tr>\n",
              "      <th>4</th>\n",
              "      <td>3640</td>\n",
              "      <td>Lara Nogueira</td>\n",
              "      <td>326724</td>\n",
              "      <td>29081988</td>\n",
              "      <td>207,casa 1</td>\n",
              "      <td>00-2730-7938</td>\n",
              "      <td>400487.0</td>\n",
              "      <td>6.358.743</td>\n",
              "      <td>220</td>\n",
              "      <td>033 - Santander</td>\n",
              "    </tr>\n",
              "  </tbody>\n",
              "</table>\n",
              "</div>\n",
              "    <div class=\"colab-df-buttons\">\n",
              "\n",
              "  <div class=\"colab-df-container\">\n",
              "    <button class=\"colab-df-convert\" onclick=\"convertToInteractive('df-1ef56a06-c930-4b45-9855-69dc63193fca')\"\n",
              "            title=\"Convert this dataframe to an interactive table.\"\n",
              "            style=\"display:none;\">\n",
              "\n",
              "  <svg xmlns=\"http://www.w3.org/2000/svg\" height=\"24px\" viewBox=\"0 -960 960 960\">\n",
              "    <path d=\"M120-120v-720h720v720H120Zm60-500h600v-160H180v160Zm220 220h160v-160H400v160Zm0 220h160v-160H400v160ZM180-400h160v-160H180v160Zm440 0h160v-160H620v160ZM180-180h160v-160H180v160Zm440 0h160v-160H620v160Z\"/>\n",
              "  </svg>\n",
              "    </button>\n",
              "\n",
              "  <style>\n",
              "    .colab-df-container {\n",
              "      display:flex;\n",
              "      gap: 12px;\n",
              "    }\n",
              "\n",
              "    .colab-df-convert {\n",
              "      background-color: #E8F0FE;\n",
              "      border: none;\n",
              "      border-radius: 50%;\n",
              "      cursor: pointer;\n",
              "      display: none;\n",
              "      fill: #1967D2;\n",
              "      height: 32px;\n",
              "      padding: 0 0 0 0;\n",
              "      width: 32px;\n",
              "    }\n",
              "\n",
              "    .colab-df-convert:hover {\n",
              "      background-color: #E2EBFA;\n",
              "      box-shadow: 0px 1px 2px rgba(60, 64, 67, 0.3), 0px 1px 3px 1px rgba(60, 64, 67, 0.15);\n",
              "      fill: #174EA6;\n",
              "    }\n",
              "\n",
              "    .colab-df-buttons div {\n",
              "      margin-bottom: 4px;\n",
              "    }\n",
              "\n",
              "    [theme=dark] .colab-df-convert {\n",
              "      background-color: #3B4455;\n",
              "      fill: #D2E3FC;\n",
              "    }\n",
              "\n",
              "    [theme=dark] .colab-df-convert:hover {\n",
              "      background-color: #434B5C;\n",
              "      box-shadow: 0px 1px 3px 1px rgba(0, 0, 0, 0.15);\n",
              "      filter: drop-shadow(0px 1px 2px rgba(0, 0, 0, 0.3));\n",
              "      fill: #FFFFFF;\n",
              "    }\n",
              "  </style>\n",
              "\n",
              "    <script>\n",
              "      const buttonEl =\n",
              "        document.querySelector('#df-1ef56a06-c930-4b45-9855-69dc63193fca button.colab-df-convert');\n",
              "      buttonEl.style.display =\n",
              "        google.colab.kernel.accessAllowed ? 'block' : 'none';\n",
              "\n",
              "      async function convertToInteractive(key) {\n",
              "        const element = document.querySelector('#df-1ef56a06-c930-4b45-9855-69dc63193fca');\n",
              "        const dataTable =\n",
              "          await google.colab.kernel.invokeFunction('convertToInteractive',\n",
              "                                                    [key], {});\n",
              "        if (!dataTable) return;\n",
              "\n",
              "        const docLinkHtml = 'Like what you see? Visit the ' +\n",
              "          '<a target=\"_blank\" href=https://colab.research.google.com/notebooks/data_table.ipynb>data table notebook</a>'\n",
              "          + ' to learn more about interactive tables.';\n",
              "        element.innerHTML = '';\n",
              "        dataTable['output_type'] = 'display_data';\n",
              "        await google.colab.output.renderOutput(dataTable, element);\n",
              "        const docLink = document.createElement('div');\n",
              "        docLink.innerHTML = docLinkHtml;\n",
              "        element.appendChild(docLink);\n",
              "      }\n",
              "    </script>\n",
              "  </div>\n",
              "\n",
              "\n",
              "<div id=\"df-165ddd88-ddce-4584-8cc2-8e558439f15f\">\n",
              "  <button class=\"colab-df-quickchart\" onclick=\"quickchart('df-165ddd88-ddce-4584-8cc2-8e558439f15f')\"\n",
              "            title=\"Suggest charts\"\n",
              "            style=\"display:none;\">\n",
              "\n",
              "<svg xmlns=\"http://www.w3.org/2000/svg\" height=\"24px\"viewBox=\"0 0 24 24\"\n",
              "     width=\"24px\">\n",
              "    <g>\n",
              "        <path d=\"M19 3H5c-1.1 0-2 .9-2 2v14c0 1.1.9 2 2 2h14c1.1 0 2-.9 2-2V5c0-1.1-.9-2-2-2zM9 17H7v-7h2v7zm4 0h-2V7h2v10zm4 0h-2v-4h2v4z\"/>\n",
              "    </g>\n",
              "</svg>\n",
              "  </button>\n",
              "\n",
              "<style>\n",
              "  .colab-df-quickchart {\n",
              "      --bg-color: #E8F0FE;\n",
              "      --fill-color: #1967D2;\n",
              "      --hover-bg-color: #E2EBFA;\n",
              "      --hover-fill-color: #174EA6;\n",
              "      --disabled-fill-color: #AAA;\n",
              "      --disabled-bg-color: #DDD;\n",
              "  }\n",
              "\n",
              "  [theme=dark] .colab-df-quickchart {\n",
              "      --bg-color: #3B4455;\n",
              "      --fill-color: #D2E3FC;\n",
              "      --hover-bg-color: #434B5C;\n",
              "      --hover-fill-color: #FFFFFF;\n",
              "      --disabled-bg-color: #3B4455;\n",
              "      --disabled-fill-color: #666;\n",
              "  }\n",
              "\n",
              "  .colab-df-quickchart {\n",
              "    background-color: var(--bg-color);\n",
              "    border: none;\n",
              "    border-radius: 50%;\n",
              "    cursor: pointer;\n",
              "    display: none;\n",
              "    fill: var(--fill-color);\n",
              "    height: 32px;\n",
              "    padding: 0;\n",
              "    width: 32px;\n",
              "  }\n",
              "\n",
              "  .colab-df-quickchart:hover {\n",
              "    background-color: var(--hover-bg-color);\n",
              "    box-shadow: 0 1px 2px rgba(60, 64, 67, 0.3), 0 1px 3px 1px rgba(60, 64, 67, 0.15);\n",
              "    fill: var(--button-hover-fill-color);\n",
              "  }\n",
              "\n",
              "  .colab-df-quickchart-complete:disabled,\n",
              "  .colab-df-quickchart-complete:disabled:hover {\n",
              "    background-color: var(--disabled-bg-color);\n",
              "    fill: var(--disabled-fill-color);\n",
              "    box-shadow: none;\n",
              "  }\n",
              "\n",
              "  .colab-df-spinner {\n",
              "    border: 2px solid var(--fill-color);\n",
              "    border-color: transparent;\n",
              "    border-bottom-color: var(--fill-color);\n",
              "    animation:\n",
              "      spin 1s steps(1) infinite;\n",
              "  }\n",
              "\n",
              "  @keyframes spin {\n",
              "    0% {\n",
              "      border-color: transparent;\n",
              "      border-bottom-color: var(--fill-color);\n",
              "      border-left-color: var(--fill-color);\n",
              "    }\n",
              "    20% {\n",
              "      border-color: transparent;\n",
              "      border-left-color: var(--fill-color);\n",
              "      border-top-color: var(--fill-color);\n",
              "    }\n",
              "    30% {\n",
              "      border-color: transparent;\n",
              "      border-left-color: var(--fill-color);\n",
              "      border-top-color: var(--fill-color);\n",
              "      border-right-color: var(--fill-color);\n",
              "    }\n",
              "    40% {\n",
              "      border-color: transparent;\n",
              "      border-right-color: var(--fill-color);\n",
              "      border-top-color: var(--fill-color);\n",
              "    }\n",
              "    60% {\n",
              "      border-color: transparent;\n",
              "      border-right-color: var(--fill-color);\n",
              "    }\n",
              "    80% {\n",
              "      border-color: transparent;\n",
              "      border-right-color: var(--fill-color);\n",
              "      border-bottom-color: var(--fill-color);\n",
              "    }\n",
              "    90% {\n",
              "      border-color: transparent;\n",
              "      border-bottom-color: var(--fill-color);\n",
              "    }\n",
              "  }\n",
              "</style>\n",
              "\n",
              "  <script>\n",
              "    async function quickchart(key) {\n",
              "      const quickchartButtonEl =\n",
              "        document.querySelector('#' + key + ' button');\n",
              "      quickchartButtonEl.disabled = true;  // To prevent multiple clicks.\n",
              "      quickchartButtonEl.classList.add('colab-df-spinner');\n",
              "      try {\n",
              "        const charts = await google.colab.kernel.invokeFunction(\n",
              "            'suggestCharts', [key], {});\n",
              "      } catch (error) {\n",
              "        console.error('Error during call to suggestCharts:', error);\n",
              "      }\n",
              "      quickchartButtonEl.classList.remove('colab-df-spinner');\n",
              "      quickchartButtonEl.classList.add('colab-df-quickchart-complete');\n",
              "    }\n",
              "    (() => {\n",
              "      let quickchartButtonEl =\n",
              "        document.querySelector('#df-165ddd88-ddce-4584-8cc2-8e558439f15f button');\n",
              "      quickchartButtonEl.style.display =\n",
              "        google.colab.kernel.accessAllowed ? 'block' : 'none';\n",
              "    })();\n",
              "  </script>\n",
              "</div>\n",
              "\n",
              "    </div>\n",
              "  </div>\n"
            ],
            "application/vnd.google.colaboratory.intrinsic+json": {
              "type": "dataframe",
              "variable_name": "df",
              "summary": "{\n  \"name\": \"df\",\n  \"rows\": 59,\n  \"fields\": [\n    {\n      \"column\": \"cliente_id\",\n      \"properties\": {\n        \"dtype\": \"number\",\n        \"std\": 7814,\n        \"min\": 1820,\n        \"max\": 28210,\n        \"num_unique_values\": 59,\n        \"samples\": [\n          1820,\n          4095,\n          17290\n        ],\n        \"semantic_type\": \"\",\n        \"description\": \"\"\n      }\n    },\n    {\n      \"column\": \"nm_cliente\",\n      \"properties\": {\n        \"dtype\": \"string\",\n        \"num_unique_values\": 59,\n        \"samples\": [\n          \"Vitor Hugo da Luz\",\n          \"Carlos Eduardo da Paz\",\n          \"Luiz Gustavo Cavalcanti\"\n        ],\n        \"semantic_type\": \"\",\n        \"description\": \"\"\n      }\n    },\n    {\n      \"column\": \"nr_cpf\",\n      \"properties\": {\n        \"dtype\": \"number\",\n        \"std\": 935278,\n        \"min\": 108908,\n        \"max\": 3267240,\n        \"num_unique_values\": 59,\n        \"samples\": [\n          108908,\n          381178,\n          1960344\n        ],\n        \"semantic_type\": \"\",\n        \"description\": \"\"\n      }\n    },\n    {\n      \"column\": \"dt_nasci\",\n      \"properties\": {\n        \"dtype\": \"number\",\n        \"std\": 6571624,\n        \"min\": 10061995,\n        \"max\": 31011997,\n        \"num_unique_values\": 58,\n        \"samples\": [\n          30031986,\n          15011997,\n          20051999\n        ],\n        \"semantic_type\": \"\",\n        \"description\": \"\"\n      }\n    },\n    {\n      \"column\": \"complemento\",\n      \"properties\": {\n        \"dtype\": \"string\",\n        \"num_unique_values\": 59,\n        \"samples\": [\n          \"             179,casa 1         \",\n          \"             121,casa 2         \",\n          \"             164,casa 3         \"\n        ],\n        \"semantic_type\": \"\",\n        \"description\": \"\"\n      }\n    },\n    {\n      \"column\": \"nr_telefone\",\n      \"properties\": {\n        \"dtype\": \"string\",\n        \"num_unique_values\": 59,\n        \"samples\": [\n          \"00-0910-2646\",\n          \"00-3185-9261\",\n          \"01-6384-7628\"\n        ],\n        \"semantic_type\": \"\",\n        \"description\": \"\"\n      }\n    },\n    {\n      \"column\": \"cep\",\n      \"properties\": {\n        \"dtype\": \"number\",\n        \"std\": 230716.6331755932,\n        \"min\": 287560.0,\n        \"max\": 931949.0,\n        \"num_unique_values\": 5,\n        \"samples\": [\n          512496.0,\n          667061.0,\n          287560.0\n        ],\n        \"semantic_type\": \"\",\n        \"description\": \"\"\n      }\n    },\n    {\n      \"column\": \"salario\",\n      \"properties\": {\n        \"dtype\": \"string\",\n        \"num_unique_values\": 59,\n        \"samples\": [\n          \"3.580.121\",\n          \"1.823.927\",\n          \"2.767.897\"\n        ],\n        \"semantic_type\": \"\",\n        \"description\": \"\"\n      }\n    },\n    {\n      \"column\": \"desconto\",\n      \"properties\": {\n        \"dtype\": \"number\",\n        \"std\": 69,\n        \"min\": 6,\n        \"max\": 247,\n        \"num_unique_values\": 55,\n        \"samples\": [\n          228,\n          149,\n          175\n        ],\n        \"semantic_type\": \"\",\n        \"description\": \"\"\n      }\n    },\n    {\n      \"column\": \"banco_pgto\",\n      \"properties\": {\n        \"dtype\": \"category\",\n        \"num_unique_values\": 3,\n        \"samples\": [\n          \"033 - Santander\",\n          \"341 - ITAU\",\n          \"237 - bradesco\"\n        ],\n        \"semantic_type\": \"\",\n        \"description\": \"\"\n      }\n    }\n  ]\n}"
            }
          },
          "metadata": {},
          "execution_count": 9
        }
      ]
    },
    {
      "cell_type": "code",
      "source": [
        "type(df)"
      ],
      "metadata": {
        "colab": {
          "base_uri": "https://localhost:8080/",
          "height": 204
        },
        "id": "i2LDhLOqj5Cm",
        "outputId": "de60535f-ad92-4190-d723-cced1adae5d6"
      },
      "execution_count": null,
      "outputs": [
        {
          "output_type": "execute_result",
          "data": {
            "text/plain": [
              "pandas.core.frame.DataFrame"
            ],
            "text/html": [
              "<div style=\"max-width:800px; border: 1px solid var(--colab-border-color);\"><style>\n",
              "      pre.function-repr-contents {\n",
              "        overflow-x: auto;\n",
              "        padding: 8px 12px;\n",
              "        max-height: 500px;\n",
              "      }\n",
              "\n",
              "      pre.function-repr-contents.function-repr-contents-collapsed {\n",
              "        cursor: pointer;\n",
              "        max-height: 100px;\n",
              "      }\n",
              "    </style>\n",
              "    <pre style=\"white-space: initial; background:\n",
              "         var(--colab-secondary-surface-color); padding: 8px 12px;\n",
              "         border-bottom: 1px solid var(--colab-border-color);\"><b>pandas.core.frame.DataFrame</b><br/>def __init__(data=None, index: Axes | None=None, columns: Axes | None=None, dtype: Dtype | None=None, copy: bool | None=None) -&gt; None</pre><pre class=\"function-repr-contents function-repr-contents-collapsed\" style=\"\"><a class=\"filepath\" style=\"display:none\" href=\"#\">/usr/local/lib/python3.10/dist-packages/pandas/core/frame.py</a>Two-dimensional, size-mutable, potentially heterogeneous tabular data.\n",
              "\n",
              "Data structure also contains labeled axes (rows and columns).\n",
              "Arithmetic operations align on both row and column labels. Can be\n",
              "thought of as a dict-like container for Series objects. The primary\n",
              "pandas data structure.\n",
              "\n",
              "Parameters\n",
              "----------\n",
              "data : ndarray (structured or homogeneous), Iterable, dict, or DataFrame\n",
              "    Dict can contain Series, arrays, constants, dataclass or list-like objects. If\n",
              "    data is a dict, column order follows insertion-order. If a dict contains Series\n",
              "    which have an index defined, it is aligned by its index.\n",
              "\n",
              "    .. versionchanged:: 0.25.0\n",
              "       If data is a list of dicts, column order follows insertion-order.\n",
              "\n",
              "index : Index or array-like\n",
              "    Index to use for resulting frame. Will default to RangeIndex if\n",
              "    no indexing information part of input data and no index provided.\n",
              "columns : Index or array-like\n",
              "    Column labels to use for resulting frame when data does not have them,\n",
              "    defaulting to RangeIndex(0, 1, 2, ..., n). If data contains column labels,\n",
              "    will perform column selection instead.\n",
              "dtype : dtype, default None\n",
              "    Data type to force. Only a single dtype is allowed. If None, infer.\n",
              "copy : bool or None, default None\n",
              "    Copy data from inputs.\n",
              "    For dict data, the default of None behaves like ``copy=True``.  For DataFrame\n",
              "    or 2d ndarray input, the default of None behaves like ``copy=False``.\n",
              "    If data is a dict containing one or more Series (possibly of different dtypes),\n",
              "    ``copy=False`` will ensure that these inputs are not copied.\n",
              "\n",
              "    .. versionchanged:: 1.3.0\n",
              "\n",
              "See Also\n",
              "--------\n",
              "DataFrame.from_records : Constructor from tuples, also record arrays.\n",
              "DataFrame.from_dict : From dicts of Series, arrays, or dicts.\n",
              "read_csv : Read a comma-separated values (csv) file into DataFrame.\n",
              "read_table : Read general delimited file into DataFrame.\n",
              "read_clipboard : Read text from clipboard into DataFrame.\n",
              "\n",
              "Notes\n",
              "-----\n",
              "Please reference the :ref:`User Guide &lt;basics.dataframe&gt;` for more information.\n",
              "\n",
              "Examples\n",
              "--------\n",
              "Constructing DataFrame from a dictionary.\n",
              "\n",
              "&gt;&gt;&gt; d = {&#x27;col1&#x27;: [1, 2], &#x27;col2&#x27;: [3, 4]}\n",
              "&gt;&gt;&gt; df = pd.DataFrame(data=d)\n",
              "&gt;&gt;&gt; df\n",
              "   col1  col2\n",
              "0     1     3\n",
              "1     2     4\n",
              "\n",
              "Notice that the inferred dtype is int64.\n",
              "\n",
              "&gt;&gt;&gt; df.dtypes\n",
              "col1    int64\n",
              "col2    int64\n",
              "dtype: object\n",
              "\n",
              "To enforce a single dtype:\n",
              "\n",
              "&gt;&gt;&gt; df = pd.DataFrame(data=d, dtype=np.int8)\n",
              "&gt;&gt;&gt; df.dtypes\n",
              "col1    int8\n",
              "col2    int8\n",
              "dtype: object\n",
              "\n",
              "Constructing DataFrame from a dictionary including Series:\n",
              "\n",
              "&gt;&gt;&gt; d = {&#x27;col1&#x27;: [0, 1, 2, 3], &#x27;col2&#x27;: pd.Series([2, 3], index=[2, 3])}\n",
              "&gt;&gt;&gt; pd.DataFrame(data=d, index=[0, 1, 2, 3])\n",
              "   col1  col2\n",
              "0     0   NaN\n",
              "1     1   NaN\n",
              "2     2   2.0\n",
              "3     3   3.0\n",
              "\n",
              "Constructing DataFrame from numpy ndarray:\n",
              "\n",
              "&gt;&gt;&gt; df2 = pd.DataFrame(np.array([[1, 2, 3], [4, 5, 6], [7, 8, 9]]),\n",
              "...                    columns=[&#x27;a&#x27;, &#x27;b&#x27;, &#x27;c&#x27;])\n",
              "&gt;&gt;&gt; df2\n",
              "   a  b  c\n",
              "0  1  2  3\n",
              "1  4  5  6\n",
              "2  7  8  9\n",
              "\n",
              "Constructing DataFrame from a numpy ndarray that has labeled columns:\n",
              "\n",
              "&gt;&gt;&gt; data = np.array([(1, 2, 3), (4, 5, 6), (7, 8, 9)],\n",
              "...                 dtype=[(&quot;a&quot;, &quot;i4&quot;), (&quot;b&quot;, &quot;i4&quot;), (&quot;c&quot;, &quot;i4&quot;)])\n",
              "&gt;&gt;&gt; df3 = pd.DataFrame(data, columns=[&#x27;c&#x27;, &#x27;a&#x27;])\n",
              "...\n",
              "&gt;&gt;&gt; df3\n",
              "   c  a\n",
              "0  3  1\n",
              "1  6  4\n",
              "2  9  7\n",
              "\n",
              "Constructing DataFrame from dataclass:\n",
              "\n",
              "&gt;&gt;&gt; from dataclasses import make_dataclass\n",
              "&gt;&gt;&gt; Point = make_dataclass(&quot;Point&quot;, [(&quot;x&quot;, int), (&quot;y&quot;, int)])\n",
              "&gt;&gt;&gt; pd.DataFrame([Point(0, 0), Point(0, 3), Point(2, 3)])\n",
              "   x  y\n",
              "0  0  0\n",
              "1  0  3\n",
              "2  2  3</pre>\n",
              "      <script>\n",
              "      if (google.colab.kernel.accessAllowed && google.colab.files && google.colab.files.view) {\n",
              "        for (const element of document.querySelectorAll('.filepath')) {\n",
              "          element.style.display = 'block'\n",
              "          element.onclick = (event) => {\n",
              "            event.preventDefault();\n",
              "            event.stopPropagation();\n",
              "            google.colab.files.view(element.textContent, 475);\n",
              "          };\n",
              "        }\n",
              "      }\n",
              "      for (const element of document.querySelectorAll('.function-repr-contents')) {\n",
              "        element.onclick = (event) => {\n",
              "          event.preventDefault();\n",
              "          event.stopPropagation();\n",
              "          element.classList.toggle('function-repr-contents-collapsed');\n",
              "        };\n",
              "      }\n",
              "      </script>\n",
              "      </div>"
            ]
          },
          "metadata": {},
          "execution_count": 10
        }
      ]
    },
    {
      "cell_type": "markdown",
      "source": [
        "PySpark"
      ],
      "metadata": {
        "id": "luwG9Mmba69j"
      }
    },
    {
      "cell_type": "code",
      "source": [
        "from pyspark.sql import SparkSession\n",
        "spark = SparkSession.builder.getOrCreate();\n"
      ],
      "metadata": {
        "id": "LF81p4JtzGiv"
      },
      "execution_count": null,
      "outputs": []
    },
    {
      "cell_type": "code",
      "source": [
        "df_spark = spark.createDataFrame(df)\n",
        "type(df_spark)\n",
        "#df_spark.show()"
      ],
      "metadata": {
        "id": "IweCy0Yx1Uw-",
        "colab": {
          "base_uri": "https://localhost:8080/",
          "height": 187
        },
        "outputId": "c3a492b0-96e8-4f24-e37c-e138e1a81eea"
      },
      "execution_count": null,
      "outputs": [
        {
          "output_type": "execute_result",
          "data": {
            "text/plain": [
              "pyspark.sql.dataframe.DataFrame"
            ],
            "text/html": [
              "<div style=\"max-width:800px; border: 1px solid var(--colab-border-color);\"><style>\n",
              "      pre.function-repr-contents {\n",
              "        overflow-x: auto;\n",
              "        padding: 8px 12px;\n",
              "        max-height: 500px;\n",
              "      }\n",
              "\n",
              "      pre.function-repr-contents.function-repr-contents-collapsed {\n",
              "        cursor: pointer;\n",
              "        max-height: 100px;\n",
              "      }\n",
              "    </style>\n",
              "    <pre style=\"white-space: initial; background:\n",
              "         var(--colab-secondary-surface-color); padding: 8px 12px;\n",
              "         border-bottom: 1px solid var(--colab-border-color);\"><b>pyspark.sql.dataframe.DataFrame</b><br/>def __init__(jdf: JavaObject, sql_ctx: Union[&#x27;SQLContext&#x27;, &#x27;SparkSession&#x27;])</pre><pre class=\"function-repr-contents function-repr-contents-collapsed\" style=\"\"><a class=\"filepath\" style=\"display:none\" href=\"#\">/content/spark-3.4.2-bin-hadoop3/python/pyspark/sql/dataframe.py</a>A distributed collection of data grouped into named columns.\n",
              "\n",
              ".. versionadded:: 1.3.0\n",
              "\n",
              ".. versionchanged:: 3.4.0\n",
              "    Supports Spark Connect.\n",
              "\n",
              "Examples\n",
              "--------\n",
              "A :class:`DataFrame` is equivalent to a relational table in Spark SQL,\n",
              "and can be created using various functions in :class:`SparkSession`:\n",
              "\n",
              "&gt;&gt;&gt; people = spark.createDataFrame([\n",
              "...     {&quot;deptId&quot;: 1, &quot;age&quot;: 40, &quot;name&quot;: &quot;Hyukjin Kwon&quot;, &quot;gender&quot;: &quot;M&quot;, &quot;salary&quot;: 50},\n",
              "...     {&quot;deptId&quot;: 1, &quot;age&quot;: 50, &quot;name&quot;: &quot;Takuya Ueshin&quot;, &quot;gender&quot;: &quot;M&quot;, &quot;salary&quot;: 100},\n",
              "...     {&quot;deptId&quot;: 2, &quot;age&quot;: 60, &quot;name&quot;: &quot;Xinrong Meng&quot;, &quot;gender&quot;: &quot;F&quot;, &quot;salary&quot;: 150},\n",
              "...     {&quot;deptId&quot;: 3, &quot;age&quot;: 20, &quot;name&quot;: &quot;Haejoon Lee&quot;, &quot;gender&quot;: &quot;M&quot;, &quot;salary&quot;: 200}\n",
              "... ])\n",
              "\n",
              "Once created, it can be manipulated using the various domain-specific-language\n",
              "(DSL) functions defined in: :class:`DataFrame`, :class:`Column`.\n",
              "\n",
              "To select a column from the :class:`DataFrame`, use the apply method:\n",
              "\n",
              "&gt;&gt;&gt; age_col = people.age\n",
              "\n",
              "A more concrete example:\n",
              "\n",
              "&gt;&gt;&gt; # To create DataFrame using SparkSession\n",
              "... department = spark.createDataFrame([\n",
              "...     {&quot;id&quot;: 1, &quot;name&quot;: &quot;PySpark&quot;},\n",
              "...     {&quot;id&quot;: 2, &quot;name&quot;: &quot;ML&quot;},\n",
              "...     {&quot;id&quot;: 3, &quot;name&quot;: &quot;Spark SQL&quot;}\n",
              "... ])\n",
              "\n",
              "&gt;&gt;&gt; people.filter(people.age &gt; 30).join(\n",
              "...     department, people.deptId == department.id).groupBy(\n",
              "...     department.name, &quot;gender&quot;).agg({&quot;salary&quot;: &quot;avg&quot;, &quot;age&quot;: &quot;max&quot;}).show()\n",
              "+-------+------+-----------+--------+\n",
              "|   name|gender|avg(salary)|max(age)|\n",
              "+-------+------+-----------+--------+\n",
              "|     ML|     F|      150.0|      60|\n",
              "|PySpark|     M|       75.0|      50|\n",
              "+-------+------+-----------+--------+\n",
              "\n",
              "Notes\n",
              "-----\n",
              "A DataFrame should only be created as described above. It should not be directly\n",
              "created via using the constructor.</pre>\n",
              "      <script>\n",
              "      if (google.colab.kernel.accessAllowed && google.colab.files && google.colab.files.view) {\n",
              "        for (const element of document.querySelectorAll('.filepath')) {\n",
              "          element.style.display = 'block'\n",
              "          element.onclick = (event) => {\n",
              "            event.preventDefault();\n",
              "            event.stopPropagation();\n",
              "            google.colab.files.view(element.textContent, 81);\n",
              "          };\n",
              "        }\n",
              "      }\n",
              "      for (const element of document.querySelectorAll('.function-repr-contents')) {\n",
              "        element.onclick = (event) => {\n",
              "          event.preventDefault();\n",
              "          event.stopPropagation();\n",
              "          element.classList.toggle('function-repr-contents-collapsed');\n",
              "        };\n",
              "      }\n",
              "      </script>\n",
              "      </div>"
            ]
          },
          "metadata": {},
          "execution_count": 6
        }
      ]
    },
    {
      "cell_type": "markdown",
      "source": [
        "Converter DataFrame Spark em DataFrame Pandas"
      ],
      "metadata": {
        "id": "oapM4XeNbBQ7"
      }
    },
    {
      "cell_type": "code",
      "source": [
        "df_pandas = df_spark.toPandas()\n",
        "type(df_pandas)"
      ],
      "metadata": {
        "id": "0OY_elNj15HP",
        "colab": {
          "base_uri": "https://localhost:8080/",
          "height": 204
        },
        "outputId": "e46e212d-7f6d-4e72-a44d-38474e8dff63"
      },
      "execution_count": null,
      "outputs": [
        {
          "output_type": "execute_result",
          "data": {
            "text/plain": [
              "pandas.core.frame.DataFrame"
            ],
            "text/html": [
              "<div style=\"max-width:800px; border: 1px solid var(--colab-border-color);\"><style>\n",
              "      pre.function-repr-contents {\n",
              "        overflow-x: auto;\n",
              "        padding: 8px 12px;\n",
              "        max-height: 500px;\n",
              "      }\n",
              "\n",
              "      pre.function-repr-contents.function-repr-contents-collapsed {\n",
              "        cursor: pointer;\n",
              "        max-height: 100px;\n",
              "      }\n",
              "    </style>\n",
              "    <pre style=\"white-space: initial; background:\n",
              "         var(--colab-secondary-surface-color); padding: 8px 12px;\n",
              "         border-bottom: 1px solid var(--colab-border-color);\"><b>pandas.core.frame.DataFrame</b><br/>def __init__(data=None, index: Axes | None=None, columns: Axes | None=None, dtype: Dtype | None=None, copy: bool | None=None) -&gt; None</pre><pre class=\"function-repr-contents function-repr-contents-collapsed\" style=\"\"><a class=\"filepath\" style=\"display:none\" href=\"#\">/usr/local/lib/python3.10/dist-packages/pandas/core/frame.py</a>Two-dimensional, size-mutable, potentially heterogeneous tabular data.\n",
              "\n",
              "Data structure also contains labeled axes (rows and columns).\n",
              "Arithmetic operations align on both row and column labels. Can be\n",
              "thought of as a dict-like container for Series objects. The primary\n",
              "pandas data structure.\n",
              "\n",
              "Parameters\n",
              "----------\n",
              "data : ndarray (structured or homogeneous), Iterable, dict, or DataFrame\n",
              "    Dict can contain Series, arrays, constants, dataclass or list-like objects. If\n",
              "    data is a dict, column order follows insertion-order. If a dict contains Series\n",
              "    which have an index defined, it is aligned by its index.\n",
              "\n",
              "    .. versionchanged:: 0.25.0\n",
              "       If data is a list of dicts, column order follows insertion-order.\n",
              "\n",
              "index : Index or array-like\n",
              "    Index to use for resulting frame. Will default to RangeIndex if\n",
              "    no indexing information part of input data and no index provided.\n",
              "columns : Index or array-like\n",
              "    Column labels to use for resulting frame when data does not have them,\n",
              "    defaulting to RangeIndex(0, 1, 2, ..., n). If data contains column labels,\n",
              "    will perform column selection instead.\n",
              "dtype : dtype, default None\n",
              "    Data type to force. Only a single dtype is allowed. If None, infer.\n",
              "copy : bool or None, default None\n",
              "    Copy data from inputs.\n",
              "    For dict data, the default of None behaves like ``copy=True``.  For DataFrame\n",
              "    or 2d ndarray input, the default of None behaves like ``copy=False``.\n",
              "    If data is a dict containing one or more Series (possibly of different dtypes),\n",
              "    ``copy=False`` will ensure that these inputs are not copied.\n",
              "\n",
              "    .. versionchanged:: 1.3.0\n",
              "\n",
              "See Also\n",
              "--------\n",
              "DataFrame.from_records : Constructor from tuples, also record arrays.\n",
              "DataFrame.from_dict : From dicts of Series, arrays, or dicts.\n",
              "read_csv : Read a comma-separated values (csv) file into DataFrame.\n",
              "read_table : Read general delimited file into DataFrame.\n",
              "read_clipboard : Read text from clipboard into DataFrame.\n",
              "\n",
              "Notes\n",
              "-----\n",
              "Please reference the :ref:`User Guide &lt;basics.dataframe&gt;` for more information.\n",
              "\n",
              "Examples\n",
              "--------\n",
              "Constructing DataFrame from a dictionary.\n",
              "\n",
              "&gt;&gt;&gt; d = {&#x27;col1&#x27;: [1, 2], &#x27;col2&#x27;: [3, 4]}\n",
              "&gt;&gt;&gt; df = pd.DataFrame(data=d)\n",
              "&gt;&gt;&gt; df\n",
              "   col1  col2\n",
              "0     1     3\n",
              "1     2     4\n",
              "\n",
              "Notice that the inferred dtype is int64.\n",
              "\n",
              "&gt;&gt;&gt; df.dtypes\n",
              "col1    int64\n",
              "col2    int64\n",
              "dtype: object\n",
              "\n",
              "To enforce a single dtype:\n",
              "\n",
              "&gt;&gt;&gt; df = pd.DataFrame(data=d, dtype=np.int8)\n",
              "&gt;&gt;&gt; df.dtypes\n",
              "col1    int8\n",
              "col2    int8\n",
              "dtype: object\n",
              "\n",
              "Constructing DataFrame from a dictionary including Series:\n",
              "\n",
              "&gt;&gt;&gt; d = {&#x27;col1&#x27;: [0, 1, 2, 3], &#x27;col2&#x27;: pd.Series([2, 3], index=[2, 3])}\n",
              "&gt;&gt;&gt; pd.DataFrame(data=d, index=[0, 1, 2, 3])\n",
              "   col1  col2\n",
              "0     0   NaN\n",
              "1     1   NaN\n",
              "2     2   2.0\n",
              "3     3   3.0\n",
              "\n",
              "Constructing DataFrame from numpy ndarray:\n",
              "\n",
              "&gt;&gt;&gt; df2 = pd.DataFrame(np.array([[1, 2, 3], [4, 5, 6], [7, 8, 9]]),\n",
              "...                    columns=[&#x27;a&#x27;, &#x27;b&#x27;, &#x27;c&#x27;])\n",
              "&gt;&gt;&gt; df2\n",
              "   a  b  c\n",
              "0  1  2  3\n",
              "1  4  5  6\n",
              "2  7  8  9\n",
              "\n",
              "Constructing DataFrame from a numpy ndarray that has labeled columns:\n",
              "\n",
              "&gt;&gt;&gt; data = np.array([(1, 2, 3), (4, 5, 6), (7, 8, 9)],\n",
              "...                 dtype=[(&quot;a&quot;, &quot;i4&quot;), (&quot;b&quot;, &quot;i4&quot;), (&quot;c&quot;, &quot;i4&quot;)])\n",
              "&gt;&gt;&gt; df3 = pd.DataFrame(data, columns=[&#x27;c&#x27;, &#x27;a&#x27;])\n",
              "...\n",
              "&gt;&gt;&gt; df3\n",
              "   c  a\n",
              "0  3  1\n",
              "1  6  4\n",
              "2  9  7\n",
              "\n",
              "Constructing DataFrame from dataclass:\n",
              "\n",
              "&gt;&gt;&gt; from dataclasses import make_dataclass\n",
              "&gt;&gt;&gt; Point = make_dataclass(&quot;Point&quot;, [(&quot;x&quot;, int), (&quot;y&quot;, int)])\n",
              "&gt;&gt;&gt; pd.DataFrame([Point(0, 0), Point(0, 3), Point(2, 3)])\n",
              "   x  y\n",
              "0  0  0\n",
              "1  0  3\n",
              "2  2  3</pre>\n",
              "      <script>\n",
              "      if (google.colab.kernel.accessAllowed && google.colab.files && google.colab.files.view) {\n",
              "        for (const element of document.querySelectorAll('.filepath')) {\n",
              "          element.style.display = 'block'\n",
              "          element.onclick = (event) => {\n",
              "            event.preventDefault();\n",
              "            event.stopPropagation();\n",
              "            google.colab.files.view(element.textContent, 475);\n",
              "          };\n",
              "        }\n",
              "      }\n",
              "      for (const element of document.querySelectorAll('.function-repr-contents')) {\n",
              "        element.onclick = (event) => {\n",
              "          event.preventDefault();\n",
              "          event.stopPropagation();\n",
              "          element.classList.toggle('function-repr-contents-collapsed');\n",
              "        };\n",
              "      }\n",
              "      </script>\n",
              "      </div>"
            ]
          },
          "metadata": {},
          "execution_count": 7
        }
      ]
    },
    {
      "cell_type": "markdown",
      "source": [
        "# 3. **Metodos de um DataFrame**\n",
        "\n",
        "\n",
        "\n"
      ],
      "metadata": {
        "id": "2UV_k4MX2iaW"
      }
    },
    {
      "cell_type": "code",
      "source": [],
      "metadata": {
        "id": "Uf-pTn5deY_i"
      },
      "execution_count": null,
      "outputs": []
    },
    {
      "cell_type": "markdown",
      "source": [
        "# 3.1 **Metodo WithColumnRenamed e Select**"
      ],
      "metadata": {
        "id": "ih01q1TheSbr"
      }
    },
    {
      "cell_type": "code",
      "source": [
        "from sqlalchemy.sql.expression import false\n",
        "from pyspark.sql import SparkSession\n",
        "spark = SparkSession.builder.getOrCreate()\n",
        "\n",
        "lista_cargos = [\n",
        "    ['Cassio', 'Analista de dados', 32],\n",
        "    ['Cassiano', 'Estagiario', 33],\n",
        "    ['Gabriel', 'Lider de dados', 6],\n",
        "    ['Ana Beatriz', 'Engenheira de dados', 12]\n",
        "]\n",
        "\n",
        "nome_colunas = ['Nome', 'Cargo', 'Idade']\n",
        "\n",
        "df = spark.createDataFrame(lista_cargos, nome_colunas)\n",
        "\n",
        "# Metodo df.show() tem dois parametros:\n",
        "# 1 parametro é para definir qtde de linha a ser exibida.\n",
        "# 2 parametro é para exibir os dados completo dos registros, sem quebra.\n",
        "df.show(3, False)\n",
        "#help(df.show)"
      ],
      "metadata": {
        "id": "JsIEyUQu2lD-",
        "colab": {
          "base_uri": "https://localhost:8080/"
        },
        "outputId": "0b15ab82-6416-4a86-fb1b-24dafc314cd7"
      },
      "execution_count": null,
      "outputs": [
        {
          "output_type": "stream",
          "name": "stdout",
          "text": [
            "+--------+-----------------+-----+\n",
            "|Nome    |Cargo            |Idade|\n",
            "+--------+-----------------+-----+\n",
            "|Cassio  |Analista de dados|32   |\n",
            "|Cassiano|Estagiario       |33   |\n",
            "|Gabriel |Lider de dados   |6    |\n",
            "+--------+-----------------+-----+\n",
            "only showing top 3 rows\n",
            "\n"
          ]
        }
      ]
    },
    {
      "cell_type": "code",
      "source": [
        "# Metodo WithColumnRenaned\n",
        "df = df.withColumnRenamed('Nome', 'Name')\n",
        "df = df.withColumnRenamed('Cargo', 'Role')\n",
        "df = df.withColumnRenamed('Idade', 'Age')\n",
        "df.show()"
      ],
      "metadata": {
        "id": "SDCeVZvf4ufu",
        "colab": {
          "base_uri": "https://localhost:8080/"
        },
        "outputId": "4553a6b0-1fdc-430d-8cd6-b17a4b5ece56"
      },
      "execution_count": null,
      "outputs": [
        {
          "output_type": "stream",
          "name": "stdout",
          "text": [
            "+-----------+-------------------+---+\n",
            "|       Name|               Role|Age|\n",
            "+-----------+-------------------+---+\n",
            "|     Cassio|  Analista de dados| 32|\n",
            "|   Cassiano|         Estagiario| 33|\n",
            "|    Gabriel|     Lider de dados|  6|\n",
            "|Ana Beatriz|Engenheira de dados| 12|\n",
            "+-----------+-------------------+---+\n",
            "\n"
          ]
        }
      ]
    },
    {
      "cell_type": "markdown",
      "source": [
        "**Diferença de metodo de ação vs metodo de transfomação**"
      ],
      "metadata": {
        "id": "MN6gytsf8cjW"
      }
    },
    {
      "cell_type": "code",
      "source": [
        "\n",
        "#\n",
        "def criar_email(nome,sobrenome):\n",
        "  return f'{nome}.{sobrenome}@gmail.com'\n",
        "\n",
        "def enviar_email(mensagem,destinatario):\n",
        "  #codigo\n",
        "  #codigo\n",
        "  #codigo\n",
        "  print('email enviado')\n",
        "\n",
        "\n",
        "email = criar_email('Cristiano','Sancho')\n",
        "print(email)\n",
        "\n",
        "teste = enviar_email(\"oi\",email)\n",
        "print(teste)\n",
        "type(teste)"
      ],
      "metadata": {
        "id": "eRQTFN2M8evE",
        "colab": {
          "base_uri": "https://localhost:8080/"
        },
        "outputId": "f33e6e90-d9a0-49b7-951b-9d6625a84dfe"
      },
      "execution_count": null,
      "outputs": [
        {
          "output_type": "stream",
          "name": "stdout",
          "text": [
            "Cristiano.Sancho@gmail.com\n",
            "email enviado\n",
            "None\n"
          ]
        },
        {
          "output_type": "execute_result",
          "data": {
            "text/plain": [
              "NoneType"
            ]
          },
          "metadata": {},
          "execution_count": 6
        }
      ]
    },
    {
      "cell_type": "markdown",
      "source": [
        "No Spark"
      ],
      "metadata": {
        "id": "9EstjqaC90Um"
      }
    },
    {
      "cell_type": "markdown",
      "source": [
        "PrintSchema()\n",
        "\n",
        "Exibe o schema em formato de arvore no log"
      ],
      "metadata": {
        "id": "DSybKiaNXD8H"
      }
    },
    {
      "cell_type": "code",
      "source": [
        "df.printSchema()"
      ],
      "metadata": {
        "id": "WqjZdKSa92LU",
        "colab": {
          "base_uri": "https://localhost:8080/"
        },
        "outputId": "9d5f32d9-9d93-4311-fec1-d2cd4a48831e"
      },
      "execution_count": null,
      "outputs": [
        {
          "output_type": "stream",
          "name": "stdout",
          "text": [
            "root\n",
            " |-- Name: string (nullable = true)\n",
            " |-- Role: string (nullable = true)\n",
            " |-- Age: long (nullable = true)\n",
            "\n"
          ]
        }
      ]
    },
    {
      "cell_type": "markdown",
      "source": [
        ".select()\n",
        "\n",
        "Selecione as colunas de dentro do dataframe e retorne um novo dataframe."
      ],
      "metadata": {
        "id": "GRY-fLDFXa8e"
      }
    },
    {
      "cell_type": "code",
      "source": [
        "df_2 = df.select('Name')\n",
        "df_2.show()"
      ],
      "metadata": {
        "id": "EMFSjluwWuwH",
        "colab": {
          "base_uri": "https://localhost:8080/"
        },
        "outputId": "9be82e9a-b3d3-4ba1-df3a-1b692bdbf4e2"
      },
      "execution_count": null,
      "outputs": [
        {
          "output_type": "stream",
          "name": "stdout",
          "text": [
            "+-----------+\n",
            "|       Name|\n",
            "+-----------+\n",
            "|     Cassio|\n",
            "|   Cassiano|\n",
            "|    Gabriel|\n",
            "|Ana Beatriz|\n",
            "+-----------+\n",
            "\n"
          ]
        }
      ]
    },
    {
      "cell_type": "markdown",
      "source": [
        "# 3.2 **Outros Metodos de ação**"
      ],
      "metadata": {
        "id": "X6Kd1p5pdqc-"
      }
    },
    {
      "cell_type": "code",
      "source": [
        "from pyspark.sql import SparkSession\n",
        "spark = SparkSession.builder.getOrCreate()\n",
        "\n",
        "df = spark.read.csv(path='/content/sample_data/clientes_to_distinct.csv', sep=';', header=True, inferSchema=True)\n",
        "\n",
        "df.show(10, False)\n",
        "df.printSchema()"
      ],
      "metadata": {
        "id": "X1ROr3PZbSGZ",
        "colab": {
          "base_uri": "https://localhost:8080/"
        },
        "outputId": "f5271d79-6e89-4158-d87a-18dc5debb280"
      },
      "execution_count": null,
      "outputs": [
        {
          "output_type": "stream",
          "name": "stdout",
          "text": [
            "+----------+----------+------+--------+--------------------------------+------------+------+-------+--------+----------------+---------+----------+\n",
            "|cliente_id|nm_cliente|nr_cpf|dt_nasci|complemento                     |nr_telefone |cep   |cep_mae|salario |desconto_salario|cod_banco|nome_banco|\n",
            "+----------+----------+------+--------+--------------------------------+------------+------+-------+--------+----------------+---------+----------+\n",
            "|1         |guilherme |108908|30031986|             179,casa 1         |00-0910-2646|400487|null   |71993.34|21              |33       |Santander |\n",
            "|1         |guilherme |163362|20031983|             97,casa 1          |00-1365-3969|400487|null   |34812.34|208             |33       |Santander |\n",
            "|1         |guilherme |217816|26041989|             194,casa 3         |00-1820-5292|400487|null   |13884.47|219             |33       |Santander |\n",
            "|2         |guilherme |272270|18111982|             304,casa 1         |00-2275-6615|null  |400487 |88561.84|12              |33       |Santander |\n",
            "|2         |vitor     |326724|29081988|             207,casa 1         |00-2730-7938|400487|null   |32141.87|220             |33       |Santander |\n",
            "|3         |kelvin    |381178|15011997|             121,casa 2         |00-3185-9261|400487|null   |52535.62|149             |33       |Santander |\n",
            "|4         |rogerio   |435632|15071997|             309,casa 1         |00-3641-0584|400487|null   |22055.04|164             |33       |Santander |\n",
            "|4         |rogerio   |490086|19051996|             66,casa 3          |00-4096-1907|400487|null   |14216.09|214             |33       |Santander |\n",
            "+----------+----------+------+--------+--------------------------------+------------+------+-------+--------+----------------+---------+----------+\n",
            "\n",
            "root\n",
            " |-- cliente_id: integer (nullable = true)\n",
            " |-- nm_cliente: string (nullable = true)\n",
            " |-- nr_cpf: integer (nullable = true)\n",
            " |-- dt_nasci: integer (nullable = true)\n",
            " |-- complemento: string (nullable = true)\n",
            " |-- nr_telefone: string (nullable = true)\n",
            " |-- cep: integer (nullable = true)\n",
            " |-- cep_mae: integer (nullable = true)\n",
            " |-- salario: double (nullable = true)\n",
            " |-- desconto_salario: integer (nullable = true)\n",
            " |-- cod_banco: integer (nullable = true)\n",
            " |-- nome_banco: string (nullable = true)\n",
            "\n"
          ]
        }
      ]
    },
    {
      "cell_type": "markdown",
      "source": [
        "Metodo de ação - OrdeBy\n",
        "\n",
        "Ordenar o dataframe pela colunas de chave e retorna um novo dataframe."
      ],
      "metadata": {
        "id": "l1dUb-_Ze98A"
      }
    },
    {
      "cell_type": "code",
      "source": [
        "df_2 = df.orderBy('desconto_salario', ascending=False)\\\n",
        "  .select('cliente_id','nm_cliente','desconto_salario','salario')"
      ],
      "metadata": {
        "id": "At55kDoEe7nB"
      },
      "execution_count": null,
      "outputs": []
    },
    {
      "cell_type": "markdown",
      "source": [
        "No codigo acima fizemos um alinhamento de metodo para melhor leitura do codigo."
      ],
      "metadata": {
        "id": "7gABB42jG5Ra"
      }
    },
    {
      "cell_type": "code",
      "source": [
        "df_2.show()"
      ],
      "metadata": {
        "id": "ZMWKUYNZgITZ",
        "colab": {
          "base_uri": "https://localhost:8080/"
        },
        "outputId": "9e5534d3-777f-4fd5-ab9e-b8d74ae11d52"
      },
      "execution_count": null,
      "outputs": [
        {
          "output_type": "stream",
          "name": "stdout",
          "text": [
            "+----------+----------+----------------+--------+\n",
            "|cliente_id|nm_cliente|desconto_salario| salario|\n",
            "+----------+----------+----------------+--------+\n",
            "|         2|     vitor|             220|32141.87|\n",
            "|         1| guilherme|             219|13884.47|\n",
            "|         4|   rogerio|             214|14216.09|\n",
            "|         1| guilherme|             208|34812.34|\n",
            "|         4|   rogerio|             164|22055.04|\n",
            "|         3|    kelvin|             149|52535.62|\n",
            "|         1| guilherme|              21|71993.34|\n",
            "|         2| guilherme|              12|88561.84|\n",
            "+----------+----------+----------------+--------+\n",
            "\n"
          ]
        }
      ]
    },
    {
      "cell_type": "markdown",
      "source": [
        "Metodo de ação - count()\n",
        "\n",
        "retorna a contagem de linhas de um dataframe"
      ],
      "metadata": {
        "id": "K27q1aMbhypE"
      }
    },
    {
      "cell_type": "code",
      "source": [
        "df.count()"
      ],
      "metadata": {
        "id": "Yjs1jEADhbI4",
        "colab": {
          "base_uri": "https://localhost:8080/"
        },
        "outputId": "2d10d67e-85d5-4ce3-f63e-91193d15bb1d"
      },
      "execution_count": null,
      "outputs": [
        {
          "output_type": "execute_result",
          "data": {
            "text/plain": [
              "8"
            ]
          },
          "metadata": {},
          "execution_count": 14
        }
      ]
    },
    {
      "cell_type": "markdown",
      "source": [
        "Metodo de ação - take()\n",
        "\n",
        "Mostrar a primeira linha em formato de uma Lista de um dataframe"
      ],
      "metadata": {
        "id": "k6toH059iQhL"
      }
    },
    {
      "cell_type": "code",
      "source": [
        "df.take(5)"
      ],
      "metadata": {
        "id": "S7LOPPWDiF5c",
        "colab": {
          "base_uri": "https://localhost:8080/"
        },
        "outputId": "f8a95c04-cbb8-4d18-f664-11dc5306b44b"
      },
      "execution_count": null,
      "outputs": [
        {
          "output_type": "execute_result",
          "data": {
            "text/plain": [
              "[Row(cliente_id=1, nm_cliente='guilherme', nr_cpf=108908, dt_nasci=30031986, complemento='             179,casa 1         ', nr_telefone='00-0910-2646', cep=400487, cep_mae=None, salario=71993.34, desconto_salario=21, cod_banco=33, nome_banco='Santander'),\n",
              " Row(cliente_id=1, nm_cliente='guilherme', nr_cpf=163362, dt_nasci=20031983, complemento='             97,casa 1         ', nr_telefone='00-1365-3969', cep=400487, cep_mae=None, salario=34812.34, desconto_salario=208, cod_banco=33, nome_banco='Santander'),\n",
              " Row(cliente_id=1, nm_cliente='guilherme', nr_cpf=217816, dt_nasci=26041989, complemento='             194,casa 3         ', nr_telefone='00-1820-5292', cep=400487, cep_mae=None, salario=13884.47, desconto_salario=219, cod_banco=33, nome_banco='Santander'),\n",
              " Row(cliente_id=2, nm_cliente='guilherme', nr_cpf=272270, dt_nasci=18111982, complemento='             304,casa 1         ', nr_telefone='00-2275-6615', cep=None, cep_mae=400487, salario=88561.84, desconto_salario=12, cod_banco=33, nome_banco='Santander'),\n",
              " Row(cliente_id=2, nm_cliente='vitor', nr_cpf=326724, dt_nasci=29081988, complemento='             207,casa 1         ', nr_telefone='00-2730-7938', cep=400487, cep_mae=None, salario=32141.87, desconto_salario=220, cod_banco=33, nome_banco='Santander')]"
            ]
          },
          "metadata": {},
          "execution_count": 31
        }
      ]
    },
    {
      "cell_type": "markdown",
      "source": [
        "*Dica senior : Quando estiver conferindo o resultado de um dataframe e tiver curiosidade de saber se está retornando vazio, inves de usar o metodo COUNT use o TAKE.*"
      ],
      "metadata": {
        "id": "MFeiSrX4Jlmx"
      }
    },
    {
      "cell_type": "code",
      "source": [
        "df.count()"
      ],
      "metadata": {
        "colab": {
          "base_uri": "https://localhost:8080/"
        },
        "id": "tQyVqhHlKEUs",
        "outputId": "bcb477ea-7dfa-4ce7-863b-84d61fdc330a"
      },
      "execution_count": null,
      "outputs": [
        {
          "output_type": "execute_result",
          "data": {
            "text/plain": [
              "8"
            ]
          },
          "metadata": {},
          "execution_count": 22
        }
      ]
    },
    {
      "cell_type": "code",
      "source": [
        "len(df.take(1))"
      ],
      "metadata": {
        "id": "jOTOxrl4i7fx",
        "colab": {
          "base_uri": "https://localhost:8080/"
        },
        "outputId": "2c2b2163-f17b-4757-f568-c41fd36df2ce"
      },
      "execution_count": null,
      "outputs": [
        {
          "output_type": "execute_result",
          "data": {
            "text/plain": [
              "1"
            ]
          },
          "metadata": {},
          "execution_count": 24
        }
      ]
    },
    {
      "cell_type": "markdown",
      "source": [
        "Metodo de ação - collect()\n",
        "\n",
        "retorna as linhas do dataframe em uma lista do python, semelhante ao take, no entanto, o collect traz tudo numa lista.\n",
        "CUIDADO: Se o dataframe for muito grande, pode prejudicar a memoria do driver"
      ],
      "metadata": {
        "id": "t_ZfD7yHjIPt"
      }
    },
    {
      "cell_type": "code",
      "source": [
        "df.collect()"
      ],
      "metadata": {
        "id": "Tv0aLK4vjCo6",
        "colab": {
          "base_uri": "https://localhost:8080/"
        },
        "outputId": "e617454b-6e9e-4abc-af66-068b81ee9c11"
      },
      "execution_count": null,
      "outputs": [
        {
          "output_type": "execute_result",
          "data": {
            "text/plain": [
              "[Row(cliente_id=1, nm_cliente='guilherme', nr_cpf=108908, dt_nasci=30031986, complemento='             179,casa 1         ', nr_telefone='00-0910-2646', cep=400487, cep_mae=None, salario=71993.34, desconto_salario=21, cod_banco=33, nome_banco='Santander'),\n",
              " Row(cliente_id=1, nm_cliente='guilherme', nr_cpf=163362, dt_nasci=20031983, complemento='             97,casa 1         ', nr_telefone='00-1365-3969', cep=400487, cep_mae=None, salario=34812.34, desconto_salario=208, cod_banco=33, nome_banco='Santander'),\n",
              " Row(cliente_id=1, nm_cliente='guilherme', nr_cpf=217816, dt_nasci=26041989, complemento='             194,casa 3         ', nr_telefone='00-1820-5292', cep=400487, cep_mae=None, salario=13884.47, desconto_salario=219, cod_banco=33, nome_banco='Santander'),\n",
              " Row(cliente_id=2, nm_cliente='guilherme', nr_cpf=272270, dt_nasci=18111982, complemento='             304,casa 1         ', nr_telefone='00-2275-6615', cep=None, cep_mae=400487, salario=88561.84, desconto_salario=12, cod_banco=33, nome_banco='Santander'),\n",
              " Row(cliente_id=2, nm_cliente='vitor', nr_cpf=326724, dt_nasci=29081988, complemento='             207,casa 1         ', nr_telefone='00-2730-7938', cep=400487, cep_mae=None, salario=32141.87, desconto_salario=220, cod_banco=33, nome_banco='Santander'),\n",
              " Row(cliente_id=3, nm_cliente='kelvin', nr_cpf=381178, dt_nasci=15011997, complemento='             121,casa 2         ', nr_telefone='00-3185-9261', cep=400487, cep_mae=None, salario=52535.62, desconto_salario=149, cod_banco=33, nome_banco='Santander'),\n",
              " Row(cliente_id=4, nm_cliente='rogerio', nr_cpf=435632, dt_nasci=15071997, complemento='             309,casa 1         ', nr_telefone='00-3641-0584', cep=400487, cep_mae=None, salario=22055.04, desconto_salario=164, cod_banco=33, nome_banco='Santander'),\n",
              " Row(cliente_id=4, nm_cliente='rogerio', nr_cpf=490086, dt_nasci=19051996, complemento='             66,casa 3         ', nr_telefone='00-4096-1907', cep=400487, cep_mae=None, salario=14216.09, desconto_salario=214, cod_banco=33, nome_banco='Santander')]"
            ]
          },
          "metadata": {},
          "execution_count": 25
        }
      ]
    },
    {
      "cell_type": "code",
      "source": [
        "# Melhor pratica - Assim não usa a memoria\n",
        "lista_rows_df = df.collect()\n",
        "print(lista_rows_df)"
      ],
      "metadata": {
        "colab": {
          "base_uri": "https://localhost:8080/"
        },
        "id": "kTXbxVpKLCw2",
        "outputId": "e592a895-60b6-47a1-b948-df4cc191c5f2"
      },
      "execution_count": null,
      "outputs": [
        {
          "output_type": "stream",
          "name": "stdout",
          "text": [
            "[Row(cliente_id=1, nm_cliente='guilherme', nr_cpf=108908, dt_nasci=30031986, complemento='             179,casa 1         ', nr_telefone='00-0910-2646', cep=400487, cep_mae=None, salario=71993.34, desconto_salario=21, cod_banco=33, nome_banco='Santander'), Row(cliente_id=1, nm_cliente='guilherme', nr_cpf=163362, dt_nasci=20031983, complemento='             97,casa 1         ', nr_telefone='00-1365-3969', cep=400487, cep_mae=None, salario=34812.34, desconto_salario=208, cod_banco=33, nome_banco='Santander'), Row(cliente_id=1, nm_cliente='guilherme', nr_cpf=217816, dt_nasci=26041989, complemento='             194,casa 3         ', nr_telefone='00-1820-5292', cep=400487, cep_mae=None, salario=13884.47, desconto_salario=219, cod_banco=33, nome_banco='Santander'), Row(cliente_id=2, nm_cliente='guilherme', nr_cpf=272270, dt_nasci=18111982, complemento='             304,casa 1         ', nr_telefone='00-2275-6615', cep=None, cep_mae=400487, salario=88561.84, desconto_salario=12, cod_banco=33, nome_banco='Santander'), Row(cliente_id=2, nm_cliente='vitor', nr_cpf=326724, dt_nasci=29081988, complemento='             207,casa 1         ', nr_telefone='00-2730-7938', cep=400487, cep_mae=None, salario=32141.87, desconto_salario=220, cod_banco=33, nome_banco='Santander'), Row(cliente_id=3, nm_cliente='kelvin', nr_cpf=381178, dt_nasci=15011997, complemento='             121,casa 2         ', nr_telefone='00-3185-9261', cep=400487, cep_mae=None, salario=52535.62, desconto_salario=149, cod_banco=33, nome_banco='Santander'), Row(cliente_id=4, nm_cliente='rogerio', nr_cpf=435632, dt_nasci=15071997, complemento='             309,casa 1         ', nr_telefone='00-3641-0584', cep=400487, cep_mae=None, salario=22055.04, desconto_salario=164, cod_banco=33, nome_banco='Santander'), Row(cliente_id=4, nm_cliente='rogerio', nr_cpf=490086, dt_nasci=19051996, complemento='             66,casa 3         ', nr_telefone='00-4096-1907', cep=400487, cep_mae=None, salario=14216.09, desconto_salario=214, cod_banco=33, nome_banco='Santander')]\n"
          ]
        }
      ]
    },
    {
      "cell_type": "markdown",
      "source": [
        "Metodo de ação - toPandas\n",
        "\n",
        "retorna as linhas do Spark Dataframe em um dataframe do Pandas"
      ],
      "metadata": {
        "id": "SsGHPC-0jYc-"
      }
    },
    {
      "cell_type": "code",
      "source": [
        "# help(df.toPandas)\n",
        "type(df)"
      ],
      "metadata": {
        "colab": {
          "base_uri": "https://localhost:8080/",
          "height": 187
        },
        "id": "fFQBcgJhNfz7",
        "outputId": "109d4ec5-973d-426c-a45a-1482e8d64c3d"
      },
      "execution_count": null,
      "outputs": [
        {
          "output_type": "execute_result",
          "data": {
            "text/plain": [
              "pyspark.sql.dataframe.DataFrame"
            ],
            "text/html": [
              "<div style=\"max-width:800px; border: 1px solid var(--colab-border-color);\"><style>\n",
              "      pre.function-repr-contents {\n",
              "        overflow-x: auto;\n",
              "        padding: 8px 12px;\n",
              "        max-height: 500px;\n",
              "      }\n",
              "\n",
              "      pre.function-repr-contents.function-repr-contents-collapsed {\n",
              "        cursor: pointer;\n",
              "        max-height: 100px;\n",
              "      }\n",
              "    </style>\n",
              "    <pre style=\"white-space: initial; background:\n",
              "         var(--colab-secondary-surface-color); padding: 8px 12px;\n",
              "         border-bottom: 1px solid var(--colab-border-color);\"><b>pyspark.sql.dataframe.DataFrame</b><br/>def __init__(jdf: JavaObject, sql_ctx: Union[&#x27;SQLContext&#x27;, &#x27;SparkSession&#x27;])</pre><pre class=\"function-repr-contents function-repr-contents-collapsed\" style=\"\"><a class=\"filepath\" style=\"display:none\" href=\"#\">/content/spark-3.4.2-bin-hadoop3/python/pyspark/sql/dataframe.py</a>A distributed collection of data grouped into named columns.\n",
              "\n",
              ".. versionadded:: 1.3.0\n",
              "\n",
              ".. versionchanged:: 3.4.0\n",
              "    Supports Spark Connect.\n",
              "\n",
              "Examples\n",
              "--------\n",
              "A :class:`DataFrame` is equivalent to a relational table in Spark SQL,\n",
              "and can be created using various functions in :class:`SparkSession`:\n",
              "\n",
              "&gt;&gt;&gt; people = spark.createDataFrame([\n",
              "...     {&quot;deptId&quot;: 1, &quot;age&quot;: 40, &quot;name&quot;: &quot;Hyukjin Kwon&quot;, &quot;gender&quot;: &quot;M&quot;, &quot;salary&quot;: 50},\n",
              "...     {&quot;deptId&quot;: 1, &quot;age&quot;: 50, &quot;name&quot;: &quot;Takuya Ueshin&quot;, &quot;gender&quot;: &quot;M&quot;, &quot;salary&quot;: 100},\n",
              "...     {&quot;deptId&quot;: 2, &quot;age&quot;: 60, &quot;name&quot;: &quot;Xinrong Meng&quot;, &quot;gender&quot;: &quot;F&quot;, &quot;salary&quot;: 150},\n",
              "...     {&quot;deptId&quot;: 3, &quot;age&quot;: 20, &quot;name&quot;: &quot;Haejoon Lee&quot;, &quot;gender&quot;: &quot;M&quot;, &quot;salary&quot;: 200}\n",
              "... ])\n",
              "\n",
              "Once created, it can be manipulated using the various domain-specific-language\n",
              "(DSL) functions defined in: :class:`DataFrame`, :class:`Column`.\n",
              "\n",
              "To select a column from the :class:`DataFrame`, use the apply method:\n",
              "\n",
              "&gt;&gt;&gt; age_col = people.age\n",
              "\n",
              "A more concrete example:\n",
              "\n",
              "&gt;&gt;&gt; # To create DataFrame using SparkSession\n",
              "... department = spark.createDataFrame([\n",
              "...     {&quot;id&quot;: 1, &quot;name&quot;: &quot;PySpark&quot;},\n",
              "...     {&quot;id&quot;: 2, &quot;name&quot;: &quot;ML&quot;},\n",
              "...     {&quot;id&quot;: 3, &quot;name&quot;: &quot;Spark SQL&quot;}\n",
              "... ])\n",
              "\n",
              "&gt;&gt;&gt; people.filter(people.age &gt; 30).join(\n",
              "...     department, people.deptId == department.id).groupBy(\n",
              "...     department.name, &quot;gender&quot;).agg({&quot;salary&quot;: &quot;avg&quot;, &quot;age&quot;: &quot;max&quot;}).show()\n",
              "+-------+------+-----------+--------+\n",
              "|   name|gender|avg(salary)|max(age)|\n",
              "+-------+------+-----------+--------+\n",
              "|     ML|     F|      150.0|      60|\n",
              "|PySpark|     M|       75.0|      50|\n",
              "+-------+------+-----------+--------+\n",
              "\n",
              "Notes\n",
              "-----\n",
              "A DataFrame should only be created as described above. It should not be directly\n",
              "created via using the constructor.</pre>\n",
              "      <script>\n",
              "      if (google.colab.kernel.accessAllowed && google.colab.files && google.colab.files.view) {\n",
              "        for (const element of document.querySelectorAll('.filepath')) {\n",
              "          element.style.display = 'block'\n",
              "          element.onclick = (event) => {\n",
              "            event.preventDefault();\n",
              "            event.stopPropagation();\n",
              "            google.colab.files.view(element.textContent, 81);\n",
              "          };\n",
              "        }\n",
              "      }\n",
              "      for (const element of document.querySelectorAll('.function-repr-contents')) {\n",
              "        element.onclick = (event) => {\n",
              "          event.preventDefault();\n",
              "          event.stopPropagation();\n",
              "          element.classList.toggle('function-repr-contents-collapsed');\n",
              "        };\n",
              "      }\n",
              "      </script>\n",
              "      </div>"
            ]
          },
          "metadata": {},
          "execution_count": 30
        }
      ]
    },
    {
      "cell_type": "code",
      "source": [
        "df_Pandas = df.toPandas()\n",
        "type(df_Pandas)"
      ],
      "metadata": {
        "id": "YpJ9YO-Hjiuj",
        "colab": {
          "base_uri": "https://localhost:8080/",
          "height": 204
        },
        "outputId": "3cd98a83-a377-4960-b2f0-40bf43504e33"
      },
      "execution_count": null,
      "outputs": [
        {
          "output_type": "execute_result",
          "data": {
            "text/plain": [
              "pandas.core.frame.DataFrame"
            ],
            "text/html": [
              "<div style=\"max-width:800px; border: 1px solid var(--colab-border-color);\"><style>\n",
              "      pre.function-repr-contents {\n",
              "        overflow-x: auto;\n",
              "        padding: 8px 12px;\n",
              "        max-height: 500px;\n",
              "      }\n",
              "\n",
              "      pre.function-repr-contents.function-repr-contents-collapsed {\n",
              "        cursor: pointer;\n",
              "        max-height: 100px;\n",
              "      }\n",
              "    </style>\n",
              "    <pre style=\"white-space: initial; background:\n",
              "         var(--colab-secondary-surface-color); padding: 8px 12px;\n",
              "         border-bottom: 1px solid var(--colab-border-color);\"><b>pandas.core.frame.DataFrame</b><br/>def __init__(data=None, index: Axes | None=None, columns: Axes | None=None, dtype: Dtype | None=None, copy: bool | None=None) -&gt; None</pre><pre class=\"function-repr-contents function-repr-contents-collapsed\" style=\"\"><a class=\"filepath\" style=\"display:none\" href=\"#\">/usr/local/lib/python3.10/dist-packages/pandas/core/frame.py</a>Two-dimensional, size-mutable, potentially heterogeneous tabular data.\n",
              "\n",
              "Data structure also contains labeled axes (rows and columns).\n",
              "Arithmetic operations align on both row and column labels. Can be\n",
              "thought of as a dict-like container for Series objects. The primary\n",
              "pandas data structure.\n",
              "\n",
              "Parameters\n",
              "----------\n",
              "data : ndarray (structured or homogeneous), Iterable, dict, or DataFrame\n",
              "    Dict can contain Series, arrays, constants, dataclass or list-like objects. If\n",
              "    data is a dict, column order follows insertion-order. If a dict contains Series\n",
              "    which have an index defined, it is aligned by its index. This alignment also\n",
              "    occurs if data is a Series or a DataFrame itself. Alignment is done on\n",
              "    Series/DataFrame inputs.\n",
              "\n",
              "    If data is a list of dicts, column order follows insertion-order.\n",
              "\n",
              "index : Index or array-like\n",
              "    Index to use for resulting frame. Will default to RangeIndex if\n",
              "    no indexing information part of input data and no index provided.\n",
              "columns : Index or array-like\n",
              "    Column labels to use for resulting frame when data does not have them,\n",
              "    defaulting to RangeIndex(0, 1, 2, ..., n). If data contains column labels,\n",
              "    will perform column selection instead.\n",
              "dtype : dtype, default None\n",
              "    Data type to force. Only a single dtype is allowed. If None, infer.\n",
              "copy : bool or None, default None\n",
              "    Copy data from inputs.\n",
              "    For dict data, the default of None behaves like ``copy=True``.  For DataFrame\n",
              "    or 2d ndarray input, the default of None behaves like ``copy=False``.\n",
              "    If data is a dict containing one or more Series (possibly of different dtypes),\n",
              "    ``copy=False`` will ensure that these inputs are not copied.\n",
              "\n",
              "    .. versionchanged:: 1.3.0\n",
              "\n",
              "See Also\n",
              "--------\n",
              "DataFrame.from_records : Constructor from tuples, also record arrays.\n",
              "DataFrame.from_dict : From dicts of Series, arrays, or dicts.\n",
              "read_csv : Read a comma-separated values (csv) file into DataFrame.\n",
              "read_table : Read general delimited file into DataFrame.\n",
              "read_clipboard : Read text from clipboard into DataFrame.\n",
              "\n",
              "Notes\n",
              "-----\n",
              "Please reference the :ref:`User Guide &lt;basics.dataframe&gt;` for more information.\n",
              "\n",
              "Examples\n",
              "--------\n",
              "Constructing DataFrame from a dictionary.\n",
              "\n",
              "&gt;&gt;&gt; d = {&#x27;col1&#x27;: [1, 2], &#x27;col2&#x27;: [3, 4]}\n",
              "&gt;&gt;&gt; df = pd.DataFrame(data=d)\n",
              "&gt;&gt;&gt; df\n",
              "   col1  col2\n",
              "0     1     3\n",
              "1     2     4\n",
              "\n",
              "Notice that the inferred dtype is int64.\n",
              "\n",
              "&gt;&gt;&gt; df.dtypes\n",
              "col1    int64\n",
              "col2    int64\n",
              "dtype: object\n",
              "\n",
              "To enforce a single dtype:\n",
              "\n",
              "&gt;&gt;&gt; df = pd.DataFrame(data=d, dtype=np.int8)\n",
              "&gt;&gt;&gt; df.dtypes\n",
              "col1    int8\n",
              "col2    int8\n",
              "dtype: object\n",
              "\n",
              "Constructing DataFrame from a dictionary including Series:\n",
              "\n",
              "&gt;&gt;&gt; d = {&#x27;col1&#x27;: [0, 1, 2, 3], &#x27;col2&#x27;: pd.Series([2, 3], index=[2, 3])}\n",
              "&gt;&gt;&gt; pd.DataFrame(data=d, index=[0, 1, 2, 3])\n",
              "   col1  col2\n",
              "0     0   NaN\n",
              "1     1   NaN\n",
              "2     2   2.0\n",
              "3     3   3.0\n",
              "\n",
              "Constructing DataFrame from numpy ndarray:\n",
              "\n",
              "&gt;&gt;&gt; df2 = pd.DataFrame(np.array([[1, 2, 3], [4, 5, 6], [7, 8, 9]]),\n",
              "...                    columns=[&#x27;a&#x27;, &#x27;b&#x27;, &#x27;c&#x27;])\n",
              "&gt;&gt;&gt; df2\n",
              "   a  b  c\n",
              "0  1  2  3\n",
              "1  4  5  6\n",
              "2  7  8  9\n",
              "\n",
              "Constructing DataFrame from a numpy ndarray that has labeled columns:\n",
              "\n",
              "&gt;&gt;&gt; data = np.array([(1, 2, 3), (4, 5, 6), (7, 8, 9)],\n",
              "...                 dtype=[(&quot;a&quot;, &quot;i4&quot;), (&quot;b&quot;, &quot;i4&quot;), (&quot;c&quot;, &quot;i4&quot;)])\n",
              "&gt;&gt;&gt; df3 = pd.DataFrame(data, columns=[&#x27;c&#x27;, &#x27;a&#x27;])\n",
              "...\n",
              "&gt;&gt;&gt; df3\n",
              "   c  a\n",
              "0  3  1\n",
              "1  6  4\n",
              "2  9  7\n",
              "\n",
              "Constructing DataFrame from dataclass:\n",
              "\n",
              "&gt;&gt;&gt; from dataclasses import make_dataclass\n",
              "&gt;&gt;&gt; Point = make_dataclass(&quot;Point&quot;, [(&quot;x&quot;, int), (&quot;y&quot;, int)])\n",
              "&gt;&gt;&gt; pd.DataFrame([Point(0, 0), Point(0, 3), Point(2, 3)])\n",
              "   x  y\n",
              "0  0  0\n",
              "1  0  3\n",
              "2  2  3\n",
              "\n",
              "Constructing DataFrame from Series/DataFrame:\n",
              "\n",
              "&gt;&gt;&gt; ser = pd.Series([1, 2, 3], index=[&quot;a&quot;, &quot;b&quot;, &quot;c&quot;])\n",
              "&gt;&gt;&gt; df = pd.DataFrame(data=ser, index=[&quot;a&quot;, &quot;c&quot;])\n",
              "&gt;&gt;&gt; df\n",
              "   0\n",
              "a  1\n",
              "c  3\n",
              "\n",
              "&gt;&gt;&gt; df1 = pd.DataFrame([1, 2, 3], index=[&quot;a&quot;, &quot;b&quot;, &quot;c&quot;], columns=[&quot;x&quot;])\n",
              "&gt;&gt;&gt; df2 = pd.DataFrame(data=df1, index=[&quot;a&quot;, &quot;c&quot;])\n",
              "&gt;&gt;&gt; df2\n",
              "   x\n",
              "a  1\n",
              "c  3</pre>\n",
              "      <script>\n",
              "      if (google.colab.kernel.accessAllowed && google.colab.files && google.colab.files.view) {\n",
              "        for (const element of document.querySelectorAll('.filepath')) {\n",
              "          element.style.display = 'block'\n",
              "          element.onclick = (event) => {\n",
              "            event.preventDefault();\n",
              "            event.stopPropagation();\n",
              "            google.colab.files.view(element.textContent, 490);\n",
              "          };\n",
              "        }\n",
              "      }\n",
              "      for (const element of document.querySelectorAll('.function-repr-contents')) {\n",
              "        element.onclick = (event) => {\n",
              "          event.preventDefault();\n",
              "          event.stopPropagation();\n",
              "          element.classList.toggle('function-repr-contents-collapsed');\n",
              "        };\n",
              "      }\n",
              "      </script>\n",
              "      </div>"
            ]
          },
          "metadata": {},
          "execution_count": 28
        }
      ]
    },
    {
      "cell_type": "markdown",
      "source": [
        "# 3.3 **Metodos DropDuplicates VS Distinct**"
      ],
      "metadata": {
        "id": "hsv8Sf96ONaR"
      }
    },
    {
      "cell_type": "code",
      "source": [
        "from pyspark.sql import SparkSession\n",
        "spark = SparkSession.builder.getOrCreate()\n",
        "\n",
        "df = spark.read.csv(path='/content/sample_data/clientes_to_distinct_1.CSV', sep=';', header=True, inferSchema=True)\n",
        "\n",
        "df.show(10, False)\n",
        "# df.printSchema()"
      ],
      "metadata": {
        "colab": {
          "base_uri": "https://localhost:8080/"
        },
        "id": "CN6WM4gYObP2",
        "outputId": "e3128166-9a69-426b-f21d-ecedfff68059"
      },
      "execution_count": null,
      "outputs": [
        {
          "output_type": "stream",
          "name": "stdout",
          "text": [
            "+----------+----------+--------+\n",
            "|cliente_id|nm_cliente|salario |\n",
            "+----------+----------+--------+\n",
            "|1         |guilherme |71993.34|\n",
            "|1         |guilherme |34812.34|\n",
            "|1         |guilherme |13884.47|\n",
            "|2         |guilherme |88561.84|\n",
            "|2         |vitor     |32141.87|\n",
            "|3         |kelvin    |52535.62|\n",
            "|4         |rogerio   |22055.04|\n",
            "|4         |rogerio   |14216.09|\n",
            "+----------+----------+--------+\n",
            "\n"
          ]
        }
      ]
    },
    {
      "cell_type": "markdown",
      "source": [
        "Metodo de ação - distinct()"
      ],
      "metadata": {
        "id": "xkwpBOojZ4fz"
      }
    },
    {
      "cell_type": "code",
      "source": [
        "df.select('cliente_id','nm_cliente').distinct().show()"
      ],
      "metadata": {
        "colab": {
          "base_uri": "https://localhost:8080/"
        },
        "id": "ENfECD8YaCL1",
        "outputId": "d72f917d-5454-40d5-a611-3bac9692ed70"
      },
      "execution_count": null,
      "outputs": [
        {
          "output_type": "stream",
          "name": "stdout",
          "text": [
            "+----------+----------+\n",
            "|cliente_id|nm_cliente|\n",
            "+----------+----------+\n",
            "|         1| guilherme|\n",
            "|         3|    kelvin|\n",
            "|         2| guilherme|\n",
            "|         2|     vitor|\n",
            "|         4|   rogerio|\n",
            "+----------+----------+\n",
            "\n"
          ]
        }
      ]
    },
    {
      "cell_type": "code",
      "source": [
        "df.distinct().show()"
      ],
      "metadata": {
        "colab": {
          "base_uri": "https://localhost:8080/"
        },
        "id": "gx9iQ4G1biKK",
        "outputId": "752deb8d-bd8a-42eb-cef3-79b40cafac7e"
      },
      "execution_count": null,
      "outputs": [
        {
          "output_type": "stream",
          "name": "stdout",
          "text": [
            "+----------+----------+--------+\n",
            "|cliente_id|nm_cliente| salario|\n",
            "+----------+----------+--------+\n",
            "|         2| guilherme|88561.84|\n",
            "|         1| guilherme|71993.34|\n",
            "|         2|     vitor|32141.87|\n",
            "|         1| guilherme|34812.34|\n",
            "|         4|   rogerio|22055.04|\n",
            "|         3|    kelvin|52535.62|\n",
            "|         1| guilherme|13884.47|\n",
            "|         4|   rogerio|14216.09|\n",
            "+----------+----------+--------+\n",
            "\n"
          ]
        }
      ]
    },
    {
      "cell_type": "code",
      "source": [
        "df.dropDuplicates(['cliente_id','nm_cliente']).show()"
      ],
      "metadata": {
        "colab": {
          "base_uri": "https://localhost:8080/"
        },
        "id": "SpqXuXXVaF4d",
        "outputId": "34ea0034-c9f6-4607-af85-aa3a10d06e7f"
      },
      "execution_count": null,
      "outputs": [
        {
          "output_type": "stream",
          "name": "stdout",
          "text": [
            "+----------+----------+--------+\n",
            "|cliente_id|nm_cliente| salario|\n",
            "+----------+----------+--------+\n",
            "|         1| guilherme|71993.34|\n",
            "|         3|    kelvin|52535.62|\n",
            "|         2| guilherme|88561.84|\n",
            "|         2|     vitor|32141.87|\n",
            "|         4|   rogerio|22055.04|\n",
            "+----------+----------+--------+\n",
            "\n"
          ]
        }
      ]
    },
    {
      "cell_type": "markdown",
      "source": [
        "# **4. Colunas**"
      ],
      "metadata": {
        "id": "2zAZzmfiYGHN"
      }
    },
    {
      "cell_type": "code",
      "source": [
        "# instalar as dependencias\n",
        "# baixar a versão mais recente do java8;\n",
        "!apt-get install openjdk-8-jdk-headless -qq > /dev/null\n",
        "#download via stp do hadoop\n",
        "!wget -q https://dlcdn.apache.org/spark/spark-3.4.3/spark-3.4.3-bin-hadoop3.tgz\n",
        "!tar xf spark-3.4.3-bin-hadoop3.tgz\n",
        "# instalar o Findspark\n",
        "!pip install -q findspark\n",
        "\n",
        "import os\n",
        "os.environ[\"JAVA_HOME\"] = \"/usr/lib/jvm/java-8-openjdk-amd64\"\n",
        "os.environ[\"SPARK_HOME\"] = \"/content/sample_data/spark-3.4.3-bin-hadoop3\"\n",
        "\n",
        "# utilizando findspark para que o spark seja \"importavel\"\n",
        "\n",
        "import findspark\n",
        "findspark.init('spark-3.4.3-bin-hadoop3')\n",
        "\n",
        "# SparkSession\n",
        "from pyspark.sql import SparkSession\n",
        "from pyspark.sql import functions as F\n",
        "\n",
        "spark = SparkSession.builder.getOrCreate();"
      ],
      "metadata": {
        "id": "Pz-jhxMcYfRv"
      },
      "execution_count": null,
      "outputs": []
    },
    {
      "cell_type": "markdown",
      "source": [
        "# **4.1 Trabalhando com Colunas**"
      ],
      "metadata": {
        "id": "lbft7bhbYhVD"
      }
    },
    {
      "cell_type": "code",
      "source": [
        "df = spark.read.csv(path='/content/sample_data/clientes.csv', sep=';', header=True, inferSchema=True, encoding='latin1')\n",
        "df.show(5,False)"
      ],
      "metadata": {
        "colab": {
          "base_uri": "https://localhost:8080/"
        },
        "id": "xPz85V1CZ0bM",
        "outputId": "baa01067-cd9b-424e-87a5-c4340a7c22ee"
      },
      "execution_count": null,
      "outputs": [
        {
          "output_type": "stream",
          "name": "stdout",
          "text": [
            "+----------+-----------------+------+--------+--------------------------------+------------+------+-------+--------+----------------+---------+----------+\n",
            "|cliente_id|nm_cliente       |nr_cpf|dt_nasci|complemento                     |nr_telefone |cep   |cep_mae|salario |desconto_salario|cod_banco|nome_banco|\n",
            "+----------+-----------------+------+--------+--------------------------------+------------+------+-------+--------+----------------+---------+----------+\n",
            "|1820      |Vitor Hugo da Luz|108908|30031986|             179,casa 1         |00-0910-2646|400487|null   |71993.34|21              |33       |Santander |\n",
            "|2275      |Ian Moreira      |163362|20031983|             97,casa 1          |00-1365-3969|400487|null   |34812.34|208             |33       |Santander |\n",
            "|2730      |Nicole Silva     |217816|26041989|             194,casa 3         |00-1820-5292|400487|null   |13884.47|219             |33       |Santander |\n",
            "|3185      |Enrico Araújo    |272270|18111982|             304,casa 1         |00-2275-6615|null  |400487 |88561.84|12              |33       |Santander |\n",
            "|3640      |Lara Nogueira    |326724|29081988|             207,casa 1         |00-2730-7938|400487|null   |32141.87|220             |33       |Santander |\n",
            "+----------+-----------------+------+--------+--------------------------------+------------+------+-------+--------+----------------+---------+----------+\n",
            "only showing top 5 rows\n",
            "\n"
          ]
        }
      ]
    },
    {
      "cell_type": "code",
      "source": [
        "df.select(\n",
        "    'nm_cliente',\n",
        "    'salario'\n",
        ").show(5, False)"
      ],
      "metadata": {
        "colab": {
          "base_uri": "https://localhost:8080/"
        },
        "id": "jNid3O8Pau5_",
        "outputId": "292e9fab-e103-4c1d-feca-11a41a07907c"
      },
      "execution_count": null,
      "outputs": [
        {
          "output_type": "stream",
          "name": "stdout",
          "text": [
            "+-----------------+--------+\n",
            "|nm_cliente       |salario |\n",
            "+-----------------+--------+\n",
            "|Vitor Hugo da Luz|71993.34|\n",
            "|Ian Moreira      |34812.34|\n",
            "|Nicole Silva     |13884.47|\n",
            "|Enrico Araújo    |88561.84|\n",
            "|Lara Nogueira    |32141.87|\n",
            "+-----------------+--------+\n",
            "only showing top 5 rows\n",
            "\n"
          ]
        }
      ]
    },
    {
      "cell_type": "code",
      "source": [
        "df.select(\n",
        "    F.col('nm_cliente'),\n",
        "    F.col('salario')\n",
        ").show(5, False)"
      ],
      "metadata": {
        "colab": {
          "base_uri": "https://localhost:8080/"
        },
        "id": "iOYae3R4cM17",
        "outputId": "ff6059e7-0172-4bc4-c5a6-3337e3f6679c"
      },
      "execution_count": null,
      "outputs": [
        {
          "output_type": "stream",
          "name": "stdout",
          "text": [
            "+-----------------+--------+\n",
            "|nm_cliente       |salario |\n",
            "+-----------------+--------+\n",
            "|Vitor Hugo da Luz|71993.34|\n",
            "|Ian Moreira      |34812.34|\n",
            "|Nicole Silva     |13884.47|\n",
            "|Enrico Araújo    |88561.84|\n",
            "|Lara Nogueira    |32141.87|\n",
            "+-----------------+--------+\n",
            "only showing top 5 rows\n",
            "\n"
          ]
        }
      ]
    },
    {
      "cell_type": "code",
      "source": [
        "df.select(\n",
        "    'nm_cliente',\n",
        "    #'salario' + 'desconto_salario',\n",
        "    # Para transformação de dados, ou seja, qualquer calculo matematico, é necessario usar a biblioteca de Funções F.col\n",
        "    (F.col('salario') + F.col('desconto_salario')).alias('salario_total')\n",
        ").show(5, False)"
      ],
      "metadata": {
        "colab": {
          "base_uri": "https://localhost:8080/"
        },
        "id": "1LkiWaSKcr0n",
        "outputId": "ad5faddb-cec3-4d4b-ccce-6c93acf963ef"
      },
      "execution_count": null,
      "outputs": [
        {
          "output_type": "stream",
          "name": "stdout",
          "text": [
            "+-----------------+-------------+\n",
            "|nm_cliente       |salario_total|\n",
            "+-----------------+-------------+\n",
            "|Vitor Hugo da Luz|72014.34     |\n",
            "|Ian Moreira      |35020.34     |\n",
            "|Nicole Silva     |14103.47     |\n",
            "|Enrico Araújo    |88573.84     |\n",
            "|Lara Nogueira    |32361.87     |\n",
            "+-----------------+-------------+\n",
            "only showing top 5 rows\n",
            "\n"
          ]
        }
      ]
    },
    {
      "cell_type": "code",
      "source": [
        "df.select(\n",
        "    'nm_cliente',\n",
        "    #'salario' + 'desconto_salario',\n",
        "    # Para transformação de dados, ou seja, qualquer calculo matematico, é necessario usar a biblioteca de Funções F.col\n",
        "    (F.col('salario') * F.col('desconto_salario')).alias('salario_multip')\n",
        ").show(5, False)"
      ],
      "metadata": {
        "colab": {
          "base_uri": "https://localhost:8080/"
        },
        "id": "PgFY-fXpdTS8",
        "outputId": "a6b8b1f6-cb4a-4054-a2de-2bf8fd7e0dc3"
      },
      "execution_count": null,
      "outputs": [
        {
          "output_type": "stream",
          "name": "stdout",
          "text": [
            "+-----------------+------------------+\n",
            "|nm_cliente       |salario_multip    |\n",
            "+-----------------+------------------+\n",
            "|Vitor Hugo da Luz|1511860.14        |\n",
            "|Ian Moreira      |7240966.719999999 |\n",
            "|Nicole Silva     |3040698.9299999997|\n",
            "|Enrico Araújo    |1062742.08        |\n",
            "|Lara Nogueira    |7071211.399999999 |\n",
            "+-----------------+------------------+\n",
            "only showing top 5 rows\n",
            "\n"
          ]
        }
      ]
    },
    {
      "cell_type": "code",
      "source": [
        "df.select(\n",
        "    'nm_cliente',\n",
        "    #'salario' + 'desconto_salario',\n",
        "    # Para transformação de dados, ou seja, qualquer calculo matematico, é necessario usar a biblioteca de Funções F.col\n",
        "    'salario' * F.col(desconto_salario'\n",
        ").show(5, False)"
      ],
      "metadata": {
        "id": "9xdpCQ54vYNr"
      },
      "execution_count": null,
      "outputs": []
    },
    {
      "cell_type": "markdown",
      "source": [
        "# **4.2.\tComo criar uma nova colunas com withColumn**\n",
        "\n"
      ],
      "metadata": {
        "id": "Ve89BWXrwWSb"
      }
    },
    {
      "cell_type": "code",
      "source": [
        "# SparkSession\n",
        "from pyspark.sql import SparkSession\n",
        "from pyspark.sql import functions as F\n",
        "\n",
        "spark = SparkSession.builder.getOrCreate();\n"
      ],
      "metadata": {
        "id": "pg4fPPZdwlci"
      },
      "execution_count": null,
      "outputs": []
    },
    {
      "cell_type": "code",
      "source": [
        "df = spark.read.csv(\n",
        "    path='/content/sample_data/clientes.csv',\n",
        "    sep=';',\n",
        "    header=True,\n",
        "    inferSchema=True,\n",
        "    encoding='latin1')\n",
        "\n",
        "df.show(5,False)"
      ],
      "metadata": {
        "colab": {
          "base_uri": "https://localhost:8080/"
        },
        "id": "lYYl-rjozbV5",
        "outputId": "cb3a9f86-038d-45ce-b3b3-5ca21897294c"
      },
      "execution_count": null,
      "outputs": [
        {
          "output_type": "stream",
          "name": "stdout",
          "text": [
            "+----------+-----------------+------+--------+--------------------------------+------------+------+-------+--------+----------------+---------+----------+\n",
            "|cliente_id|nm_cliente       |nr_cpf|dt_nasci|complemento                     |nr_telefone |cep   |cep_mae|salario |desconto_salario|cod_banco|nome_banco|\n",
            "+----------+-----------------+------+--------+--------------------------------+------------+------+-------+--------+----------------+---------+----------+\n",
            "|1820      |Vitor Hugo da Luz|108908|30031986|             179,casa 1         |00-0910-2646|400487|null   |71993.34|21              |33       |Santander |\n",
            "|2275      |Ian Moreira      |163362|20031983|             97,casa 1          |00-1365-3969|400487|null   |34812.34|208             |33       |Santander |\n",
            "|2730      |Nicole Silva     |217816|26041989|             194,casa 3         |00-1820-5292|400487|null   |13884.47|219             |33       |Santander |\n",
            "|3185      |Enrico Araújo    |272270|18111982|             304,casa 1         |00-2275-6615|null  |400487 |88561.84|12              |33       |Santander |\n",
            "|3640      |Lara Nogueira    |326724|29081988|             207,casa 1         |00-2730-7938|400487|null   |32141.87|220             |33       |Santander |\n",
            "+----------+-----------------+------+--------+--------------------------------+------------+------+-------+--------+----------------+---------+----------+\n",
            "only showing top 5 rows\n",
            "\n"
          ]
        }
      ]
    },
    {
      "cell_type": "code",
      "source": [
        "df = df.withColumn('salario_total',\n",
        "              F.col('salario') - F.col('desconto_salario'))"
      ],
      "metadata": {
        "id": "avmoRXY4xs3y"
      },
      "execution_count": null,
      "outputs": []
    },
    {
      "cell_type": "code",
      "source": [
        "df.show(5, False)"
      ],
      "metadata": {
        "colab": {
          "base_uri": "https://localhost:8080/"
        },
        "id": "Js2LirG3ylPA",
        "outputId": "5a4cd6b8-242b-4c97-90ab-aa22982f019c"
      },
      "execution_count": null,
      "outputs": [
        {
          "output_type": "stream",
          "name": "stdout",
          "text": [
            "+----------+-----------------+------+--------+--------------------------------+------------+------+-------+--------+----------------+---------+----------+-------------+\n",
            "|cliente_id|nm_cliente       |nr_cpf|dt_nasci|complemento                     |nr_telefone |cep   |cep_mae|salario |desconto_salario|cod_banco|nome_banco|salario_total|\n",
            "+----------+-----------------+------+--------+--------------------------------+------------+------+-------+--------+----------------+---------+----------+-------------+\n",
            "|1820      |Vitor Hugo da Luz|108908|30031986|             179,casa 1         |00-0910-2646|400487|null   |71993.34|21              |33       |Santander |71972.34     |\n",
            "|2275      |Ian Moreira      |163362|20031983|             97,casa 1          |00-1365-3969|400487|null   |34812.34|208             |33       |Santander |34604.34     |\n",
            "|2730      |Nicole Silva     |217816|26041989|             194,casa 3         |00-1820-5292|400487|null   |13884.47|219             |33       |Santander |13665.47     |\n",
            "|3185      |Enrico Araújo    |272270|18111982|             304,casa 1         |00-2275-6615|null  |400487 |88561.84|12              |33       |Santander |88549.84     |\n",
            "|3640      |Lara Nogueira    |326724|29081988|             207,casa 1         |00-2730-7938|400487|null   |32141.87|220             |33       |Santander |31921.87     |\n",
            "+----------+-----------------+------+--------+--------------------------------+------------+------+-------+--------+----------------+---------+----------+-------------+\n",
            "only showing top 5 rows\n",
            "\n"
          ]
        }
      ]
    },
    {
      "cell_type": "markdown",
      "source": [
        "# **4.3.\tMétodos Colunas String**"
      ],
      "metadata": {
        "id": "sy2SDXqM224q"
      }
    },
    {
      "cell_type": "code",
      "source": [
        "# SparkSession\n",
        "from pyspark.sql import SparkSession\n",
        "from pyspark.sql import functions as F\n",
        "\n",
        "spark = SparkSession.builder.getOrCreate();\n",
        "\n",
        "df = spark.read.csv(path='/content/sample_data/clientes.csv', sep=';', header=True,encoding='latin1', inferSchema=True)\n",
        "\n",
        "df.show(5, truncate=False)"
      ],
      "metadata": {
        "id": "MhROjyr022Bg",
        "colab": {
          "base_uri": "https://localhost:8080/"
        },
        "outputId": "5ed673d5-bda8-47dc-bc4c-0b979c3c617e"
      },
      "execution_count": null,
      "outputs": [
        {
          "output_type": "stream",
          "name": "stdout",
          "text": [
            "+----------+-----------------+------+--------+--------------------------------+------------+------+-------+--------+----------------+---------+----------+\n",
            "|cliente_id|nm_cliente       |nr_cpf|dt_nasci|complemento                     |nr_telefone |cep   |cep_mae|salario |desconto_salario|cod_banco|nome_banco|\n",
            "+----------+-----------------+------+--------+--------------------------------+------------+------+-------+--------+----------------+---------+----------+\n",
            "|1820      |Vitor Hugo da Luz|108908|30031986|             179,casa 1         |00-0910-2646|400487|null   |71993.34|21              |33       |Santander |\n",
            "|2275      |Ian Moreira      |163362|20031983|             97,casa 1          |00-1365-3969|400487|null   |34812.34|208             |33       |Santander |\n",
            "|2730      |Nicole Silva     |217816|26041989|             194,casa 3         |00-1820-5292|400487|null   |13884.47|219             |33       |Santander |\n",
            "|3185      |Enrico Araújo    |272270|18111982|             304,casa 1         |00-2275-6615|null  |400487 |88561.84|12              |33       |Santander |\n",
            "|3640      |Lara Nogueira    |326724|29081988|             207,casa 1         |00-2730-7938|400487|null   |32141.87|220             |33       |Santander |\n",
            "+----------+-----------------+------+--------+--------------------------------+------------+------+-------+--------+----------------+---------+----------+\n",
            "only showing top 5 rows\n",
            "\n"
          ]
        }
      ]
    },
    {
      "cell_type": "markdown",
      "source": [
        "F.lit()"
      ],
      "metadata": {
        "id": "H8bmDscAjYtA"
      }
    },
    {
      "cell_type": "code",
      "source": [
        "pais = 'BR'\n",
        "\n",
        "df = df.withColumn('pais',\n",
        "                   F.lit(pais))\n",
        "df.show(5, truncate=False)"
      ],
      "metadata": {
        "colab": {
          "base_uri": "https://localhost:8080/"
        },
        "id": "kgZ1ZFAddpT6",
        "outputId": "c7ac3f13-614a-4551-a0cf-837400042f7e"
      },
      "execution_count": null,
      "outputs": [
        {
          "output_type": "stream",
          "name": "stdout",
          "text": [
            "+----------+-----------------+------+--------+--------------------------------+------------+------+-------+--------+----------------+---------+----------+----+\n",
            "|cliente_id|nm_cliente       |nr_cpf|dt_nasci|complemento                     |nr_telefone |cep   |cep_mae|salario |desconto_salario|cod_banco|nome_banco|pais|\n",
            "+----------+-----------------+------+--------+--------------------------------+------------+------+-------+--------+----------------+---------+----------+----+\n",
            "|1820      |Vitor Hugo da Luz|108908|30031986|             179,casa 1         |00-0910-2646|400487|null   |71993.34|21              |33       |Santander |BR  |\n",
            "|2275      |Ian Moreira      |163362|20031983|             97,casa 1          |00-1365-3969|400487|null   |34812.34|208             |33       |Santander |BR  |\n",
            "|2730      |Nicole Silva     |217816|26041989|             194,casa 3         |00-1820-5292|400487|null   |13884.47|219             |33       |Santander |BR  |\n",
            "|3185      |Enrico Araújo    |272270|18111982|             304,casa 1         |00-2275-6615|null  |400487 |88561.84|12              |33       |Santander |BR  |\n",
            "|3640      |Lara Nogueira    |326724|29081988|             207,casa 1         |00-2730-7938|400487|null   |32141.87|220             |33       |Santander |BR  |\n",
            "+----------+-----------------+------+--------+--------------------------------+------------+------+-------+--------+----------------+---------+----------+----+\n",
            "only showing top 5 rows\n",
            "\n"
          ]
        }
      ]
    },
    {
      "cell_type": "markdown",
      "source": [
        "F.concat()"
      ],
      "metadata": {
        "id": "nFIJLRJPjcqQ"
      }
    },
    {
      "cell_type": "code",
      "source": [
        "cod_banco = '33'\n",
        "nome_banco= ' Santander'\n",
        "\n",
        "print(cod_banco + nome_banco)\n",
        "\n",
        "df.select(\n",
        "    'cod_banco',\n",
        "    'nome_banco',\n",
        "    F.concat(\n",
        "        F.col('cod_banco'),\n",
        "        F.lit(' - '),\n",
        "        F.col('nome_banco')\n",
        "    ).alias('banco')\n",
        ").show(5)"
      ],
      "metadata": {
        "colab": {
          "base_uri": "https://localhost:8080/"
        },
        "id": "4R5NQBm9d8e6",
        "outputId": "5931cf77-fb90-4e5a-b0be-3980efcd2f9e"
      },
      "execution_count": null,
      "outputs": [
        {
          "output_type": "stream",
          "name": "stdout",
          "text": [
            "33 Santander\n",
            "+---------+----------+--------------+\n",
            "|cod_banco|nome_banco|         banco|\n",
            "+---------+----------+--------------+\n",
            "|       33| Santander|33 - Santander|\n",
            "|       33| Santander|33 - Santander|\n",
            "|       33| Santander|33 - Santander|\n",
            "|       33| Santander|33 - Santander|\n",
            "|       33| Santander|33 - Santander|\n",
            "+---------+----------+--------------+\n",
            "only showing top 5 rows\n",
            "\n"
          ]
        }
      ]
    },
    {
      "cell_type": "markdown",
      "source": [
        "F.coalesce()"
      ],
      "metadata": {
        "id": "nu8Z8sjUjglg"
      }
    },
    {
      "cell_type": "code",
      "source": [
        "df.select(\n",
        "    F.col('cep'),\n",
        "    F.col('cep_mae'),\n",
        "    F.coalesce(\n",
        "        F.col('cep'),\n",
        "        F.col('cep_mae')\n",
        "    ).alias('cep_final')\n",
        ").show(5)"
      ],
      "metadata": {
        "colab": {
          "base_uri": "https://localhost:8080/"
        },
        "id": "IzJjQ_7ugZEZ",
        "outputId": "6dc4e10a-a3b9-43e0-ff86-030207a586bd"
      },
      "execution_count": null,
      "outputs": [
        {
          "output_type": "stream",
          "name": "stdout",
          "text": [
            "+------+-------+---------+\n",
            "|   cep|cep_mae|cep_final|\n",
            "+------+-------+---------+\n",
            "|400487|   null|   400487|\n",
            "|400487|   null|   400487|\n",
            "|400487|   null|   400487|\n",
            "|  null| 400487|   400487|\n",
            "|400487|   null|   400487|\n",
            "+------+-------+---------+\n",
            "only showing top 5 rows\n",
            "\n"
          ]
        }
      ]
    },
    {
      "cell_type": "code",
      "source": [
        "df = df.withColumn('cep_final',\n",
        "        F.coalesce(\n",
        "            F.col('cep'),\n",
        "            F.col('cep_mae')\n",
        "        )\n",
        ")\n",
        "df.show(5)"
      ],
      "metadata": {
        "colab": {
          "base_uri": "https://localhost:8080/"
        },
        "id": "kHhMHRFDlJQj",
        "outputId": "6573ba7a-ed72-45ee-ba92-2deb9729509d"
      },
      "execution_count": null,
      "outputs": [
        {
          "output_type": "stream",
          "name": "stdout",
          "text": [
            "+----------+-----------------+------+--------+--------------------+------------+------+-------+--------+----------------+---------+----------+----+---------+\n",
            "|cliente_id|       nm_cliente|nr_cpf|dt_nasci|         complemento| nr_telefone|   cep|cep_mae| salario|desconto_salario|cod_banco|nome_banco|pais|cep_final|\n",
            "+----------+-----------------+------+--------+--------------------+------------+------+-------+--------+----------------+---------+----------+----+---------+\n",
            "|      1820|Vitor Hugo da Luz|108908|30031986|             179,...|00-0910-2646|400487|   null|71993.34|              21|       33| Santander|  BR|   400487|\n",
            "|      2275|      Ian Moreira|163362|20031983|             97,c...|00-1365-3969|400487|   null|34812.34|             208|       33| Santander|  BR|   400487|\n",
            "|      2730|     Nicole Silva|217816|26041989|             194,...|00-1820-5292|400487|   null|13884.47|             219|       33| Santander|  BR|   400487|\n",
            "|      3185|    Enrico Araújo|272270|18111982|             304,...|00-2275-6615|  null| 400487|88561.84|              12|       33| Santander|  BR|   400487|\n",
            "|      3640|    Lara Nogueira|326724|29081988|             207,...|00-2730-7938|400487|   null|32141.87|             220|       33| Santander|  BR|   400487|\n",
            "+----------+-----------------+------+--------+--------------------+------------+------+-------+--------+----------------+---------+----------+----+---------+\n",
            "only showing top 5 rows\n",
            "\n"
          ]
        }
      ]
    },
    {
      "cell_type": "markdown",
      "source": [
        "F.md5()\n",
        "\n",
        "Retorna o valor como uma string hexadecimal de 32 caracteres"
      ],
      "metadata": {
        "id": "W-AU-D9xlnt3"
      }
    },
    {
      "cell_type": "code",
      "source": [
        "df.select(\n",
        "    F.col('nr_cpf'),\n",
        "    F.md5(\n",
        "        F.col('nr_cpf').cast('string')\n",
        "          )\n",
        ").show(10, False)"
      ],
      "metadata": {
        "colab": {
          "base_uri": "https://localhost:8080/"
        },
        "id": "GnMZAlBOlnDa",
        "outputId": "ac091d16-5cb1-4dfe-8591-15514fe283b7"
      },
      "execution_count": null,
      "outputs": [
        {
          "output_type": "stream",
          "name": "stdout",
          "text": [
            "+------+--------------------------------+\n",
            "|nr_cpf|md5(CAST(nr_cpf AS STRING))     |\n",
            "+------+--------------------------------+\n",
            "|108908|0576befa082efff3f0282f5a0a42ab31|\n",
            "|163362|987ca27cffce9d3b288eab5e9e50373b|\n",
            "|217816|cf8e7d895e9af4f6ff2047c99fba994d|\n",
            "|272270|db0ecb8ead961a2983478ea211c488b6|\n",
            "|326724|9e57b9233e121f0355e2ab5fc95e8372|\n",
            "|381178|f2eb13fc323c467a1a524bd1405b7f0d|\n",
            "|435632|d86dec57fd5858908b5391cb756a1c00|\n",
            "|490086|8ed052dda7e9540a356172a2aa25b5f0|\n",
            "|544540|1f7bd98fd93911cadd4f2b5f415da409|\n",
            "|598994|0b77328a26b519fe1f63839e32c3311c|\n",
            "+------+--------------------------------+\n",
            "only showing top 10 rows\n",
            "\n"
          ]
        }
      ]
    },
    {
      "cell_type": "code",
      "source": [
        "df.withColumn('nr_cpf',\n",
        "              F.md5(\n",
        "                F.col('nr_cpf').cast('string')\n",
        "              )\n",
        ").show(5,False)"
      ],
      "metadata": {
        "colab": {
          "base_uri": "https://localhost:8080/"
        },
        "id": "2BkASr-Gm7WM",
        "outputId": "fc650273-18a5-4c45-ba5d-92e356aeaadc"
      },
      "execution_count": null,
      "outputs": [
        {
          "output_type": "stream",
          "name": "stdout",
          "text": [
            "+----------+-----------------+--------------------------------+--------+--------------------------------+------------+------+-------+--------+----------------+---------+----------+----+---------+\n",
            "|cliente_id|nm_cliente       |nr_cpf                          |dt_nasci|complemento                     |nr_telefone |cep   |cep_mae|salario |desconto_salario|cod_banco|nome_banco|pais|cep_final|\n",
            "+----------+-----------------+--------------------------------+--------+--------------------------------+------------+------+-------+--------+----------------+---------+----------+----+---------+\n",
            "|1820      |Vitor Hugo da Luz|0576befa082efff3f0282f5a0a42ab31|30031986|             179,casa 1         |00-0910-2646|400487|null   |71993.34|21              |33       |Santander |BR  |400487   |\n",
            "|2275      |Ian Moreira      |987ca27cffce9d3b288eab5e9e50373b|20031983|             97,casa 1          |00-1365-3969|400487|null   |34812.34|208             |33       |Santander |BR  |400487   |\n",
            "|2730      |Nicole Silva     |cf8e7d895e9af4f6ff2047c99fba994d|26041989|             194,casa 3         |00-1820-5292|400487|null   |13884.47|219             |33       |Santander |BR  |400487   |\n",
            "|3185      |Enrico Araújo    |db0ecb8ead961a2983478ea211c488b6|18111982|             304,casa 1         |00-2275-6615|null  |400487 |88561.84|12              |33       |Santander |BR  |400487   |\n",
            "|3640      |Lara Nogueira    |9e57b9233e121f0355e2ab5fc95e8372|29081988|             207,casa 1         |00-2730-7938|400487|null   |32141.87|220             |33       |Santander |BR  |400487   |\n",
            "+----------+-----------------+--------------------------------+--------+--------------------------------+------------+------+-------+--------+----------------+---------+----------+----+---------+\n",
            "only showing top 5 rows\n",
            "\n"
          ]
        }
      ]
    },
    {
      "cell_type": "markdown",
      "source": [
        "F.lenght()\n",
        "\n",
        "Calcula o comprimento de caracteres de dados de string ou o número de bytes de dados binários"
      ],
      "metadata": {
        "id": "eUXzQeZqoFHS"
      }
    },
    {
      "cell_type": "code",
      "source": [
        "df.select(\n",
        "    F.col('complemento'),\n",
        "    F.length(\n",
        "        F.col('complemento')\n",
        "    )\n",
        ").show(5, False)"
      ],
      "metadata": {
        "colab": {
          "base_uri": "https://localhost:8080/"
        },
        "id": "hKqjiqkgoPcF",
        "outputId": "0abaa2ff-0772-4c86-db36-9c8fcf2d836b"
      },
      "execution_count": null,
      "outputs": [
        {
          "output_type": "stream",
          "name": "stdout",
          "text": [
            "+--------------------------------+-------------------+\n",
            "|complemento                     |length(complemento)|\n",
            "+--------------------------------+-------------------+\n",
            "|             179,casa 1         |32                 |\n",
            "|             97,casa 1          |31                 |\n",
            "|             194,casa 3         |32                 |\n",
            "|             304,casa 1         |32                 |\n",
            "|             207,casa 1         |32                 |\n",
            "+--------------------------------+-------------------+\n",
            "only showing top 5 rows\n",
            "\n"
          ]
        }
      ]
    },
    {
      "cell_type": "markdown",
      "source": [
        "F.lower()\n",
        "\n",
        "Retorna os caracteres em MINUSCULO de uma coluna em string."
      ],
      "metadata": {
        "id": "TD63_-C0o_uc"
      }
    },
    {
      "cell_type": "code",
      "source": [
        "df.select(\n",
        "    F.col('nm_cliente'),\n",
        "    F.lower(F.col('nm_cliente')).alias('Nome_minus')\n",
        ").show(10, False)"
      ],
      "metadata": {
        "colab": {
          "base_uri": "https://localhost:8080/"
        },
        "id": "MQ2iBGXdohJ2",
        "outputId": "8d18aa7a-3cf9-4117-a7f0-c426bbf20e83"
      },
      "execution_count": null,
      "outputs": [
        {
          "output_type": "stream",
          "name": "stdout",
          "text": [
            "+---------------------+---------------------+\n",
            "|nm_cliente           |Nome_minus           |\n",
            "+---------------------+---------------------+\n",
            "|Vitor Hugo da Luz    |vitor hugo da luz    |\n",
            "|Ian Moreira          |ian moreira          |\n",
            "|Nicole Silva         |nicole silva         |\n",
            "|Enrico Araújo        |enrico araújo        |\n",
            "|Lara Nogueira        |lara nogueira        |\n",
            "|Carlos Eduardo da Paz|carlos eduardo da paz|\n",
            "|Larissa Correia      |larissa correia      |\n",
            "|Rafaela Viana        |rafaela viana        |\n",
            "|Raul Carvalho        |raul carvalho        |\n",
            "|Lorenzo Novaes       |lorenzo novaes       |\n",
            "+---------------------+---------------------+\n",
            "only showing top 10 rows\n",
            "\n"
          ]
        }
      ]
    },
    {
      "cell_type": "markdown",
      "source": [
        "F.upper()\n",
        "\n",
        "Retorna os caracteres em MAIUSCULO de uma coluna em string."
      ],
      "metadata": {
        "id": "lv0NtwIip_9T"
      }
    },
    {
      "cell_type": "code",
      "source": [
        "df.select(\n",
        "    F.col('nm_cliente'),\n",
        "    F.upper(F.col('nm_cliente')).alias('Nome_maius')\n",
        ").show(10, False)"
      ],
      "metadata": {
        "colab": {
          "base_uri": "https://localhost:8080/"
        },
        "id": "j-LZ7W63oxfo",
        "outputId": "3b803a4c-2a89-4698-f78a-7a0261ce990d"
      },
      "execution_count": null,
      "outputs": [
        {
          "output_type": "stream",
          "name": "stdout",
          "text": [
            "+---------------------+---------------------+\n",
            "|nm_cliente           |Nome_maius           |\n",
            "+---------------------+---------------------+\n",
            "|Vitor Hugo da Luz    |VITOR HUGO DA LUZ    |\n",
            "|Ian Moreira          |IAN MOREIRA          |\n",
            "|Nicole Silva         |NICOLE SILVA         |\n",
            "|Enrico Araújo        |ENRICO ARAÚJO        |\n",
            "|Lara Nogueira        |LARA NOGUEIRA        |\n",
            "|Carlos Eduardo da Paz|CARLOS EDUARDO DA PAZ|\n",
            "|Larissa Correia      |LARISSA CORREIA      |\n",
            "|Rafaela Viana        |RAFAELA VIANA        |\n",
            "|Raul Carvalho        |RAUL CARVALHO        |\n",
            "|Lorenzo Novaes       |LORENZO NOVAES       |\n",
            "+---------------------+---------------------+\n",
            "only showing top 10 rows\n",
            "\n"
          ]
        }
      ]
    },
    {
      "cell_type": "markdown",
      "source": [
        "F.lpad() ou F.rpad()\n",
        "\n",
        "Coloque à esquerda a coluna da string na largura `len` com `pad`."
      ],
      "metadata": {
        "id": "7nG7a-fxqT5Z"
      }
    },
    {
      "cell_type": "code",
      "source": [
        "df.select(\n",
        "    F.col('nr_cpf'),\n",
        "    F.lpad(\n",
        "        F.col('nr_cpf'),\n",
        "        11,\n",
        "        '0'\n",
        "    )\n",
        ").show(10, False)"
      ],
      "metadata": {
        "colab": {
          "base_uri": "https://localhost:8080/"
        },
        "id": "6b3jrVweqR2_",
        "outputId": "0276e9ad-00d5-4701-82dd-1dd88308234f"
      },
      "execution_count": null,
      "outputs": [
        {
          "output_type": "stream",
          "name": "stdout",
          "text": [
            "+------+-------------------+\n",
            "|nr_cpf|lpad(nr_cpf, 11, 0)|\n",
            "+------+-------------------+\n",
            "|108908|00000108908        |\n",
            "|163362|00000163362        |\n",
            "|217816|00000217816        |\n",
            "|272270|00000272270        |\n",
            "|326724|00000326724        |\n",
            "|381178|00000381178        |\n",
            "|435632|00000435632        |\n",
            "|490086|00000490086        |\n",
            "|544540|00000544540        |\n",
            "|598994|00000598994        |\n",
            "+------+-------------------+\n",
            "only showing top 10 rows\n",
            "\n"
          ]
        }
      ]
    },
    {
      "cell_type": "code",
      "source": [
        "df.select(\n",
        "    F.col('nr_cpf'),\n",
        "    F.rpad(\n",
        "        F.col('nr_cpf'),\n",
        "        11,\n",
        "        '0'\n",
        "    )\n",
        ").show(10, False)"
      ],
      "metadata": {
        "colab": {
          "base_uri": "https://localhost:8080/"
        },
        "id": "XVHB7oQXrbkv",
        "outputId": "fa28ac2b-5b31-487a-f6f3-5db01cba7e6c"
      },
      "execution_count": null,
      "outputs": [
        {
          "output_type": "stream",
          "name": "stdout",
          "text": [
            "+------+-------------------+\n",
            "|nr_cpf|rpad(nr_cpf, 11, 0)|\n",
            "+------+-------------------+\n",
            "|108908|10890800000        |\n",
            "|163362|16336200000        |\n",
            "|217816|21781600000        |\n",
            "|272270|27227000000        |\n",
            "|326724|32672400000        |\n",
            "|381178|38117800000        |\n",
            "|435632|43563200000        |\n",
            "|490086|49008600000        |\n",
            "|544540|54454000000        |\n",
            "|598994|59899400000        |\n",
            "+------+-------------------+\n",
            "only showing top 10 rows\n",
            "\n"
          ]
        }
      ]
    },
    {
      "cell_type": "markdown",
      "source": [
        "F.trim()\n",
        "\n",
        "Remove espaços a direita e esquerda de uma string."
      ],
      "metadata": {
        "id": "rM1Wpdr2sJWT"
      }
    },
    {
      "cell_type": "code",
      "source": [
        "df.select(\n",
        "    F.col('complemento'),\n",
        "    F.trim(\n",
        "        F.col('complemento')\n",
        "    ).alias('complemento_trim')\n",
        ").show(5)"
      ],
      "metadata": {
        "colab": {
          "base_uri": "https://localhost:8080/"
        },
        "id": "ll9YyHtRsF1S",
        "outputId": "04c81925-0a5d-4ec1-aaa2-5bd3b560fd11"
      },
      "execution_count": null,
      "outputs": [
        {
          "output_type": "stream",
          "name": "stdout",
          "text": [
            "+--------------------+----------------+\n",
            "|         complemento|complemento_trim|\n",
            "+--------------------+----------------+\n",
            "|             179,...|      179,casa 1|\n",
            "|             97,c...|       97,casa 1|\n",
            "|             194,...|      194,casa 3|\n",
            "|             304,...|      304,casa 1|\n",
            "|             207,...|      207,casa 1|\n",
            "+--------------------+----------------+\n",
            "only showing top 5 rows\n",
            "\n"
          ]
        }
      ]
    },
    {
      "cell_type": "markdown",
      "source": [
        "F.ltrim()\n",
        "\n",
        "Remove espaços a esquerda de uma string."
      ],
      "metadata": {
        "id": "Sve2vhlktF0n"
      }
    },
    {
      "cell_type": "code",
      "source": [
        "df.select(\n",
        "    F.col('complemento'),\n",
        "    F.ltrim(\n",
        "        F.col('complemento')\n",
        "    ).alias('complemento_trim')\n",
        ").show(5)"
      ],
      "metadata": {
        "colab": {
          "base_uri": "https://localhost:8080/"
        },
        "id": "vYyaP_ZRs8Uy",
        "outputId": "ea61ef3f-84d5-4809-c7a6-2b30209daffc"
      },
      "execution_count": null,
      "outputs": [
        {
          "output_type": "stream",
          "name": "stdout",
          "text": [
            "+--------------------+-------------------+\n",
            "|         complemento|   complemento_trim|\n",
            "+--------------------+-------------------+\n",
            "|             179,...|179,casa 1         |\n",
            "|             97,c...| 97,casa 1         |\n",
            "|             194,...|194,casa 3         |\n",
            "|             304,...|304,casa 1         |\n",
            "|             207,...|207,casa 1         |\n",
            "+--------------------+-------------------+\n",
            "only showing top 5 rows\n",
            "\n"
          ]
        }
      ]
    },
    {
      "cell_type": "markdown",
      "source": [
        "F.rtrim()\n",
        "\n",
        "Remove espaços a direita de uma string."
      ],
      "metadata": {
        "id": "hHg5pAKQtKno"
      }
    },
    {
      "cell_type": "code",
      "source": [
        "df.select(\n",
        "    F.col('complemento'),\n",
        "    F.rtrim(\n",
        "        F.col('complemento')\n",
        "    ).alias('complemento_trim')\n",
        ").show(5)"
      ],
      "metadata": {
        "colab": {
          "base_uri": "https://localhost:8080/"
        },
        "id": "AKFhpleas_nJ",
        "outputId": "b818368d-fe74-4b7e-8548-6af868ddced0"
      },
      "execution_count": null,
      "outputs": [
        {
          "output_type": "stream",
          "name": "stdout",
          "text": [
            "+--------------------+--------------------+\n",
            "|         complemento|    complemento_trim|\n",
            "+--------------------+--------------------+\n",
            "|             179,...|             179,...|\n",
            "|             97,c...|             97,c...|\n",
            "|             194,...|             194,...|\n",
            "|             304,...|             304,...|\n",
            "|             207,...|             207,...|\n",
            "+--------------------+--------------------+\n",
            "only showing top 5 rows\n",
            "\n"
          ]
        }
      ]
    },
    {
      "cell_type": "markdown",
      "source": [
        "F.substring()"
      ],
      "metadata": {
        "id": "vGXcuTyvtVsd"
      }
    },
    {
      "cell_type": "code",
      "source": [
        "df.show(5)"
      ],
      "metadata": {
        "colab": {
          "base_uri": "https://localhost:8080/"
        },
        "id": "MdmlMfAatoqB",
        "outputId": "db52bd84-2c25-4b01-8f4c-2214e2650f42"
      },
      "execution_count": null,
      "outputs": [
        {
          "output_type": "stream",
          "name": "stdout",
          "text": [
            "+----------+-----------------+------+--------+--------------------+------------+------+-------+--------+----------------+---------+----------+----+---------+\n",
            "|cliente_id|       nm_cliente|nr_cpf|dt_nasci|         complemento| nr_telefone|   cep|cep_mae| salario|desconto_salario|cod_banco|nome_banco|pais|cep_final|\n",
            "+----------+-----------------+------+--------+--------------------+------------+------+-------+--------+----------------+---------+----------+----+---------+\n",
            "|      1820|Vitor Hugo da Luz|108908|30031986|             179,...|00-0910-2646|400487|   null|71993.34|              21|       33| Santander|  BR|   400487|\n",
            "|      2275|      Ian Moreira|163362|20031983|             97,c...|00-1365-3969|400487|   null|34812.34|             208|       33| Santander|  BR|   400487|\n",
            "|      2730|     Nicole Silva|217816|26041989|             194,...|00-1820-5292|400487|   null|13884.47|             219|       33| Santander|  BR|   400487|\n",
            "|      3185|    Enrico Araújo|272270|18111982|             304,...|00-2275-6615|  null| 400487|88561.84|              12|       33| Santander|  BR|   400487|\n",
            "|      3640|    Lara Nogueira|326724|29081988|             207,...|00-2730-7938|400487|   null|32141.87|             220|       33| Santander|  BR|   400487|\n",
            "+----------+-----------------+------+--------+--------------------+------------+------+-------+--------+----------------+---------+----------+----+---------+\n",
            "only showing top 5 rows\n",
            "\n"
          ]
        }
      ]
    },
    {
      "cell_type": "code",
      "source": [
        "df.select(\n",
        "    F.col('nr_telefone'),\n",
        "    F.substring(\n",
        "        F.col('nr_telefone'),\n",
        "        4,\n",
        "        4\n",
        "    )\n",
        ").show(5)"
      ],
      "metadata": {
        "colab": {
          "base_uri": "https://localhost:8080/"
        },
        "id": "CR9enMUXtVOi",
        "outputId": "7d6e8694-08fe-4d61-c65b-5ea7ffad3e1e"
      },
      "execution_count": null,
      "outputs": [
        {
          "output_type": "stream",
          "name": "stdout",
          "text": [
            "+------------+----------------------------+\n",
            "| nr_telefone|substring(nr_telefone, 4, 4)|\n",
            "+------------+----------------------------+\n",
            "|00-0910-2646|                        0910|\n",
            "|00-1365-3969|                        1365|\n",
            "|00-1820-5292|                        1820|\n",
            "|00-2275-6615|                        2275|\n",
            "|00-2730-7938|                        2730|\n",
            "+------------+----------------------------+\n",
            "only showing top 5 rows\n",
            "\n"
          ]
        }
      ]
    },
    {
      "cell_type": "markdown",
      "source": [
        "# **4.4 Trabalhando com Colunas Datetime**\n",
        "\n"
      ],
      "metadata": {
        "id": "UgtvbhNQu10J"
      }
    },
    {
      "cell_type": "code",
      "source": [
        " # SparkSession\n",
        "from pyspark.sql import SparkSession\n",
        "from pyspark.sql import functions as F\n",
        "\n",
        "spark = SparkSession.builder.getOrCreate();\n",
        "\n",
        "df = spark.read.csv(path='/content/sample_data/clientes.csv', sep=';', header=True,encoding='latin1', inferSchema=True)\n",
        "\n",
        "df.show(5, truncate=False)"
      ],
      "metadata": {
        "colab": {
          "base_uri": "https://localhost:8080/"
        },
        "id": "wOyeBunLvD7K",
        "outputId": "89075dcb-7da6-46fc-9415-e046c1c98d80"
      },
      "execution_count": null,
      "outputs": [
        {
          "output_type": "stream",
          "name": "stdout",
          "text": [
            "+----------+-----------------+------+--------+--------------------------------+------------+------+-------+--------+----------------+---------+----------+\n",
            "|cliente_id|nm_cliente       |nr_cpf|dt_nasci|complemento                     |nr_telefone |cep   |cep_mae|salario |desconto_salario|cod_banco|nome_banco|\n",
            "+----------+-----------------+------+--------+--------------------------------+------------+------+-------+--------+----------------+---------+----------+\n",
            "|1820      |Vitor Hugo da Luz|108908|30031986|             179,casa 1         |00-0910-2646|400487|null   |71993.34|21              |33       |Santander |\n",
            "|2275      |Ian Moreira      |163362|20031983|             97,casa 1          |00-1365-3969|400487|null   |34812.34|208             |33       |Santander |\n",
            "|2730      |Nicole Silva     |217816|26041989|             194,casa 3         |00-1820-5292|400487|null   |13884.47|219             |33       |Santander |\n",
            "|3185      |Enrico Araújo    |272270|18111982|             304,casa 1         |00-2275-6615|null  |400487 |88561.84|12              |33       |Santander |\n",
            "|3640      |Lara Nogueira    |326724|29081988|             207,casa 1         |00-2730-7938|400487|null   |32141.87|220             |33       |Santander |\n",
            "+----------+-----------------+------+--------+--------------------------------+------------+------+-------+--------+----------------+---------+----------+\n",
            "only showing top 5 rows\n",
            "\n"
          ]
        }
      ]
    },
    {
      "cell_type": "markdown",
      "source": [
        "F.current_timestamp()\n",
        "\n",
        "Retorna a data/hora atual."
      ],
      "metadata": {
        "id": "DmR-hTbGzw3a"
      }
    },
    {
      "cell_type": "code",
      "source": [
        "df.select(\n",
        "    F.col('cliente_id'),\n",
        "    F.col('nm_cliente'),\n",
        "    F.current_timestamp().alias('dth_atu')\n",
        ").show(5,False)"
      ],
      "metadata": {
        "colab": {
          "base_uri": "https://localhost:8080/"
        },
        "id": "Z9z8fY1WzoN4",
        "outputId": "357edc62-0dc1-4764-bbce-8482d8835f68"
      },
      "execution_count": null,
      "outputs": [
        {
          "output_type": "stream",
          "name": "stdout",
          "text": [
            "+----------+-----------------+-----------------------+\n",
            "|cliente_id|nm_cliente       |dth_atu                |\n",
            "+----------+-----------------+-----------------------+\n",
            "|1820      |Vitor Hugo da Luz|2024-04-18 17:34:37.731|\n",
            "|2275      |Ian Moreira      |2024-04-18 17:34:37.731|\n",
            "|2730      |Nicole Silva     |2024-04-18 17:34:37.731|\n",
            "|3185      |Enrico Araújo    |2024-04-18 17:34:37.731|\n",
            "|3640      |Lara Nogueira    |2024-04-18 17:34:37.731|\n",
            "+----------+-----------------+-----------------------+\n",
            "only showing top 5 rows\n",
            "\n"
          ]
        }
      ]
    },
    {
      "cell_type": "markdown",
      "source": [
        "F.Date_format(0"
      ],
      "metadata": {
        "id": "3e346Riz1E5h"
      }
    },
    {
      "cell_type": "code",
      "source": [
        "df = df.withColumn('dth_atual',\n",
        "              F.current_timestamp()\n",
        ")\n",
        "\n",
        "df.show(5,False)"
      ],
      "metadata": {
        "colab": {
          "base_uri": "https://localhost:8080/"
        },
        "id": "PSjmPxVj0dpm",
        "outputId": "6ee3d0d9-20a2-4dff-b6d3-4f9bf92903e4"
      },
      "execution_count": null,
      "outputs": [
        {
          "output_type": "stream",
          "name": "stdout",
          "text": [
            "+----------+-----------------+------+--------+--------------------------------+------------+------+-------+--------+----------------+---------+----------+-----------------------+\n",
            "|cliente_id|nm_cliente       |nr_cpf|dt_nasci|complemento                     |nr_telefone |cep   |cep_mae|salario |desconto_salario|cod_banco|nome_banco|dth_atual              |\n",
            "+----------+-----------------+------+--------+--------------------------------+------------+------+-------+--------+----------------+---------+----------+-----------------------+\n",
            "|1820      |Vitor Hugo da Luz|108908|30031986|             179,casa 1         |00-0910-2646|400487|null   |71993.34|21              |33       |Santander |2024-04-18 17:34:46.738|\n",
            "|2275      |Ian Moreira      |163362|20031983|             97,casa 1          |00-1365-3969|400487|null   |34812.34|208             |33       |Santander |2024-04-18 17:34:46.738|\n",
            "|2730      |Nicole Silva     |217816|26041989|             194,casa 3         |00-1820-5292|400487|null   |13884.47|219             |33       |Santander |2024-04-18 17:34:46.738|\n",
            "|3185      |Enrico Araújo    |272270|18111982|             304,casa 1         |00-2275-6615|null  |400487 |88561.84|12              |33       |Santander |2024-04-18 17:34:46.738|\n",
            "|3640      |Lara Nogueira    |326724|29081988|             207,casa 1         |00-2730-7938|400487|null   |32141.87|220             |33       |Santander |2024-04-18 17:34:46.738|\n",
            "+----------+-----------------+------+--------+--------------------------------+------------+------+-------+--------+----------------+---------+----------+-----------------------+\n",
            "only showing top 5 rows\n",
            "\n"
          ]
        }
      ]
    },
    {
      "cell_type": "code",
      "source": [
        "df.show(5,False)"
      ],
      "metadata": {
        "colab": {
          "base_uri": "https://localhost:8080/"
        },
        "id": "RRwRZvGj1csZ",
        "outputId": "9ffde0ae-9bcd-412b-e9b9-0bb582932d80"
      },
      "execution_count": null,
      "outputs": [
        {
          "output_type": "stream",
          "name": "stdout",
          "text": [
            "+----------+-----------------+------+--------+--------------------------------+------------+------+-------+--------+----------------+---------+----------+----------------------+\n",
            "|cliente_id|nm_cliente       |nr_cpf|dt_nasci|complemento                     |nr_telefone |cep   |cep_mae|salario |desconto_salario|cod_banco|nome_banco|dth_atual             |\n",
            "+----------+-----------------+------+--------+--------------------------------+------------+------+-------+--------+----------------+---------+----------+----------------------+\n",
            "|1820      |Vitor Hugo da Luz|108908|30031986|             179,casa 1         |00-0910-2646|400487|null   |71993.34|21              |33       |Santander |2024-04-18 17:35:01.72|\n",
            "|2275      |Ian Moreira      |163362|20031983|             97,casa 1          |00-1365-3969|400487|null   |34812.34|208             |33       |Santander |2024-04-18 17:35:01.72|\n",
            "|2730      |Nicole Silva     |217816|26041989|             194,casa 3         |00-1820-5292|400487|null   |13884.47|219             |33       |Santander |2024-04-18 17:35:01.72|\n",
            "|3185      |Enrico Araújo    |272270|18111982|             304,casa 1         |00-2275-6615|null  |400487 |88561.84|12              |33       |Santander |2024-04-18 17:35:01.72|\n",
            "|3640      |Lara Nogueira    |326724|29081988|             207,casa 1         |00-2730-7938|400487|null   |32141.87|220             |33       |Santander |2024-04-18 17:35:01.72|\n",
            "+----------+-----------------+------+--------+--------------------------------+------------+------+-------+--------+----------------+---------+----------+----------------------+\n",
            "only showing top 5 rows\n",
            "\n"
          ]
        }
      ]
    },
    {
      "cell_type": "markdown",
      "source": [
        "F.date_format"
      ],
      "metadata": {
        "id": "q2E6d4Fz2b8l"
      }
    },
    {
      "cell_type": "code",
      "source": [
        "df.select(\n",
        "    F.col('dth_atual'),\n",
        "    F.date_format('dth_atual','yyyyMMdd').alias('date_format')\n",
        ").show(5)"
      ],
      "metadata": {
        "colab": {
          "base_uri": "https://localhost:8080/"
        },
        "id": "Dj2poo_-0RUd",
        "outputId": "f559a98a-83ca-4a67-9a76-65cc902bdecf"
      },
      "execution_count": null,
      "outputs": [
        {
          "output_type": "stream",
          "name": "stdout",
          "text": [
            "+--------------------+-----------+\n",
            "|           dth_atual|date_format|\n",
            "+--------------------+-----------+\n",
            "|2024-04-18 17:35:...|   20240418|\n",
            "|2024-04-18 17:35:...|   20240418|\n",
            "|2024-04-18 17:35:...|   20240418|\n",
            "|2024-04-18 17:35:...|   20240418|\n",
            "|2024-04-18 17:35:...|   20240418|\n",
            "+--------------------+-----------+\n",
            "only showing top 5 rows\n",
            "\n"
          ]
        }
      ]
    },
    {
      "cell_type": "markdown",
      "source": [
        "F.to_date"
      ],
      "metadata": {
        "id": "PV8ejlS92XVe"
      }
    },
    {
      "cell_type": "code",
      "source": [
        "df.select(\n",
        "    F.col('dt_nasci'),\n",
        "    F.to_date('dt_nasci','ddMMyyyy').alias('dt_nasc')\n",
        ").show(5)"
      ],
      "metadata": {
        "colab": {
          "base_uri": "https://localhost:8080/"
        },
        "id": "Er-new0y1Kwo",
        "outputId": "c4c48cbf-05cc-496c-eef9-6d6b66b94fc4"
      },
      "execution_count": null,
      "outputs": [
        {
          "output_type": "stream",
          "name": "stdout",
          "text": [
            "+--------+----------+\n",
            "|dt_nasci|   dt_nasc|\n",
            "+--------+----------+\n",
            "|30031986|1986-03-30|\n",
            "|20031983|1983-03-20|\n",
            "|26041989|1989-04-26|\n",
            "|18111982|1982-11-18|\n",
            "|29081988|1988-08-29|\n",
            "+--------+----------+\n",
            "only showing top 5 rows\n",
            "\n"
          ]
        }
      ]
    },
    {
      "cell_type": "code",
      "source": [
        "df = df.withColumn('dt_nasci',\n",
        "    F.to_date('dt_nasci','ddMMyyyy')\n",
        ")"
      ],
      "metadata": {
        "id": "9m1uI2lH100D"
      },
      "execution_count": null,
      "outputs": []
    },
    {
      "cell_type": "code",
      "source": [
        "df.show(5,False)"
      ],
      "metadata": {
        "colab": {
          "base_uri": "https://localhost:8080/"
        },
        "id": "D-QLHBTr2Hr0",
        "outputId": "7a72d625-04f8-4c02-a734-13f96e770b6d"
      },
      "execution_count": null,
      "outputs": [
        {
          "output_type": "stream",
          "name": "stdout",
          "text": [
            "+----------+-----------------+------+----------+--------------------------------+------------+------+-------+--------+----------------+---------+----------+-----------------------+\n",
            "|cliente_id|nm_cliente       |nr_cpf|dt_nasci  |complemento                     |nr_telefone |cep   |cep_mae|salario |desconto_salario|cod_banco|nome_banco|dth_atual              |\n",
            "+----------+-----------------+------+----------+--------------------------------+------------+------+-------+--------+----------------+---------+----------+-----------------------+\n",
            "|1820      |Vitor Hugo da Luz|108908|1986-03-30|             179,casa 1         |00-0910-2646|400487|null   |71993.34|21              |33       |Santander |2024-04-17 16:17:05.336|\n",
            "|2275      |Ian Moreira      |163362|1983-03-20|             97,casa 1          |00-1365-3969|400487|null   |34812.34|208             |33       |Santander |2024-04-17 16:17:05.336|\n",
            "|2730      |Nicole Silva     |217816|1989-04-26|             194,casa 3         |00-1820-5292|400487|null   |13884.47|219             |33       |Santander |2024-04-17 16:17:05.336|\n",
            "|3185      |Enrico Araújo    |272270|1982-11-18|             304,casa 1         |00-2275-6615|null  |400487 |88561.84|12              |33       |Santander |2024-04-17 16:17:05.336|\n",
            "|3640      |Lara Nogueira    |326724|1988-08-29|             207,casa 1         |00-2730-7938|400487|null   |32141.87|220             |33       |Santander |2024-04-17 16:17:05.336|\n",
            "+----------+-----------------+------+----------+--------------------------------+------------+------+-------+--------+----------------+---------+----------+-----------------------+\n",
            "only showing top 5 rows\n",
            "\n"
          ]
        }
      ]
    },
    {
      "cell_type": "code",
      "source": [
        "df.select(\n",
        "    F.col('dt_nasci'),\n",
        "    F.year('dt_nasci').alias('ano')\n",
        ").show(5)"
      ],
      "metadata": {
        "colab": {
          "base_uri": "https://localhost:8080/"
        },
        "id": "gCXAi-HG2lRn",
        "outputId": "fe7a3b70-fdab-46b2-887e-2e8a8e1e4273"
      },
      "execution_count": null,
      "outputs": [
        {
          "output_type": "stream",
          "name": "stdout",
          "text": [
            "+----------+----+\n",
            "|  dt_nasci| ano|\n",
            "+----------+----+\n",
            "|1986-03-30|1986|\n",
            "|1983-03-20|1983|\n",
            "|1989-04-26|1989|\n",
            "|1982-11-18|1982|\n",
            "|1988-08-29|1988|\n",
            "+----------+----+\n",
            "only showing top 5 rows\n",
            "\n"
          ]
        }
      ]
    },
    {
      "cell_type": "code",
      "source": [
        "df.select(\n",
        "    F.col('dt_nasci'),\n",
        "    F.month('dt_nasci').alias('mes')\n",
        ").show(5)"
      ],
      "metadata": {
        "colab": {
          "base_uri": "https://localhost:8080/"
        },
        "id": "qYnkkvea2xRJ",
        "outputId": "b52a8a31-1f72-4c06-b474-edfba0f778a4"
      },
      "execution_count": null,
      "outputs": [
        {
          "output_type": "stream",
          "name": "stdout",
          "text": [
            "+----------+---+\n",
            "|  dt_nasci|mes|\n",
            "+----------+---+\n",
            "|1986-03-30|  3|\n",
            "|1983-03-20|  3|\n",
            "|1989-04-26|  4|\n",
            "|1982-11-18| 11|\n",
            "|1988-08-29|  8|\n",
            "+----------+---+\n",
            "only showing top 5 rows\n",
            "\n"
          ]
        }
      ]
    },
    {
      "cell_type": "code",
      "source": [
        "df.select(\n",
        "    F.col('dt_nasci'),\n",
        "    F.dayofmonth('dt_nasci').alias('dia')\n",
        ").show(5)"
      ],
      "metadata": {
        "colab": {
          "base_uri": "https://localhost:8080/"
        },
        "id": "5e7VJf5-29MR",
        "outputId": "02d7db0b-7c1c-478f-c822-0e2c84030a30"
      },
      "execution_count": null,
      "outputs": [
        {
          "output_type": "stream",
          "name": "stdout",
          "text": [
            "+----------+---+\n",
            "|  dt_nasci|dia|\n",
            "+----------+---+\n",
            "|1986-03-30| 30|\n",
            "|1983-03-20| 20|\n",
            "|1989-04-26| 26|\n",
            "|1982-11-18| 18|\n",
            "|1988-08-29| 29|\n",
            "+----------+---+\n",
            "only showing top 5 rows\n",
            "\n"
          ]
        }
      ]
    },
    {
      "cell_type": "code",
      "source": [
        "df.select(\n",
        "    F.col('dt_nasci'),\n",
        "    F.date_sub(F.col('dt_nasci'),5).alias('ano')\n",
        ").show(5)"
      ],
      "metadata": {
        "colab": {
          "base_uri": "https://localhost:8080/"
        },
        "id": "baU1eLan3IMN",
        "outputId": "8a6e8895-c9ac-41b9-ce25-23bdaeadb60e"
      },
      "execution_count": null,
      "outputs": [
        {
          "output_type": "stream",
          "name": "stdout",
          "text": [
            "+----------+----------+\n",
            "|  dt_nasci|       ano|\n",
            "+----------+----------+\n",
            "|1986-03-30|1986-03-25|\n",
            "|1983-03-20|1983-03-15|\n",
            "|1989-04-26|1989-04-21|\n",
            "|1982-11-18|1982-11-13|\n",
            "|1988-08-29|1988-08-24|\n",
            "+----------+----------+\n",
            "only showing top 5 rows\n",
            "\n"
          ]
        }
      ]
    },
    {
      "cell_type": "code",
      "source": [
        "df.select(\n",
        "    F.col('dt_nasci'),\n",
        "    F.date_add(F.col('dt_nasci'),5).alias('ano')\n",
        ").show(5)"
      ],
      "metadata": {
        "colab": {
          "base_uri": "https://localhost:8080/"
        },
        "id": "d2oIASUX30Sx",
        "outputId": "abd0f132-7d7f-46d0-da99-2a25b67af561"
      },
      "execution_count": null,
      "outputs": [
        {
          "output_type": "stream",
          "name": "stdout",
          "text": [
            "+----------+----------+\n",
            "|  dt_nasci|       ano|\n",
            "+----------+----------+\n",
            "|1986-03-30|1986-04-04|\n",
            "|1983-03-20|1983-03-25|\n",
            "|1989-04-26|1989-05-01|\n",
            "|1982-11-18|1982-11-23|\n",
            "|1988-08-29|1988-09-03|\n",
            "+----------+----------+\n",
            "only showing top 5 rows\n",
            "\n"
          ]
        }
      ]
    },
    {
      "cell_type": "code",
      "source": [
        "df.select(\n",
        "    F.col('dt_nasci'),\n",
        "    F.col('dth_atual'),\n",
        "    F.datediff(F.col('dth_atual'), F.col('dt_nasci')).alias('qtde_dias')\n",
        ").show(5)"
      ],
      "metadata": {
        "colab": {
          "base_uri": "https://localhost:8080/"
        },
        "id": "Z6IcWRLY3-6y",
        "outputId": "b9ed4cf3-f996-4f18-f36b-be8ab86e3d35"
      },
      "execution_count": null,
      "outputs": [
        {
          "output_type": "stream",
          "name": "stdout",
          "text": [
            "+----------+--------------------+---------+\n",
            "|  dt_nasci|           dth_atual|qtde_dias|\n",
            "+----------+--------------------+---------+\n",
            "|1986-03-30|2024-04-18 17:36:...|    13899|\n",
            "|1983-03-20|2024-04-18 17:36:...|    15005|\n",
            "|1989-04-26|2024-04-18 17:36:...|    12776|\n",
            "|1982-11-18|2024-04-18 17:36:...|    15127|\n",
            "|1988-08-29|2024-04-18 17:36:...|    13016|\n",
            "+----------+--------------------+---------+\n",
            "only showing top 5 rows\n",
            "\n"
          ]
        }
      ]
    },
    {
      "cell_type": "markdown",
      "source": [
        "# **5. Metodos de DataFrame**"
      ],
      "metadata": {
        "id": "4f7YLp7idcxa"
      }
    },
    {
      "cell_type": "code",
      "source": [
        "# instalar as dependencias\n",
        "# baixar a versão mais recente do java8;\n",
        "!apt-get install openjdk-8-jdk-headless -qq > /dev/null\n",
        "#download via stp do hadoop\n",
        "!wget -q https://dlcdn.apache.org/spark/spark-3.4.3/spark-3.4.3-bin-hadoop3.tgz\n",
        "!tar xf spark-3.4.3-bin-hadoop3.tgz\n",
        "# instalar o Findspark\n",
        "!pip install -q findspark"
      ],
      "metadata": {
        "id": "rvaK1seRdmTo"
      },
      "execution_count": null,
      "outputs": []
    },
    {
      "cell_type": "code",
      "source": [
        "import os\n",
        "os.environ[\"JAVA_HOME\"] = \"/usr/lib/jvm/java-8-openjdk-amd64\"\n",
        "os.environ[\"SPARK_HOME\"] = \"/content/sample_data/spark-3.4.3-bin-hadoop3\"\n",
        "\n",
        "# utilizando findspark para que o spark seja \"importavel\"\n",
        "import findspark\n",
        "findspark.init('spark-3.4.3-bin-hadoop3')"
      ],
      "metadata": {
        "id": "N2Z6IK4KSxAt"
      },
      "execution_count": null,
      "outputs": []
    },
    {
      "cell_type": "markdown",
      "source": [
        "SparkSession"
      ],
      "metadata": {
        "id": "x-lUX7JRS8ml"
      }
    },
    {
      "cell_type": "code",
      "source": [
        "# SparkSession\n",
        "from pyspark.sql import SparkSession\n",
        "# Funções de colunas\n",
        "from pyspark.sql import functions as F\n",
        "\n",
        "#spark = SparkSession.builder.appName('Aula 5').master('local').getOrCreate();"
      ],
      "metadata": {
        "id": "j-Lrpkzne_tT"
      },
      "execution_count": null,
      "outputs": []
    },
    {
      "cell_type": "markdown",
      "source": [
        "# **5.1 Aprendendo Metodos de DataFrame - Parte 1**"
      ],
      "metadata": {
        "id": "BVdEt1iHdw7h"
      }
    },
    {
      "cell_type": "code",
      "source": [
        "df_cliente = spark.read\\\n",
        "         .csv(\"/content/sample_data/clientes.csv\",\n",
        "              sep=';',\n",
        "              header=True,\n",
        "              encoding='latin1',\n",
        "              inferSchema=True)\n",
        "\n",
        "df_cliente.show(5, False)\n",
        "# 11 min"
      ],
      "metadata": {
        "colab": {
          "base_uri": "https://localhost:8080/"
        },
        "id": "gUZu4uF7d_7A",
        "outputId": "287855fd-8b0f-42fe-bb64-7499fbcaae9d"
      },
      "execution_count": null,
      "outputs": [
        {
          "output_type": "stream",
          "name": "stdout",
          "text": [
            "+----------+-----------------+------+--------+--------------------------------+------------+------+---------+--------+---------------+\n",
            "|cliente_id|nm_cliente       |nr_cpf|dt_nasci|complemento                     |nr_telefone |cep   |salario  |desconto|banco_pgto     |\n",
            "+----------+-----------------+------+--------+--------------------------------+------------+------+---------+--------+---------------+\n",
            "|1820      |Vitor Hugo da Luz|108908|30031986|             179,casa 1         |00-0910-2646|400487|3.580.121|21      |033 - Santander|\n",
            "|2275      |Ian Moreira      |163362|20031983|             97,casa 1          |00-1365-3969|400487|1.116.351|208     |033 - Santander|\n",
            "|2730      |Nicole Silva     |217816|26041989|             194,casa 3         |00-1820-5292|400487|8954.32  |219     |033 - Santander|\n",
            "|3185      |Enrico Araújo    |272270|18111982|             304,casa 1         |00-2275-6615|null  |6.986.852|12      |033 - Santander|\n",
            "|3640      |Lara Nogueira    |326724|29081988|             207,casa 1         |00-2730-7938|400487|6.358.743|220     |033 - Santander|\n",
            "+----------+-----------------+------+--------+--------------------------------+------------+------+---------+--------+---------------+\n",
            "only showing top 5 rows\n",
            "\n"
          ]
        }
      ]
    },
    {
      "cell_type": "code",
      "source": [
        "df_endereco = spark.read\\\n",
        "          .csv('/content/sample_data/endereco.txt',\n",
        "               sep='|',\n",
        "               header=True,\n",
        "               encoding='utf-8',\n",
        "               inferSchema=True)\n",
        "\n",
        "df_endereco.show(10, False)\n",
        "\n",
        "# 25 min"
      ],
      "metadata": {
        "colab": {
          "base_uri": "https://localhost:8080/"
        },
        "id": "d32uMXx55Y_Q",
        "outputId": "44a0ad8f-b32c-482d-bb33-ba50801478ad"
      },
      "execution_count": null,
      "outputs": [
        {
          "output_type": "stream",
          "name": "stdout",
          "text": [
            "+------+--------------------------+----------+--------------+---+\n",
            "|cep_id|nm_enredeco               |bairro    |cidade        |UF |\n",
            "+------+--------------------------+----------+--------------+---+\n",
            "|305095|av jucelino cursino       |centro    |São paulo     |SP |\n",
            "|303989|av brasil                 |centro    |São paulo     |SP |\n",
            "|400487|av interlargos            |centro    |São paulo     |SP |\n",
            "|512496|av copacabana             |centro    |Rio de Janeiro|RJ |\n",
            "|965268|rua dom pedro primeiro    |centro    |São paulo     |SP |\n",
            "|931429|rua vicente giacaline     |Vila zilda|São paulo     |SP |\n",
            "|287560|rua governador valadares  |Vila zilda|São paulo     |SP |\n",
            "|840060|rua sérgio vicente        |Vila zilda|São paulo     |SP |\n",
            "|746023|rua ana carolina fernandes|Vicenza   |São paulo     |SP |\n",
            "|187173|rua sabrina freire        |Vicenza   |São paulo     |SP |\n",
            "+------+--------------------------+----------+--------------+---+\n",
            "only showing top 10 rows\n",
            "\n"
          ]
        }
      ]
    },
    {
      "cell_type": "markdown",
      "source": [
        ".select() e construção de coluna"
      ],
      "metadata": {
        "id": "G4-npc8YOcCP"
      }
    },
    {
      "cell_type": "code",
      "source": [
        "df_cliente.select('cliente_id', F.col('nm_cliente')).show(5)\n",
        "# 27min"
      ],
      "metadata": {
        "id": "6eh1tI2DEz8K",
        "colab": {
          "base_uri": "https://localhost:8080/"
        },
        "outputId": "47a7ed3f-05b4-4ff9-8223-4691a77ed99e"
      },
      "execution_count": null,
      "outputs": [
        {
          "output_type": "stream",
          "name": "stdout",
          "text": [
            "+----------+-----------------+\n",
            "|cliente_id|       nm_cliente|\n",
            "+----------+-----------------+\n",
            "|      1820|Vitor Hugo da Luz|\n",
            "|      2275|      Ian Moreira|\n",
            "|      2730|     Nicole Silva|\n",
            "|      3185|    Enrico Araújo|\n",
            "|      3640|    Lara Nogueira|\n",
            "+----------+-----------------+\n",
            "only showing top 5 rows\n",
            "\n"
          ]
        }
      ]
    },
    {
      "cell_type": "code",
      "source": [
        "df_cliente.select(\n",
        "    F.to_date(\n",
        "        F.col('dt_nasci'), 'ddMMyyyy').alias('dt_nasc'),\n",
        "    'dt_nasci').show(5)\n",
        "# 30min"
      ],
      "metadata": {
        "colab": {
          "base_uri": "https://localhost:8080/"
        },
        "id": "2c4aU_96PQyH",
        "outputId": "8d458a97-4dfd-4039-9118-ec66daacca55"
      },
      "execution_count": null,
      "outputs": [
        {
          "output_type": "stream",
          "name": "stdout",
          "text": [
            "+----------+--------+\n",
            "|   dt_nasc|dt_nasci|\n",
            "+----------+--------+\n",
            "|1986-03-30|30031986|\n",
            "|1983-03-20|20031983|\n",
            "|1989-04-26|26041989|\n",
            "|1982-11-18|18111982|\n",
            "|1988-08-29|29081988|\n",
            "+----------+--------+\n",
            "only showing top 5 rows\n",
            "\n"
          ]
        }
      ]
    },
    {
      "cell_type": "markdown",
      "source": [
        ".withColumn() e uma coluna com valor constante"
      ],
      "metadata": {
        "id": "Ci7TjBy1RO2l"
      }
    },
    {
      "cell_type": "code",
      "source": [
        "df_cliente = df_cliente.withColumn('pais', F.lit('BR'))\n",
        "df_cliente.show(5)\n",
        "# 33min"
      ],
      "metadata": {
        "colab": {
          "base_uri": "https://localhost:8080/"
        },
        "id": "7juRl-LnRCpF",
        "outputId": "c60f130c-6e97-4767-b39a-9955bb52562b"
      },
      "execution_count": null,
      "outputs": [
        {
          "output_type": "stream",
          "name": "stdout",
          "text": [
            "+----------+-----------------+------+--------+--------------------+------------+------+---------+--------+---------------+----+\n",
            "|cliente_id|       nm_cliente|nr_cpf|dt_nasci|         complemento| nr_telefone|   cep|  salario|desconto|     banco_pgto|pais|\n",
            "+----------+-----------------+------+--------+--------------------+------------+------+---------+--------+---------------+----+\n",
            "|      1820|Vitor Hugo da Luz|108908|30031986|             179,...|00-0910-2646|400487|3.580.121|      21|033 - Santander|  BR|\n",
            "|      2275|      Ian Moreira|163362|20031983|             97,c...|00-1365-3969|400487|1.116.351|     208|033 - Santander|  BR|\n",
            "|      2730|     Nicole Silva|217816|26041989|             194,...|00-1820-5292|400487|  8954.32|     219|033 - Santander|  BR|\n",
            "|      3185|    Enrico Araújo|272270|18111982|             304,...|00-2275-6615|  null|6.986.852|      12|033 - Santander|  BR|\n",
            "|      3640|    Lara Nogueira|326724|29081988|             207,...|00-2730-7938|400487|6.358.743|     220|033 - Santander|  BR|\n",
            "+----------+-----------------+------+--------+--------------------+------------+------+---------+--------+---------------+----+\n",
            "only showing top 5 rows\n",
            "\n"
          ]
        }
      ]
    },
    {
      "cell_type": "markdown",
      "source": [
        ".withColumnrenamed()"
      ],
      "metadata": {
        "id": "l9f4ZqIATAci"
      }
    },
    {
      "cell_type": "code",
      "source": [
        "df_cliente = df_cliente.withColumnRenamed('pais', 'sigla_pais')\n",
        "df_cliente.show(5)\n",
        "# 35min"
      ],
      "metadata": {
        "colab": {
          "base_uri": "https://localhost:8080/"
        },
        "id": "xe7RyXEMSwlf",
        "outputId": "02ddcf3c-2e58-4f8b-a005-4f30989ec4ca"
      },
      "execution_count": null,
      "outputs": [
        {
          "output_type": "stream",
          "name": "stdout",
          "text": [
            "+----------+-----------------+------+--------+--------------------+------------+------+---------+--------+---------------+----------+\n",
            "|cliente_id|       nm_cliente|nr_cpf|dt_nasci|         complemento| nr_telefone|   cep|  salario|desconto|     banco_pgto|sigla_pais|\n",
            "+----------+-----------------+------+--------+--------------------+------------+------+---------+--------+---------------+----------+\n",
            "|      1820|Vitor Hugo da Luz|108908|30031986|             179,...|00-0910-2646|400487|3.580.121|      21|033 - Santander|        BR|\n",
            "|      2275|      Ian Moreira|163362|20031983|             97,c...|00-1365-3969|400487|1.116.351|     208|033 - Santander|        BR|\n",
            "|      2730|     Nicole Silva|217816|26041989|             194,...|00-1820-5292|400487|  8954.32|     219|033 - Santander|        BR|\n",
            "|      3185|    Enrico Araújo|272270|18111982|             304,...|00-2275-6615|  null|6.986.852|      12|033 - Santander|        BR|\n",
            "|      3640|    Lara Nogueira|326724|29081988|             207,...|00-2730-7938|400487|6.358.743|     220|033 - Santander|        BR|\n",
            "+----------+-----------------+------+--------+--------------------+------------+------+---------+--------+---------------+----------+\n",
            "only showing top 5 rows\n",
            "\n"
          ]
        }
      ]
    },
    {
      "cell_type": "markdown",
      "source": [
        ".drop()"
      ],
      "metadata": {
        "id": "r9qp7EnrU3R8"
      }
    },
    {
      "cell_type": "code",
      "source": [
        "df_cliente = df_cliente.drop('sigla_pais')\n",
        "df_cliente.show(5)\n",
        "# 390min"
      ],
      "metadata": {
        "colab": {
          "base_uri": "https://localhost:8080/"
        },
        "id": "PpdoedKITSkr",
        "outputId": "9ed45a9b-84d0-42b7-cbb2-7363989d5a37"
      },
      "execution_count": null,
      "outputs": [
        {
          "output_type": "stream",
          "name": "stdout",
          "text": [
            "+----------+-----------------+------+--------+--------------------+------------+------+---------+--------+---------------+\n",
            "|cliente_id|       nm_cliente|nr_cpf|dt_nasci|         complemento| nr_telefone|   cep|  salario|desconto|     banco_pgto|\n",
            "+----------+-----------------+------+--------+--------------------+------------+------+---------+--------+---------------+\n",
            "|      1820|Vitor Hugo da Luz|108908|30031986|             179,...|00-0910-2646|400487|3.580.121|      21|033 - Santander|\n",
            "|      2275|      Ian Moreira|163362|20031983|             97,c...|00-1365-3969|400487|1.116.351|     208|033 - Santander|\n",
            "|      2730|     Nicole Silva|217816|26041989|             194,...|00-1820-5292|400487|  8954.32|     219|033 - Santander|\n",
            "|      3185|    Enrico Araújo|272270|18111982|             304,...|00-2275-6615|  null|6.986.852|      12|033 - Santander|\n",
            "|      3640|    Lara Nogueira|326724|29081988|             207,...|00-2730-7938|400487|6.358.743|     220|033 - Santander|\n",
            "+----------+-----------------+------+--------+--------------------+------------+------+---------+--------+---------------+\n",
            "only showing top 5 rows\n",
            "\n"
          ]
        }
      ]
    },
    {
      "cell_type": "markdown",
      "source": [
        "**.withColumn() e construção de colunas.**"
      ],
      "metadata": {
        "id": "_2jr77JoU62V"
      }
    },
    {
      "cell_type": "code",
      "source": [
        "df_cliente = df_cliente.withColumn(\n",
        "    'dt_nasci',\n",
        "    F.to_date(\n",
        "        F.col('dt_nasci'), format='ddMMyyyy')\n",
        "    )\n",
        "\n",
        "df_cliente.show(5)\n",
        "# 45min"
      ],
      "metadata": {
        "colab": {
          "base_uri": "https://localhost:8080/"
        },
        "id": "RvHtPgqLUnor",
        "outputId": "d77d2da5-a234-4222-a5a9-3327bae2fdbb"
      },
      "execution_count": null,
      "outputs": [
        {
          "output_type": "stream",
          "name": "stdout",
          "text": [
            "+----------+-----------------+------+----------+--------------------+------------+------+---------+--------+---------------+\n",
            "|cliente_id|       nm_cliente|nr_cpf|  dt_nasci|         complemento| nr_telefone|   cep|  salario|desconto|     banco_pgto|\n",
            "+----------+-----------------+------+----------+--------------------+------------+------+---------+--------+---------------+\n",
            "|      1820|Vitor Hugo da Luz|108908|1986-03-30|             179,...|00-0910-2646|400487|3.580.121|      21|033 - Santander|\n",
            "|      2275|      Ian Moreira|163362|1983-03-20|             97,c...|00-1365-3969|400487|1.116.351|     208|033 - Santander|\n",
            "|      2730|     Nicole Silva|217816|1989-04-26|             194,...|00-1820-5292|400487|  8954.32|     219|033 - Santander|\n",
            "|      3185|    Enrico Araújo|272270|1982-11-18|             304,...|00-2275-6615|  null|6.986.852|      12|033 - Santander|\n",
            "|      3640|    Lara Nogueira|326724|1988-08-29|             207,...|00-2730-7938|400487|6.358.743|     220|033 - Santander|\n",
            "+----------+-----------------+------+----------+--------------------+------------+------+---------+--------+---------------+\n",
            "only showing top 5 rows\n",
            "\n"
          ]
        }
      ]
    },
    {
      "cell_type": "markdown",
      "source": [
        "**Alterando o tipo de dados de uma coluna**"
      ],
      "metadata": {
        "id": "R_idvyhOWhHb"
      }
    },
    {
      "cell_type": "code",
      "source": [
        "df_cliente.printSchema()"
      ],
      "metadata": {
        "colab": {
          "base_uri": "https://localhost:8080/"
        },
        "id": "gr0jgex-VM-i",
        "outputId": "91da6149-bd9a-43a6-abcf-29f68a0cfb27"
      },
      "execution_count": null,
      "outputs": [
        {
          "output_type": "stream",
          "name": "stdout",
          "text": [
            "root\n",
            " |-- cliente_id: integer (nullable = true)\n",
            " |-- nm_cliente: string (nullable = true)\n",
            " |-- nr_cpf: integer (nullable = true)\n",
            " |-- dt_nasci: date (nullable = true)\n",
            " |-- complemento: string (nullable = true)\n",
            " |-- nr_telefone: string (nullable = true)\n",
            " |-- cep: integer (nullable = true)\n",
            " |-- salario: string (nullable = true)\n",
            " |-- desconto: integer (nullable = true)\n",
            " |-- banco_pgto: string (nullable = true)\n",
            "\n"
          ]
        }
      ]
    },
    {
      "cell_type": "markdown",
      "source": [
        ".cast(float)"
      ],
      "metadata": {
        "id": "2_SkByxOXqR7"
      }
    },
    {
      "cell_type": "code",
      "source": [
        "df_cliente = df_cliente.withColumn('salario', F.col('salario').cast('float'))\n",
        "df_cliente.show(5)\n",
        "\n",
        "# 48min"
      ],
      "metadata": {
        "colab": {
          "base_uri": "https://localhost:8080/"
        },
        "id": "Z2LhPJ2fWxHr",
        "outputId": "0bc1eeed-db32-47bf-a62b-80273d11542f"
      },
      "execution_count": null,
      "outputs": [
        {
          "output_type": "stream",
          "name": "stdout",
          "text": [
            "+----------+-----------------+------+----------+--------------------+------------+------+-------+--------+---------------+\n",
            "|cliente_id|       nm_cliente|nr_cpf|  dt_nasci|         complemento| nr_telefone|   cep|salario|desconto|     banco_pgto|\n",
            "+----------+-----------------+------+----------+--------------------+------------+------+-------+--------+---------------+\n",
            "|      1820|Vitor Hugo da Luz|108908|1986-03-30|             179,...|00-0910-2646|400487|   null|      21|033 - Santander|\n",
            "|      2275|      Ian Moreira|163362|1983-03-20|             97,c...|00-1365-3969|400487|   null|     208|033 - Santander|\n",
            "|      2730|     Nicole Silva|217816|1989-04-26|             194,...|00-1820-5292|400487|8954.32|     219|033 - Santander|\n",
            "|      3185|    Enrico Araújo|272270|1982-11-18|             304,...|00-2275-6615|  null|   null|      12|033 - Santander|\n",
            "|      3640|    Lara Nogueira|326724|1988-08-29|             207,...|00-2730-7938|400487|   null|     220|033 - Santander|\n",
            "+----------+-----------------+------+----------+--------------------+------------+------+-------+--------+---------------+\n",
            "only showing top 5 rows\n",
            "\n"
          ]
        }
      ]
    },
    {
      "cell_type": "code",
      "source": [
        "df_cliente.printSchema()"
      ],
      "metadata": {
        "colab": {
          "base_uri": "https://localhost:8080/"
        },
        "id": "fUhNWjnrXFRz",
        "outputId": "5192e32b-74fd-445b-ecb9-8e6760fd00f2"
      },
      "execution_count": null,
      "outputs": [
        {
          "output_type": "stream",
          "name": "stdout",
          "text": [
            "root\n",
            " |-- cliente_id: integer (nullable = true)\n",
            " |-- nm_cliente: string (nullable = true)\n",
            " |-- nr_cpf: integer (nullable = true)\n",
            " |-- dt_nasci: date (nullable = true)\n",
            " |-- complemento: string (nullable = true)\n",
            " |-- nr_telefone: string (nullable = true)\n",
            " |-- cep: integer (nullable = true)\n",
            " |-- salario: float (nullable = true)\n",
            " |-- desconto: integer (nullable = true)\n",
            " |-- banco_pgto: string (nullable = true)\n",
            "\n"
          ]
        }
      ]
    },
    {
      "cell_type": "code",
      "source": [
        "df_cliente = df_cliente.withColumn('desconto', F.col('desconto').cast('int'))\n",
        "df_cliente.show(5)\n",
        "# 52min"
      ],
      "metadata": {
        "colab": {
          "base_uri": "https://localhost:8080/"
        },
        "id": "I1QqjJv2X3gE",
        "outputId": "c70bd349-a181-42fb-8acd-4ec55bb27c32"
      },
      "execution_count": null,
      "outputs": [
        {
          "output_type": "stream",
          "name": "stdout",
          "text": [
            "+----------+-----------------+------+----------+--------------------+------------+------+-------+--------+---------------+\n",
            "|cliente_id|       nm_cliente|nr_cpf|  dt_nasci|         complemento| nr_telefone|   cep|salario|desconto|     banco_pgto|\n",
            "+----------+-----------------+------+----------+--------------------+------------+------+-------+--------+---------------+\n",
            "|      1820|Vitor Hugo da Luz|108908|1986-03-30|             179,...|00-0910-2646|400487|   null|      21|033 - Santander|\n",
            "|      2275|      Ian Moreira|163362|1983-03-20|             97,c...|00-1365-3969|400487|   null|     208|033 - Santander|\n",
            "|      2730|     Nicole Silva|217816|1989-04-26|             194,...|00-1820-5292|400487|8954.32|     219|033 - Santander|\n",
            "|      3185|    Enrico Araújo|272270|1982-11-18|             304,...|00-2275-6615|  null|   null|      12|033 - Santander|\n",
            "|      3640|    Lara Nogueira|326724|1988-08-29|             207,...|00-2730-7938|400487|   null|     220|033 - Santander|\n",
            "+----------+-----------------+------+----------+--------------------+------------+------+-------+--------+---------------+\n",
            "only showing top 5 rows\n",
            "\n"
          ]
        }
      ]
    },
    {
      "cell_type": "markdown",
      "source": [
        " **Agrupamento de um dataframe**"
      ],
      "metadata": {
        "id": "hCoNR9WEYeMR"
      }
    },
    {
      "cell_type": "markdown",
      "source": [
        ".groupBy"
      ],
      "metadata": {
        "id": "U7ICJOJWaroJ"
      }
    },
    {
      "cell_type": "code",
      "source": [
        "# 1:01min\n",
        "df_cliente.groupBy().count().show()  #retorna um dataframe"
      ],
      "metadata": {
        "colab": {
          "base_uri": "https://localhost:8080/"
        },
        "id": "Otza9iMUYNta",
        "outputId": "8ef5a27b-604f-42ba-bc7a-4490c4d979b9"
      },
      "execution_count": null,
      "outputs": [
        {
          "output_type": "stream",
          "name": "stdout",
          "text": [
            "+-----+\n",
            "|count|\n",
            "+-----+\n",
            "|   59|\n",
            "+-----+\n",
            "\n"
          ]
        }
      ]
    },
    {
      "cell_type": "code",
      "source": [
        "# 1:08min\n",
        "df_cliente.groupBy().count().take(1)[0][0]  #retorna uma linha numa lista"
      ],
      "metadata": {
        "colab": {
          "base_uri": "https://localhost:8080/"
        },
        "id": "tzfD0jrmaiz5",
        "outputId": "407379af-35b7-482f-dcab-d5f8a1992e6b"
      },
      "execution_count": null,
      "outputs": [
        {
          "output_type": "execute_result",
          "data": {
            "text/plain": [
              "59"
            ]
          },
          "metadata": {},
          "execution_count": 72
        }
      ]
    },
    {
      "cell_type": "markdown",
      "source": [
        "Soma()"
      ],
      "metadata": {
        "id": "BFiV4dIbd-dJ"
      }
    },
    {
      "cell_type": "code",
      "source": [
        "df_cliente.groupBy().sum('salario').take(1)[0][0] #retorna um dataframe"
      ],
      "metadata": {
        "colab": {
          "base_uri": "https://localhost:8080/"
        },
        "id": "nemFXVaWd9hZ",
        "outputId": "cee8cb46-fd53-48ce-ec79-de64fbfc7f5e"
      },
      "execution_count": null,
      "outputs": [
        {
          "output_type": "execute_result",
          "data": {
            "text/plain": [
              "18702.850463867188"
            ]
          },
          "metadata": {},
          "execution_count": 74
        }
      ]
    },
    {
      "cell_type": "markdown",
      "source": [
        "Media"
      ],
      "metadata": {
        "id": "z1MFG-UXegEk"
      }
    },
    {
      "cell_type": "code",
      "source": [
        "\n",
        "df_cliente.groupBy().avg('salario').take(1)[0][0] #retorna um dataframe"
      ],
      "metadata": {
        "colab": {
          "base_uri": "https://localhost:8080/"
        },
        "id": "X-ca_35GdSPU",
        "outputId": "e10b080f-063f-401a-f05d-fd49f2b0dd57"
      },
      "execution_count": null,
      "outputs": [
        {
          "output_type": "execute_result",
          "data": {
            "text/plain": [
              "6234.2834879557295"
            ]
          },
          "metadata": {},
          "execution_count": 75
        }
      ]
    },
    {
      "cell_type": "markdown",
      "source": [
        "**Trabalhando com agrupamentos com chave**"
      ],
      "metadata": {
        "id": "9vD4vQRnewan"
      }
    },
    {
      "cell_type": "code",
      "source": [
        "# 1:13min\n",
        "df_cliente.groupBy(F.col('banco_pgto')).count().show(5)"
      ],
      "metadata": {
        "colab": {
          "base_uri": "https://localhost:8080/"
        },
        "id": "UF_FXcLQe39w",
        "outputId": "29946b76-5df4-4ee1-92da-07a056ec3305"
      },
      "execution_count": null,
      "outputs": [
        {
          "output_type": "stream",
          "name": "stdout",
          "text": [
            "+---------------+-----+\n",
            "|     banco_pgto|count|\n",
            "+---------------+-----+\n",
            "|     341 - ITAU|   17|\n",
            "| 237 - bradesco|   27|\n",
            "|033 - Santander|   15|\n",
            "+---------------+-----+\n",
            "\n"
          ]
        }
      ]
    },
    {
      "cell_type": "code",
      "source": [
        "# 1:15min\n",
        "df_cliente.groupBy(F.col('banco_pgto')).avg('salario').show(5)\n"
      ],
      "metadata": {
        "colab": {
          "base_uri": "https://localhost:8080/"
        },
        "id": "g6_r9KhQfR9I",
        "outputId": "361c580b-e8f4-4fc5-e973-7ee2b221c14c"
      },
      "execution_count": null,
      "outputs": [
        {
          "output_type": "stream",
          "name": "stdout",
          "text": [
            "+---------------+------------------+\n",
            "|     banco_pgto|      avg(salario)|\n",
            "+---------------+------------------+\n",
            "|     341 - ITAU|  7818.68017578125|\n",
            "| 237 - bradesco|1929.8499755859375|\n",
            "|033 - Santander|      8954.3203125|\n",
            "+---------------+------------------+\n",
            "\n"
          ]
        }
      ]
    },
    {
      "cell_type": "code",
      "source": [
        "# 1:17min\n",
        "df_cliente.groupBy(F.col('banco_pgto')).sum('salario').show(5)"
      ],
      "metadata": {
        "colab": {
          "base_uri": "https://localhost:8080/"
        },
        "id": "UzOVfLJRfhv0",
        "outputId": "50f47ed4-f219-4d4e-d2d4-bdcf130ce8aa"
      },
      "execution_count": null,
      "outputs": [
        {
          "output_type": "stream",
          "name": "stdout",
          "text": [
            "+---------------+------------------+\n",
            "|     banco_pgto|      sum(salario)|\n",
            "+---------------+------------------+\n",
            "|     341 - ITAU|  7818.68017578125|\n",
            "| 237 - bradesco|1929.8499755859375|\n",
            "|033 - Santander|      8954.3203125|\n",
            "+---------------+------------------+\n",
            "\n"
          ]
        }
      ]
    },
    {
      "cell_type": "code",
      "source": [
        "# 1:18min\n",
        "df_cliente.groupBy(F.year('dt_nasci')).count().show()"
      ],
      "metadata": {
        "colab": {
          "base_uri": "https://localhost:8080/"
        },
        "id": "Yzs4CK01f4po",
        "outputId": "675f04b5-5d46-481d-e6dc-da5016229c9f"
      },
      "execution_count": null,
      "outputs": [
        {
          "output_type": "stream",
          "name": "stdout",
          "text": [
            "+--------------+-----+\n",
            "|year(dt_nasci)|count|\n",
            "+--------------+-----+\n",
            "|          1990|    5|\n",
            "|          1978|    2|\n",
            "|          1988|    2|\n",
            "|          1997|    5|\n",
            "|          1994|    6|\n",
            "|          1979|    1|\n",
            "|          1991|    1|\n",
            "|          1982|    3|\n",
            "|          1989|    4|\n",
            "|          1996|    5|\n",
            "|          1998|    2|\n",
            "|          1985|    1|\n",
            "|          1987|    1|\n",
            "|          1995|    3|\n",
            "|          1992|    3|\n",
            "|          1983|    6|\n",
            "|          2000|    1|\n",
            "|          1981|    1|\n",
            "|          1986|    3|\n",
            "|          1999|    4|\n",
            "+--------------+-----+\n",
            "\n"
          ]
        }
      ]
    },
    {
      "cell_type": "code",
      "source": [
        "# 1:18min\n",
        "df_cliente.groupBy(F.year('dt_nasci')).sum('desconto').show()"
      ],
      "metadata": {
        "colab": {
          "base_uri": "https://localhost:8080/"
        },
        "id": "ax6PoTakglho",
        "outputId": "cc2ae972-2b0e-47e6-88ec-99b7c8f66b81"
      },
      "execution_count": null,
      "outputs": [
        {
          "output_type": "stream",
          "name": "stdout",
          "text": [
            "+--------------+-------------+\n",
            "|year(dt_nasci)|sum(desconto)|\n",
            "+--------------+-------------+\n",
            "|          1990|          597|\n",
            "|          1978|          207|\n",
            "|          1988|          284|\n",
            "|          1997|          759|\n",
            "|          1994|          848|\n",
            "|          1979|           84|\n",
            "|          1991|          112|\n",
            "|          1982|          361|\n",
            "|          1989|          661|\n",
            "|          1996|          641|\n",
            "|          1998|          246|\n",
            "|          1985|          216|\n",
            "|          1987|           32|\n",
            "|          1995|          194|\n",
            "|          1992|          545|\n",
            "|          1983|          952|\n",
            "|          2000|          115|\n",
            "|          1981|            6|\n",
            "|          1986|          294|\n",
            "|          1999|          301|\n",
            "+--------------+-------------+\n",
            "\n"
          ]
        }
      ]
    },
    {
      "cell_type": "code",
      "source": [
        "# 1:20min\n",
        "df_cliente.groupBy(\n",
        "    F.year('dt_nasci'))\\\n",
        "    .agg(\n",
        "        F.count('*'),\n",
        "        F.sum('salario'),\n",
        "        F.avg('desconto'))\\\n",
        "    .show()"
      ],
      "metadata": {
        "colab": {
          "base_uri": "https://localhost:8080/"
        },
        "id": "7mIQFgxXg3g4",
        "outputId": "29959338-ad07-4cbe-afe1-1851d8fc652e"
      },
      "execution_count": null,
      "outputs": [
        {
          "output_type": "stream",
          "name": "stdout",
          "text": [
            "+--------------+--------+------------------+------------------+\n",
            "|year(dt_nasci)|count(1)|      sum(salario)|     avg(desconto)|\n",
            "+--------------+--------+------------------+------------------+\n",
            "|          1990|       5|              null|             119.4|\n",
            "|          1978|       2|  7818.68017578125|             103.5|\n",
            "|          1988|       2|              null|             142.0|\n",
            "|          1997|       5|              null|             151.8|\n",
            "|          1994|       6|              null|141.33333333333334|\n",
            "|          1979|       1|              null|              84.0|\n",
            "|          1991|       1|              null|             112.0|\n",
            "|          1982|       3|              null|120.33333333333333|\n",
            "|          1989|       4|      8954.3203125|            165.25|\n",
            "|          1996|       5|              null|             128.2|\n",
            "|          1998|       2|              null|             123.0|\n",
            "|          1985|       1|              null|             216.0|\n",
            "|          1987|       1|              null|              32.0|\n",
            "|          1995|       3|              null| 64.66666666666667|\n",
            "|          1992|       3|              null|181.66666666666666|\n",
            "|          1983|       6|              null|158.66666666666666|\n",
            "|          2000|       1|              null|             115.0|\n",
            "|          1981|       1|              null|               6.0|\n",
            "|          1986|       3|              null|              98.0|\n",
            "|          1999|       4|1929.8499755859375|             75.25|\n",
            "+--------------+--------+------------------+------------------+\n",
            "\n"
          ]
        }
      ]
    },
    {
      "cell_type": "markdown",
      "source": [
        "Renomeando colunas calculadas"
      ],
      "metadata": {
        "id": "R1lYd7mCiZYG"
      }
    },
    {
      "cell_type": "code",
      "source": [
        "# 1:26min\n",
        "df_cliente.groupBy(\n",
        "    F.year('dt_nasci').alias('year'))\\\n",
        "    .agg(\n",
        "        F.count('*').alias('count'),\n",
        "        F.sum('salario').alias('soma'),\n",
        "        F.avg('desconto').alias('media'))\\\n",
        "    .show()"
      ],
      "metadata": {
        "colab": {
          "base_uri": "https://localhost:8080/"
        },
        "id": "ZPB9h6QOiM7X",
        "outputId": "f35703c0-6092-4479-bb60-ce1aea4dcfd3"
      },
      "execution_count": null,
      "outputs": [
        {
          "output_type": "stream",
          "name": "stdout",
          "text": [
            "+----+-----+------------------+------------------+\n",
            "|year|count|              soma|             media|\n",
            "+----+-----+------------------+------------------+\n",
            "|1990|    5|              null|             119.4|\n",
            "|1978|    2|  7818.68017578125|             103.5|\n",
            "|1988|    2|              null|             142.0|\n",
            "|1997|    5|              null|             151.8|\n",
            "|1994|    6|              null|141.33333333333334|\n",
            "|1979|    1|              null|              84.0|\n",
            "|1991|    1|              null|             112.0|\n",
            "|1982|    3|              null|120.33333333333333|\n",
            "|1989|    4|      8954.3203125|            165.25|\n",
            "|1996|    5|              null|             128.2|\n",
            "|1998|    2|              null|             123.0|\n",
            "|1985|    1|              null|             216.0|\n",
            "|1987|    1|              null|              32.0|\n",
            "|1995|    3|              null| 64.66666666666667|\n",
            "|1992|    3|              null|181.66666666666666|\n",
            "|1983|    6|              null|158.66666666666666|\n",
            "|2000|    1|              null|             115.0|\n",
            "|1981|    1|              null|               6.0|\n",
            "|1986|    3|              null|              98.0|\n",
            "|1999|    4|1929.8499755859375|             75.25|\n",
            "+----+-----+------------------+------------------+\n",
            "\n"
          ]
        }
      ]
    },
    {
      "cell_type": "markdown",
      "source": [
        "ordernando um dataframe de forma ascendente"
      ],
      "metadata": {
        "id": "-GK0fS7njSLs"
      }
    },
    {
      "cell_type": "code",
      "source": [
        "# 1:33min\n",
        "df_cliente.orderBy(F.col('dt_nasci').asc()).show(5)"
      ],
      "metadata": {
        "colab": {
          "base_uri": "https://localhost:8080/"
        },
        "id": "7-a54UCAikOQ",
        "outputId": "b826b50f-7614-4a5e-c790-2532d72fa335"
      },
      "execution_count": null,
      "outputs": [
        {
          "output_type": "stream",
          "name": "stdout",
          "text": [
            "+----------+-------------------+-------+----------+--------------------+------------+------+-------+--------+---------------+\n",
            "|cliente_id|         nm_cliente| nr_cpf|  dt_nasci|         complemento| nr_telefone|   cep|salario|desconto|     banco_pgto|\n",
            "+----------+-------------------+-------+----------+--------------------+------------+------+-------+--------+---------------+\n",
            "|     21840|  João Pedro Moraes|2504884|1978-04-19|             344,...|02-0936-0858|931949|   null|      35| 237 - bradesco|\n",
            "|     14560|  João Vitor Farias|1633620|1978-10-13|             65,c...|01-3653-9690|  null|7818.68|     172|     341 - ITAU|\n",
            "|     18655|Davi Luiz Rodrigues|2123706|1979-05-30|             212,...|01-7750-1597|931949|   null|      84| 237 - bradesco|\n",
            "|     22295|      Laura Peixoto|2559338|1981-06-11|             313,...|02-1391-2181|931949|   null|       6| 237 - bradesco|\n",
            "|      6825|   Bárbara Nogueira| 707902|1982-02-14|             281,...|00-5916-7199|512496|   null|     124|033 - Santander|\n",
            "+----------+-------------------+-------+----------+--------------------+------------+------+-------+--------+---------------+\n",
            "only showing top 5 rows\n",
            "\n"
          ]
        }
      ]
    },
    {
      "cell_type": "code",
      "source": [
        "# 1:36min\n",
        "df_cliente.orderBy(F.col('dt_nasci').desc()).show(5)"
      ],
      "metadata": {
        "colab": {
          "base_uri": "https://localhost:8080/"
        },
        "id": "y0L2zXjqmLo_",
        "outputId": "35af89cc-486f-4ad6-d336-298a28d67d97"
      },
      "execution_count": null,
      "outputs": [
        {
          "output_type": "stream",
          "name": "stdout",
          "text": [
            "+----------+--------------------+-------+----------+--------------------+------------+------+-------+--------+--------------+\n",
            "|cliente_id|          nm_cliente| nr_cpf|  dt_nasci|         complemento| nr_telefone|   cep|salario|desconto|    banco_pgto|\n",
            "+----------+--------------------+-------+----------+--------------------+------------+------+-------+--------+--------------+\n",
            "|     24115|       Davi da Cunha|2777154|2000-05-27|             152,...|02-3211-7473|667061|   null|     115|237 - bradesco|\n",
            "|     22750|      Lucca Caldeira|2613792|1999-11-29|             104,...|02-1846-3504|931949|   null|      55|237 - bradesco|\n",
            "|     23205| Davi Lucca Nogueira|2668246|1999-11-29|             29,c...|02-2301-4827|667061|   null|     149|237 - bradesco|\n",
            "|     17290|Luiz Gustavo Cava...|1960344|1999-05-20|             164,...|01-6384-7628|931949|   null|       9|237 - bradesco|\n",
            "|     19110|       Joana da Mata|2178160|1999-04-11|             204,...|01-8205-2920|  null|1929.85|      88|237 - bradesco|\n",
            "+----------+--------------------+-------+----------+--------------------+------------+------+-------+--------+--------------+\n",
            "only showing top 5 rows\n",
            "\n"
          ]
        }
      ]
    },
    {
      "cell_type": "code",
      "source": [
        "# 1:37min\n",
        "df_cliente.orderBy(F.col('banco_pgto'),F.col('desconto').desc()).show(5)"
      ],
      "metadata": {
        "colab": {
          "base_uri": "https://localhost:8080/"
        },
        "id": "5IA_5IlDm3oh",
        "outputId": "fdefdd9c-cbce-4d1d-dd71-8820e539ca81"
      },
      "execution_count": null,
      "outputs": [
        {
          "output_type": "stream",
          "name": "stdout",
          "text": [
            "+----------+--------------+------+----------+--------------------+------------+------+-------+--------+---------------+\n",
            "|cliente_id|    nm_cliente|nr_cpf|  dt_nasci|         complemento| nr_telefone|   cep|salario|desconto|     banco_pgto|\n",
            "+----------+--------------+------+----------+--------------------+------------+------+-------+--------+---------------+\n",
            "|      7735|Caroline Pires|816810|1982-05-29|             78,c...|00-6826-9845|  null|   null|     225|033 - Santander|\n",
            "|      3640| Lara Nogueira|326724|1988-08-29|             207,...|00-2730-7938|400487|   null|     220|033 - Santander|\n",
            "|      2730|  Nicole Silva|217816|1989-04-26|             194,...|00-1820-5292|400487|8954.32|     219|033 - Santander|\n",
            "|      5005| Rafaela Viana|490086|1996-05-19|             66,c...|00-4096-1907|400487|   null|     214|033 - Santander|\n",
            "|      2275|   Ian Moreira|163362|1983-03-20|             97,c...|00-1365-3969|400487|   null|     208|033 - Santander|\n",
            "+----------+--------------+------+----------+--------------------+------------+------+-------+--------+---------------+\n",
            "only showing top 5 rows\n",
            "\n"
          ]
        }
      ]
    },
    {
      "cell_type": "markdown",
      "source": [
        "ordenando com colunas calculadas"
      ],
      "metadata": {
        "id": "kK2CX59FnysE"
      }
    },
    {
      "cell_type": "code",
      "source": [
        "# 1:41min\n",
        "df_cliente.orderBy(F.year('dt_nasci')).show(5)"
      ],
      "metadata": {
        "colab": {
          "base_uri": "https://localhost:8080/"
        },
        "id": "wUk7QIiznM6b",
        "outputId": "a5e0a2b1-a76d-40ff-95c0-84db84fd607e"
      },
      "execution_count": null,
      "outputs": [
        {
          "output_type": "stream",
          "name": "stdout",
          "text": [
            "+----------+-------------------+-------+----------+--------------------+------------+------+-------+--------+---------------+\n",
            "|cliente_id|         nm_cliente| nr_cpf|  dt_nasci|         complemento| nr_telefone|   cep|salario|desconto|     banco_pgto|\n",
            "+----------+-------------------+-------+----------+--------------------+------------+------+-------+--------+---------------+\n",
            "|     14560|  João Vitor Farias|1633620|1978-10-13|             65,c...|01-3653-9690|  null|7818.68|     172|     341 - ITAU|\n",
            "|     21840|  João Pedro Moraes|2504884|1978-04-19|             344,...|02-0936-0858|931949|   null|      35| 237 - bradesco|\n",
            "|     18655|Davi Luiz Rodrigues|2123706|1979-05-30|             212,...|01-7750-1597|931949|   null|      84| 237 - bradesco|\n",
            "|     22295|      Laura Peixoto|2559338|1981-06-11|             313,...|02-1391-2181|931949|   null|       6| 237 - bradesco|\n",
            "|      3185|      Enrico Araújo| 272270|1982-11-18|             304,...|00-2275-6615|  null|   null|      12|033 - Santander|\n",
            "+----------+-------------------+-------+----------+--------------------+------------+------+-------+--------+---------------+\n",
            "only showing top 5 rows\n",
            "\n"
          ]
        }
      ]
    },
    {
      "cell_type": "markdown",
      "source": [
        "**Join entre dataframes**"
      ],
      "metadata": {
        "id": "LCWzGYA7o9ZW"
      }
    },
    {
      "cell_type": "markdown",
      "source": [
        "left"
      ],
      "metadata": {
        "id": "2C11YPG_pEnN"
      }
    },
    {
      "cell_type": "code",
      "source": [
        "# 1:44min\n",
        "df_cliente.join(df_endereco, on=[F.col('cep') == F.col('cep_id')], how='left').show()"
      ],
      "metadata": {
        "colab": {
          "base_uri": "https://localhost:8080/"
        },
        "id": "oO8CaT11ofTv",
        "outputId": "02081755-48e1-4169-cd28-441fa722cc8e"
      },
      "execution_count": null,
      "outputs": [
        {
          "output_type": "stream",
          "name": "stdout",
          "text": [
            "+----------+--------------------+-------+----------+--------------------+------------+------+-------+--------+---------------+------+--------------+------+--------------+----+\n",
            "|cliente_id|          nm_cliente| nr_cpf|  dt_nasci|         complemento| nr_telefone|   cep|salario|desconto|     banco_pgto|cep_id|   nm_enredeco|bairro|        cidade|  UF|\n",
            "+----------+--------------------+-------+----------+--------------------+------------+------+-------+--------+---------------+------+--------------+------+--------------+----+\n",
            "|      1820|   Vitor Hugo da Luz| 108908|1986-03-30|             179,...|00-0910-2646|400487|   null|      21|033 - Santander|400487|av interlargos|centro|     São paulo|  SP|\n",
            "|      2275|         Ian Moreira| 163362|1983-03-20|             97,c...|00-1365-3969|400487|   null|     208|033 - Santander|400487|av interlargos|centro|     São paulo|  SP|\n",
            "|      2730|        Nicole Silva| 217816|1989-04-26|             194,...|00-1820-5292|400487|8954.32|     219|033 - Santander|400487|av interlargos|centro|     São paulo|  SP|\n",
            "|      3185|       Enrico Araújo| 272270|1982-11-18|             304,...|00-2275-6615|  null|   null|      12|033 - Santander|  null|          null|  null|          null|null|\n",
            "|      3640|       Lara Nogueira| 326724|1988-08-29|             207,...|00-2730-7938|400487|   null|     220|033 - Santander|400487|av interlargos|centro|     São paulo|  SP|\n",
            "|      4095|Carlos Eduardo da...| 381178|1997-01-15|             121,...|00-3185-9261|400487|   null|     149|033 - Santander|400487|av interlargos|centro|     São paulo|  SP|\n",
            "|      4550|     Larissa Correia| 435632|1997-07-15|             309,...|00-3641-0584|400487|   null|     164|033 - Santander|400487|av interlargos|centro|     São paulo|  SP|\n",
            "|      5005|       Rafaela Viana| 490086|1996-05-19|             66,c...|00-4096-1907|400487|   null|     214|033 - Santander|400487|av interlargos|centro|     São paulo|  SP|\n",
            "|      5460|       Raul Carvalho| 544540|1988-01-16|             333,...|00-4551-3230|  null|   null|      64|033 - Santander|  null|          null|  null|          null|null|\n",
            "|      5915|      Lorenzo Novaes| 598994|1983-05-25|             21,c...|00-5006-4553|512496|   null|     192|033 - Santander|512496| av copacabana|centro|Rio de Janeiro|  RJ|\n",
            "|      6370|      Alexia Ribeiro| 653448|1990-07-30|             291,...|00-5461-5876|512496|   null|      61|033 - Santander|512496| av copacabana|centro|Rio de Janeiro|  RJ|\n",
            "|      6825|    Bárbara Nogueira| 707902|1982-02-14|             281,...|00-5916-7199|512496|   null|     124|033 - Santander|512496| av copacabana|centro|Rio de Janeiro|  RJ|\n",
            "|      7280|   Stephany da Rocha| 762356|1989-07-26|             314,...|00-6371-8522|512496|   null|     103|033 - Santander|512496| av copacabana|centro|Rio de Janeiro|  RJ|\n",
            "|      7735|      Caroline Pires| 816810|1982-05-29|             78,c...|00-6826-9845|  null|   null|     225|033 - Santander|  null|          null|  null|          null|null|\n",
            "|      8190|        Kaique Jesus| 871264|1987-04-19|             260,...|00-7282-1168|  null|   null|      32|033 - Santander|  null|          null|  null|          null|null|\n",
            "|      8645|        Alice da Luz| 925718|1998-09-13|             142,...|00-7737-2491|  null|   null|     118|     341 - ITAU|  null|          null|  null|          null|null|\n",
            "|      9100|       Eduarda Costa| 980172|1983-07-15|             197,...|00-8192-3814|512496|   null|     151|     341 - ITAU|512496| av copacabana|centro|Rio de Janeiro|  RJ|\n",
            "|      9555|        Helena Souza|1034626|1995-09-22|             205,...|00-8647-5137|512496|   null|      33|     341 - ITAU|512496| av copacabana|centro|Rio de Janeiro|  RJ|\n",
            "|     10010|      Lorena Azevedo|1089080|1995-11-22|             325,...|00-9102-6460|512496|   null|     120|     341 - ITAU|512496| av copacabana|centro|Rio de Janeiro|  RJ|\n",
            "|     10465|Maria Vitória da ...|1143534|1996-10-28|             193,...|00-9557-7783|512496|   null|      25|     341 - ITAU|512496| av copacabana|centro|Rio de Janeiro|  RJ|\n",
            "+----------+--------------------+-------+----------+--------------------+------------+------+-------+--------+---------------+------+--------------+------+--------------+----+\n",
            "only showing top 20 rows\n",
            "\n"
          ]
        }
      ]
    },
    {
      "cell_type": "code",
      "source": [
        "df_cliente.count()"
      ],
      "metadata": {
        "colab": {
          "base_uri": "https://localhost:8080/"
        },
        "id": "pI1dtwJkqm1d",
        "outputId": "103b054c-d91f-42d7-cf9b-007d64ceb36f"
      },
      "execution_count": null,
      "outputs": [
        {
          "output_type": "execute_result",
          "data": {
            "text/plain": [
              "59"
            ]
          },
          "metadata": {},
          "execution_count": 108
        }
      ]
    },
    {
      "cell_type": "code",
      "source": [
        "# 1:44min\n",
        "df_cliente.join(df_endereco, on=[F.col('cep') == F.col('cep_id')], how='left').count()"
      ],
      "metadata": {
        "colab": {
          "base_uri": "https://localhost:8080/"
        },
        "id": "DCF7L14epM0_",
        "outputId": "dd34341e-0cd9-4abb-bda7-19934446035f"
      },
      "execution_count": null,
      "outputs": [
        {
          "output_type": "execute_result",
          "data": {
            "text/plain": [
              "59"
            ]
          },
          "metadata": {},
          "execution_count": 109
        }
      ]
    },
    {
      "cell_type": "markdown",
      "source": [
        "inner"
      ],
      "metadata": {
        "id": "G-7FXlhRrLPI"
      }
    },
    {
      "cell_type": "code",
      "source": [
        "# 1:44min\n",
        "df_cliente.join(df_endereco, on=[F.col('cep') == F.col('cep_id')], how='inner').show()"
      ],
      "metadata": {
        "colab": {
          "base_uri": "https://localhost:8080/"
        },
        "id": "RG1brGxcqt-O",
        "outputId": "c82d354c-1d59-42f8-e4a5-9ea7e5258fc2"
      },
      "execution_count": null,
      "outputs": [
        {
          "output_type": "stream",
          "name": "stdout",
          "text": [
            "+----------+--------------------+-------+----------+--------------------+------------+------+-------+--------+---------------+------+--------------------+----------+--------------+---+\n",
            "|cliente_id|          nm_cliente| nr_cpf|  dt_nasci|         complemento| nr_telefone|   cep|salario|desconto|     banco_pgto|cep_id|         nm_enredeco|    bairro|        cidade| UF|\n",
            "+----------+--------------------+-------+----------+--------------------+------------+------+-------+--------+---------------+------+--------------------+----------+--------------+---+\n",
            "|      1820|   Vitor Hugo da Luz| 108908|1986-03-30|             179,...|00-0910-2646|400487|   null|      21|033 - Santander|400487|      av interlargos|    centro|     São paulo| SP|\n",
            "|      2275|         Ian Moreira| 163362|1983-03-20|             97,c...|00-1365-3969|400487|   null|     208|033 - Santander|400487|      av interlargos|    centro|     São paulo| SP|\n",
            "|      2730|        Nicole Silva| 217816|1989-04-26|             194,...|00-1820-5292|400487|8954.32|     219|033 - Santander|400487|      av interlargos|    centro|     São paulo| SP|\n",
            "|      3640|       Lara Nogueira| 326724|1988-08-29|             207,...|00-2730-7938|400487|   null|     220|033 - Santander|400487|      av interlargos|    centro|     São paulo| SP|\n",
            "|      4095|Carlos Eduardo da...| 381178|1997-01-15|             121,...|00-3185-9261|400487|   null|     149|033 - Santander|400487|      av interlargos|    centro|     São paulo| SP|\n",
            "|      4550|     Larissa Correia| 435632|1997-07-15|             309,...|00-3641-0584|400487|   null|     164|033 - Santander|400487|      av interlargos|    centro|     São paulo| SP|\n",
            "|      5005|       Rafaela Viana| 490086|1996-05-19|             66,c...|00-4096-1907|400487|   null|     214|033 - Santander|400487|      av interlargos|    centro|     São paulo| SP|\n",
            "|      5915|      Lorenzo Novaes| 598994|1983-05-25|             21,c...|00-5006-4553|512496|   null|     192|033 - Santander|512496|       av copacabana|    centro|Rio de Janeiro| RJ|\n",
            "|      6370|      Alexia Ribeiro| 653448|1990-07-30|             291,...|00-5461-5876|512496|   null|      61|033 - Santander|512496|       av copacabana|    centro|Rio de Janeiro| RJ|\n",
            "|      6825|    Bárbara Nogueira| 707902|1982-02-14|             281,...|00-5916-7199|512496|   null|     124|033 - Santander|512496|       av copacabana|    centro|Rio de Janeiro| RJ|\n",
            "|      7280|   Stephany da Rocha| 762356|1989-07-26|             314,...|00-6371-8522|512496|   null|     103|033 - Santander|512496|       av copacabana|    centro|Rio de Janeiro| RJ|\n",
            "|      9100|       Eduarda Costa| 980172|1983-07-15|             197,...|00-8192-3814|512496|   null|     151|     341 - ITAU|512496|       av copacabana|    centro|Rio de Janeiro| RJ|\n",
            "|      9555|        Helena Souza|1034626|1995-09-22|             205,...|00-8647-5137|512496|   null|      33|     341 - ITAU|512496|       av copacabana|    centro|Rio de Janeiro| RJ|\n",
            "|     10010|      Lorena Azevedo|1089080|1995-11-22|             325,...|00-9102-6460|512496|   null|     120|     341 - ITAU|512496|       av copacabana|    centro|Rio de Janeiro| RJ|\n",
            "|     10465|Maria Vitória da ...|1143534|1996-10-28|             193,...|00-9557-7783|512496|   null|      25|     341 - ITAU|512496|       av copacabana|    centro|Rio de Janeiro| RJ|\n",
            "|     10920|     Bárbara Moreira|1197988|1989-08-27|             165,...|01-0012-9106|512496|   null|     111|     341 - ITAU|512496|       av copacabana|    centro|Rio de Janeiro| RJ|\n",
            "|     11375|           Nina Dias|1252442|1996-03-25|             135,...|01-0468-0429|512496|   null|     184|     341 - ITAU|512496|       av copacabana|    centro|Rio de Janeiro| RJ|\n",
            "|     11830|   Luiz Otávio Sales|1306896|1983-05-16|             38,c...|01-0923-1752|287560|   null|     155|     341 - ITAU|287560|rua governador va...|Vila zilda|     São paulo| SP|\n",
            "|     12740|Maria Sophia Martins|1415804|1994-03-29|             121,...|01-1833-4398|287560|   null|      44|     341 - ITAU|287560|rua governador va...|Vila zilda|     São paulo| SP|\n",
            "|     13195|      Caroline Cunha|1470258|1997-01-31|             307,...|01-2288-5721|287560|   null|     186|     341 - ITAU|287560|rua governador va...|Vila zilda|     São paulo| SP|\n",
            "+----------+--------------------+-------+----------+--------------------+------------+------+-------+--------+---------------+------+--------------------+----------+--------------+---+\n",
            "only showing top 20 rows\n",
            "\n"
          ]
        }
      ]
    },
    {
      "cell_type": "code",
      "source": [
        "# 1:44min\n",
        "df_cliente.join(df_endereco, on=[F.col('cep') == F.col('cep_id')], how='inner').count()"
      ],
      "metadata": {
        "colab": {
          "base_uri": "https://localhost:8080/"
        },
        "id": "QsC3VZYbqyKm",
        "outputId": "4021b969-f2da-4bd0-9a60-88ba76fab91a"
      },
      "execution_count": null,
      "outputs": [
        {
          "output_type": "execute_result",
          "data": {
            "text/plain": [
              "50"
            ]
          },
          "metadata": {},
          "execution_count": 113
        }
      ]
    },
    {
      "cell_type": "markdown",
      "source": [
        "right"
      ],
      "metadata": {
        "id": "XjKlqLi7rN2t"
      }
    },
    {
      "cell_type": "code",
      "source": [
        "# 1:44min\n",
        "df_cliente.join(df_endereco, on=[F.col('cep') == F.col('cep_id')], how='right').show()"
      ],
      "metadata": {
        "colab": {
          "base_uri": "https://localhost:8080/"
        },
        "id": "FMUWiH3vq9Sv",
        "outputId": "9d6a64fd-680c-48a7-fc51-3986fd1946d3"
      },
      "execution_count": null,
      "outputs": [
        {
          "output_type": "stream",
          "name": "stdout",
          "text": [
            "+----------+--------------------+-------+----------+--------------------+------------+------+-------+--------+---------------+------+--------------------+------+--------------+---+\n",
            "|cliente_id|          nm_cliente| nr_cpf|  dt_nasci|         complemento| nr_telefone|   cep|salario|desconto|     banco_pgto|cep_id|         nm_enredeco|bairro|        cidade| UF|\n",
            "+----------+--------------------+-------+----------+--------------------+------------+------+-------+--------+---------------+------+--------------------+------+--------------+---+\n",
            "|      null|                null|   null|      null|                null|        null|  null|   null|    null|           null|305095| av jucelino cursino|centro|     São paulo| SP|\n",
            "|      null|                null|   null|      null|                null|        null|  null|   null|    null|           null|303989|           av brasil|centro|     São paulo| SP|\n",
            "|      5005|       Rafaela Viana| 490086|1996-05-19|             66,c...|00-4096-1907|400487|   null|     214|033 - Santander|400487|      av interlargos|centro|     São paulo| SP|\n",
            "|      4550|     Larissa Correia| 435632|1997-07-15|             309,...|00-3641-0584|400487|   null|     164|033 - Santander|400487|      av interlargos|centro|     São paulo| SP|\n",
            "|      4095|Carlos Eduardo da...| 381178|1997-01-15|             121,...|00-3185-9261|400487|   null|     149|033 - Santander|400487|      av interlargos|centro|     São paulo| SP|\n",
            "|      3640|       Lara Nogueira| 326724|1988-08-29|             207,...|00-2730-7938|400487|   null|     220|033 - Santander|400487|      av interlargos|centro|     São paulo| SP|\n",
            "|      2730|        Nicole Silva| 217816|1989-04-26|             194,...|00-1820-5292|400487|8954.32|     219|033 - Santander|400487|      av interlargos|centro|     São paulo| SP|\n",
            "|      2275|         Ian Moreira| 163362|1983-03-20|             97,c...|00-1365-3969|400487|   null|     208|033 - Santander|400487|      av interlargos|centro|     São paulo| SP|\n",
            "|      1820|   Vitor Hugo da Luz| 108908|1986-03-30|             179,...|00-0910-2646|400487|   null|      21|033 - Santander|400487|      av interlargos|centro|     São paulo| SP|\n",
            "|     11375|           Nina Dias|1252442|1996-03-25|             135,...|01-0468-0429|512496|   null|     184|     341 - ITAU|512496|       av copacabana|centro|Rio de Janeiro| RJ|\n",
            "|     10920|     Bárbara Moreira|1197988|1989-08-27|             165,...|01-0012-9106|512496|   null|     111|     341 - ITAU|512496|       av copacabana|centro|Rio de Janeiro| RJ|\n",
            "|     10465|Maria Vitória da ...|1143534|1996-10-28|             193,...|00-9557-7783|512496|   null|      25|     341 - ITAU|512496|       av copacabana|centro|Rio de Janeiro| RJ|\n",
            "|     10010|      Lorena Azevedo|1089080|1995-11-22|             325,...|00-9102-6460|512496|   null|     120|     341 - ITAU|512496|       av copacabana|centro|Rio de Janeiro| RJ|\n",
            "|      9555|        Helena Souza|1034626|1995-09-22|             205,...|00-8647-5137|512496|   null|      33|     341 - ITAU|512496|       av copacabana|centro|Rio de Janeiro| RJ|\n",
            "|      9100|       Eduarda Costa| 980172|1983-07-15|             197,...|00-8192-3814|512496|   null|     151|     341 - ITAU|512496|       av copacabana|centro|Rio de Janeiro| RJ|\n",
            "|      7280|   Stephany da Rocha| 762356|1989-07-26|             314,...|00-6371-8522|512496|   null|     103|033 - Santander|512496|       av copacabana|centro|Rio de Janeiro| RJ|\n",
            "|      6825|    Bárbara Nogueira| 707902|1982-02-14|             281,...|00-5916-7199|512496|   null|     124|033 - Santander|512496|       av copacabana|centro|Rio de Janeiro| RJ|\n",
            "|      6370|      Alexia Ribeiro| 653448|1990-07-30|             291,...|00-5461-5876|512496|   null|      61|033 - Santander|512496|       av copacabana|centro|Rio de Janeiro| RJ|\n",
            "|      5915|      Lorenzo Novaes| 598994|1983-05-25|             21,c...|00-5006-4553|512496|   null|     192|033 - Santander|512496|       av copacabana|centro|Rio de Janeiro| RJ|\n",
            "|      null|                null|   null|      null|                null|        null|  null|   null|    null|           null|965268|rua dom pedro pri...|centro|     São paulo| SP|\n",
            "+----------+--------------------+-------+----------+--------------------+------------+------+-------+--------+---------------+------+--------------------+------+--------------+---+\n",
            "only showing top 20 rows\n",
            "\n"
          ]
        }
      ]
    },
    {
      "cell_type": "code",
      "source": [
        "df_cliente.join(df_endereco, on=[F.col('cep') == F.col('cep_id')], how='right').count()"
      ],
      "metadata": {
        "colab": {
          "base_uri": "https://localhost:8080/"
        },
        "id": "bcAt5dGMrZ7Z",
        "outputId": "fe52d744-cff0-47ae-e645-0b61750d1bbf"
      },
      "execution_count": null,
      "outputs": [
        {
          "output_type": "execute_result",
          "data": {
            "text/plain": [
              "60"
            ]
          },
          "metadata": {},
          "execution_count": 115
        }
      ]
    },
    {
      "cell_type": "markdown",
      "source": [
        "# **5.2 Aprendendo Metodos de DataFrame - Parte 2**"
      ],
      "metadata": {
        "id": "fJQL3IzFr8ki"
      }
    },
    {
      "cell_type": "code",
      "source": [
        "# 8min\n",
        "\n",
        "spark = SparkSession.builder\\\n",
        "        .config('spark.jars', '/content/spark-3.4.3-bin-hadoop3/jars/sqlite-jdbc-3.44.0.jar')\\\n",
        "        .appName('groupBy-Join')\\\n",
        "        .master('local')\\\n",
        "        .getOrCreate();"
      ],
      "metadata": {
        "id": "-Ap7eLAhsCg0"
      },
      "execution_count": null,
      "outputs": []
    },
    {
      "cell_type": "markdown",
      "source": [
        "Leitura dos dataframes JDBC"
      ],
      "metadata": {
        "id": "hPimnu0YVHp3"
      }
    },
    {
      "cell_type": "code",
      "source": [
        "driver = \"org.sqlite.JDBC\"\n",
        "path = \"content/sample_data/Chinook.db\"\n",
        "url = \"jdbc:sqlite:\" + path\n",
        "tablename = \"Customer\"\n",
        "dbDataFrame = spark.read.format(\"jdbc\").option(\"url\", url)\\\n",
        ".option(\"dbtable\", tablename).option(\"driver\", driver).load()"
      ],
      "metadata": {
        "id": "hJ1_PWGIhe9V"
      },
      "execution_count": null,
      "outputs": []
    },
    {
      "cell_type": "code",
      "source": [
        "spark.read.jdbc(properties={'driver':'org.sqlite.JDBC'}, url='jdbc:sqlite:/content/sample_data/Chinook.db', table='Customer').show()"
      ],
      "metadata": {
        "id": "XH5b4woiVKyS"
      },
      "execution_count": null,
      "outputs": []
    },
    {
      "cell_type": "markdown",
      "source": [
        "Exemplo de join()"
      ],
      "metadata": {
        "id": "lCrWs-zihVxC"
      }
    },
    {
      "cell_type": "code",
      "source": [
        "df = df1.join(df2, on='cliente_id', how='inner')\\\n",
        "        .join(df3, on='id_pedido', how='left').show(5)"
      ],
      "metadata": {
        "id": "wTRa_2y8hLX5"
      },
      "execution_count": null,
      "outputs": []
    },
    {
      "cell_type": "markdown",
      "source": [
        "verificar a quantidade de produtos comprados por cada cliente"
      ],
      "metadata": {
        "id": "zEl7w5vBgqYt"
      }
    },
    {
      "cell_type": "code",
      "source": [
        "# 54min\n",
        "df_cliente.join(df_vendas, on='cliente_id', how='inner')\\\n",
        "        .join(df3, on='id_pedido', how='left')\\\n",
        "        .groupBy(F.col('cliente_id')).count()"
      ],
      "metadata": {
        "id": "9eGA3Z2fTJNe"
      },
      "execution_count": null,
      "outputs": []
    },
    {
      "cell_type": "markdown",
      "source": [
        "Elencar do maior pro menor"
      ],
      "metadata": {
        "id": "1AeR57hYiasb"
      }
    },
    {
      "cell_type": "code",
      "source": [
        "# 1:05min\n",
        "df_cliente.join(df_vendas, on='cliente_id', how='inner')\\\n",
        "        .join(df3, on='id_pedido', how='left')\\\n",
        "        .groupBy(F.col('cliente_id'))\\\n",
        "        .agg(F.count('*').alias('qnt'), F.sum('vlr_vendas').alias('sum'))\\\n",
        "        .orderBy(F.col('qnt').desc()).show()"
      ],
      "metadata": {
        "id": "2v8sbvwgihY0"
      },
      "execution_count": null,
      "outputs": []
    },
    {
      "cell_type": "markdown",
      "source": [
        "verificar qtde tipo de pgto e soma"
      ],
      "metadata": {
        "id": "aNJr4Extjmzd"
      }
    },
    {
      "cell_type": "code",
      "source": [
        "# 1:15min\n",
        "df_vendas.groupyBy(F.col('forma_pgto')).agg(F.count('*'), F.sum('vlr_total').alias('sum')).show()"
      ],
      "metadata": {
        "id": "lJB5EU4FjshQ"
      },
      "execution_count": null,
      "outputs": []
    },
    {
      "cell_type": "markdown",
      "source": [
        "Qtde clientes por bairro"
      ],
      "metadata": {
        "id": "UaaDSJzgkWlu"
      }
    },
    {
      "cell_type": "code",
      "source": [
        "df_clientes\\\n",
        "  .join(df_endereco,\n",
        "        on=[dfclientes['cep_id'] == df_endereco['cep']],\n",
        "        how='left')\\\n",
        "  .groupBy(F.col('bairro')).count().show()"
      ],
      "metadata": {
        "id": "bVz5x6ZzkabG"
      },
      "execution_count": null,
      "outputs": []
    },
    {
      "cell_type": "markdown",
      "source": [
        "Verificar metodos de pagamentos distintos"
      ],
      "metadata": {
        "id": "6n0LdnrTOy-L"
      }
    },
    {
      "cell_type": "code",
      "source": [
        "df_endereco.select('bairro').distinct()"
      ],
      "metadata": {
        "id": "b7pK2J2pO6Lr"
      },
      "execution_count": null,
      "outputs": []
    },
    {
      "cell_type": "code",
      "source": [
        "df_vendas.select('forma_pgto').distinct().show()"
      ],
      "metadata": {
        "id": "2JO9xGWkqyYF"
      },
      "execution_count": null,
      "outputs": []
    },
    {
      "cell_type": "markdown",
      "source": [
        "# **6. Booleanos em colunas**\n",
        "\n"
      ],
      "metadata": {
        "id": "DGiNhtb6083G"
      }
    },
    {
      "cell_type": "markdown",
      "source": [
        "# **6.1 Booleanos**"
      ],
      "metadata": {
        "id": "LXsdMzHzGrZh"
      }
    },
    {
      "cell_type": "code",
      "source": [
        "# instalar as dependencias\n",
        "# baixar a versão mais recente do java8;\n",
        "!apt-get install openjdk-8-jdk-headless -qq > /dev/null\n",
        "#download via stp do hadoop\n",
        "!wget -q https://dlcdn.apache.org/spark/spark-3.4.3/spark-3.4.3-bin-hadoop3.tgz\n",
        "!tar xf spark-3.4.3-bin-hadoop3.tgz\n",
        "# instalar o Findspark\n",
        "!pip install -q findspark"
      ],
      "metadata": {
        "id": "9QoaqW2T1LKh"
      },
      "execution_count": null,
      "outputs": []
    },
    {
      "cell_type": "code",
      "source": [
        "import os\n",
        "os.environ[\"JAVA_HOME\"] = \"/usr/lib/jvm/java-8-openjdk-amd64\"\n",
        "os.environ[\"SPARK_HOME\"] = \"/content/sample_data/spark-3.4.3-bin-hadoop3\"\n",
        "\n",
        "# utilizando findspark para que o spark seja \"importavel\"\n",
        "import findspark\n",
        "findspark.init('spark-3.4.3-bin-hadoop3')"
      ],
      "metadata": {
        "id": "IjNLSYzL1VED"
      },
      "execution_count": null,
      "outputs": []
    },
    {
      "cell_type": "markdown",
      "source": [
        "spark Session"
      ],
      "metadata": {
        "id": "HxRtMXtR1Ykf"
      }
    },
    {
      "cell_type": "code",
      "source": [
        "# 8min\n",
        "# SparkSession\n",
        "from pyspark.sql import SparkSession\n",
        "# Funções de colunas\n",
        "from pyspark.sql import functions as F\n",
        "\n",
        "# Subir o arquivos jdbc na pasta jars do spark e subir o arquivo vendas.db.\n",
        "spark = SparkSession.builder\\\n",
        "  .config('spark.jars', '/content/spark-3.4.3-bin-hadoop3/jars/sqlite-jdbc-3.34.0.jar')\\\n",
        "  .appName('aula5').master('local').getOrCreate();"
      ],
      "metadata": {
        "id": "vPEbk6aH1b4F"
      },
      "execution_count": null,
      "outputs": []
    },
    {
      "cell_type": "markdown",
      "source": [
        "Booleanos no python"
      ],
      "metadata": {
        "id": "fy7tkEkmoEd8"
      }
    },
    {
      "cell_type": "code",
      "source": [
        "# 23min\n",
        "df_customer = spark.read.jdbc(\n",
        "    properties={'driver':'org.sqlite.JDBC'},\n",
        "    url='jdbc:sqlite:/content/sample_data/Chinook.db',\n",
        "    table='Customer')\n",
        "\n",
        "df_customer.show(5)"
      ],
      "metadata": {
        "id": "_inCLATVAo3o",
        "colab": {
          "base_uri": "https://localhost:8080/"
        },
        "outputId": "251cc125-c8ff-44e5-a934-ae5482574d2c"
      },
      "execution_count": null,
      "outputs": [
        {
          "output_type": "stream",
          "name": "stdout",
          "text": [
            "+----------+---------+-----------+--------------------+--------------------+-------------------+-----+--------------+----------+------------------+------------------+--------------------+------------+\n",
            "|CustomerId|FirstName|   LastName|             Company|             Address|               City|State|       Country|PostalCode|             Phone|               Fax|               Email|SupportRepId|\n",
            "+----------+---------+-----------+--------------------+--------------------+-------------------+-----+--------------+----------+------------------+------------------+--------------------+------------+\n",
            "|         1|     Luís|  Gonçalves|Embraer - Empresa...|Av. Brigadeiro Fa...|São José dos Campos|   SP|        Brazil| 12227-000|+55 (12) 3923-5555|+55 (12) 3923-5566|luisg@embraer.com.br|           3|\n",
            "|         2|   Leonie|     Köhler|                null|Theodor-Heuss-Str...|          Stuttgart| null|       Germany|     70174|  +49 0711 2842222|              null|leonekohler@surfe...|           5|\n",
            "|         3| François|   Tremblay|                null|   1498 rue Bélanger|           Montréal|   QC|        Canada|   H2G 1A7| +1 (514) 721-4711|              null| ftremblay@gmail.com|           3|\n",
            "|         4|    Bjørn|     Hansen|                null|    Ullevålsveien 14|               Oslo| null|        Norway|      0171|   +47 22 44 22 22|              null|bjorn.hansen@yaho...|           4|\n",
            "|         5|František|Wichterlová|    JetBrains s.r.o.|       Klanova 9/506|             Prague| null|Czech Republic|     14700|  +420 2 4172 5555|  +420 2 4172 5555|frantisekw@jetbra...|           4|\n",
            "+----------+---------+-----------+--------------------+--------------------+-------------------+-----+--------------+----------+------------------+------------------+--------------------+------------+\n",
            "only showing top 5 rows\n",
            "\n"
          ]
        }
      ]
    },
    {
      "cell_type": "code",
      "source": [
        "# 29min\n",
        "df_genre = spark.read.jdbc(\n",
        "    properties={'driver':'org.sqlite.JDBC'},\n",
        "    url='jdbc:sqlite:/content/sample_data/Chinook.db',\n",
        "    table='Genre')\n",
        "\n",
        "df_genre.show(5)"
      ],
      "metadata": {
        "colab": {
          "base_uri": "https://localhost:8080/"
        },
        "id": "O3CTaSt6HYBh",
        "outputId": "a0decde5-8a8f-4e17-af18-cbc1e541ac22"
      },
      "execution_count": null,
      "outputs": [
        {
          "output_type": "stream",
          "name": "stdout",
          "text": [
            "+-------+------------------+\n",
            "|GenreId|              Name|\n",
            "+-------+------------------+\n",
            "|      1|              Rock|\n",
            "|      2|              Jazz|\n",
            "|      3|             Metal|\n",
            "|      4|Alternative & Punk|\n",
            "|      5|     Rock And Roll|\n",
            "+-------+------------------+\n",
            "only showing top 5 rows\n",
            "\n"
          ]
        }
      ]
    },
    {
      "cell_type": "markdown",
      "source": [
        "Explessão basica usando booleano"
      ],
      "metadata": {
        "id": "rrGIqBugI6I7"
      }
    },
    {
      "cell_type": "code",
      "source": [
        "df_customer.select (\n",
        "    F.col('Phone'),\n",
        "    F.col('Fax'),\n",
        "    (\n",
        "        F.col('Phone') == F.col('Fax')\n",
        "    ).alias('bool')\n",
        ").show(10)"
      ],
      "metadata": {
        "colab": {
          "base_uri": "https://localhost:8080/"
        },
        "id": "3d7Ko-ZWI51F",
        "outputId": "1213d905-41bc-4527-8b02-680eb37e25af"
      },
      "execution_count": null,
      "outputs": [
        {
          "output_type": "stream",
          "name": "stdout",
          "text": [
            "+------------------+------------------+-----+\n",
            "|             Phone|               Fax| bool|\n",
            "+------------------+------------------+-----+\n",
            "|+55 (12) 3923-5555|+55 (12) 3923-5566|false|\n",
            "|  +49 0711 2842222|              null| null|\n",
            "| +1 (514) 721-4711|              null| null|\n",
            "|   +47 22 44 22 22|              null| null|\n",
            "|  +420 2 4172 5555|  +420 2 4172 5555| true|\n",
            "|  +420 2 4177 0449|              null| null|\n",
            "|    +43 01 5134505|              null| null|\n",
            "|  +32 02 219 03 03|              null| null|\n",
            "|    +453 3331 9991|              null| null|\n",
            "|+55 (11) 3033-5446|+55 (11) 3033-4564|false|\n",
            "+------------------+------------------+-----+\n",
            "only showing top 10 rows\n",
            "\n"
          ]
        }
      ]
    },
    {
      "cell_type": "markdown",
      "source": [
        "Composto"
      ],
      "metadata": {
        "id": "R9Tpxu5fKTiR"
      }
    },
    {
      "cell_type": "code",
      "source": [
        "df_customer.select (\n",
        "    F.col('Phone'),\n",
        "    F.col('Fax'),\n",
        "    (\n",
        "        (\n",
        "            F.col('Phone') == F.col('Fax')\n",
        "        ) & (\n",
        "            F.col('Phone') != F.col('Fax')\n",
        "        )\n",
        "    ).alias('bool_and'),\n",
        "    (\n",
        "        (\n",
        "            F.col('Phone') == F.col('Fax')\n",
        "        ) | (\n",
        "            F.col('Phone') != F.col('Fax')\n",
        "        )\n",
        "    ).alias('bool_or')\n",
        ").show(10)"
      ],
      "metadata": {
        "colab": {
          "base_uri": "https://localhost:8080/"
        },
        "id": "Oh6CDxbKJqHb",
        "outputId": "1262f37c-49ba-4188-cc90-5a156ec86c0b"
      },
      "execution_count": null,
      "outputs": [
        {
          "output_type": "stream",
          "name": "stdout",
          "text": [
            "+------------------+------------------+--------+-------+\n",
            "|             Phone|               Fax|bool_and|bool_or|\n",
            "+------------------+------------------+--------+-------+\n",
            "|+55 (12) 3923-5555|+55 (12) 3923-5566|   false|   true|\n",
            "|  +49 0711 2842222|              null|    null|   null|\n",
            "| +1 (514) 721-4711|              null|    null|   null|\n",
            "|   +47 22 44 22 22|              null|    null|   null|\n",
            "|  +420 2 4172 5555|  +420 2 4172 5555|   false|   true|\n",
            "|  +420 2 4177 0449|              null|    null|   null|\n",
            "|    +43 01 5134505|              null|    null|   null|\n",
            "|  +32 02 219 03 03|              null|    null|   null|\n",
            "|    +453 3331 9991|              null|    null|   null|\n",
            "|+55 (11) 3033-5446|+55 (11) 3033-4564|   false|   true|\n",
            "+------------------+------------------+--------+-------+\n",
            "only showing top 10 rows\n",
            "\n"
          ]
        }
      ]
    },
    {
      "cell_type": "markdown",
      "source": [
        "metodo booleanos dentro do objeto F"
      ],
      "metadata": {
        "id": "wniQYsuOLo4s"
      }
    },
    {
      "cell_type": "markdown",
      "source": [
        "between"
      ],
      "metadata": {
        "id": "KpKv5n_JL1Ot"
      }
    },
    {
      "cell_type": "code",
      "source": [
        "# 40min\n",
        "help(F.col('').between)"
      ],
      "metadata": {
        "colab": {
          "base_uri": "https://localhost:8080/"
        },
        "id": "agkqys6eLwzz",
        "outputId": "2dadb92e-98b5-4b0c-8648-111129407604"
      },
      "execution_count": null,
      "outputs": [
        {
          "output_type": "stream",
          "name": "stdout",
          "text": [
            "Help on method between in module pyspark.sql.column:\n",
            "\n",
            "between(lowerBound: Union[ForwardRef('Column'), ForwardRef('LiteralType'), ForwardRef('DateTimeLiteral'), ForwardRef('DecimalLiteral')], upperBound: Union[ForwardRef('Column'), ForwardRef('LiteralType'), ForwardRef('DateTimeLiteral'), ForwardRef('DecimalLiteral')]) -> 'Column' method of pyspark.sql.column.Column instance\n",
            "    True if the current column is between the lower bound and upper bound, inclusive.\n",
            "    \n",
            "    .. versionadded:: 1.3.0\n",
            "    \n",
            "    .. versionchanged:: 3.4.0\n",
            "        Supports Spark Connect.\n",
            "    \n",
            "    Parameters\n",
            "    ----------\n",
            "    lowerBound : :class:`Column`, int, float, string, bool, datetime, date or Decimal\n",
            "        a boolean expression that boundary start, inclusive.\n",
            "    upperBound : :class:`Column`, int, float, string, bool, datetime, date or Decimal\n",
            "        a boolean expression that boundary end, inclusive.\n",
            "    \n",
            "    Returns\n",
            "    -------\n",
            "    :class:`Column`\n",
            "        Column of booleans showing whether each element of Column\n",
            "        is between left and right (inclusive).\n",
            "    \n",
            "    Examples\n",
            "    --------\n",
            "    >>> df = spark.createDataFrame(\n",
            "    ...      [(2, \"Alice\"), (5, \"Bob\")], [\"age\", \"name\"])\n",
            "    >>> df.select(df.name, df.age.between(2, 4)).show()\n",
            "    +-----+---------------------------+\n",
            "    | name|((age >= 2) AND (age <= 4))|\n",
            "    +-----+---------------------------+\n",
            "    |Alice|                       true|\n",
            "    |  Bob|                      false|\n",
            "    +-----+---------------------------+\n",
            "\n"
          ]
        }
      ]
    },
    {
      "cell_type": "code",
      "source": [
        "# 57min\n",
        "df_customer.select(\n",
        "    F.col('SupportRepId'),\n",
        "    F.col('SupportRepId').between(1,2)\n",
        ").show()\n",
        "\n"
      ],
      "metadata": {
        "colab": {
          "base_uri": "https://localhost:8080/"
        },
        "id": "spPhV3TfL3pO",
        "outputId": "688df577-c4a2-4fed-bd94-752d63abab85"
      },
      "execution_count": null,
      "outputs": [
        {
          "output_type": "stream",
          "name": "stdout",
          "text": [
            "+------------+---------------------------------------------+\n",
            "|SupportRepId|((SupportRepId >= 1) AND (SupportRepId <= 2))|\n",
            "+------------+---------------------------------------------+\n",
            "|           3|                                        false|\n",
            "|           3|                                        false|\n",
            "|           3|                                        false|\n",
            "|           3|                                        false|\n",
            "|           3|                                        false|\n",
            "|           3|                                        false|\n",
            "|           3|                                        false|\n",
            "|           3|                                        false|\n",
            "|           3|                                        false|\n",
            "|           3|                                        false|\n",
            "|           3|                                        false|\n",
            "|           3|                                        false|\n",
            "|           3|                                        false|\n",
            "|           3|                                        false|\n",
            "|           3|                                        false|\n",
            "|           3|                                        false|\n",
            "|           3|                                        false|\n",
            "|           3|                                        false|\n",
            "|           3|                                        false|\n",
            "|           3|                                        false|\n",
            "+------------+---------------------------------------------+\n",
            "only showing top 20 rows\n",
            "\n"
          ]
        }
      ]
    },
    {
      "cell_type": "markdown",
      "source": [
        "contains"
      ],
      "metadata": {
        "id": "bWVmHem9UyMP"
      }
    },
    {
      "cell_type": "code",
      "source": [
        "# 1:15min\n",
        "df_customer.select(\n",
        "    F.col('FirstName'),\n",
        "    F.col('FirstName').contains('a').alias('contem_a')\n",
        ").show(5)"
      ],
      "metadata": {
        "colab": {
          "base_uri": "https://localhost:8080/"
        },
        "id": "C9fWqK5zM8yZ",
        "outputId": "d134b696-4d71-409f-9b23-a80881592ea8"
      },
      "execution_count": null,
      "outputs": [
        {
          "output_type": "stream",
          "name": "stdout",
          "text": [
            "+---------+--------+\n",
            "|FirstName|contem_a|\n",
            "+---------+--------+\n",
            "|     Luís|   false|\n",
            "|   Leonie|   false|\n",
            "| François|    true|\n",
            "|    Bjørn|   false|\n",
            "|František|    true|\n",
            "+---------+--------+\n",
            "only showing top 5 rows\n",
            "\n"
          ]
        }
      ]
    },
    {
      "cell_type": "markdown",
      "source": [
        "isNull ou isnotNull"
      ],
      "metadata": {
        "id": "2MD6SNGwV6cK"
      }
    },
    {
      "cell_type": "code",
      "source": [
        "df_customer.show(10)"
      ],
      "metadata": {
        "colab": {
          "base_uri": "https://localhost:8080/"
        },
        "id": "O4nDPihYE5aJ",
        "outputId": "fe867514-727e-4602-91e6-054988e384e5"
      },
      "execution_count": null,
      "outputs": [
        {
          "output_type": "stream",
          "name": "stdout",
          "text": [
            "+----------+---------+-----------+--------------------+--------------------+-------------------+-----+--------------+----------+------------------+------------------+--------------------+------------+\n",
            "|CustomerId|FirstName|   LastName|             Company|             Address|               City|State|       Country|PostalCode|             Phone|               Fax|               Email|SupportRepId|\n",
            "+----------+---------+-----------+--------------------+--------------------+-------------------+-----+--------------+----------+------------------+------------------+--------------------+------------+\n",
            "|         1|     Luís|  Gonçalves|Embraer - Empresa...|Av. Brigadeiro Fa...|São José dos Campos|   SP|        Brazil| 12227-000|+55 (12) 3923-5555|+55 (12) 3923-5566|luisg@embraer.com.br|           3|\n",
            "|         2|   Leonie|     Köhler|                null|Theodor-Heuss-Str...|          Stuttgart| null|       Germany|     70174|  +49 0711 2842222|              null|leonekohler@surfe...|           5|\n",
            "|         3| François|   Tremblay|                null|   1498 rue Bélanger|           Montréal|   QC|        Canada|   H2G 1A7| +1 (514) 721-4711|              null| ftremblay@gmail.com|           3|\n",
            "|         4|    Bjørn|     Hansen|                null|    Ullevålsveien 14|               Oslo| null|        Norway|      0171|   +47 22 44 22 22|              null|bjorn.hansen@yaho...|           4|\n",
            "|         5|František|Wichterlová|    JetBrains s.r.o.|       Klanova 9/506|             Prague| null|Czech Republic|     14700|  +420 2 4172 5555|  +420 2 4172 5555|frantisekw@jetbra...|           4|\n",
            "|         6|   Helena|       Holý|                null|       Rilská 3174/6|             Prague| null|Czech Republic|     14300|  +420 2 4177 0449|              null|     hholy@gmail.com|           5|\n",
            "|         7|   Astrid|     Gruber|                null|Rotenturmstraße 4...|             Vienne| null|       Austria|      1010|    +43 01 5134505|              null|astrid.gruber@app...|           5|\n",
            "|         8|     Daan|    Peeters|                null|     Grétrystraat 63|           Brussels| null|       Belgium|      1000|  +32 02 219 03 03|              null|daan_peeters@appl...|           4|\n",
            "|         9|     Kara|    Nielsen|                null| Sønder Boulevard 51|         Copenhagen| null|       Denmark|      1720|    +453 3331 9991|              null|kara.nielsen@jubi...|           4|\n",
            "|        10|  Eduardo|    Martins|    Woodstock Discos|Rua Dr. Falcão Fi...|          São Paulo|   SP|        Brazil| 01007-010|+55 (11) 3033-5446|+55 (11) 3033-4564|eduardo@woodstock...|           4|\n",
            "+----------+---------+-----------+--------------------+--------------------+-------------------+-----+--------------+----------+------------------+------------------+--------------------+------------+\n",
            "only showing top 10 rows\n",
            "\n"
          ]
        }
      ]
    },
    {
      "cell_type": "code",
      "source": [
        "# 1:26min\n",
        "df_customer.select (\n",
        "    F.col('FirstName'),\n",
        "    F.col('Fax'),\n",
        "    F.col('Fax').isNotNull().alias('bool')\n",
        ")\\\n",
        ".orderBy(F.col('bool').asc()).show(10)"
      ],
      "metadata": {
        "id": "JvFaTxQ5U1fr",
        "colab": {
          "base_uri": "https://localhost:8080/"
        },
        "outputId": "373e2fc7-39bd-4dfa-d954-68bcee20c86b"
      },
      "execution_count": null,
      "outputs": [
        {
          "output_type": "stream",
          "name": "stdout",
          "text": [
            "+---------+------------------+-----+\n",
            "|FirstName|               Fax| bool|\n",
            "+---------+------------------+-----+\n",
            "|   Leonie|              null|false|\n",
            "| François|              null|false|\n",
            "|    Bjørn|              null|false|\n",
            "|   Helena|              null|false|\n",
            "|   Astrid|              null|false|\n",
            "|     Daan|              null|false|\n",
            "|     Kara|              null|false|\n",
            "|      Dan|              null|false|\n",
            "|    Kathy|              null|false|\n",
            "|  Heather|              null|false|\n",
            "|     John|              null|false|\n",
            "|    Frank|              null|false|\n",
            "|   Victor|              null|false|\n",
            "|  Richard|              null|false|\n",
            "|  Patrick|              null|false|\n",
            "|    Julia|              null|false|\n",
            "|   Robert|              null|false|\n",
            "|   Edward|              null|false|\n",
            "|   Martha|              null|false|\n",
            "|    Aaron|              null|false|\n",
            "|    Ellie|              null|false|\n",
            "|     João|              null|false|\n",
            "| Madalena|              null|false|\n",
            "|   Hannah|              null|false|\n",
            "|     Fynn|              null|false|\n",
            "|   Niklas|              null|false|\n",
            "|  Camille|              null|false|\n",
            "|Dominique|              null|false|\n",
            "|     Marc|              null|false|\n",
            "|    Wyatt|              null|false|\n",
            "| Isabelle|              null|false|\n",
            "|    Terhi|              null|false|\n",
            "| Ladislav|              null|false|\n",
            "|     Hugh|              null|false|\n",
            "|    Lucas|              null|false|\n",
            "| Johannes|              null|false|\n",
            "|Stanisław|              null|false|\n",
            "|  Enrique|              null|false|\n",
            "|   Joakim|              null|false|\n",
            "|     Emma|              null|false|\n",
            "|     Phil|              null|false|\n",
            "|    Steve|              null|false|\n",
            "|     Mark|              null|false|\n",
            "|    Diego|              null|false|\n",
            "|     Luis|              null|false|\n",
            "|    Manoj|              null|false|\n",
            "|     Puja|              null|false|\n",
            "|     Luís|+55 (12) 3923-5566| true|\n",
            "|František|  +420 2 4172 5555| true|\n",
            "|  Eduardo|+55 (11) 3033-4564| true|\n",
            "|Alexandre|+55 (11) 3055-8131| true|\n",
            "|  Roberto|+55 (21) 2271-7070| true|\n",
            "| Fernanda|+55 (61) 3363-7855| true|\n",
            "|     Mark| +1 (780) 434-5565| true|\n",
            "| Jennifer| +1 (604) 688-8756| true|\n",
            "|    Frank| +1 (650) 253-0000| true|\n",
            "|     Jack| +1 (425) 882-8081| true|\n",
            "| Michelle| +1 (212) 221-4679| true|\n",
            "|      Tim| +1 (408) 996-1011| true|\n",
            "+---------+------------------+-----+\n",
            "\n"
          ]
        }
      ]
    },
    {
      "cell_type": "code",
      "source": [
        "# 1:26min\n",
        "df_customer.select (\n",
        "    F.col('FirstName'),\n",
        "    F.col('Fax'),\n",
        "    F.col('Fax').isNull().alias('bool')\n",
        ")\\\n",
        ".orderBy(F.col('bool').asc()).show()"
      ],
      "metadata": {
        "colab": {
          "base_uri": "https://localhost:8080/"
        },
        "id": "Gazcwr09FQcY",
        "outputId": "2c584a7c-8994-4f89-fc45-3d7438fde013"
      },
      "execution_count": null,
      "outputs": [
        {
          "output_type": "stream",
          "name": "stdout",
          "text": [
            "+---------+------------------+-----+\n",
            "|FirstName|               Fax| bool|\n",
            "+---------+------------------+-----+\n",
            "|     Luís|+55 (12) 3923-5566|false|\n",
            "|František|  +420 2 4172 5555|false|\n",
            "|  Eduardo|+55 (11) 3033-4564|false|\n",
            "|Alexandre|+55 (11) 3055-8131|false|\n",
            "|  Roberto|+55 (21) 2271-7070|false|\n",
            "| Fernanda|+55 (61) 3363-7855|false|\n",
            "|     Mark| +1 (780) 434-5565|false|\n",
            "| Jennifer| +1 (604) 688-8756|false|\n",
            "|    Frank| +1 (650) 253-0000|false|\n",
            "|     Jack| +1 (425) 882-8081|false|\n",
            "| Michelle| +1 (212) 221-4679|false|\n",
            "|      Tim| +1 (408) 996-1011|false|\n",
            "|   Leonie|              null| true|\n",
            "| François|              null| true|\n",
            "|    Bjørn|              null| true|\n",
            "|   Helena|              null| true|\n",
            "|   Astrid|              null| true|\n",
            "|     Daan|              null| true|\n",
            "|     Kara|              null| true|\n",
            "|      Dan|              null| true|\n",
            "+---------+------------------+-----+\n",
            "only showing top 20 rows\n",
            "\n"
          ]
        }
      ]
    },
    {
      "cell_type": "markdown",
      "source": [
        "isin - funciona parecido como IN no SQL"
      ],
      "metadata": {
        "id": "PW-9VqXeHABL"
      }
    },
    {
      "cell_type": "code",
      "source": [
        "# 1:30min\n",
        "df_customer.select('Country').distinct().show()"
      ],
      "metadata": {
        "colab": {
          "base_uri": "https://localhost:8080/"
        },
        "id": "Yl4wsOYvGXxm",
        "outputId": "b8eb75bc-4284-4cd0-8318-b038740ca1cb"
      },
      "execution_count": null,
      "outputs": [
        {
          "output_type": "stream",
          "name": "stdout",
          "text": [
            "+--------------+\n",
            "|       Country|\n",
            "+--------------+\n",
            "|        Sweden|\n",
            "|       Germany|\n",
            "|        France|\n",
            "|     Argentina|\n",
            "|       Belgium|\n",
            "|       Finland|\n",
            "|         India|\n",
            "|         Chile|\n",
            "|         Italy|\n",
            "|        Norway|\n",
            "|         Spain|\n",
            "|       Denmark|\n",
            "|       Ireland|\n",
            "|           USA|\n",
            "|        Canada|\n",
            "|Czech Republic|\n",
            "|        Brazil|\n",
            "|        Poland|\n",
            "|      Portugal|\n",
            "|     Australia|\n",
            "+--------------+\n",
            "only showing top 20 rows\n",
            "\n"
          ]
        }
      ]
    },
    {
      "cell_type": "code",
      "source": [
        "paises = ['Brazil', 'Portugal', 'Canada']\n",
        "\n",
        "df_customer.select(\n",
        "    F.col('FirstName'),\n",
        "    F.col('Country'),\n",
        "    F.col('Country').isin(paises).alias('parceiros')\n",
        ").show(10)"
      ],
      "metadata": {
        "colab": {
          "base_uri": "https://localhost:8080/"
        },
        "id": "KZ1ye5pzHJ4-",
        "outputId": "fdf47ce9-5f0c-4865-ff25-a0d74fcb7c61"
      },
      "execution_count": null,
      "outputs": [
        {
          "output_type": "stream",
          "name": "stdout",
          "text": [
            "+---------+--------------+---------+\n",
            "|FirstName|       Country|parceiros|\n",
            "+---------+--------------+---------+\n",
            "|     Luís|        Brazil|     true|\n",
            "|   Leonie|       Germany|    false|\n",
            "| François|        Canada|     true|\n",
            "|    Bjørn|        Norway|    false|\n",
            "|František|Czech Republic|    false|\n",
            "|   Helena|Czech Republic|    false|\n",
            "|   Astrid|       Austria|    false|\n",
            "|     Daan|       Belgium|    false|\n",
            "|     Kara|       Denmark|    false|\n",
            "|  Eduardo|        Brazil|     true|\n",
            "+---------+--------------+---------+\n",
            "only showing top 10 rows\n",
            "\n"
          ]
        }
      ]
    },
    {
      "cell_type": "markdown",
      "source": [
        "not() = ~"
      ],
      "metadata": {
        "id": "Og6iC6bqJUH8"
      }
    },
    {
      "cell_type": "code",
      "source": [
        "df_customer.select(\n",
        "    F.col('FirstName'),\n",
        "    F.col('Country'),\n",
        "    (~F.col('Country').isin(paises)).alias('parceiros')\n",
        ").show(10)"
      ],
      "metadata": {
        "colab": {
          "base_uri": "https://localhost:8080/"
        },
        "id": "ajI-C0_EILx8",
        "outputId": "cceca462-c001-4b93-c02f-1a7b72edc914"
      },
      "execution_count": null,
      "outputs": [
        {
          "output_type": "stream",
          "name": "stdout",
          "text": [
            "+---------+--------------+---------+\n",
            "|FirstName|       Country|parceiros|\n",
            "+---------+--------------+---------+\n",
            "|     Luís|        Brazil|    false|\n",
            "|   Leonie|       Germany|     true|\n",
            "| François|        Canada|    false|\n",
            "|    Bjørn|        Norway|     true|\n",
            "|František|Czech Republic|     true|\n",
            "|   Helena|Czech Republic|     true|\n",
            "|   Astrid|       Austria|     true|\n",
            "|     Daan|       Belgium|     true|\n",
            "|     Kara|       Denmark|     true|\n",
            "|  Eduardo|        Brazil|    false|\n",
            "+---------+--------------+---------+\n",
            "only showing top 10 rows\n",
            "\n"
          ]
        }
      ]
    },
    {
      "cell_type": "markdown",
      "source": [
        "Like"
      ],
      "metadata": {
        "id": "gO2s05vAJeH2"
      }
    },
    {
      "cell_type": "code",
      "source": [
        "df_customer.select(\n",
        "    F.col('FirstName'),\n",
        "    F.col('FirstName').like('%na%').alias('like_1')\n",
        ").show()"
      ],
      "metadata": {
        "colab": {
          "base_uri": "https://localhost:8080/"
        },
        "id": "fxPC2BKYJgSc",
        "outputId": "7e8166cd-a5d8-4046-de61-45ef903767b4"
      },
      "execution_count": null,
      "outputs": [
        {
          "output_type": "stream",
          "name": "stdout",
          "text": [
            "+---------+------+\n",
            "|FirstName|like_1|\n",
            "+---------+------+\n",
            "|     Luís| false|\n",
            "|   Leonie| false|\n",
            "| François| false|\n",
            "|    Bjørn| false|\n",
            "|František| false|\n",
            "|   Helena|  true|\n",
            "|   Astrid| false|\n",
            "|     Daan| false|\n",
            "|     Kara| false|\n",
            "|  Eduardo| false|\n",
            "|Alexandre| false|\n",
            "|  Roberto| false|\n",
            "| Fernanda|  true|\n",
            "|     Mark| false|\n",
            "| Jennifer| false|\n",
            "|    Frank| false|\n",
            "|     Jack| false|\n",
            "| Michelle| false|\n",
            "|      Tim| false|\n",
            "|      Dan| false|\n",
            "+---------+------+\n",
            "only showing top 20 rows\n",
            "\n"
          ]
        }
      ]
    },
    {
      "cell_type": "markdown",
      "source": [
        "rlike"
      ],
      "metadata": {
        "id": "47b3_dUGKME-"
      }
    },
    {
      "cell_type": "code",
      "source": [
        "help(F.col('').rlike)"
      ],
      "metadata": {
        "colab": {
          "base_uri": "https://localhost:8080/"
        },
        "id": "LueUI_wnKOgP",
        "outputId": "f9d0757d-3001-4f52-9362-7e22f08a50fb"
      },
      "execution_count": null,
      "outputs": [
        {
          "output_type": "stream",
          "name": "stdout",
          "text": [
            "Help on method rlike in module pyspark.sql.column:\n",
            "\n",
            "rlike(other: str) -> 'Column' method of pyspark.sql.column.Column instance\n",
            "    SQL RLIKE expression (LIKE with Regex). Returns a boolean :class:`Column` based on a regex\n",
            "    match.\n",
            "    \n",
            "    .. versionchanged:: 3.4.0\n",
            "        Supports Spark Connect.\n",
            "    \n",
            "    Parameters\n",
            "    ----------\n",
            "    other : str\n",
            "        an extended regex expression\n",
            "    \n",
            "    Returns\n",
            "    -------\n",
            "    :class:`Column`\n",
            "        Column of booleans showing whether each element\n",
            "        in the Column is matched by extended regex expression.\n",
            "    \n",
            "    Examples\n",
            "    --------\n",
            "    >>> df = spark.createDataFrame(\n",
            "    ...      [(2, \"Alice\"), (5, \"Bob\")], [\"age\", \"name\"])\n",
            "    >>> df.filter(df.name.rlike('ice$')).collect()\n",
            "    [Row(age=2, name='Alice')]\n",
            "\n"
          ]
        }
      ]
    },
    {
      "cell_type": "code",
      "source": [
        "r_like = ['ni', 'le', 'rt']\n",
        "\n",
        "print('|'.join(r_like))\n",
        "\n",
        "df_customer.select(\n",
        "    F.col('FirstName'),\n",
        "    F.col('FirstName').rlike('|'.join(r_like)).alias('like_2')\n",
        ").show()"
      ],
      "metadata": {
        "colab": {
          "base_uri": "https://localhost:8080/"
        },
        "id": "MHqPlTpAKXvq",
        "outputId": "9994530e-6a5c-4a98-9bcb-6fcaf77a4880"
      },
      "execution_count": null,
      "outputs": [
        {
          "output_type": "stream",
          "name": "stdout",
          "text": [
            "ni|le|rt\n",
            "+---------+------+\n",
            "|FirstName|like_2|\n",
            "+---------+------+\n",
            "|     Luís| false|\n",
            "|   Leonie|  true|\n",
            "| François| false|\n",
            "|    Bjørn| false|\n",
            "|František| false|\n",
            "|   Helena|  true|\n",
            "|   Astrid| false|\n",
            "|     Daan| false|\n",
            "|     Kara| false|\n",
            "|  Eduardo| false|\n",
            "|Alexandre|  true|\n",
            "|  Roberto|  true|\n",
            "| Fernanda| false|\n",
            "|     Mark| false|\n",
            "| Jennifer|  true|\n",
            "|    Frank| false|\n",
            "|     Jack| false|\n",
            "| Michelle|  true|\n",
            "|      Tim| false|\n",
            "|      Dan| false|\n",
            "+---------+------+\n",
            "only showing top 20 rows\n",
            "\n"
          ]
        }
      ]
    },
    {
      "cell_type": "markdown",
      "source": [
        "# **6.2 Booleanos com filter e pivot**"
      ],
      "metadata": {
        "id": "gblqLicxMmcE"
      }
    },
    {
      "cell_type": "code",
      "source": [
        "# instalar as dependencias\n",
        "# baixar a versão mais recente do java8;\n",
        "!apt-get install openjdk-8-jdk-headless -qq > /dev/null\n",
        "#download via stp do hadoop\n",
        "!wget -q https://dlcdn.apache.org/spark/spark-3.4.3/spark-3.4.3-bin-hadoop3.tgz\n",
        "!tar xf spark-3.4.3-bin-hadoop3.tgz\n",
        "# instalar o Findspark\n",
        "!pip install -q findspark"
      ],
      "metadata": {
        "id": "sbBXr0fAMw4W"
      },
      "execution_count": null,
      "outputs": []
    },
    {
      "cell_type": "code",
      "source": [
        "import os\n",
        "os.environ[\"JAVA_HOME\"] = \"/usr/lib/jvm/java-8-openjdk-amd64\"\n",
        "os.environ[\"SPARK_HOME\"] = \"/content/sample_data/spark-3.4.3-bin-hadoop3\"\n",
        "\n",
        "# utilizando findspark para que o spark seja \"importavel\"\n",
        "import findspark\n",
        "findspark.init('spark-3.4.3-bin-hadoop3')"
      ],
      "metadata": {
        "id": "g3U3mOptM31E"
      },
      "execution_count": null,
      "outputs": []
    },
    {
      "cell_type": "markdown",
      "source": [
        "SparkSession"
      ],
      "metadata": {
        "id": "v5ZVTWrzNYC3"
      }
    },
    {
      "cell_type": "code",
      "source": [
        "# 2min\n",
        "# SparkSession\n",
        "from pyspark.sql import SparkSession\n",
        "# Funções de colunas\n",
        "from pyspark.sql import functions as F\n",
        "\n",
        "# Subir o arquivos jdbc na pasta jars do spark e subir o arquivo vendas.db.\n",
        "spark = SparkSession.builder\\\n",
        "  .config('spark.jars', '/content/spark-3.4.3-bin-hadoop3/jars/sqlite-jdbc-3.34.0.jar')\\\n",
        "  .appName('aula6').master('local').getOrCreate();"
      ],
      "metadata": {
        "id": "v4C1-G8JM9Xa"
      },
      "execution_count": null,
      "outputs": []
    },
    {
      "cell_type": "code",
      "source": [
        "# 4min\n",
        "df_customer = spark.read.jdbc(\n",
        "    properties={'driver':'org.sqlite.JDBC'},\n",
        "    url='jdbc:sqlite:/content/sample_data/Chinook.db',\n",
        "    table='Customer')\n",
        "\n",
        "df_customer.show(5)"
      ],
      "metadata": {
        "colab": {
          "base_uri": "https://localhost:8080/"
        },
        "id": "FP0KgIMaNPsQ",
        "outputId": "40dcf726-0e53-436f-9582-13227d994b0b"
      },
      "execution_count": null,
      "outputs": [
        {
          "output_type": "stream",
          "name": "stdout",
          "text": [
            "+----------+---------+-----------+--------------------+--------------------+-------------------+-----+--------------+----------+------------------+------------------+--------------------+------------+\n",
            "|CustomerId|FirstName|   LastName|             Company|             Address|               City|State|       Country|PostalCode|             Phone|               Fax|               Email|SupportRepId|\n",
            "+----------+---------+-----------+--------------------+--------------------+-------------------+-----+--------------+----------+------------------+------------------+--------------------+------------+\n",
            "|         1|     Luís|  Gonçalves|Embraer - Empresa...|Av. Brigadeiro Fa...|São José dos Campos|   SP|        Brazil| 12227-000|+55 (12) 3923-5555|+55 (12) 3923-5566|luisg@embraer.com.br|           3|\n",
            "|         2|   Leonie|     Köhler|                null|Theodor-Heuss-Str...|          Stuttgart| null|       Germany|     70174|  +49 0711 2842222|              null|leonekohler@surfe...|           5|\n",
            "|         3| François|   Tremblay|                null|   1498 rue Bélanger|           Montréal|   QC|        Canada|   H2G 1A7| +1 (514) 721-4711|              null| ftremblay@gmail.com|           3|\n",
            "|         4|    Bjørn|     Hansen|                null|    Ullevålsveien 14|               Oslo| null|        Norway|      0171|   +47 22 44 22 22|              null|bjorn.hansen@yaho...|           4|\n",
            "|         5|František|Wichterlová|    JetBrains s.r.o.|       Klanova 9/506|             Prague| null|Czech Republic|     14700|  +420 2 4172 5555|  +420 2 4172 5555|frantisekw@jetbra...|           4|\n",
            "+----------+---------+-----------+--------------------+--------------------+-------------------+-----+--------------+----------+------------------+------------------+--------------------+------------+\n",
            "only showing top 5 rows\n",
            "\n"
          ]
        }
      ]
    },
    {
      "cell_type": "code",
      "source": [
        "# 4min\n",
        "df_customer = spark.read.jdbc(\n",
        "    properties={'driver':'org.sqlite.JDBC'},\n",
        "    url='jdbc:sqlite:/content/sample_data/Chinook.db',\n",
        "    table='Customer')\n",
        "\n",
        "df_customer.show(5)"
      ],
      "metadata": {
        "colab": {
          "base_uri": "https://localhost:8080/"
        },
        "id": "Roo8g7aROr9l",
        "outputId": "2a5c3f10-669a-466a-ef7e-ce6741f41088"
      },
      "execution_count": null,
      "outputs": [
        {
          "output_type": "stream",
          "name": "stdout",
          "text": [
            "+----------+---------+-----------+--------------------+--------------------+-------------------+-----+--------------+----------+------------------+------------------+--------------------+------------+\n",
            "|CustomerId|FirstName|   LastName|             Company|             Address|               City|State|       Country|PostalCode|             Phone|               Fax|               Email|SupportRepId|\n",
            "+----------+---------+-----------+--------------------+--------------------+-------------------+-----+--------------+----------+------------------+------------------+--------------------+------------+\n",
            "|         1|     Luís|  Gonçalves|Embraer - Empresa...|Av. Brigadeiro Fa...|São José dos Campos|   SP|        Brazil| 12227-000|+55 (12) 3923-5555|+55 (12) 3923-5566|luisg@embraer.com.br|           3|\n",
            "|         2|   Leonie|     Köhler|                null|Theodor-Heuss-Str...|          Stuttgart| null|       Germany|     70174|  +49 0711 2842222|              null|leonekohler@surfe...|           5|\n",
            "|         3| François|   Tremblay|                null|   1498 rue Bélanger|           Montréal|   QC|        Canada|   H2G 1A7| +1 (514) 721-4711|              null| ftremblay@gmail.com|           3|\n",
            "|         4|    Bjørn|     Hansen|                null|    Ullevålsveien 14|               Oslo| null|        Norway|      0171|   +47 22 44 22 22|              null|bjorn.hansen@yaho...|           4|\n",
            "|         5|František|Wichterlová|    JetBrains s.r.o.|       Klanova 9/506|             Prague| null|Czech Republic|     14700|  +420 2 4172 5555|  +420 2 4172 5555|frantisekw@jetbra...|           4|\n",
            "+----------+---------+-----------+--------------------+--------------------+-------------------+-----+--------------+----------+------------------+------------------+--------------------+------------+\n",
            "only showing top 5 rows\n",
            "\n"
          ]
        }
      ]
    },
    {
      "cell_type": "code",
      "source": [
        "# 4min\n",
        "df_employee = spark.read.jdbc(\n",
        "    properties={'driver':'org.sqlite.JDBC'},\n",
        "    url='jdbc:sqlite:/content/sample_data/Chinook.db',\n",
        "    table='Employee')\n",
        "\n"
      ],
      "metadata": {
        "id": "PttEGBsJPDtD"
      },
      "execution_count": null,
      "outputs": []
    },
    {
      "cell_type": "markdown",
      "source": [
        "expressão basica"
      ],
      "metadata": {
        "id": "X5BdNdrnPd8h"
      }
    },
    {
      "cell_type": "code",
      "source": [
        "df_employee.select(\n",
        "    F.col('LastName'),\n",
        "    (F.col('LastName') == 'Park').alias('bool')\n",
        ").show()"
      ],
      "metadata": {
        "colab": {
          "base_uri": "https://localhost:8080/"
        },
        "id": "hhXm6TN3QjTF",
        "outputId": "649890b3-be23-4f24-94d0-55dc5ef820b1"
      },
      "execution_count": null,
      "outputs": [
        {
          "output_type": "stream",
          "name": "stdout",
          "text": [
            "+--------+-----+\n",
            "|LastName| bool|\n",
            "+--------+-----+\n",
            "|   Adams|false|\n",
            "| Edwards|false|\n",
            "| Peacock|false|\n",
            "|    Park| true|\n",
            "| Johnson|false|\n",
            "|Mitchell|false|\n",
            "|    King|false|\n",
            "|Callahan|false|\n",
            "+--------+-----+\n",
            "\n"
          ]
        }
      ]
    },
    {
      "cell_type": "markdown",
      "source": [
        "expressão composta com operações logicas"
      ],
      "metadata": {
        "id": "wHv5R0WWPiBl"
      }
    },
    {
      "cell_type": "code",
      "source": [
        "df_employee.select(\n",
        "    F.col('LastName'),\n",
        "    F.col('BirthDate'),\n",
        "    F.substring('BirthDate', 0, 4).alias('year'),\n",
        "    ((F.col('LastName') == 'Park') | (F.substring('BirthDate', 0, 4) == '1973')).alias('bool')\n",
        ").show()"
      ],
      "metadata": {
        "id": "BwjnGpmUQkgg"
      },
      "execution_count": null,
      "outputs": []
    },
    {
      "cell_type": "markdown",
      "source": [
        "funções booleanas em uma coluna"
      ],
      "metadata": {
        "id": "7njarfs1QWnu"
      }
    },
    {
      "cell_type": "markdown",
      "source": [
        "contains"
      ],
      "metadata": {
        "id": "1XtD_I63QbGe"
      }
    },
    {
      "cell_type": "code",
      "source": [
        "# 23min\n",
        "df_employee.select(\n",
        "    F.col('LastName'),\n",
        "    F.col('LastName').contains('son').alias('bool')\n",
        ").show()"
      ],
      "metadata": {
        "colab": {
          "base_uri": "https://localhost:8080/"
        },
        "id": "A0T9OjMVQle9",
        "outputId": "5b2cf4ea-565d-4185-abbf-9405540f052f"
      },
      "execution_count": null,
      "outputs": [
        {
          "output_type": "stream",
          "name": "stdout",
          "text": [
            "+--------+-----+\n",
            "|LastName| bool|\n",
            "+--------+-----+\n",
            "|   Adams|false|\n",
            "| Edwards|false|\n",
            "| Peacock|false|\n",
            "|    Park|false|\n",
            "| Johnson| true|\n",
            "|Mitchell|false|\n",
            "|    King|false|\n",
            "|Callahan|false|\n",
            "+--------+-----+\n",
            "\n"
          ]
        }
      ]
    },
    {
      "cell_type": "markdown",
      "source": [
        "F.when"
      ],
      "metadata": {
        "id": "u_oqkX6gQc5u"
      }
    },
    {
      "cell_type": "code",
      "source": [
        "# 27min\n",
        "df_employee.select(\n",
        "    F.col('LastName'),\n",
        "    F.col('LastName').contains('son').alias('bool'),\n",
        "    F.when(\n",
        "        F.col('LastName').contains('son'), F.col('LastName')\n",
        "    ).alias('when')\n",
        ").show()"
      ],
      "metadata": {
        "colab": {
          "base_uri": "https://localhost:8080/"
        },
        "id": "Kb3WvF7jQmLw",
        "outputId": "bb408cc0-e21c-4563-a64a-f2fcd743d36a"
      },
      "execution_count": null,
      "outputs": [
        {
          "output_type": "stream",
          "name": "stdout",
          "text": [
            "+--------+-----+-------+\n",
            "|LastName| bool|   when|\n",
            "+--------+-----+-------+\n",
            "|   Adams|false|   null|\n",
            "| Edwards|false|   null|\n",
            "| Peacock|false|   null|\n",
            "|    Park|false|   null|\n",
            "| Johnson| true|Johnson|\n",
            "|Mitchell|false|   null|\n",
            "|    King|false|   null|\n",
            "|Callahan|false|   null|\n",
            "+--------+-----+-------+\n",
            "\n"
          ]
        }
      ]
    },
    {
      "cell_type": "markdown",
      "source": [
        "F.when com multiplas condições lógicas"
      ],
      "metadata": {
        "id": "WtZu2OGnVK5O"
      }
    },
    {
      "cell_type": "code",
      "source": [
        "# 29min\n",
        "df_employee.select(\n",
        "    F.col('LastName'),\n",
        "    F.col('LastName').contains('son').alias('bool'),\n",
        "    F.when(\n",
        "        F.col('LastName').contains('son'), F.col('LastName')\n",
        "    ).when(\n",
        "        F.col('LastName').contains('ing'), F.lit('Reis')\n",
        "    ).alias('when')\n",
        ").show()"
      ],
      "metadata": {
        "colab": {
          "base_uri": "https://localhost:8080/"
        },
        "id": "kzJM0sr6VIo8",
        "outputId": "dac7465a-9e1b-4553-98bd-74d81a4473f3"
      },
      "execution_count": null,
      "outputs": [
        {
          "output_type": "stream",
          "name": "stdout",
          "text": [
            "+--------+-----+-------+\n",
            "|LastName| bool|   when|\n",
            "+--------+-----+-------+\n",
            "|   Adams|false|   null|\n",
            "| Edwards|false|   null|\n",
            "| Peacock|false|   null|\n",
            "|    Park|false|   null|\n",
            "| Johnson| true|Johnson|\n",
            "|Mitchell|false|   null|\n",
            "|    King|false|   Reis|\n",
            "|Callahan|false|   null|\n",
            "+--------+-----+-------+\n",
            "\n"
          ]
        }
      ]
    },
    {
      "cell_type": "markdown",
      "source": [
        "construindo uma coluna com booleanos"
      ],
      "metadata": {
        "id": "MO8KRfX8dOOM"
      }
    },
    {
      "cell_type": "code",
      "source": [
        "# 36min\n",
        "df_employee.select(\n",
        "    F.col('LastName'),\n",
        "    F.col('LastName').contains('son').alias('bool'),\n",
        "    F.when(\n",
        "        F.col('LastName').contains('son'), F.col('LastName')\n",
        "    ).when(\n",
        "        F.col('LastName').contains('ing'), F.lit('Reis')\n",
        "    ).otherwise(F.lit('Outros')).alias('when')\n",
        ").show()"
      ],
      "metadata": {
        "colab": {
          "base_uri": "https://localhost:8080/"
        },
        "id": "I3IngXJhWQFZ",
        "outputId": "308743e5-cef3-4383-f05f-88f3db670fc0"
      },
      "execution_count": null,
      "outputs": [
        {
          "output_type": "stream",
          "name": "stdout",
          "text": [
            "+--------+-----+-------+\n",
            "|LastName| bool|   when|\n",
            "+--------+-----+-------+\n",
            "|   Adams|false| Outros|\n",
            "| Edwards|false| Outros|\n",
            "| Peacock|false| Outros|\n",
            "|    Park|false| Outros|\n",
            "| Johnson| true|Johnson|\n",
            "|Mitchell|false| Outros|\n",
            "|    King|false|   Reis|\n",
            "|Callahan|false| Outros|\n",
            "+--------+-----+-------+\n",
            "\n"
          ]
        }
      ]
    },
    {
      "cell_type": "markdown",
      "source": [
        "atualizando o valor de uma coluna"
      ],
      "metadata": {
        "id": "lx6ywyw9XJQ8"
      }
    },
    {
      "cell_type": "code",
      "source": [
        "# 47min\n",
        "df_customer.orderBy(F.col('Company').desc())\\\n",
        "    .withColumn('Company',\n",
        "                F.when(\n",
        "                    F.col('Company').isNull(), F.lit('Indefinido'))\n",
        "                .otherwise(F.col('Company'))\n",
        "    ).show()"
      ],
      "metadata": {
        "colab": {
          "base_uri": "https://localhost:8080/"
        },
        "id": "dzTl2fyHdg8H",
        "outputId": "c7f7c3d6-39b0-44ed-fc8c-969e37821522"
      },
      "execution_count": null,
      "outputs": [
        {
          "output_type": "stream",
          "name": "stdout",
          "text": [
            "+----------+---------+-----------+--------------------+--------------------+-------------------+-----+--------------+----------+------------------+------------------+--------------------+------------+\n",
            "|CustomerId|FirstName|   LastName|             Company|             Address|               City|State|       Country|PostalCode|             Phone|               Fax|               Email|SupportRepId|\n",
            "+----------+---------+-----------+--------------------+--------------------+-------------------+-----+--------------+----------+------------------+------------------+--------------------+------------+\n",
            "|        10|  Eduardo|    Martins|    Woodstock Discos|Rua Dr. Falcão Fi...|          São Paulo|   SP|        Brazil| 01007-010|+55 (11) 3033-5446|+55 (11) 3033-4564|eduardo@woodstock...|           4|\n",
            "|        14|     Mark|    Philips|               Telus|      8210 111 ST NW|           Edmonton|   AB|        Canada|   T6G 2C7| +1 (780) 434-4554| +1 (780) 434-5565|  mphilips12@shaw.ca|           5|\n",
            "|        15| Jennifer|   Peterson|       Rogers Canada| 700 W Pender Street|          Vancouver|   BC|        Canada|   V6C 1G8| +1 (604) 688-2255| +1 (604) 688-8756| jenniferp@rogers.ca|           3|\n",
            "|        12|  Roberto|    Almeida|              Riotur|    Praça Pio X, 119|     Rio de Janeiro|   RJ|        Brazil| 20040-020|+55 (21) 2271-7000|+55 (21) 2271-7070|roberto.almeida@r...|           3|\n",
            "|        17|     Jack|      Smith|Microsoft Corpora...|     1 Microsoft Way|            Redmond|   WA|           USA|98052-8300| +1 (425) 882-8080| +1 (425) 882-8081|jacksmith@microso...|           5|\n",
            "|         5|František|Wichterlová|    JetBrains s.r.o.|       Klanova 9/506|             Prague| null|Czech Republic|     14700|  +420 2 4172 5555|  +420 2 4172 5555|frantisekw@jetbra...|           4|\n",
            "|        16|    Frank|     Harris|         Google Inc.|1600 Amphitheatre...|      Mountain View|   CA|           USA|94043-1351| +1 (650) 253-0000| +1 (650) 253-0000|  fharris@google.com|           4|\n",
            "|         1|     Luís|  Gonçalves|Embraer - Empresa...|Av. Brigadeiro Fa...|São José dos Campos|   SP|        Brazil| 12227-000|+55 (12) 3923-5555|+55 (12) 3923-5566|luisg@embraer.com.br|           3|\n",
            "|        11|Alexandre|      Rocha|Banco do Brasil S.A.|  Av. Paulista, 2022|          São Paulo|   SP|        Brazil| 01310-200|+55 (11) 3055-3278|+55 (11) 3055-8131|    alero@uol.com.br|           5|\n",
            "|        19|      Tim|      Goyer|          Apple Inc.|     1 Infinite Loop|          Cupertino|   CA|           USA|     95014| +1 (408) 996-1010| +1 (408) 996-1011|    tgoyer@apple.com|           3|\n",
            "|         2|   Leonie|     Köhler|          Indefinido|Theodor-Heuss-Str...|          Stuttgart| null|       Germany|     70174|  +49 0711 2842222|              null|leonekohler@surfe...|           5|\n",
            "|         3| François|   Tremblay|          Indefinido|   1498 rue Bélanger|           Montréal|   QC|        Canada|   H2G 1A7| +1 (514) 721-4711|              null| ftremblay@gmail.com|           3|\n",
            "|         4|    Bjørn|     Hansen|          Indefinido|    Ullevålsveien 14|               Oslo| null|        Norway|      0171|   +47 22 44 22 22|              null|bjorn.hansen@yaho...|           4|\n",
            "|         6|   Helena|       Holý|          Indefinido|       Rilská 3174/6|             Prague| null|Czech Republic|     14300|  +420 2 4177 0449|              null|     hholy@gmail.com|           5|\n",
            "|         7|   Astrid|     Gruber|          Indefinido|Rotenturmstraße 4...|             Vienne| null|       Austria|      1010|    +43 01 5134505|              null|astrid.gruber@app...|           5|\n",
            "|         8|     Daan|    Peeters|          Indefinido|     Grétrystraat 63|           Brussels| null|       Belgium|      1000|  +32 02 219 03 03|              null|daan_peeters@appl...|           4|\n",
            "|         9|     Kara|    Nielsen|          Indefinido| Sønder Boulevard 51|         Copenhagen| null|       Denmark|      1720|    +453 3331 9991|              null|kara.nielsen@jubi...|           4|\n",
            "|        13| Fernanda|      Ramos|          Indefinido|        Qe 7 Bloco G|           Brasília|   DF|        Brazil| 71020-677|+55 (61) 3363-5547|+55 (61) 3363-7855|fernadaramos4@uol...|           4|\n",
            "|        18| Michelle|     Brooks|          Indefinido|        627 Broadway|           New York|   NY|           USA|10012-2612| +1 (212) 221-3546| +1 (212) 221-4679|   michelleb@aol.com|           3|\n",
            "|        20|      Dan|     Miller|          Indefinido|541 Del Medio Avenue|      Mountain View|   CA|           USA| 94040-111| +1 (650) 644-3358|              null| dmiller@comcast.com|           4|\n",
            "+----------+---------+-----------+--------------------+--------------------+-------------------+-----+--------------+----------+------------------+------------------+--------------------+------------+\n",
            "only showing top 20 rows\n",
            "\n"
          ]
        }
      ]
    },
    {
      "cell_type": "markdown",
      "source": [
        "filter"
      ],
      "metadata": {
        "id": "-sN1HyqDdeQf"
      }
    },
    {
      "cell_type": "code",
      "source": [
        "# 53min\n",
        "df_customer.select(\n",
        "    F.col('CustomerId'),\n",
        "    F.col('Country'),\n",
        "    F.col('Country').isin(['Brazil','USA']).alias('bool')\n",
        ").show()"
      ],
      "metadata": {
        "id": "qEiff6F-dgHK",
        "colab": {
          "base_uri": "https://localhost:8080/"
        },
        "outputId": "55c6a55b-9714-461f-b42d-5df3f3c376dd"
      },
      "execution_count": null,
      "outputs": [
        {
          "output_type": "stream",
          "name": "stdout",
          "text": [
            "+----------+--------------+-----+\n",
            "|CustomerId|       Country| bool|\n",
            "+----------+--------------+-----+\n",
            "|         1|        Brazil| true|\n",
            "|         2|       Germany|false|\n",
            "|         3|        Canada|false|\n",
            "|         4|        Norway|false|\n",
            "|         5|Czech Republic|false|\n",
            "|         6|Czech Republic|false|\n",
            "|         7|       Austria|false|\n",
            "|         8|       Belgium|false|\n",
            "|         9|       Denmark|false|\n",
            "|        10|        Brazil| true|\n",
            "|        11|        Brazil| true|\n",
            "|        12|        Brazil| true|\n",
            "|        13|        Brazil| true|\n",
            "|        14|        Canada|false|\n",
            "|        15|        Canada|false|\n",
            "|        16|           USA| true|\n",
            "|        17|           USA| true|\n",
            "|        18|           USA| true|\n",
            "|        19|           USA| true|\n",
            "|        20|           USA| true|\n",
            "+----------+--------------+-----+\n",
            "only showing top 20 rows\n",
            "\n"
          ]
        }
      ]
    },
    {
      "cell_type": "code",
      "source": [
        "# 57min\n",
        "df_customer.filter(F.col('Country') == 'Brazil').show()"
      ],
      "metadata": {
        "colab": {
          "base_uri": "https://localhost:8080/"
        },
        "id": "JQbK-YJ144LA",
        "outputId": "b2c37878-295e-4786-e198-9653a5217c84"
      },
      "execution_count": null,
      "outputs": [
        {
          "output_type": "stream",
          "name": "stdout",
          "text": [
            "+----------+---------+---------+--------------------+--------------------+-------------------+-----+-------+----------+------------------+------------------+--------------------+------------+\n",
            "|CustomerId|FirstName| LastName|             Company|             Address|               City|State|Country|PostalCode|             Phone|               Fax|               Email|SupportRepId|\n",
            "+----------+---------+---------+--------------------+--------------------+-------------------+-----+-------+----------+------------------+------------------+--------------------+------------+\n",
            "|         1|     Luís|Gonçalves|Embraer - Empresa...|Av. Brigadeiro Fa...|São José dos Campos|   SP| Brazil| 12227-000|+55 (12) 3923-5555|+55 (12) 3923-5566|luisg@embraer.com.br|           3|\n",
            "|        10|  Eduardo|  Martins|    Woodstock Discos|Rua Dr. Falcão Fi...|          São Paulo|   SP| Brazil| 01007-010|+55 (11) 3033-5446|+55 (11) 3033-4564|eduardo@woodstock...|           4|\n",
            "|        11|Alexandre|    Rocha|Banco do Brasil S.A.|  Av. Paulista, 2022|          São Paulo|   SP| Brazil| 01310-200|+55 (11) 3055-3278|+55 (11) 3055-8131|    alero@uol.com.br|           5|\n",
            "|        12|  Roberto|  Almeida|              Riotur|    Praça Pio X, 119|     Rio de Janeiro|   RJ| Brazil| 20040-020|+55 (21) 2271-7000|+55 (21) 2271-7070|roberto.almeida@r...|           3|\n",
            "|        13| Fernanda|    Ramos|                null|        Qe 7 Bloco G|           Brasília|   DF| Brazil| 71020-677|+55 (61) 3363-5547|+55 (61) 3363-7855|fernadaramos4@uol...|           4|\n",
            "+----------+---------+---------+--------------------+--------------------+-------------------+-----+-------+----------+------------------+------------------+--------------------+------------+\n",
            "\n"
          ]
        }
      ]
    },
    {
      "cell_type": "code",
      "source": [
        "# 57min\n",
        "df_customer.filter(F.col('Country').isin(['Brazil','USA'])).show()"
      ],
      "metadata": {
        "colab": {
          "base_uri": "https://localhost:8080/"
        },
        "id": "XgXAKJ806V-n",
        "outputId": "3f6bba50-3c3d-4c77-c242-66c444255293"
      },
      "execution_count": null,
      "outputs": [
        {
          "output_type": "stream",
          "name": "stdout",
          "text": [
            "+----------+---------+----------+--------------------+--------------------+-------------------+-----+-------+----------+------------------+------------------+--------------------+------------+\n",
            "|CustomerId|FirstName|  LastName|             Company|             Address|               City|State|Country|PostalCode|             Phone|               Fax|               Email|SupportRepId|\n",
            "+----------+---------+----------+--------------------+--------------------+-------------------+-----+-------+----------+------------------+------------------+--------------------+------------+\n",
            "|         1|     Luís| Gonçalves|Embraer - Empresa...|Av. Brigadeiro Fa...|São José dos Campos|   SP| Brazil| 12227-000|+55 (12) 3923-5555|+55 (12) 3923-5566|luisg@embraer.com.br|           3|\n",
            "|        10|  Eduardo|   Martins|    Woodstock Discos|Rua Dr. Falcão Fi...|          São Paulo|   SP| Brazil| 01007-010|+55 (11) 3033-5446|+55 (11) 3033-4564|eduardo@woodstock...|           4|\n",
            "|        11|Alexandre|     Rocha|Banco do Brasil S.A.|  Av. Paulista, 2022|          São Paulo|   SP| Brazil| 01310-200|+55 (11) 3055-3278|+55 (11) 3055-8131|    alero@uol.com.br|           5|\n",
            "|        12|  Roberto|   Almeida|              Riotur|    Praça Pio X, 119|     Rio de Janeiro|   RJ| Brazil| 20040-020|+55 (21) 2271-7000|+55 (21) 2271-7070|roberto.almeida@r...|           3|\n",
            "|        13| Fernanda|     Ramos|                null|        Qe 7 Bloco G|           Brasília|   DF| Brazil| 71020-677|+55 (61) 3363-5547|+55 (61) 3363-7855|fernadaramos4@uol...|           4|\n",
            "|        16|    Frank|    Harris|         Google Inc.|1600 Amphitheatre...|      Mountain View|   CA|    USA|94043-1351| +1 (650) 253-0000| +1 (650) 253-0000|  fharris@google.com|           4|\n",
            "|        17|     Jack|     Smith|Microsoft Corpora...|     1 Microsoft Way|            Redmond|   WA|    USA|98052-8300| +1 (425) 882-8080| +1 (425) 882-8081|jacksmith@microso...|           5|\n",
            "|        18| Michelle|    Brooks|                null|        627 Broadway|           New York|   NY|    USA|10012-2612| +1 (212) 221-3546| +1 (212) 221-4679|   michelleb@aol.com|           3|\n",
            "|        19|      Tim|     Goyer|          Apple Inc.|     1 Infinite Loop|          Cupertino|   CA|    USA|     95014| +1 (408) 996-1010| +1 (408) 996-1011|    tgoyer@apple.com|           3|\n",
            "|        20|      Dan|    Miller|                null|541 Del Medio Avenue|      Mountain View|   CA|    USA| 94040-111| +1 (650) 644-3358|              null| dmiller@comcast.com|           4|\n",
            "|        21|    Kathy|     Chase|                null|    801 W 4th Street|               Reno|   NV|    USA|     89503| +1 (775) 223-7665|              null| kachase@hotmail.com|           5|\n",
            "|        22|  Heather|   Leacock|                null|    120 S Orange Ave|            Orlando|   FL|    USA|     32801| +1 (407) 999-7788|              null|  hleacock@gmail.com|           4|\n",
            "|        23|     John|    Gordon|                null|     69 Salem Street|             Boston|   MA|    USA|      2113| +1 (617) 522-1333|              null|johngordon22@yaho...|           4|\n",
            "|        24|    Frank|   Ralston|                null|162 E Superior St...|            Chicago|   IL|    USA|     60611| +1 (312) 332-3232|              null|  fralston@gmail.com|           3|\n",
            "|        25|   Victor|   Stevens|                null|319 N. Frances St...|            Madison|   WI|    USA|     53703| +1 (608) 257-0597|              null|  vstevens@yahoo.com|           5|\n",
            "|        26|  Richard|Cunningham|                null| 2211 W Berry Street|         Fort Worth|   TX|    USA|     76110| +1 (817) 924-7272|              null|ricunningham@hotm...|           4|\n",
            "|        27|  Patrick|      Gray|                null|     1033 N Park Ave|             Tucson|   AZ|    USA|     85719| +1 (520) 622-4200|              null|patrick.gray@aol.com|           4|\n",
            "|        28|    Julia|   Barnett|                null|         302 S 700 E|     Salt Lake City|   UT|    USA|     84102| +1 (801) 531-7272|              null| jubarnett@gmail.com|           5|\n",
            "+----------+---------+----------+--------------------+--------------------+-------------------+-----+-------+----------+------------------+------------------+--------------------+------------+\n",
            "\n"
          ]
        }
      ]
    },
    {
      "cell_type": "markdown",
      "source": [
        "negando uma expressão booleana"
      ],
      "metadata": {
        "id": "oMNEKE3m8g44"
      }
    },
    {
      "cell_type": "code",
      "source": [
        "# 1:00min\n",
        "df_customer.select(\n",
        "    F.col('CustomerId'),\n",
        "    F.col('Country'),\n",
        "    (~F.col('Country').isin(['Brazil','USA'])).alias('bool')\n",
        ").orderBy('Country').show()"
      ],
      "metadata": {
        "colab": {
          "base_uri": "https://localhost:8080/"
        },
        "id": "P19psqy177cK",
        "outputId": "7f40fdc5-8763-4f6a-a830-422cd1b60b1a"
      },
      "execution_count": null,
      "outputs": [
        {
          "output_type": "stream",
          "name": "stdout",
          "text": [
            "+----------+--------------+-----+\n",
            "|CustomerId|       Country| bool|\n",
            "+----------+--------------+-----+\n",
            "|        56|     Argentina| true|\n",
            "|        55|     Australia| true|\n",
            "|         7|       Austria| true|\n",
            "|         8|       Belgium| true|\n",
            "|         1|        Brazil|false|\n",
            "|        10|        Brazil|false|\n",
            "|        11|        Brazil|false|\n",
            "|        12|        Brazil|false|\n",
            "|        13|        Brazil|false|\n",
            "|        32|        Canada| true|\n",
            "|        33|        Canada| true|\n",
            "|        29|        Canada| true|\n",
            "|        14|        Canada| true|\n",
            "|        15|        Canada| true|\n",
            "|        30|        Canada| true|\n",
            "|        31|        Canada| true|\n",
            "|         3|        Canada| true|\n",
            "|        57|         Chile| true|\n",
            "|         5|Czech Republic| true|\n",
            "|         6|Czech Republic| true|\n",
            "+----------+--------------+-----+\n",
            "only showing top 20 rows\n",
            "\n"
          ]
        }
      ]
    },
    {
      "cell_type": "markdown",
      "source": [
        "**filter com operador logico AND**"
      ],
      "metadata": {
        "id": "wj7XceTZ8ofw"
      }
    },
    {
      "cell_type": "markdown",
      "source": [
        "aninhando o metodo filter"
      ],
      "metadata": {
        "id": "NF3DxHEu8596"
      }
    },
    {
      "cell_type": "code",
      "source": [
        "# 1:02min\n",
        "df_customer.filter(F.col('Country') == 'Brazil')\\\n",
        "           .filter(F.col('City') == 'São Paulo').show()"
      ],
      "metadata": {
        "id": "igTX1VMP8exl",
        "colab": {
          "base_uri": "https://localhost:8080/"
        },
        "outputId": "dabf7a99-537d-425c-de9f-0a9b611dc193"
      },
      "execution_count": null,
      "outputs": [
        {
          "output_type": "stream",
          "name": "stdout",
          "text": [
            "+----------+---------+--------+--------------------+--------------------+---------+-----+-------+----------+------------------+------------------+--------------------+------------+\n",
            "|CustomerId|FirstName|LastName|             Company|             Address|     City|State|Country|PostalCode|             Phone|               Fax|               Email|SupportRepId|\n",
            "+----------+---------+--------+--------------------+--------------------+---------+-----+-------+----------+------------------+------------------+--------------------+------------+\n",
            "|        10|  Eduardo| Martins|    Woodstock Discos|Rua Dr. Falcão Fi...|São Paulo|   SP| Brazil| 01007-010|+55 (11) 3033-5446|+55 (11) 3033-4564|eduardo@woodstock...|           4|\n",
            "|        11|Alexandre|   Rocha|Banco do Brasil S.A.|  Av. Paulista, 2022|São Paulo|   SP| Brazil| 01310-200|+55 (11) 3055-3278|+55 (11) 3055-8131|    alero@uol.com.br|           5|\n",
            "+----------+---------+--------+--------------------+--------------------+---------+-----+-------+----------+------------------+------------------+--------------------+------------+\n",
            "\n"
          ]
        }
      ]
    },
    {
      "cell_type": "markdown",
      "source": [
        "utilizando o operador logico '&'"
      ],
      "metadata": {
        "id": "yvQDuogq8tk_"
      }
    },
    {
      "cell_type": "code",
      "source": [
        "# 1:05min\n",
        "df_customer.filter(\n",
        "    (F.col('Country') == 'Brazil') & (F.col('City') == 'São Paulo')\n",
        ").show()"
      ],
      "metadata": {
        "id": "c0GZdVGM9AoQ",
        "colab": {
          "base_uri": "https://localhost:8080/"
        },
        "outputId": "76143637-0fb3-4fe6-cc82-43e58b7620d0"
      },
      "execution_count": null,
      "outputs": [
        {
          "output_type": "stream",
          "name": "stdout",
          "text": [
            "+----------+---------+--------+--------------------+--------------------+---------+-----+-------+----------+------------------+------------------+--------------------+------------+\n",
            "|CustomerId|FirstName|LastName|             Company|             Address|     City|State|Country|PostalCode|             Phone|               Fax|               Email|SupportRepId|\n",
            "+----------+---------+--------+--------------------+--------------------+---------+-----+-------+----------+------------------+------------------+--------------------+------------+\n",
            "|        10|  Eduardo| Martins|    Woodstock Discos|Rua Dr. Falcão Fi...|São Paulo|   SP| Brazil| 01007-010|+55 (11) 3033-5446|+55 (11) 3033-4564|eduardo@woodstock...|           4|\n",
            "|        11|Alexandre|   Rocha|Banco do Brasil S.A.|  Av. Paulista, 2022|São Paulo|   SP| Brazil| 01310-200|+55 (11) 3055-3278|+55 (11) 3055-8131|    alero@uol.com.br|           5|\n",
            "+----------+---------+--------+--------------------+--------------------+---------+-----+-------+----------+------------------+------------------+--------------------+------------+\n",
            "\n"
          ]
        }
      ]
    },
    {
      "cell_type": "markdown",
      "source": [
        "\n",
        "filter com operador logico OR\n",
        "\n"
      ],
      "metadata": {
        "id": "y0KN1NMi9BQf"
      }
    },
    {
      "cell_type": "code",
      "source": [
        "# 1:08min\n",
        "df_customer.filter(\n",
        "    (F.col('Country') == 'USA') | (F.col('City') == 'São Paulo')\n",
        ").show()"
      ],
      "metadata": {
        "id": "H4brXuCe9Fqa",
        "colab": {
          "base_uri": "https://localhost:8080/"
        },
        "outputId": "dfc11213-5513-46ee-c5e1-48fb3159163a"
      },
      "execution_count": null,
      "outputs": [
        {
          "output_type": "stream",
          "name": "stdout",
          "text": [
            "+----------+---------+----------+--------------------+--------------------+--------------+-----+-------+----------+------------------+------------------+--------------------+------------+\n",
            "|CustomerId|FirstName|  LastName|             Company|             Address|          City|State|Country|PostalCode|             Phone|               Fax|               Email|SupportRepId|\n",
            "+----------+---------+----------+--------------------+--------------------+--------------+-----+-------+----------+------------------+------------------+--------------------+------------+\n",
            "|        10|  Eduardo|   Martins|    Woodstock Discos|Rua Dr. Falcão Fi...|     São Paulo|   SP| Brazil| 01007-010|+55 (11) 3033-5446|+55 (11) 3033-4564|eduardo@woodstock...|           4|\n",
            "|        11|Alexandre|     Rocha|Banco do Brasil S.A.|  Av. Paulista, 2022|     São Paulo|   SP| Brazil| 01310-200|+55 (11) 3055-3278|+55 (11) 3055-8131|    alero@uol.com.br|           5|\n",
            "|        16|    Frank|    Harris|         Google Inc.|1600 Amphitheatre...| Mountain View|   CA|    USA|94043-1351| +1 (650) 253-0000| +1 (650) 253-0000|  fharris@google.com|           4|\n",
            "|        17|     Jack|     Smith|Microsoft Corpora...|     1 Microsoft Way|       Redmond|   WA|    USA|98052-8300| +1 (425) 882-8080| +1 (425) 882-8081|jacksmith@microso...|           5|\n",
            "|        18| Michelle|    Brooks|                null|        627 Broadway|      New York|   NY|    USA|10012-2612| +1 (212) 221-3546| +1 (212) 221-4679|   michelleb@aol.com|           3|\n",
            "|        19|      Tim|     Goyer|          Apple Inc.|     1 Infinite Loop|     Cupertino|   CA|    USA|     95014| +1 (408) 996-1010| +1 (408) 996-1011|    tgoyer@apple.com|           3|\n",
            "|        20|      Dan|    Miller|                null|541 Del Medio Avenue| Mountain View|   CA|    USA| 94040-111| +1 (650) 644-3358|              null| dmiller@comcast.com|           4|\n",
            "|        21|    Kathy|     Chase|                null|    801 W 4th Street|          Reno|   NV|    USA|     89503| +1 (775) 223-7665|              null| kachase@hotmail.com|           5|\n",
            "|        22|  Heather|   Leacock|                null|    120 S Orange Ave|       Orlando|   FL|    USA|     32801| +1 (407) 999-7788|              null|  hleacock@gmail.com|           4|\n",
            "|        23|     John|    Gordon|                null|     69 Salem Street|        Boston|   MA|    USA|      2113| +1 (617) 522-1333|              null|johngordon22@yaho...|           4|\n",
            "|        24|    Frank|   Ralston|                null|162 E Superior St...|       Chicago|   IL|    USA|     60611| +1 (312) 332-3232|              null|  fralston@gmail.com|           3|\n",
            "|        25|   Victor|   Stevens|                null|319 N. Frances St...|       Madison|   WI|    USA|     53703| +1 (608) 257-0597|              null|  vstevens@yahoo.com|           5|\n",
            "|        26|  Richard|Cunningham|                null| 2211 W Berry Street|    Fort Worth|   TX|    USA|     76110| +1 (817) 924-7272|              null|ricunningham@hotm...|           4|\n",
            "|        27|  Patrick|      Gray|                null|     1033 N Park Ave|        Tucson|   AZ|    USA|     85719| +1 (520) 622-4200|              null|patrick.gray@aol.com|           4|\n",
            "|        28|    Julia|   Barnett|                null|         302 S 700 E|Salt Lake City|   UT|    USA|     84102| +1 (801) 531-7272|              null| jubarnett@gmail.com|           5|\n",
            "+----------+---------+----------+--------------------+--------------------+--------------+-----+-------+----------+------------------+------------------+--------------------+------------+\n",
            "\n"
          ]
        }
      ]
    },
    {
      "cell_type": "markdown",
      "source": [
        "usando uma expressão booleana na key do group by"
      ],
      "metadata": {
        "id": "cyB9IJpFY_lk"
      }
    },
    {
      "cell_type": "code",
      "source": [
        "# 4min\n",
        "\n",
        "df_Track = spark.read.jdbc(\n",
        "    properties={'driver':'org.sqlite.JDBC'},\n",
        "    url='jdbc:sqlite:/content/sample_data/Chinook.db',\n",
        "    table='Track')\n",
        "\n",
        "df_Track.show()"
      ],
      "metadata": {
        "colab": {
          "base_uri": "https://localhost:8080/"
        },
        "id": "g1FcR399ZyCJ",
        "outputId": "9e18c10b-9fc8-4b83-fb82-6e8e93ee14b0"
      },
      "execution_count": null,
      "outputs": [
        {
          "output_type": "stream",
          "name": "stdout",
          "text": [
            "+-------+--------------------+-------+-----------+-------+--------------------+------------+--------+---------+\n",
            "|TrackId|                Name|AlbumId|MediaTypeId|GenreId|            Composer|Milliseconds|   Bytes|UnitPrice|\n",
            "+-------+--------------------+-------+-----------+-------+--------------------+------------+--------+---------+\n",
            "|      1|For Those About T...|      1|          1|      1|Angus Young, Malc...|      343719|11170334|     0.99|\n",
            "|      2|   Balls to the Wall|      2|          2|      1|                null|      342562| 5510424|     0.99|\n",
            "|      3|     Fast As a Shark|      3|          2|      1|F. Baltes, S. Kau...|      230619| 3990994|     0.99|\n",
            "|      4|   Restless and Wild|      3|          2|      1|F. Baltes, R.A. S...|      252051| 4331779|     0.99|\n",
            "|      5|Princess of the Dawn|      3|          2|      1|Deaffy & R.A. Smi...|      375418| 6290521|     0.99|\n",
            "|      6|Put The Finger On...|      1|          1|      1|Angus Young, Malc...|      205662| 6713451|     0.99|\n",
            "|      7|     Let's Get It Up|      1|          1|      1|Angus Young, Malc...|      233926| 7636561|     0.99|\n",
            "|      8|    Inject The Venom|      1|          1|      1|Angus Young, Malc...|      210834| 6852860|     0.99|\n",
            "|      9|          Snowballed|      1|          1|      1|Angus Young, Malc...|      203102| 6599424|     0.99|\n",
            "|     10|          Evil Walks|      1|          1|      1|Angus Young, Malc...|      263497| 8611245|     0.99|\n",
            "|     11|              C.O.D.|      1|          1|      1|Angus Young, Malc...|      199836| 6566314|     0.99|\n",
            "|     12|  Breaking The Rules|      1|          1|      1|Angus Young, Malc...|      263288| 8596840|     0.99|\n",
            "|     13|Night Of The Long...|      1|          1|      1|Angus Young, Malc...|      205688| 6706347|     0.99|\n",
            "|     14|          Spellbound|      1|          1|      1|Angus Young, Malc...|      270863| 8817038|     0.99|\n",
            "|     15|             Go Down|      4|          1|      1|               AC/DC|      331180|10847611|     0.99|\n",
            "|     16|         Dog Eat Dog|      4|          1|      1|               AC/DC|      215196| 7032162|     0.99|\n",
            "|     17|   Let There Be Rock|      4|          1|      1|               AC/DC|      366654|12021261|     0.99|\n",
            "|     18|      Bad Boy Boogie|      4|          1|      1|               AC/DC|      267728| 8776140|     0.99|\n",
            "|     19|       Problem Child|      4|          1|      1|               AC/DC|      325041|10617116|     0.99|\n",
            "|     20|            Overdose|      4|          1|      1|               AC/DC|      369319|12066294|     0.99|\n",
            "+-------+--------------------+-------+-----------+-------+--------------------+------------+--------+---------+\n",
            "only showing top 20 rows\n",
            "\n"
          ]
        }
      ]
    },
    {
      "cell_type": "code",
      "source": [
        "# 1:11min\n",
        "df_Track.groupBy(\n",
        "    F.substring('Milliseconds',7,3) == '7'\n",
        ").count().show()"
      ],
      "metadata": {
        "colab": {
          "base_uri": "https://localhost:8080/"
        },
        "id": "KIg0O3NmY-KM",
        "outputId": "9b3a2cc1-b516-45f4-9863-401a575a9cad"
      },
      "execution_count": null,
      "outputs": [
        {
          "output_type": "stream",
          "name": "stdout",
          "text": [
            "+-----------------------------------+-----+\n",
            "|(substring(Milliseconds, 7, 3) = 7)|count|\n",
            "+-----------------------------------+-----+\n",
            "|                               true|   23|\n",
            "|                              false| 3480|\n",
            "+-----------------------------------+-----+\n",
            "\n"
          ]
        }
      ]
    },
    {
      "cell_type": "code",
      "source": [
        "# 1:18min\n",
        "df_Track.groupBy(\n",
        "    F.substring('Milliseconds',7,3).isin(['7','3'])\n",
        ").count().show()"
      ],
      "metadata": {
        "colab": {
          "base_uri": "https://localhost:8080/"
        },
        "id": "hW_oA4f6ejzg",
        "outputId": "940369e9-690f-4795-e6df-24c334427aa7"
      },
      "execution_count": null,
      "outputs": [
        {
          "output_type": "stream",
          "name": "stdout",
          "text": [
            "+-----------------------------------------+-----+\n",
            "|(substring(Milliseconds, 7, 3) IN (7, 3))|count|\n",
            "+-----------------------------------------+-----+\n",
            "|                                     true|   46|\n",
            "|                                    false| 3457|\n",
            "+-----------------------------------------+-----+\n",
            "\n"
          ]
        }
      ]
    },
    {
      "cell_type": "code",
      "source": [
        "# 1:18min\n",
        "df_Track.groupBy(\n",
        "    F.when(\n",
        "        F.substring('Milliseconds',7,3).isin(['7','3']), F.lit('é 7 e 3'))\n",
        "    .otherwise(F.lit('Outros')).alias('tipos')\n",
        ").count().show()"
      ],
      "metadata": {
        "colab": {
          "base_uri": "https://localhost:8080/"
        },
        "id": "zxiXWcZJfGp6",
        "outputId": "4dddb729-265f-458b-a261-de6367d85867"
      },
      "execution_count": null,
      "outputs": [
        {
          "output_type": "stream",
          "name": "stdout",
          "text": [
            "+-------+-----+\n",
            "|  tipos|count|\n",
            "+-------+-----+\n",
            "| Outros| 3457|\n",
            "|é 7 e 3|   46|\n",
            "+-------+-----+\n",
            "\n"
          ]
        }
      ]
    },
    {
      "cell_type": "markdown",
      "source": [
        "usando uma expressão booleana commF.when no metodo .agg\n"
      ],
      "metadata": {
        "id": "tjOtCmbnZG3o"
      }
    },
    {
      "cell_type": "code",
      "source": [
        "# 1:27min\n",
        "df_Track\\\n",
        "   .groupBy(F.col('Composer'))\\\n",
        "   .sum('UnitPrice')\\\n",
        "   .show()"
      ],
      "metadata": {
        "colab": {
          "base_uri": "https://localhost:8080/"
        },
        "id": "sJKJdSKOZPAS",
        "outputId": "e35ec8e1-ab96-4305-904e-15d3ae087fbd"
      },
      "execution_count": null,
      "outputs": [
        {
          "output_type": "stream",
          "name": "stdout",
          "text": [
            "+--------------------+--------------+\n",
            "|            Composer|sum(UnitPrice)|\n",
            "+--------------------+--------------+\n",
            "|Charles Bobbitt/J...|          1.98|\n",
            "|         J. Satriani|          3.96|\n",
            "|Marisa Monte/poem...|          0.99|\n",
            "|Bert Russell/Phil...|          0.99|\n",
            "|Domenil/J. Brito/...|          0.99|\n",
            "|Richie Blackmore,...|          4.95|\n",
            "|     Julian Crampton|          0.99|\n",
            "|        Steve Harris|         79.20|\n",
            "|Audioslave/Chris ...|         13.86|\n",
            "|jon lord/roger gl...|          1.98|\n",
            "|Doyle Bramhall/St...|          3.96|\n",
            "|      Hector Berlioz|          0.99|\n",
            "|Bill Gould/Jon Hu...|          1.98|\n",
            "|L. Kerslake, O. O...|          0.99|\n",
            "|      Carlos Santana|          2.97|\n",
            "|Peter Ilyich Tcha...|          0.99|\n",
            "|           Jim Beard|          1.98|\n",
            "|Dominguinhos/Gilb...|          0.99|\n",
            "|              Hyldon|          0.99|\n",
            "|Leão, Rodrigo F./...|          0.99|\n",
            "+--------------------+--------------+\n",
            "only showing top 20 rows\n",
            "\n"
          ]
        }
      ]
    },
    {
      "cell_type": "code",
      "source": [
        "# 1:46min\n",
        "df_Track\\\n",
        "   .groupBy(F.col('GenreId'))\\\n",
        "   .agg(\n",
        "       F.sum(\n",
        "           F.when(\n",
        "               F.col('AlbumId') == 1, F.col('UnitPrice')\n",
        "              ).otherwise(F.lit(0))\n",
        "            ).alias('Rock'),\n",
        "       F.sum(\n",
        "           F.when(\n",
        "               F.col('AlbumId') == 2, F.col('UnitPrice')\n",
        "              ).otherwise(F.lit(0))\n",
        "            ).alias('Jazz'),\n",
        "       F.sum(F.col('UnitPrice'))\n",
        "       )\\\n",
        "    .orderBy('GenreId')\n",
        "    .show()"
      ],
      "metadata": {
        "colab": {
          "base_uri": "https://localhost:8080/"
        },
        "id": "fQHFBkyDwDId",
        "outputId": "0a4f48ff-3ff4-44df-d8eb-bab68ccebda1"
      },
      "execution_count": null,
      "outputs": [
        {
          "output_type": "stream",
          "name": "stdout",
          "text": [
            "+-------+----+----+--------------+\n",
            "|GenreId|Rock|Jazz|sum(UnitPrice)|\n",
            "+-------+----+----+--------------+\n",
            "|      1|9.90|0.99|       1284.03|\n",
            "|      2|0.00|0.00|        128.70|\n",
            "|      3|0.00|0.00|        370.26|\n",
            "|      4|0.00|0.00|        328.68|\n",
            "|      5|0.00|0.00|         11.88|\n",
            "|      6|0.00|0.00|         80.19|\n",
            "|      7|0.00|0.00|        573.21|\n",
            "|      8|0.00|0.00|         57.42|\n",
            "|      9|0.00|0.00|         47.52|\n",
            "|     10|0.00|0.00|         42.57|\n",
            "|     11|0.00|0.00|         14.85|\n",
            "|     12|0.00|0.00|         23.76|\n",
            "|     13|0.00|0.00|         27.72|\n",
            "|     14|0.00|0.00|         60.39|\n",
            "|     15|0.00|0.00|         29.70|\n",
            "|     16|0.00|0.00|         27.72|\n",
            "|     17|0.00|0.00|         34.65|\n",
            "|     18|0.00|0.00|         25.87|\n",
            "|     19|0.00|0.00|        185.07|\n",
            "|     20|0.00|0.00|         51.74|\n",
            "+-------+----+----+--------------+\n",
            "only showing top 20 rows\n",
            "\n"
          ]
        }
      ]
    },
    {
      "cell_type": "markdown",
      "source": [
        "pivoteando uma tabela"
      ],
      "metadata": {
        "id": "Z6KWNprxZQW3"
      }
    },
    {
      "cell_type": "code",
      "source": [
        "df_Track.show()"
      ],
      "metadata": {
        "colab": {
          "base_uri": "https://localhost:8080/"
        },
        "id": "cK-EwjFXZTj4",
        "outputId": "e421c7cf-5fef-4227-ef0e-df20a041b0d7"
      },
      "execution_count": null,
      "outputs": [
        {
          "output_type": "stream",
          "name": "stdout",
          "text": [
            "+-------+--------------------+-------+-----------+-------+--------------------+------------+--------+---------+\n",
            "|TrackId|                Name|AlbumId|MediaTypeId|GenreId|            Composer|Milliseconds|   Bytes|UnitPrice|\n",
            "+-------+--------------------+-------+-----------+-------+--------------------+------------+--------+---------+\n",
            "|      1|For Those About T...|      1|          1|      1|Angus Young, Malc...|      343719|11170334|     0.99|\n",
            "|      2|   Balls to the Wall|      2|          2|      1|                null|      342562| 5510424|     0.99|\n",
            "|      3|     Fast As a Shark|      3|          2|      1|F. Baltes, S. Kau...|      230619| 3990994|     0.99|\n",
            "|      4|   Restless and Wild|      3|          2|      1|F. Baltes, R.A. S...|      252051| 4331779|     0.99|\n",
            "|      5|Princess of the Dawn|      3|          2|      1|Deaffy & R.A. Smi...|      375418| 6290521|     0.99|\n",
            "|      6|Put The Finger On...|      1|          1|      1|Angus Young, Malc...|      205662| 6713451|     0.99|\n",
            "|      7|     Let's Get It Up|      1|          1|      1|Angus Young, Malc...|      233926| 7636561|     0.99|\n",
            "|      8|    Inject The Venom|      1|          1|      1|Angus Young, Malc...|      210834| 6852860|     0.99|\n",
            "|      9|          Snowballed|      1|          1|      1|Angus Young, Malc...|      203102| 6599424|     0.99|\n",
            "|     10|          Evil Walks|      1|          1|      1|Angus Young, Malc...|      263497| 8611245|     0.99|\n",
            "|     11|              C.O.D.|      1|          1|      1|Angus Young, Malc...|      199836| 6566314|     0.99|\n",
            "|     12|  Breaking The Rules|      1|          1|      1|Angus Young, Malc...|      263288| 8596840|     0.99|\n",
            "|     13|Night Of The Long...|      1|          1|      1|Angus Young, Malc...|      205688| 6706347|     0.99|\n",
            "|     14|          Spellbound|      1|          1|      1|Angus Young, Malc...|      270863| 8817038|     0.99|\n",
            "|     15|             Go Down|      4|          1|      1|               AC/DC|      331180|10847611|     0.99|\n",
            "|     16|         Dog Eat Dog|      4|          1|      1|               AC/DC|      215196| 7032162|     0.99|\n",
            "|     17|   Let There Be Rock|      4|          1|      1|               AC/DC|      366654|12021261|     0.99|\n",
            "|     18|      Bad Boy Boogie|      4|          1|      1|               AC/DC|      267728| 8776140|     0.99|\n",
            "|     19|       Problem Child|      4|          1|      1|               AC/DC|      325041|10617116|     0.99|\n",
            "|     20|            Overdose|      4|          1|      1|               AC/DC|      369319|12066294|     0.99|\n",
            "+-------+--------------------+-------+-----------+-------+--------------------+------------+--------+---------+\n",
            "only showing top 20 rows\n",
            "\n"
          ]
        }
      ]
    },
    {
      "cell_type": "code",
      "source": [
        "# pivot\n",
        "df_Track.groupBy(F.col('Composer')).pivot('GenreId').sum('UnitPrice').show()"
      ],
      "metadata": {
        "colab": {
          "base_uri": "https://localhost:8080/"
        },
        "id": "byx4_HsV6Lwz",
        "outputId": "38d09687-5ae0-4662-a96f-138ceaaa5b07"
      },
      "execution_count": null,
      "outputs": [
        {
          "output_type": "stream",
          "name": "stdout",
          "text": [
            "+--------------------+-----+----+-----+----+----+----+----+----+----+----+----+----+-----+----+----+----+----+----+----+----+----+----+----+----+----+\n",
            "|            Composer|    1|   2|    3|   4|   5|   6|   7|   8|   9|  10|  11|  12|   13|  14|  15|  16|  17|  18|  19|  20|  21|  22|  23|  24|  25|\n",
            "+--------------------+-----+----+-----+----+----+----+----+----+----+----+----+----+-----+----+----+----+----+----+----+----+----+----+----+----+----+\n",
            "|Marisa Monte/poem...| null|null| null|null|null|null|0.99|null|null|null|null|null| null|null|null|null|null|null|null|null|null|null|null|null|null|\n",
            "|Charles Bobbitt/J...| null|null| null|null|null|null|null|null|null|null|null|null| null|1.98|null|null|null|null|null|null|null|null|null|null|null|\n",
            "|         J. Satriani| 3.96|null| null|null|null|null|null|null|null|null|null|null| null|null|null|null|null|null|null|null|null|null|null|null|null|\n",
            "|        Steve Harris|25.74|null|35.64|null|null|4.95|null|null|null|null|null|null|12.87|null|null|null|null|null|null|null|null|null|null|null|null|\n",
            "|Domenil/J. Brito/...| null|null| null|null|null|null|0.99|null|null|null|null|null| null|null|null|null|null|null|null|null|null|null|null|null|null|\n",
            "|Bert Russell/Phil...| null|null| null|null|0.99|null|null|null|null|null|null|null| null|null|null|null|null|null|null|null|null|null|null|null|null|\n",
            "|     Julian Crampton| null|0.99| null|null|null|null|null|null|null|null|null|null| null|null|null|null|null|null|null|null|null|null|null|null|null|\n",
            "|Richie Blackmore,...| 4.95|null| null|null|null|null|null|null|null|null|null|null| null|null|null|null|null|null|null|null|null|null|null|null|null|\n",
            "|jon lord/roger gl...| 1.98|null| null|null|null|null|null|null|null|null|null|null| null|null|null|null|null|null|null|null|null|null|null|null|null|\n",
            "|Doyle Bramhall/St...| null|null| null|null|null|3.96|null|null|null|null|null|null| null|null|null|null|null|null|null|null|null|null|null|null|null|\n",
            "|Audioslave/Chris ...|13.86|null| null|null|null|null|null|null|null|null|null|null| null|null|null|null|null|null|null|null|null|null|null|null|null|\n",
            "|      Hector Berlioz| null|null| null|null|null|null|null|null|null|null|null|null| null|null|null|null|null|null|null|null|null|null|null|0.99|null|\n",
            "|Peter Ilyich Tcha...| null|null| null|null|null|null|null|null|null|null|null|null| null|null|null|null|null|null|null|null|null|null|null|0.99|null|\n",
            "|      Carlos Santana| 2.97|null| null|null|null|null|null|null|null|null|null|null| null|null|null|null|null|null|null|null|null|null|null|null|null|\n",
            "|Bill Gould/Jon Hu...| null|null| null|1.98|null|null|null|null|null|null|null|null| null|null|null|null|null|null|null|null|null|null|null|null|null|\n",
            "|L. Kerslake, O. O...| 0.99|null| null|null|null|null|null|null|null|null|null|null| null|null|null|null|null|null|null|null|null|null|null|null|null|\n",
            "|           Jim Beard| null|1.98| null|null|null|null|null|null|null|null|null|null| null|null|null|null|null|null|null|null|null|null|null|null|null|\n",
            "|Leão, Rodrigo F./...| 0.99|null| null|null|null|null|null|null|null|null|null|null| null|null|null|null|null|null|null|null|null|null|null|null|null|\n",
            "|Almir Guineto/Ded...| null|null| null|null|null|null|0.99|null|null|null|null|null| null|null|null|null|null|null|null|null|null|null|null|null|null|\n",
            "|Dominguinhos/Gilb...| null|null| null|null|null|null|null|null|null|0.99|null|null| null|null|null|null|null|null|null|null|null|null|null|null|null|\n",
            "+--------------------+-----+----+-----+----+----+----+----+----+----+----+----+----+-----+----+----+----+----+----+----+----+----+----+----+----+----+\n",
            "only showing top 20 rows\n",
            "\n"
          ]
        }
      ]
    },
    {
      "cell_type": "markdown",
      "source": [
        "# **7.1 Window Function**"
      ],
      "metadata": {
        "id": "W5y4bzT17qea"
      }
    },
    {
      "cell_type": "code",
      "source": [
        "# instalar as dependencias\n",
        "# baixar a versão mais recente do java8;\n",
        "!apt-get install openjdk-8-jdk-headless -qq > /dev/null\n",
        "#download via stp do hadoop\n",
        "!wget -q https://dlcdn.apache.org/spark/spark-3.4.3/spark-3.4.3-bin-hadoop3.tgz\n",
        "!tar xf spark-3.4.3-bin-hadoop3.tgz\n",
        "# instalar o Findspark\n",
        "!pip install -q findspark"
      ],
      "metadata": {
        "id": "l8qZqSz674i-"
      },
      "execution_count": null,
      "outputs": []
    },
    {
      "cell_type": "code",
      "source": [
        "import os\n",
        "os.environ[\"JAVA_HOME\"] = \"/usr/lib/jvm/java-8-openjdk-amd64\"\n",
        "os.environ[\"SPARK_HOME\"] = \"/content/sample_data/spark-3.4.3-bin-hadoop3\"\n",
        "\n",
        "# utilizando findspark para que o spark seja \"importavel\"\n",
        "import findspark\n",
        "findspark.init('spark-3.4.3-bin-hadoop3')"
      ],
      "metadata": {
        "id": "cwOj8Uyk76X7"
      },
      "execution_count": null,
      "outputs": []
    },
    {
      "cell_type": "markdown",
      "source": [
        "SparkSession"
      ],
      "metadata": {
        "id": "99f5VInS8BR5"
      }
    },
    {
      "cell_type": "code",
      "source": [
        "# SparkSession\n",
        "from pyspark.sql import SparkSession\n",
        "# Funções de colunas\n",
        "from pyspark.sql import functions as F\n",
        "\n",
        "from pyspark.sql.window import Window as W\n",
        "\n",
        "# Subir o arquivos jdbc na pasta jars do spark e subir o arquivo vendas.db.\n",
        "spark = SparkSession.builder\\\n",
        "  .appName('aula6')\\\n",
        "  .master('local')\\\n",
        "  .getOrCreate();"
      ],
      "metadata": {
        "id": "ibn13sJN8Dy7"
      },
      "execution_count": null,
      "outputs": []
    },
    {
      "cell_type": "markdown",
      "source": [
        "Leitura do dataframe"
      ],
      "metadata": {
        "id": "tr6la2kZ8Qjy"
      }
    },
    {
      "cell_type": "code",
      "source": [
        "import pandas as pd\n",
        "df = pd.read_csv('/content/sample_data/populacao-por-municipio-2019.csv')\n",
        "type(df)"
      ],
      "metadata": {
        "colab": {
          "base_uri": "https://localhost:8080/",
          "height": 204
        },
        "id": "jcHFIzxF8Tgz",
        "outputId": "d9b791db-96a9-457c-97f0-ffe11c648ed1"
      },
      "execution_count": null,
      "outputs": [
        {
          "output_type": "execute_result",
          "data": {
            "text/plain": [
              "pandas.core.frame.DataFrame"
            ],
            "text/html": [
              "<div style=\"max-width:800px; border: 1px solid var(--colab-border-color);\"><style>\n",
              "      pre.function-repr-contents {\n",
              "        overflow-x: auto;\n",
              "        padding: 8px 12px;\n",
              "        max-height: 500px;\n",
              "      }\n",
              "\n",
              "      pre.function-repr-contents.function-repr-contents-collapsed {\n",
              "        cursor: pointer;\n",
              "        max-height: 100px;\n",
              "      }\n",
              "    </style>\n",
              "    <pre style=\"white-space: initial; background:\n",
              "         var(--colab-secondary-surface-color); padding: 8px 12px;\n",
              "         border-bottom: 1px solid var(--colab-border-color);\"><b>pandas.core.frame.DataFrame</b><br/>def __init__(data=None, index: Axes | None=None, columns: Axes | None=None, dtype: Dtype | None=None, copy: bool | None=None) -&gt; None</pre><pre class=\"function-repr-contents function-repr-contents-collapsed\" style=\"\"><a class=\"filepath\" style=\"display:none\" href=\"#\">/usr/local/lib/python3.10/dist-packages/pandas/core/frame.py</a>Two-dimensional, size-mutable, potentially heterogeneous tabular data.\n",
              "\n",
              "Data structure also contains labeled axes (rows and columns).\n",
              "Arithmetic operations align on both row and column labels. Can be\n",
              "thought of as a dict-like container for Series objects. The primary\n",
              "pandas data structure.\n",
              "\n",
              "Parameters\n",
              "----------\n",
              "data : ndarray (structured or homogeneous), Iterable, dict, or DataFrame\n",
              "    Dict can contain Series, arrays, constants, dataclass or list-like objects. If\n",
              "    data is a dict, column order follows insertion-order. If a dict contains Series\n",
              "    which have an index defined, it is aligned by its index. This alignment also\n",
              "    occurs if data is a Series or a DataFrame itself. Alignment is done on\n",
              "    Series/DataFrame inputs.\n",
              "\n",
              "    If data is a list of dicts, column order follows insertion-order.\n",
              "\n",
              "index : Index or array-like\n",
              "    Index to use for resulting frame. Will default to RangeIndex if\n",
              "    no indexing information part of input data and no index provided.\n",
              "columns : Index or array-like\n",
              "    Column labels to use for resulting frame when data does not have them,\n",
              "    defaulting to RangeIndex(0, 1, 2, ..., n). If data contains column labels,\n",
              "    will perform column selection instead.\n",
              "dtype : dtype, default None\n",
              "    Data type to force. Only a single dtype is allowed. If None, infer.\n",
              "copy : bool or None, default None\n",
              "    Copy data from inputs.\n",
              "    For dict data, the default of None behaves like ``copy=True``.  For DataFrame\n",
              "    or 2d ndarray input, the default of None behaves like ``copy=False``.\n",
              "    If data is a dict containing one or more Series (possibly of different dtypes),\n",
              "    ``copy=False`` will ensure that these inputs are not copied.\n",
              "\n",
              "    .. versionchanged:: 1.3.0\n",
              "\n",
              "See Also\n",
              "--------\n",
              "DataFrame.from_records : Constructor from tuples, also record arrays.\n",
              "DataFrame.from_dict : From dicts of Series, arrays, or dicts.\n",
              "read_csv : Read a comma-separated values (csv) file into DataFrame.\n",
              "read_table : Read general delimited file into DataFrame.\n",
              "read_clipboard : Read text from clipboard into DataFrame.\n",
              "\n",
              "Notes\n",
              "-----\n",
              "Please reference the :ref:`User Guide &lt;basics.dataframe&gt;` for more information.\n",
              "\n",
              "Examples\n",
              "--------\n",
              "Constructing DataFrame from a dictionary.\n",
              "\n",
              "&gt;&gt;&gt; d = {&#x27;col1&#x27;: [1, 2], &#x27;col2&#x27;: [3, 4]}\n",
              "&gt;&gt;&gt; df = pd.DataFrame(data=d)\n",
              "&gt;&gt;&gt; df\n",
              "   col1  col2\n",
              "0     1     3\n",
              "1     2     4\n",
              "\n",
              "Notice that the inferred dtype is int64.\n",
              "\n",
              "&gt;&gt;&gt; df.dtypes\n",
              "col1    int64\n",
              "col2    int64\n",
              "dtype: object\n",
              "\n",
              "To enforce a single dtype:\n",
              "\n",
              "&gt;&gt;&gt; df = pd.DataFrame(data=d, dtype=np.int8)\n",
              "&gt;&gt;&gt; df.dtypes\n",
              "col1    int8\n",
              "col2    int8\n",
              "dtype: object\n",
              "\n",
              "Constructing DataFrame from a dictionary including Series:\n",
              "\n",
              "&gt;&gt;&gt; d = {&#x27;col1&#x27;: [0, 1, 2, 3], &#x27;col2&#x27;: pd.Series([2, 3], index=[2, 3])}\n",
              "&gt;&gt;&gt; pd.DataFrame(data=d, index=[0, 1, 2, 3])\n",
              "   col1  col2\n",
              "0     0   NaN\n",
              "1     1   NaN\n",
              "2     2   2.0\n",
              "3     3   3.0\n",
              "\n",
              "Constructing DataFrame from numpy ndarray:\n",
              "\n",
              "&gt;&gt;&gt; df2 = pd.DataFrame(np.array([[1, 2, 3], [4, 5, 6], [7, 8, 9]]),\n",
              "...                    columns=[&#x27;a&#x27;, &#x27;b&#x27;, &#x27;c&#x27;])\n",
              "&gt;&gt;&gt; df2\n",
              "   a  b  c\n",
              "0  1  2  3\n",
              "1  4  5  6\n",
              "2  7  8  9\n",
              "\n",
              "Constructing DataFrame from a numpy ndarray that has labeled columns:\n",
              "\n",
              "&gt;&gt;&gt; data = np.array([(1, 2, 3), (4, 5, 6), (7, 8, 9)],\n",
              "...                 dtype=[(&quot;a&quot;, &quot;i4&quot;), (&quot;b&quot;, &quot;i4&quot;), (&quot;c&quot;, &quot;i4&quot;)])\n",
              "&gt;&gt;&gt; df3 = pd.DataFrame(data, columns=[&#x27;c&#x27;, &#x27;a&#x27;])\n",
              "...\n",
              "&gt;&gt;&gt; df3\n",
              "   c  a\n",
              "0  3  1\n",
              "1  6  4\n",
              "2  9  7\n",
              "\n",
              "Constructing DataFrame from dataclass:\n",
              "\n",
              "&gt;&gt;&gt; from dataclasses import make_dataclass\n",
              "&gt;&gt;&gt; Point = make_dataclass(&quot;Point&quot;, [(&quot;x&quot;, int), (&quot;y&quot;, int)])\n",
              "&gt;&gt;&gt; pd.DataFrame([Point(0, 0), Point(0, 3), Point(2, 3)])\n",
              "   x  y\n",
              "0  0  0\n",
              "1  0  3\n",
              "2  2  3\n",
              "\n",
              "Constructing DataFrame from Series/DataFrame:\n",
              "\n",
              "&gt;&gt;&gt; ser = pd.Series([1, 2, 3], index=[&quot;a&quot;, &quot;b&quot;, &quot;c&quot;])\n",
              "&gt;&gt;&gt; df = pd.DataFrame(data=ser, index=[&quot;a&quot;, &quot;c&quot;])\n",
              "&gt;&gt;&gt; df\n",
              "   0\n",
              "a  1\n",
              "c  3\n",
              "\n",
              "&gt;&gt;&gt; df1 = pd.DataFrame([1, 2, 3], index=[&quot;a&quot;, &quot;b&quot;, &quot;c&quot;], columns=[&quot;x&quot;])\n",
              "&gt;&gt;&gt; df2 = pd.DataFrame(data=df1, index=[&quot;a&quot;, &quot;c&quot;])\n",
              "&gt;&gt;&gt; df2\n",
              "   x\n",
              "a  1\n",
              "c  3</pre>\n",
              "      <script>\n",
              "      if (google.colab.kernel.accessAllowed && google.colab.files && google.colab.files.view) {\n",
              "        for (const element of document.querySelectorAll('.filepath')) {\n",
              "          element.style.display = 'block'\n",
              "          element.onclick = (event) => {\n",
              "            event.preventDefault();\n",
              "            event.stopPropagation();\n",
              "            google.colab.files.view(element.textContent, 490);\n",
              "          };\n",
              "        }\n",
              "      }\n",
              "      for (const element of document.querySelectorAll('.function-repr-contents')) {\n",
              "        element.onclick = (event) => {\n",
              "          event.preventDefault();\n",
              "          event.stopPropagation();\n",
              "          element.classList.toggle('function-repr-contents-collapsed');\n",
              "        };\n",
              "      }\n",
              "      </script>\n",
              "      </div>"
            ]
          },
          "metadata": {},
          "execution_count": 157
        }
      ]
    },
    {
      "cell_type": "code",
      "source": [
        "df"
      ],
      "metadata": {
        "colab": {
          "base_uri": "https://localhost:8080/",
          "height": 424
        },
        "id": "E8MH0j1GFZ14",
        "outputId": "a4b7d810-d71e-400e-cb2f-b5d0eacdfb19"
      },
      "execution_count": null,
      "outputs": [
        {
          "output_type": "execute_result",
          "data": {
            "text/plain": [
              "     state  state_ibge_code  city_ibge_code            city  \\\n",
              "0       AC               12         1200013      Acrelândia   \n",
              "1       AC               12         1200054    Assis Brasil   \n",
              "2       AC               12         1200104       Brasiléia   \n",
              "3       AC               12         1200138          Bujari   \n",
              "4       AC               12         1200179        Capixaba   \n",
              "...    ...              ...             ...             ...   \n",
              "5565    TO               17         1721208  Tocantinópolis   \n",
              "5566    TO               17         1721257        Tupirama   \n",
              "5567    TO               17         1721307      Tupiratins   \n",
              "5568    TO               17         1722081    Wanderlândia   \n",
              "5569    TO               17         1722107         Xambioá   \n",
              "\n",
              "      estimated_population  \n",
              "0                    15256  \n",
              "1                     7417  \n",
              "2                    26278  \n",
              "3                    10266  \n",
              "4                    11733  \n",
              "...                    ...  \n",
              "5565                 22870  \n",
              "5566                  1891  \n",
              "5567                  2671  \n",
              "5568                 11683  \n",
              "5569                 11540  \n",
              "\n",
              "[5570 rows x 5 columns]"
            ],
            "text/html": [
              "\n",
              "  <div id=\"df-50070acb-32de-44f3-8dc4-e971d1b7103c\" class=\"colab-df-container\">\n",
              "    <div>\n",
              "<style scoped>\n",
              "    .dataframe tbody tr th:only-of-type {\n",
              "        vertical-align: middle;\n",
              "    }\n",
              "\n",
              "    .dataframe tbody tr th {\n",
              "        vertical-align: top;\n",
              "    }\n",
              "\n",
              "    .dataframe thead th {\n",
              "        text-align: right;\n",
              "    }\n",
              "</style>\n",
              "<table border=\"1\" class=\"dataframe\">\n",
              "  <thead>\n",
              "    <tr style=\"text-align: right;\">\n",
              "      <th></th>\n",
              "      <th>state</th>\n",
              "      <th>state_ibge_code</th>\n",
              "      <th>city_ibge_code</th>\n",
              "      <th>city</th>\n",
              "      <th>estimated_population</th>\n",
              "    </tr>\n",
              "  </thead>\n",
              "  <tbody>\n",
              "    <tr>\n",
              "      <th>0</th>\n",
              "      <td>AC</td>\n",
              "      <td>12</td>\n",
              "      <td>1200013</td>\n",
              "      <td>Acrelândia</td>\n",
              "      <td>15256</td>\n",
              "    </tr>\n",
              "    <tr>\n",
              "      <th>1</th>\n",
              "      <td>AC</td>\n",
              "      <td>12</td>\n",
              "      <td>1200054</td>\n",
              "      <td>Assis Brasil</td>\n",
              "      <td>7417</td>\n",
              "    </tr>\n",
              "    <tr>\n",
              "      <th>2</th>\n",
              "      <td>AC</td>\n",
              "      <td>12</td>\n",
              "      <td>1200104</td>\n",
              "      <td>Brasiléia</td>\n",
              "      <td>26278</td>\n",
              "    </tr>\n",
              "    <tr>\n",
              "      <th>3</th>\n",
              "      <td>AC</td>\n",
              "      <td>12</td>\n",
              "      <td>1200138</td>\n",
              "      <td>Bujari</td>\n",
              "      <td>10266</td>\n",
              "    </tr>\n",
              "    <tr>\n",
              "      <th>4</th>\n",
              "      <td>AC</td>\n",
              "      <td>12</td>\n",
              "      <td>1200179</td>\n",
              "      <td>Capixaba</td>\n",
              "      <td>11733</td>\n",
              "    </tr>\n",
              "    <tr>\n",
              "      <th>...</th>\n",
              "      <td>...</td>\n",
              "      <td>...</td>\n",
              "      <td>...</td>\n",
              "      <td>...</td>\n",
              "      <td>...</td>\n",
              "    </tr>\n",
              "    <tr>\n",
              "      <th>5565</th>\n",
              "      <td>TO</td>\n",
              "      <td>17</td>\n",
              "      <td>1721208</td>\n",
              "      <td>Tocantinópolis</td>\n",
              "      <td>22870</td>\n",
              "    </tr>\n",
              "    <tr>\n",
              "      <th>5566</th>\n",
              "      <td>TO</td>\n",
              "      <td>17</td>\n",
              "      <td>1721257</td>\n",
              "      <td>Tupirama</td>\n",
              "      <td>1891</td>\n",
              "    </tr>\n",
              "    <tr>\n",
              "      <th>5567</th>\n",
              "      <td>TO</td>\n",
              "      <td>17</td>\n",
              "      <td>1721307</td>\n",
              "      <td>Tupiratins</td>\n",
              "      <td>2671</td>\n",
              "    </tr>\n",
              "    <tr>\n",
              "      <th>5568</th>\n",
              "      <td>TO</td>\n",
              "      <td>17</td>\n",
              "      <td>1722081</td>\n",
              "      <td>Wanderlândia</td>\n",
              "      <td>11683</td>\n",
              "    </tr>\n",
              "    <tr>\n",
              "      <th>5569</th>\n",
              "      <td>TO</td>\n",
              "      <td>17</td>\n",
              "      <td>1722107</td>\n",
              "      <td>Xambioá</td>\n",
              "      <td>11540</td>\n",
              "    </tr>\n",
              "  </tbody>\n",
              "</table>\n",
              "<p>5570 rows × 5 columns</p>\n",
              "</div>\n",
              "    <div class=\"colab-df-buttons\">\n",
              "\n",
              "  <div class=\"colab-df-container\">\n",
              "    <button class=\"colab-df-convert\" onclick=\"convertToInteractive('df-50070acb-32de-44f3-8dc4-e971d1b7103c')\"\n",
              "            title=\"Convert this dataframe to an interactive table.\"\n",
              "            style=\"display:none;\">\n",
              "\n",
              "  <svg xmlns=\"http://www.w3.org/2000/svg\" height=\"24px\" viewBox=\"0 -960 960 960\">\n",
              "    <path d=\"M120-120v-720h720v720H120Zm60-500h600v-160H180v160Zm220 220h160v-160H400v160Zm0 220h160v-160H400v160ZM180-400h160v-160H180v160Zm440 0h160v-160H620v160ZM180-180h160v-160H180v160Zm440 0h160v-160H620v160Z\"/>\n",
              "  </svg>\n",
              "    </button>\n",
              "\n",
              "  <style>\n",
              "    .colab-df-container {\n",
              "      display:flex;\n",
              "      gap: 12px;\n",
              "    }\n",
              "\n",
              "    .colab-df-convert {\n",
              "      background-color: #E8F0FE;\n",
              "      border: none;\n",
              "      border-radius: 50%;\n",
              "      cursor: pointer;\n",
              "      display: none;\n",
              "      fill: #1967D2;\n",
              "      height: 32px;\n",
              "      padding: 0 0 0 0;\n",
              "      width: 32px;\n",
              "    }\n",
              "\n",
              "    .colab-df-convert:hover {\n",
              "      background-color: #E2EBFA;\n",
              "      box-shadow: 0px 1px 2px rgba(60, 64, 67, 0.3), 0px 1px 3px 1px rgba(60, 64, 67, 0.15);\n",
              "      fill: #174EA6;\n",
              "    }\n",
              "\n",
              "    .colab-df-buttons div {\n",
              "      margin-bottom: 4px;\n",
              "    }\n",
              "\n",
              "    [theme=dark] .colab-df-convert {\n",
              "      background-color: #3B4455;\n",
              "      fill: #D2E3FC;\n",
              "    }\n",
              "\n",
              "    [theme=dark] .colab-df-convert:hover {\n",
              "      background-color: #434B5C;\n",
              "      box-shadow: 0px 1px 3px 1px rgba(0, 0, 0, 0.15);\n",
              "      filter: drop-shadow(0px 1px 2px rgba(0, 0, 0, 0.3));\n",
              "      fill: #FFFFFF;\n",
              "    }\n",
              "  </style>\n",
              "\n",
              "    <script>\n",
              "      const buttonEl =\n",
              "        document.querySelector('#df-50070acb-32de-44f3-8dc4-e971d1b7103c button.colab-df-convert');\n",
              "      buttonEl.style.display =\n",
              "        google.colab.kernel.accessAllowed ? 'block' : 'none';\n",
              "\n",
              "      async function convertToInteractive(key) {\n",
              "        const element = document.querySelector('#df-50070acb-32de-44f3-8dc4-e971d1b7103c');\n",
              "        const dataTable =\n",
              "          await google.colab.kernel.invokeFunction('convertToInteractive',\n",
              "                                                    [key], {});\n",
              "        if (!dataTable) return;\n",
              "\n",
              "        const docLinkHtml = 'Like what you see? Visit the ' +\n",
              "          '<a target=\"_blank\" href=https://colab.research.google.com/notebooks/data_table.ipynb>data table notebook</a>'\n",
              "          + ' to learn more about interactive tables.';\n",
              "        element.innerHTML = '';\n",
              "        dataTable['output_type'] = 'display_data';\n",
              "        await google.colab.output.renderOutput(dataTable, element);\n",
              "        const docLink = document.createElement('div');\n",
              "        docLink.innerHTML = docLinkHtml;\n",
              "        element.appendChild(docLink);\n",
              "      }\n",
              "    </script>\n",
              "  </div>\n",
              "\n",
              "\n",
              "<div id=\"df-c0a2b653-4fee-4057-9a67-db387bda4c82\">\n",
              "  <button class=\"colab-df-quickchart\" onclick=\"quickchart('df-c0a2b653-4fee-4057-9a67-db387bda4c82')\"\n",
              "            title=\"Suggest charts\"\n",
              "            style=\"display:none;\">\n",
              "\n",
              "<svg xmlns=\"http://www.w3.org/2000/svg\" height=\"24px\"viewBox=\"0 0 24 24\"\n",
              "     width=\"24px\">\n",
              "    <g>\n",
              "        <path d=\"M19 3H5c-1.1 0-2 .9-2 2v14c0 1.1.9 2 2 2h14c1.1 0 2-.9 2-2V5c0-1.1-.9-2-2-2zM9 17H7v-7h2v7zm4 0h-2V7h2v10zm4 0h-2v-4h2v4z\"/>\n",
              "    </g>\n",
              "</svg>\n",
              "  </button>\n",
              "\n",
              "<style>\n",
              "  .colab-df-quickchart {\n",
              "      --bg-color: #E8F0FE;\n",
              "      --fill-color: #1967D2;\n",
              "      --hover-bg-color: #E2EBFA;\n",
              "      --hover-fill-color: #174EA6;\n",
              "      --disabled-fill-color: #AAA;\n",
              "      --disabled-bg-color: #DDD;\n",
              "  }\n",
              "\n",
              "  [theme=dark] .colab-df-quickchart {\n",
              "      --bg-color: #3B4455;\n",
              "      --fill-color: #D2E3FC;\n",
              "      --hover-bg-color: #434B5C;\n",
              "      --hover-fill-color: #FFFFFF;\n",
              "      --disabled-bg-color: #3B4455;\n",
              "      --disabled-fill-color: #666;\n",
              "  }\n",
              "\n",
              "  .colab-df-quickchart {\n",
              "    background-color: var(--bg-color);\n",
              "    border: none;\n",
              "    border-radius: 50%;\n",
              "    cursor: pointer;\n",
              "    display: none;\n",
              "    fill: var(--fill-color);\n",
              "    height: 32px;\n",
              "    padding: 0;\n",
              "    width: 32px;\n",
              "  }\n",
              "\n",
              "  .colab-df-quickchart:hover {\n",
              "    background-color: var(--hover-bg-color);\n",
              "    box-shadow: 0 1px 2px rgba(60, 64, 67, 0.3), 0 1px 3px 1px rgba(60, 64, 67, 0.15);\n",
              "    fill: var(--button-hover-fill-color);\n",
              "  }\n",
              "\n",
              "  .colab-df-quickchart-complete:disabled,\n",
              "  .colab-df-quickchart-complete:disabled:hover {\n",
              "    background-color: var(--disabled-bg-color);\n",
              "    fill: var(--disabled-fill-color);\n",
              "    box-shadow: none;\n",
              "  }\n",
              "\n",
              "  .colab-df-spinner {\n",
              "    border: 2px solid var(--fill-color);\n",
              "    border-color: transparent;\n",
              "    border-bottom-color: var(--fill-color);\n",
              "    animation:\n",
              "      spin 1s steps(1) infinite;\n",
              "  }\n",
              "\n",
              "  @keyframes spin {\n",
              "    0% {\n",
              "      border-color: transparent;\n",
              "      border-bottom-color: var(--fill-color);\n",
              "      border-left-color: var(--fill-color);\n",
              "    }\n",
              "    20% {\n",
              "      border-color: transparent;\n",
              "      border-left-color: var(--fill-color);\n",
              "      border-top-color: var(--fill-color);\n",
              "    }\n",
              "    30% {\n",
              "      border-color: transparent;\n",
              "      border-left-color: var(--fill-color);\n",
              "      border-top-color: var(--fill-color);\n",
              "      border-right-color: var(--fill-color);\n",
              "    }\n",
              "    40% {\n",
              "      border-color: transparent;\n",
              "      border-right-color: var(--fill-color);\n",
              "      border-top-color: var(--fill-color);\n",
              "    }\n",
              "    60% {\n",
              "      border-color: transparent;\n",
              "      border-right-color: var(--fill-color);\n",
              "    }\n",
              "    80% {\n",
              "      border-color: transparent;\n",
              "      border-right-color: var(--fill-color);\n",
              "      border-bottom-color: var(--fill-color);\n",
              "    }\n",
              "    90% {\n",
              "      border-color: transparent;\n",
              "      border-bottom-color: var(--fill-color);\n",
              "    }\n",
              "  }\n",
              "</style>\n",
              "\n",
              "  <script>\n",
              "    async function quickchart(key) {\n",
              "      const quickchartButtonEl =\n",
              "        document.querySelector('#' + key + ' button');\n",
              "      quickchartButtonEl.disabled = true;  // To prevent multiple clicks.\n",
              "      quickchartButtonEl.classList.add('colab-df-spinner');\n",
              "      try {\n",
              "        const charts = await google.colab.kernel.invokeFunction(\n",
              "            'suggestCharts', [key], {});\n",
              "      } catch (error) {\n",
              "        console.error('Error during call to suggestCharts:', error);\n",
              "      }\n",
              "      quickchartButtonEl.classList.remove('colab-df-spinner');\n",
              "      quickchartButtonEl.classList.add('colab-df-quickchart-complete');\n",
              "    }\n",
              "    (() => {\n",
              "      let quickchartButtonEl =\n",
              "        document.querySelector('#df-c0a2b653-4fee-4057-9a67-db387bda4c82 button');\n",
              "      quickchartButtonEl.style.display =\n",
              "        google.colab.kernel.accessAllowed ? 'block' : 'none';\n",
              "    })();\n",
              "  </script>\n",
              "</div>\n",
              "\n",
              "  <div id=\"id_5d932211-c53f-45ca-bfbb-97408f98a8ef\">\n",
              "    <style>\n",
              "      .colab-df-generate {\n",
              "        background-color: #E8F0FE;\n",
              "        border: none;\n",
              "        border-radius: 50%;\n",
              "        cursor: pointer;\n",
              "        display: none;\n",
              "        fill: #1967D2;\n",
              "        height: 32px;\n",
              "        padding: 0 0 0 0;\n",
              "        width: 32px;\n",
              "      }\n",
              "\n",
              "      .colab-df-generate:hover {\n",
              "        background-color: #E2EBFA;\n",
              "        box-shadow: 0px 1px 2px rgba(60, 64, 67, 0.3), 0px 1px 3px 1px rgba(60, 64, 67, 0.15);\n",
              "        fill: #174EA6;\n",
              "      }\n",
              "\n",
              "      [theme=dark] .colab-df-generate {\n",
              "        background-color: #3B4455;\n",
              "        fill: #D2E3FC;\n",
              "      }\n",
              "\n",
              "      [theme=dark] .colab-df-generate:hover {\n",
              "        background-color: #434B5C;\n",
              "        box-shadow: 0px 1px 3px 1px rgba(0, 0, 0, 0.15);\n",
              "        filter: drop-shadow(0px 1px 2px rgba(0, 0, 0, 0.3));\n",
              "        fill: #FFFFFF;\n",
              "      }\n",
              "    </style>\n",
              "    <button class=\"colab-df-generate\" onclick=\"generateWithVariable('df')\"\n",
              "            title=\"Generate code using this dataframe.\"\n",
              "            style=\"display:none;\">\n",
              "\n",
              "  <svg xmlns=\"http://www.w3.org/2000/svg\" height=\"24px\"viewBox=\"0 0 24 24\"\n",
              "       width=\"24px\">\n",
              "    <path d=\"M7,19H8.4L18.45,9,17,7.55,7,17.6ZM5,21V16.75L18.45,3.32a2,2,0,0,1,2.83,0l1.4,1.43a1.91,1.91,0,0,1,.58,1.4,1.91,1.91,0,0,1-.58,1.4L9.25,21ZM18.45,9,17,7.55Zm-12,3A5.31,5.31,0,0,0,4.9,8.1,5.31,5.31,0,0,0,1,6.5,5.31,5.31,0,0,0,4.9,4.9,5.31,5.31,0,0,0,6.5,1,5.31,5.31,0,0,0,8.1,4.9,5.31,5.31,0,0,0,12,6.5,5.46,5.46,0,0,0,6.5,12Z\"/>\n",
              "  </svg>\n",
              "    </button>\n",
              "    <script>\n",
              "      (() => {\n",
              "      const buttonEl =\n",
              "        document.querySelector('#id_5d932211-c53f-45ca-bfbb-97408f98a8ef button.colab-df-generate');\n",
              "      buttonEl.style.display =\n",
              "        google.colab.kernel.accessAllowed ? 'block' : 'none';\n",
              "\n",
              "      buttonEl.onclick = () => {\n",
              "        google.colab.notebook.generateWithVariable('df');\n",
              "      }\n",
              "      })();\n",
              "    </script>\n",
              "  </div>\n",
              "\n",
              "    </div>\n",
              "  </div>\n"
            ],
            "application/vnd.google.colaboratory.intrinsic+json": {
              "type": "dataframe",
              "variable_name": "df",
              "summary": "{\n  \"name\": \"df\",\n  \"rows\": 5570,\n  \"fields\": [\n    {\n      \"column\": \"state\",\n      \"properties\": {\n        \"dtype\": \"category\",\n        \"num_unique_values\": 27,\n        \"samples\": [\n          \"GO\",\n          \"PA\",\n          \"MA\"\n        ],\n        \"semantic_type\": \"\",\n        \"description\": \"\"\n      }\n    },\n    {\n      \"column\": \"state_ibge_code\",\n      \"properties\": {\n        \"dtype\": \"number\",\n        \"std\": 9,\n        \"min\": 11,\n        \"max\": 53,\n        \"num_unique_values\": 27,\n        \"samples\": [\n          52,\n          15,\n          21\n        ],\n        \"semantic_type\": \"\",\n        \"description\": \"\"\n      }\n    },\n    {\n      \"column\": \"city_ibge_code\",\n      \"properties\": {\n        \"dtype\": \"number\",\n        \"std\": 984910,\n        \"min\": 1100015,\n        \"max\": 5300108,\n        \"num_unique_values\": 5570,\n        \"samples\": [\n          2102325,\n          2311231,\n          2921906\n        ],\n        \"semantic_type\": \"\",\n        \"description\": \"\"\n      }\n    },\n    {\n      \"column\": \"city\",\n      \"properties\": {\n        \"dtype\": \"string\",\n        \"num_unique_values\": 5296,\n        \"samples\": [\n          \"Jussari\",\n          \"Taquaral de Goi\\u00e1s\",\n          \"Aracruz\"\n        ],\n        \"semantic_type\": \"\",\n        \"description\": \"\"\n      }\n    },\n    {\n      \"column\": \"estimated_population\",\n      \"properties\": {\n        \"dtype\": \"number\",\n        \"std\": 221458,\n        \"min\": 781,\n        \"max\": 12252023,\n        \"num_unique_values\": 5077,\n        \"samples\": [\n          232491,\n          8159,\n          10858\n        ],\n        \"semantic_type\": \"\",\n        \"description\": \"\"\n      }\n    }\n  ]\n}"
            }
          },
          "metadata": {},
          "execution_count": 152
        }
      ]
    },
    {
      "cell_type": "code",
      "source": [
        "df = spark.createDataFrame(df)\n",
        "type(df)"
      ],
      "metadata": {
        "colab": {
          "base_uri": "https://localhost:8080/",
          "height": 187
        },
        "id": "z9xKUyYo9L_j",
        "outputId": "447e4b8f-0553-422c-ae12-e8865cd0f10c"
      },
      "execution_count": null,
      "outputs": [
        {
          "output_type": "execute_result",
          "data": {
            "text/plain": [
              "pyspark.sql.dataframe.DataFrame"
            ],
            "text/html": [
              "<div style=\"max-width:800px; border: 1px solid var(--colab-border-color);\"><style>\n",
              "      pre.function-repr-contents {\n",
              "        overflow-x: auto;\n",
              "        padding: 8px 12px;\n",
              "        max-height: 500px;\n",
              "      }\n",
              "\n",
              "      pre.function-repr-contents.function-repr-contents-collapsed {\n",
              "        cursor: pointer;\n",
              "        max-height: 100px;\n",
              "      }\n",
              "    </style>\n",
              "    <pre style=\"white-space: initial; background:\n",
              "         var(--colab-secondary-surface-color); padding: 8px 12px;\n",
              "         border-bottom: 1px solid var(--colab-border-color);\"><b>pyspark.sql.dataframe.DataFrame</b><br/>def __init__(jdf: JavaObject, sql_ctx: Union[&#x27;SQLContext&#x27;, &#x27;SparkSession&#x27;])</pre><pre class=\"function-repr-contents function-repr-contents-collapsed\" style=\"\"><a class=\"filepath\" style=\"display:none\" href=\"#\">/content/spark-3.4.3-bin-hadoop3/python/pyspark/sql/dataframe.py</a>A distributed collection of data grouped into named columns.\n",
              "\n",
              ".. versionadded:: 1.3.0\n",
              "\n",
              ".. versionchanged:: 3.4.0\n",
              "    Supports Spark Connect.\n",
              "\n",
              "Examples\n",
              "--------\n",
              "A :class:`DataFrame` is equivalent to a relational table in Spark SQL,\n",
              "and can be created using various functions in :class:`SparkSession`:\n",
              "\n",
              "&gt;&gt;&gt; people = spark.createDataFrame([\n",
              "...     {&quot;deptId&quot;: 1, &quot;age&quot;: 40, &quot;name&quot;: &quot;Hyukjin Kwon&quot;, &quot;gender&quot;: &quot;M&quot;, &quot;salary&quot;: 50},\n",
              "...     {&quot;deptId&quot;: 1, &quot;age&quot;: 50, &quot;name&quot;: &quot;Takuya Ueshin&quot;, &quot;gender&quot;: &quot;M&quot;, &quot;salary&quot;: 100},\n",
              "...     {&quot;deptId&quot;: 2, &quot;age&quot;: 60, &quot;name&quot;: &quot;Xinrong Meng&quot;, &quot;gender&quot;: &quot;F&quot;, &quot;salary&quot;: 150},\n",
              "...     {&quot;deptId&quot;: 3, &quot;age&quot;: 20, &quot;name&quot;: &quot;Haejoon Lee&quot;, &quot;gender&quot;: &quot;M&quot;, &quot;salary&quot;: 200}\n",
              "... ])\n",
              "\n",
              "Once created, it can be manipulated using the various domain-specific-language\n",
              "(DSL) functions defined in: :class:`DataFrame`, :class:`Column`.\n",
              "\n",
              "To select a column from the :class:`DataFrame`, use the apply method:\n",
              "\n",
              "&gt;&gt;&gt; age_col = people.age\n",
              "\n",
              "A more concrete example:\n",
              "\n",
              "&gt;&gt;&gt; # To create DataFrame using SparkSession\n",
              "... department = spark.createDataFrame([\n",
              "...     {&quot;id&quot;: 1, &quot;name&quot;: &quot;PySpark&quot;},\n",
              "...     {&quot;id&quot;: 2, &quot;name&quot;: &quot;ML&quot;},\n",
              "...     {&quot;id&quot;: 3, &quot;name&quot;: &quot;Spark SQL&quot;}\n",
              "... ])\n",
              "\n",
              "&gt;&gt;&gt; people.filter(people.age &gt; 30).join(\n",
              "...     department, people.deptId == department.id).groupBy(\n",
              "...     department.name, &quot;gender&quot;).agg({&quot;salary&quot;: &quot;avg&quot;, &quot;age&quot;: &quot;max&quot;}).show()\n",
              "+-------+------+-----------+--------+\n",
              "|   name|gender|avg(salary)|max(age)|\n",
              "+-------+------+-----------+--------+\n",
              "|     ML|     F|      150.0|      60|\n",
              "|PySpark|     M|       75.0|      50|\n",
              "+-------+------+-----------+--------+\n",
              "\n",
              "Notes\n",
              "-----\n",
              "A DataFrame should only be created as described above. It should not be directly\n",
              "created via using the constructor.</pre>\n",
              "      <script>\n",
              "      if (google.colab.kernel.accessAllowed && google.colab.files && google.colab.files.view) {\n",
              "        for (const element of document.querySelectorAll('.filepath')) {\n",
              "          element.style.display = 'block'\n",
              "          element.onclick = (event) => {\n",
              "            event.preventDefault();\n",
              "            event.stopPropagation();\n",
              "            google.colab.files.view(element.textContent, 81);\n",
              "          };\n",
              "        }\n",
              "      }\n",
              "      for (const element of document.querySelectorAll('.function-repr-contents')) {\n",
              "        element.onclick = (event) => {\n",
              "          event.preventDefault();\n",
              "          event.stopPropagation();\n",
              "          element.classList.toggle('function-repr-contents-collapsed');\n",
              "        };\n",
              "      }\n",
              "      </script>\n",
              "      </div>"
            ]
          },
          "metadata": {},
          "execution_count": 158
        }
      ]
    },
    {
      "cell_type": "code",
      "source": [
        "df.show()"
      ],
      "metadata": {
        "colab": {
          "base_uri": "https://localhost:8080/"
        },
        "id": "a8_4MxOM9-Dc",
        "outputId": "58a85a6a-3d95-443f-d381-448d41d0b193"
      },
      "execution_count": null,
      "outputs": [
        {
          "output_type": "stream",
          "name": "stdout",
          "text": [
            "+-----+---------------+--------------+--------------------+--------------------+\n",
            "|state|state_ibge_code|city_ibge_code|                city|estimated_population|\n",
            "+-----+---------------+--------------+--------------------+--------------------+\n",
            "|   AC|             12|       1200013|          Acrelândia|               15256|\n",
            "|   AC|             12|       1200054|        Assis Brasil|                7417|\n",
            "|   AC|             12|       1200104|           Brasiléia|               26278|\n",
            "|   AC|             12|       1200138|              Bujari|               10266|\n",
            "|   AC|             12|       1200179|            Capixaba|               11733|\n",
            "|   AC|             12|       1200203|     Cruzeiro do Sul|               88376|\n",
            "|   AC|             12|       1200252|      Epitaciolândia|               18411|\n",
            "|   AC|             12|       1200302|               Feijó|               34780|\n",
            "|   AC|             12|       1200328|              Jordão|                8317|\n",
            "|   AC|             12|       1200336|         Mâncio Lima|               18977|\n",
            "|   AC|             12|       1200344|       Manoel Urbano|                9459|\n",
            "|   AC|             12|       1200351|Marechal Thaumaturgo|               18867|\n",
            "|   AC|             12|       1200385|   Plácido de Castro|               19761|\n",
            "|   AC|             12|       1200807|          Porto Acre|               18504|\n",
            "|   AC|             12|       1200393|        Porto Walter|               11982|\n",
            "|   AC|             12|       1200401|          Rio Branco|              407319|\n",
            "|   AC|             12|       1200427|     Rodrigues Alves|               18930|\n",
            "|   AC|             12|       1200435| Santa Rosa do Purus|                6540|\n",
            "|   AC|             12|       1200500|      Sena Madureira|               45848|\n",
            "|   AC|             12|       1200450|    Senador Guiomard|               23024|\n",
            "+-----+---------------+--------------+--------------------+--------------------+\n",
            "only showing top 20 rows\n",
            "\n"
          ]
        }
      ]
    },
    {
      "cell_type": "markdown",
      "source": [
        "row_number"
      ],
      "metadata": {
        "id": "3cU1VtBGCXeZ"
      }
    },
    {
      "cell_type": "code",
      "source": [
        "w_row = W.partitionBy(F.col('state')).orderBy(F.col('estimated_population').desc())\n",
        "\n",
        "df = df.withColumn('row_number',\n",
        "              F.row_number().over(w_row)\n",
        "              )"
      ],
      "metadata": {
        "id": "lvgBgnjJCcQ7"
      },
      "execution_count": null,
      "outputs": []
    },
    {
      "cell_type": "markdown",
      "source": [
        "rank()"
      ],
      "metadata": {
        "id": "oQVOctbMCai4"
      }
    },
    {
      "cell_type": "code",
      "source": [
        "# 20min\n",
        "df = df.withColumn('rank',\n",
        "              F.rank().over(w_row)\n",
        "              )"
      ],
      "metadata": {
        "id": "ZfEgbmWXCdNv"
      },
      "execution_count": null,
      "outputs": []
    },
    {
      "cell_type": "markdown",
      "source": [
        "dense rank"
      ],
      "metadata": {
        "id": "lvbYcMK3Cd0X"
      }
    },
    {
      "cell_type": "code",
      "source": [
        "# 28min\n",
        "df = df.withColumn('dense_rank',\n",
        "              F.dense_rank().over(w_row)\n",
        "              )"
      ],
      "metadata": {
        "id": "j5V7qSsyCgOm"
      },
      "execution_count": null,
      "outputs": []
    },
    {
      "cell_type": "markdown",
      "source": [
        "F.Lag"
      ],
      "metadata": {
        "id": "9l8tE0qETwrs"
      }
    },
    {
      "cell_type": "code",
      "source": [
        "df.show()"
      ],
      "metadata": {
        "colab": {
          "base_uri": "https://localhost:8080/"
        },
        "id": "2PSw-JrJUk2M",
        "outputId": "613d777a-0c80-44dc-fede-2eba79523615"
      },
      "execution_count": null,
      "outputs": [
        {
          "output_type": "stream",
          "name": "stdout",
          "text": [
            "+-----+---------------+--------------+--------------------+--------------------+----------+----+----------+\n",
            "|state|state_ibge_code|city_ibge_code|                city|estimated_population|row_number|rank|dense_rank|\n",
            "+-----+---------------+--------------+--------------------+--------------------+----------+----+----------+\n",
            "|   AC|             12|       1200401|          Rio Branco|              407319|         1|   1|         1|\n",
            "|   AC|             12|       1200203|     Cruzeiro do Sul|               88376|         2|   2|         2|\n",
            "|   AC|             12|       1200500|      Sena Madureira|               45848|         3|   3|         3|\n",
            "|   AC|             12|       1200609|            Tarauacá|               42567|         4|   4|         4|\n",
            "|   AC|             12|       1200302|               Feijó|               34780|         5|   5|         5|\n",
            "|   AC|             12|       1200104|           Brasiléia|               26278|         6|   6|         6|\n",
            "|   AC|             12|       1200450|    Senador Guiomard|               23024|         7|   7|         7|\n",
            "|   AC|             12|       1200385|   Plácido de Castro|               19761|         8|   8|         8|\n",
            "|   AC|             12|       1200708|              Xapuri|               19323|         9|   9|         9|\n",
            "|   AC|             12|       1200336|         Mâncio Lima|               18977|        10|  10|        10|\n",
            "|   AC|             12|       1200427|     Rodrigues Alves|               18930|        11|  11|        11|\n",
            "|   AC|             12|       1200351|Marechal Thaumaturgo|               18867|        12|  12|        12|\n",
            "|   AC|             12|       1200807|          Porto Acre|               18504|        13|  13|        13|\n",
            "|   AC|             12|       1200252|      Epitaciolândia|               18411|        14|  14|        14|\n",
            "|   AC|             12|       1200013|          Acrelândia|               15256|        15|  15|        15|\n",
            "|   AC|             12|       1200393|        Porto Walter|               11982|        16|  16|        16|\n",
            "|   AC|             12|       1200179|            Capixaba|               11733|        17|  17|        17|\n",
            "|   AC|             12|       1200138|              Bujari|               10266|        18|  18|        18|\n",
            "|   AC|             12|       1200344|       Manoel Urbano|                9459|        19|  19|        19|\n",
            "|   AC|             12|       1200328|              Jordão|                8317|        20|  20|        20|\n",
            "+-----+---------------+--------------+--------------------+--------------------+----------+----+----------+\n",
            "only showing top 20 rows\n",
            "\n"
          ]
        }
      ]
    },
    {
      "cell_type": "code",
      "source": [
        "# 33min\n",
        "df.withColumn('lag',\n",
        "              F.lag('estimated_population',1).over(w_row)\n",
        "              ).show(30)"
      ],
      "metadata": {
        "colab": {
          "base_uri": "https://localhost:8080/"
        },
        "id": "xRYKeM3MTpcR",
        "outputId": "b0db911f-14d6-4664-c35f-1eb11d77d88d"
      },
      "execution_count": null,
      "outputs": [
        {
          "output_type": "stream",
          "name": "stdout",
          "text": [
            "+-----+---------------+--------------+--------------------+--------------------+----------+----+----------+-------+\n",
            "|state|state_ibge_code|city_ibge_code|                city|estimated_population|row_number|rank|dense_rank|    lag|\n",
            "+-----+---------------+--------------+--------------------+--------------------+----------+----+----------+-------+\n",
            "|   AC|             12|       1200401|          Rio Branco|              407319|         1|   1|         1|   null|\n",
            "|   AC|             12|       1200203|     Cruzeiro do Sul|               88376|         2|   2|         2| 407319|\n",
            "|   AC|             12|       1200500|      Sena Madureira|               45848|         3|   3|         3|  88376|\n",
            "|   AC|             12|       1200609|            Tarauacá|               42567|         4|   4|         4|  45848|\n",
            "|   AC|             12|       1200302|               Feijó|               34780|         5|   5|         5|  42567|\n",
            "|   AC|             12|       1200104|           Brasiléia|               26278|         6|   6|         6|  34780|\n",
            "|   AC|             12|       1200450|    Senador Guiomard|               23024|         7|   7|         7|  26278|\n",
            "|   AC|             12|       1200385|   Plácido de Castro|               19761|         8|   8|         8|  23024|\n",
            "|   AC|             12|       1200708|              Xapuri|               19323|         9|   9|         9|  19761|\n",
            "|   AC|             12|       1200336|         Mâncio Lima|               18977|        10|  10|        10|  19323|\n",
            "|   AC|             12|       1200427|     Rodrigues Alves|               18930|        11|  11|        11|  18977|\n",
            "|   AC|             12|       1200351|Marechal Thaumaturgo|               18867|        12|  12|        12|  18930|\n",
            "|   AC|             12|       1200807|          Porto Acre|               18504|        13|  13|        13|  18867|\n",
            "|   AC|             12|       1200252|      Epitaciolândia|               18411|        14|  14|        14|  18504|\n",
            "|   AC|             12|       1200013|          Acrelândia|               15256|        15|  15|        15|  18411|\n",
            "|   AC|             12|       1200393|        Porto Walter|               11982|        16|  16|        16|  15256|\n",
            "|   AC|             12|       1200179|            Capixaba|               11733|        17|  17|        17|  11982|\n",
            "|   AC|             12|       1200138|              Bujari|               10266|        18|  18|        18|  11733|\n",
            "|   AC|             12|       1200344|       Manoel Urbano|                9459|        19|  19|        19|  10266|\n",
            "|   AC|             12|       1200328|              Jordão|                8317|        20|  20|        20|   9459|\n",
            "|   AC|             12|       1200054|        Assis Brasil|                7417|        21|  21|        21|   8317|\n",
            "|   AC|             12|       1200435| Santa Rosa do Purus|                6540|        22|  22|        22|   7417|\n",
            "|   AL|             27|       2704302|              Maceió|             1018948|         1|   1|         1|   null|\n",
            "|   AL|             27|       2700300|           Arapiraca|              231747|         2|   2|         2|1018948|\n",
            "|   AL|             27|       2707701|           Rio Largo|               75120|         3|   3|         3| 231747|\n",
            "|   AL|             27|       2706307| Palmeira dos Índios|               73218|         4|   4|         4|  75120|\n",
            "|   AL|             27|       2709301|  União dos Palmares|               65611|         5|   5|         5|  73218|\n",
            "|   AL|             27|       2706703|              Penedo|               63683|         6|   6|         6|  65611|\n",
            "|   AL|             27|       2708600|São Miguel dos Ca...|               61251|         7|   7|         7|  63683|\n",
            "|   AL|             27|       2701407|        Campo Alegre|               57063|         8|   8|         8|  61251|\n",
            "+-----+---------------+--------------+--------------------+--------------------+----------+----+----------+-------+\n",
            "only showing top 30 rows\n",
            "\n"
          ]
        }
      ]
    },
    {
      "cell_type": "markdown",
      "source": [
        "F.Lead"
      ],
      "metadata": {
        "id": "SgbEunHtV4_j"
      }
    },
    {
      "cell_type": "code",
      "source": [
        "# 36min\n",
        "df.withColumn('lead',\n",
        "              F.lead('estimated_population', 1).over(w_row)\n",
        ").show(30)"
      ],
      "metadata": {
        "colab": {
          "base_uri": "https://localhost:8080/"
        },
        "id": "BRPu7Us6VdrG",
        "outputId": "1894f846-3cdb-4d89-9eaf-d523f4290ef8"
      },
      "execution_count": null,
      "outputs": [
        {
          "output_type": "stream",
          "name": "stdout",
          "text": [
            "+-----+---------------+--------------+--------------------+--------------------+----------+----+----------+------+\n",
            "|state|state_ibge_code|city_ibge_code|                city|estimated_population|row_number|rank|dense_rank|  lead|\n",
            "+-----+---------------+--------------+--------------------+--------------------+----------+----+----------+------+\n",
            "|   AC|             12|       1200401|          Rio Branco|              407319|         1|   1|         1| 88376|\n",
            "|   AC|             12|       1200203|     Cruzeiro do Sul|               88376|         2|   2|         2| 45848|\n",
            "|   AC|             12|       1200500|      Sena Madureira|               45848|         3|   3|         3| 42567|\n",
            "|   AC|             12|       1200609|            Tarauacá|               42567|         4|   4|         4| 34780|\n",
            "|   AC|             12|       1200302|               Feijó|               34780|         5|   5|         5| 26278|\n",
            "|   AC|             12|       1200104|           Brasiléia|               26278|         6|   6|         6| 23024|\n",
            "|   AC|             12|       1200450|    Senador Guiomard|               23024|         7|   7|         7| 19761|\n",
            "|   AC|             12|       1200385|   Plácido de Castro|               19761|         8|   8|         8| 19323|\n",
            "|   AC|             12|       1200708|              Xapuri|               19323|         9|   9|         9| 18977|\n",
            "|   AC|             12|       1200336|         Mâncio Lima|               18977|        10|  10|        10| 18930|\n",
            "|   AC|             12|       1200427|     Rodrigues Alves|               18930|        11|  11|        11| 18867|\n",
            "|   AC|             12|       1200351|Marechal Thaumaturgo|               18867|        12|  12|        12| 18504|\n",
            "|   AC|             12|       1200807|          Porto Acre|               18504|        13|  13|        13| 18411|\n",
            "|   AC|             12|       1200252|      Epitaciolândia|               18411|        14|  14|        14| 15256|\n",
            "|   AC|             12|       1200013|          Acrelândia|               15256|        15|  15|        15| 11982|\n",
            "|   AC|             12|       1200393|        Porto Walter|               11982|        16|  16|        16| 11733|\n",
            "|   AC|             12|       1200179|            Capixaba|               11733|        17|  17|        17| 10266|\n",
            "|   AC|             12|       1200138|              Bujari|               10266|        18|  18|        18|  9459|\n",
            "|   AC|             12|       1200344|       Manoel Urbano|                9459|        19|  19|        19|  8317|\n",
            "|   AC|             12|       1200328|              Jordão|                8317|        20|  20|        20|  7417|\n",
            "|   AC|             12|       1200054|        Assis Brasil|                7417|        21|  21|        21|  6540|\n",
            "|   AC|             12|       1200435| Santa Rosa do Purus|                6540|        22|  22|        22|  null|\n",
            "|   AL|             27|       2704302|              Maceió|             1018948|         1|   1|         1|231747|\n",
            "|   AL|             27|       2700300|           Arapiraca|              231747|         2|   2|         2| 75120|\n",
            "|   AL|             27|       2707701|           Rio Largo|               75120|         3|   3|         3| 73218|\n",
            "|   AL|             27|       2706307| Palmeira dos Índios|               73218|         4|   4|         4| 65611|\n",
            "|   AL|             27|       2709301|  União dos Palmares|               65611|         5|   5|         5| 63683|\n",
            "|   AL|             27|       2706703|              Penedo|               63683|         6|   6|         6| 61251|\n",
            "|   AL|             27|       2708600|São Miguel dos Ca...|               61251|         7|   7|         7| 57063|\n",
            "|   AL|             27|       2701407|        Campo Alegre|               57063|         8|   8|         8| 56933|\n",
            "+-----+---------------+--------------+--------------------+--------------------+----------+----+----------+------+\n",
            "only showing top 30 rows\n",
            "\n"
          ]
        }
      ]
    },
    {
      "cell_type": "markdown",
      "source": [
        "Soma, Media, Minimo e maximo"
      ],
      "metadata": {
        "id": "OjYV7pdJWeMV"
      }
    },
    {
      "cell_type": "code",
      "source": [
        "# 44min\n",
        "w_row = W.partitionBy(F.col('state')).orderBy(F.col('estimated_population'))\n",
        "\n",
        "df.withColumn('soma_acumulada',\n",
        "              F.sum('estimated_population').over(w_row))\\\n",
        "  .withColumn('media_acumulada',\n",
        "        F.avg('estimated_population').over(w_row))\\\n",
        "  .withColumn('min_acumulada',\n",
        "        F.min('estimated_population').over(w_row))\\\n",
        "  .withColumn('max_acumulada',\n",
        "        F.max('estimated_population').over(w_row))\\\n",
        "  .show(30)"
      ],
      "metadata": {
        "colab": {
          "base_uri": "https://localhost:8080/"
        },
        "id": "2LJUSU1hWi1m",
        "outputId": "9a0452f3-7ab4-4d15-fc26-020d682683f0"
      },
      "execution_count": null,
      "outputs": [
        {
          "output_type": "stream",
          "name": "stdout",
          "text": [
            "+-----+---------------+--------------+--------------------+--------------------+----------+----+----------+--------------+------------------+-------------+-------------+\n",
            "|state|state_ibge_code|city_ibge_code|                city|estimated_population|row_number|rank|dense_rank|soma_acumulada|   media_acumulada|min_acumulada|max_acumulada|\n",
            "+-----+---------------+--------------+--------------------+--------------------+----------+----+----------+--------------+------------------+-------------+-------------+\n",
            "|   AC|             12|       1200435| Santa Rosa do Purus|                6540|        22|  22|        22|          6540|            6540.0|         6540|         6540|\n",
            "|   AC|             12|       1200054|        Assis Brasil|                7417|        21|  21|        21|         13957|            6978.5|         6540|         7417|\n",
            "|   AC|             12|       1200328|              Jordão|                8317|        20|  20|        20|         22274| 7424.666666666667|         6540|         8317|\n",
            "|   AC|             12|       1200344|       Manoel Urbano|                9459|        19|  19|        19|         31733|           7933.25|         6540|         9459|\n",
            "|   AC|             12|       1200138|              Bujari|               10266|        18|  18|        18|         41999|            8399.8|         6540|        10266|\n",
            "|   AC|             12|       1200179|            Capixaba|               11733|        17|  17|        17|         53732| 8955.333333333334|         6540|        11733|\n",
            "|   AC|             12|       1200393|        Porto Walter|               11982|        16|  16|        16|         65714| 9387.714285714286|         6540|        11982|\n",
            "|   AC|             12|       1200013|          Acrelândia|               15256|        15|  15|        15|         80970|          10121.25|         6540|        15256|\n",
            "|   AC|             12|       1200252|      Epitaciolândia|               18411|        14|  14|        14|         99381|11042.333333333334|         6540|        18411|\n",
            "|   AC|             12|       1200807|          Porto Acre|               18504|        13|  13|        13|        117885|           11788.5|         6540|        18504|\n",
            "|   AC|             12|       1200351|Marechal Thaumaturgo|               18867|        12|  12|        12|        136752|           12432.0|         6540|        18867|\n",
            "|   AC|             12|       1200427|     Rodrigues Alves|               18930|        11|  11|        11|        155682|           12973.5|         6540|        18930|\n",
            "|   AC|             12|       1200336|         Mâncio Lima|               18977|        10|  10|        10|        174659|13435.307692307691|         6540|        18977|\n",
            "|   AC|             12|       1200708|              Xapuri|               19323|         9|   9|         9|        193982|13855.857142857143|         6540|        19323|\n",
            "|   AC|             12|       1200385|   Plácido de Castro|               19761|         8|   8|         8|        213743|14249.533333333333|         6540|        19761|\n",
            "|   AC|             12|       1200450|    Senador Guiomard|               23024|         7|   7|         7|        236767|        14797.9375|         6540|        23024|\n",
            "|   AC|             12|       1200104|           Brasiléia|               26278|         6|   6|         6|        263045|15473.235294117647|         6540|        26278|\n",
            "|   AC|             12|       1200302|               Feijó|               34780|         5|   5|         5|        297825|16545.833333333332|         6540|        34780|\n",
            "|   AC|             12|       1200609|            Tarauacá|               42567|         4|   4|         4|        340392| 17915.36842105263|         6540|        42567|\n",
            "|   AC|             12|       1200500|      Sena Madureira|               45848|         3|   3|         3|        386240|           19312.0|         6540|        45848|\n",
            "|   AC|             12|       1200203|     Cruzeiro do Sul|               88376|         2|   2|         2|        474616|22600.761904761905|         6540|        88376|\n",
            "|   AC|             12|       1200401|          Rio Branco|              407319|         1|   1|         1|        881935|40087.954545454544|         6540|       407319|\n",
            "|   AL|             27|       2707008|             Pindoba|                2908|       102| 102|       102|          2908|            2908.0|         2908|         2908|\n",
            "|   AL|             27|       2704906|        Mar Vermelho|                3514|       101| 101|       101|          6422|            3211.0|         2908|         3514|\n",
            "|   AL|             27|       2703908|              Jundiá|                4155|       100| 100|       100|         10577|3525.6666666666665|         2908|         4155|\n",
            "|   AL|             27|       2700805|               Belém|                4344|        99|  99|        99|         14921|           3730.25|         2908|         4344|\n",
            "|   AL|             27|       2702702|       Feliz Deserto|                4754|        98|  98|        98|         19675|            3935.0|         2908|         4754|\n",
            "|   AL|             27|       2706208|           Palestina|                5011|        97|  97|        97|         24686| 4114.333333333333|         2908|         5011|\n",
            "|   AL|             27|       2705903|  Olho d'Água Grande|                5123|        96|  96|        96|         29809| 4258.428571428572|         2908|         5123|\n",
            "|   AL|             27|       2703403|   Jacaré dos Homens|                5253|        95|  95|        95|         35062|           4382.75|         2908|         5253|\n",
            "+-----+---------------+--------------+--------------------+--------------------+----------+----+----------+--------------+------------------+-------------+-------------+\n",
            "only showing top 30 rows\n",
            "\n"
          ]
        }
      ]
    },
    {
      "cell_type": "markdown",
      "source": [
        "rowsBetween()"
      ],
      "metadata": {
        "id": "j-8zcmkUaR5l"
      }
    },
    {
      "cell_type": "code",
      "source": [
        "w_calc = W.partitionBy(F.col('state')).orderBy(F.col('estimated_population')).rowsBetween(W.currentRow,2)\n",
        "\n",
        "df.withColumn('sum_rows',\n",
        "              F.sum('estimated_population').over(w_calc)\n",
        "              ).show(30)"
      ],
      "metadata": {
        "colab": {
          "base_uri": "https://localhost:8080/"
        },
        "id": "uTOS6YH_aP9D",
        "outputId": "58802e7f-d7e0-4140-b2e5-c6c3e12c79e4"
      },
      "execution_count": null,
      "outputs": [
        {
          "output_type": "stream",
          "name": "stdout",
          "text": [
            "+-----+---------------+--------------+--------------------+--------------------+----------+----+----------+--------+\n",
            "|state|state_ibge_code|city_ibge_code|                city|estimated_population|row_number|rank|dense_rank|sum_rows|\n",
            "+-----+---------------+--------------+--------------------+--------------------+----------+----+----------+--------+\n",
            "|   AC|             12|       1200435| Santa Rosa do Purus|                6540|        22|  22|        22|   22274|\n",
            "|   AC|             12|       1200054|        Assis Brasil|                7417|        21|  21|        21|   25193|\n",
            "|   AC|             12|       1200328|              Jordão|                8317|        20|  20|        20|   28042|\n",
            "|   AC|             12|       1200344|       Manoel Urbano|                9459|        19|  19|        19|   31458|\n",
            "|   AC|             12|       1200138|              Bujari|               10266|        18|  18|        18|   33981|\n",
            "|   AC|             12|       1200179|            Capixaba|               11733|        17|  17|        17|   38971|\n",
            "|   AC|             12|       1200393|        Porto Walter|               11982|        16|  16|        16|   45649|\n",
            "|   AC|             12|       1200013|          Acrelândia|               15256|        15|  15|        15|   52171|\n",
            "|   AC|             12|       1200252|      Epitaciolândia|               18411|        14|  14|        14|   55782|\n",
            "|   AC|             12|       1200807|          Porto Acre|               18504|        13|  13|        13|   56301|\n",
            "|   AC|             12|       1200351|Marechal Thaumaturgo|               18867|        12|  12|        12|   56774|\n",
            "|   AC|             12|       1200427|     Rodrigues Alves|               18930|        11|  11|        11|   57230|\n",
            "|   AC|             12|       1200336|         Mâncio Lima|               18977|        10|  10|        10|   58061|\n",
            "|   AC|             12|       1200708|              Xapuri|               19323|         9|   9|         9|   62108|\n",
            "|   AC|             12|       1200385|   Plácido de Castro|               19761|         8|   8|         8|   69063|\n",
            "|   AC|             12|       1200450|    Senador Guiomard|               23024|         7|   7|         7|   84082|\n",
            "|   AC|             12|       1200104|           Brasiléia|               26278|         6|   6|         6|  103625|\n",
            "|   AC|             12|       1200302|               Feijó|               34780|         5|   5|         5|  123195|\n",
            "|   AC|             12|       1200609|            Tarauacá|               42567|         4|   4|         4|  176791|\n",
            "|   AC|             12|       1200500|      Sena Madureira|               45848|         3|   3|         3|  541543|\n",
            "|   AC|             12|       1200203|     Cruzeiro do Sul|               88376|         2|   2|         2|  495695|\n",
            "|   AC|             12|       1200401|          Rio Branco|              407319|         1|   1|         1|  407319|\n",
            "|   AL|             27|       2707008|             Pindoba|                2908|       102| 102|       102|   10577|\n",
            "|   AL|             27|       2704906|        Mar Vermelho|                3514|       101| 101|       101|   12013|\n",
            "|   AL|             27|       2703908|              Jundiá|                4155|       100| 100|       100|   13253|\n",
            "|   AL|             27|       2700805|               Belém|                4344|        99|  99|        99|   14109|\n",
            "|   AL|             27|       2702702|       Feliz Deserto|                4754|        98|  98|        98|   14888|\n",
            "|   AL|             27|       2706208|           Palestina|                5011|        97|  97|        97|   15387|\n",
            "|   AL|             27|       2705903|  Olho d'Água Grande|                5123|        96|  96|        96|   15705|\n",
            "|   AL|             27|       2703403|   Jacaré dos Homens|                5253|        95|  95|        95|   16352|\n",
            "+-----+---------------+--------------+--------------------+--------------------+----------+----+----------+--------+\n",
            "only showing top 30 rows\n",
            "\n"
          ]
        }
      ]
    },
    {
      "cell_type": "markdown",
      "source": [
        "# **8.1 Performance e Tunning**"
      ],
      "metadata": {
        "id": "T7LbNbPld7ma"
      }
    },
    {
      "cell_type": "code",
      "source": [
        "# instalar as dependencias\n",
        "# baixar a versão mais recente do java8;\n",
        "!apt-get install openjdk-8-jdk-headless -qq > /dev/null\n",
        "#download via stp do hadoop\n",
        "!wget -q https://dlcdn.apache.org/spark/spark-3.4.3/spark-3.4.3-bin-hadoop3.tgz\n",
        "!tar xf spark-3.4.3-bin-hadoop3.tgz\n",
        "# instalar o Findspark\n",
        "!pip install -q findspark"
      ],
      "metadata": {
        "id": "P70ZrYrIbsIp"
      },
      "execution_count": null,
      "outputs": []
    },
    {
      "cell_type": "code",
      "source": [
        "import os\n",
        "os.environ[\"JAVA_HOME\"] = \"/usr/lib/jvm/java-8-openjdk-amd64\"\n",
        "os.environ[\"SPARK_HOME\"] = \"/content/sample_data/spark-3.4.3-bin-hadoop3\"\n",
        "\n",
        "# utilizando findspark para que o spark seja \"importavel\"\n",
        "import findspark\n",
        "findspark.init('spark-3.4.3-bin-hadoop3')"
      ],
      "metadata": {
        "id": "dh5L13CZfFQZ"
      },
      "execution_count": null,
      "outputs": []
    },
    {
      "cell_type": "markdown",
      "source": [
        "Spark Session"
      ],
      "metadata": {
        "id": "HpbAhzQXfNpY"
      }
    },
    {
      "cell_type": "code",
      "source": [
        "\n",
        "from pyspark.sql import SparkSession\n",
        "from pyspark.sql import functions as F\n",
        "from pyspark.sql.window import Window as W\n",
        "import pandas as pd\n",
        "\n",
        "spark = SparkSession.builder\\\n",
        "  .master('local')\\\n",
        "  .getOrCreate();"
      ],
      "metadata": {
        "colab": {
          "base_uri": "https://localhost:8080/"
        },
        "id": "y68bFliifL8a",
        "outputId": "bb23b396-b88d-4cbc-c27a-bf9c2af80a5f"
      },
      "execution_count": null,
      "outputs": [
        {
          "output_type": "stream",
          "name": "stdout",
          "text": [
            "+----------+------+------+------+------+------+-----------+---------+-------------+--------+--------------------+\n",
            "|      Date|Ticker|  Open|  High|   Low| Close|     Volume|Adj Close|Adj Close Ant|  Source|           Timestamp|\n",
            "+----------+------+------+------+------+------+-----------+---------+-------------+--------+--------------------+\n",
            "|2024-05-03| AALR3| 10,40| 10,45|  9,74|  9,96|  187300,00|     9,96|        10,26|yfinance|2024-05-03 16:32:...|\n",
            "|2024-05-03| ABEV3| 12,47| 12,48| 12,35| 12,44|15843900,00|    12,44|        12,33|yfinance|2024-05-03 16:32:...|\n",
            "|2024-05-03| AERI3|  0,56|  0,57|  0,56|  0,56| 1336800,00|     0,56|         0,56|yfinance|2024-05-03 16:32:...|\n",
            "|2024-05-03| ALLD3|  7,38|  7,70|  7,38|  7,49|  123400,00|     7,49|         7,30|yfinance|2024-05-03 16:32:...|\n",
            "|2024-05-03|ALZR11|116,30|118,17|116,22|117,18|   42743,00|   117,18|       116,47|yfinance|2024-05-03 16:32:...|\n",
            "|2024-05-03| AMAR3|  1,66|  1,73|  1,60|  1,65|  667500,00|     1,65|         1,67|yfinance|2024-05-03 16:32:...|\n",
            "|2024-05-03| AMER3|  0,57|  0,58|  0,54|  0,55|20310800,00|     0,55|         0,56|yfinance|2024-05-03 16:32:...|\n",
            "|2024-05-03| AZUL4| 10,55| 11,00| 10,53| 10,95|19212300,00|    10,95|        10,16|yfinance|2024-05-03 16:32:...|\n",
            "|2024-05-03| B3SA3| 11,34| 11,61| 11,25| 11,41|75084000,00|    11,41|        11,06|yfinance|2024-05-03 16:32:...|\n",
            "|2024-05-03| BBAS3| 28,02| 28,36| 27,90| 28,34|12904800,00|    28,34|        27,71|yfinance|2024-05-03 16:32:...|\n",
            "|2024-05-03| BBDC4| 13,98| 14,06| 13,67| 13,71|45875000,00|    13,71|        13,82|yfinance|2024-05-03 16:32:...|\n",
            "|2024-05-02|BBPO11| 96,75| 96,75| 96,75| 96,75|       0,00|    96,75|        96,75|yfinance|2024-05-03 16:32:...|\n",
            "|2024-05-03| BBSE3| 32,70| 32,85| 32,50| 32,83| 2219200,00|    32,83|        32,42|yfinance|2024-05-03 16:32:...|\n",
            "|2024-05-03|BCFF11|  8,94|  9,00|  8,93|  8,95|  271606,00|     8,95|         8,94|yfinance|2024-05-03 16:32:...|\n",
            "|2024-05-03| BEEF3|  6,12|  6,28|  6,11|  6,27| 6551700,00|     6,27|         6,07|yfinance|2024-05-03 16:32:...|\n",
            "|2024-05-03| BHIA3|  8,11|  8,25|  7,77|  8,00| 9372400,00|     8,00|         7,89|yfinance|2024-05-03 16:32:...|\n",
            "|2024-05-03| BMGB4|  3,29|  3,40|  3,28|  3,38|  573600,00|     3,38|         3,28|yfinance|2024-05-03 16:32:...|\n",
            "|2024-05-03|BPAC11| 34,72| 35,52| 34,67| 35,52| 8787900,00|    35,52|        34,17|yfinance|2024-05-03 16:32:...|\n",
            "|2024-05-03| BRAP4| 20,32| 20,41| 20,02| 20,27| 3167300,00|    20,27|        20,21|yfinance|2024-05-03 16:32:...|\n",
            "|2024-05-03| BRAP4| 20,32| 20,41| 20,02| 20,27| 3167300,00|    20,27|        20,21|yfinance|2024-05-03 16:32:...|\n",
            "+----------+------+------+------+------+------+-----------+---------+-------------+--------+--------------------+\n",
            "only showing top 20 rows\n",
            "\n"
          ]
        }
      ]
    },
    {
      "cell_type": "markdown",
      "source": [
        "Lazzi Evaluation"
      ],
      "metadata": {
        "id": "_75UW6SWrUP3"
      }
    },
    {
      "cell_type": "markdown",
      "source": [
        "Lazzi Evaluation no spark significa que ele não iniciará a execução do processo até que um metodo de AÇÃO do objeto dataframe seja utilizado.\n",
        "\n"
      ],
      "metadata": {
        "id": "9uZXvoE5rfmF"
      }
    },
    {
      "cell_type": "markdown",
      "source": [
        "- Metodos de transformações:\n",
        "\n",
        ".groupBy()\n",
        "\n",
        ".orderBy()\n",
        "\n",
        ".join()\n",
        "\n",
        ".withColumn()\n",
        "\n",
        ".withColumnRenamed()\n",
        "\n"
      ],
      "metadata": {
        "id": "_qgnyhZdsBeM"
      }
    },
    {
      "cell_type": "code",
      "source": [
        "dtype = {\n",
        "  \"Date\": \"string\",\n",
        "  \"Ticker\": \"string\",\n",
        "  \"Open\": \"float\",\n",
        "  \"High\": \"float\",\n",
        "  \"Low\": \"float\",\n",
        "  \"Close\": \"float\",\n",
        "  \"Volume\": \"int\",\n",
        "  \"Adj Close\": \"float\",\n",
        "  \"Adj Close Ant\": \"float\",\n",
        "  \"Source\": \"string\",\n",
        "  \"Timestamp\": \"string\"\n",
        "}\n",
        "\n",
        "df = pd.read_csv('/content/sample_data/AcoesB3.csv', sep=';', dtype=dtype, decimal=',')\n",
        "df"
      ],
      "metadata": {
        "colab": {
          "base_uri": "https://localhost:8080/",
          "height": 424
        },
        "id": "7Lq-6Mw4yDuT",
        "outputId": "db36f0b6-0764-4df8-adb2-821c7f497aa1"
      },
      "execution_count": null,
      "outputs": [
        {
          "output_type": "execute_result",
          "data": {
            "text/plain": [
              "           Date  Ticker    Open    High     Low   Close    Volume  Adj Close  \\\n",
              "0    2024-05-03   AALR3   10.40   10.45    9.74    9.96    187300       9.96   \n",
              "1    2024-05-03   ABEV3   12.47   12.48   12.35   12.44  15843900      12.44   \n",
              "2    2024-05-03   AERI3    0.56    0.57    0.56    0.56   1336800       0.56   \n",
              "3    2024-05-03   ALLD3    7.38    7.70    7.38    7.49    123400       7.49   \n",
              "4    2024-05-03  ALZR11  116.30  118.17  116.22  117.18     42743     117.18   \n",
              "..          ...     ...     ...     ...     ...     ...       ...        ...   \n",
              "117  2024-05-03   VIVT3   49.86   50.84   49.52   50.56   2067400      50.56   \n",
              "118  2024-05-03   VLID3   17.68   18.00   17.56   17.89    257700      17.89   \n",
              "119  2024-05-03   WEGE3   38.99   38.99   38.24   38.65   3489900      38.65   \n",
              "120  2024-05-03  XPML11  116.32  116.77  115.90  116.00    156032     116.00   \n",
              "121  2024-05-03   ZAMP3    3.90    4.05    3.83    4.01   1653200       4.01   \n",
              "\n",
              "     Adj Close Ant    Source                   Timestamp  \n",
              "0            10.26  yfinance  2024-05-03 16:32:16.637547  \n",
              "1            12.33  yfinance  2024-05-03 16:32:16.905137  \n",
              "2             0.56  yfinance  2024-05-03 16:32:17.127032  \n",
              "3             7.30  yfinance  2024-05-03 16:32:17.356795  \n",
              "4           116.47  yfinance  2024-05-03 16:32:17.594841  \n",
              "..             ...       ...                         ...  \n",
              "117          49.66  yfinance  2024-05-03 16:33:23.063115  \n",
              "118          17.40  yfinance  2024-05-03 16:33:23.318761  \n",
              "119          38.85  yfinance  2024-05-03 16:33:23.591119  \n",
              "120         116.00  yfinance  2024-05-03 16:33:26.025219  \n",
              "121           3.94  yfinance  2024-05-03 16:33:26.574769  \n",
              "\n",
              "[122 rows x 11 columns]"
            ],
            "text/html": [
              "\n",
              "  <div id=\"df-9a506dbb-2bf8-4319-9764-18bc99482c2d\" class=\"colab-df-container\">\n",
              "    <div>\n",
              "<style scoped>\n",
              "    .dataframe tbody tr th:only-of-type {\n",
              "        vertical-align: middle;\n",
              "    }\n",
              "\n",
              "    .dataframe tbody tr th {\n",
              "        vertical-align: top;\n",
              "    }\n",
              "\n",
              "    .dataframe thead th {\n",
              "        text-align: right;\n",
              "    }\n",
              "</style>\n",
              "<table border=\"1\" class=\"dataframe\">\n",
              "  <thead>\n",
              "    <tr style=\"text-align: right;\">\n",
              "      <th></th>\n",
              "      <th>Date</th>\n",
              "      <th>Ticker</th>\n",
              "      <th>Open</th>\n",
              "      <th>High</th>\n",
              "      <th>Low</th>\n",
              "      <th>Close</th>\n",
              "      <th>Volume</th>\n",
              "      <th>Adj Close</th>\n",
              "      <th>Adj Close Ant</th>\n",
              "      <th>Source</th>\n",
              "      <th>Timestamp</th>\n",
              "    </tr>\n",
              "  </thead>\n",
              "  <tbody>\n",
              "    <tr>\n",
              "      <th>0</th>\n",
              "      <td>2024-05-03</td>\n",
              "      <td>AALR3</td>\n",
              "      <td>10.40</td>\n",
              "      <td>10.45</td>\n",
              "      <td>9.74</td>\n",
              "      <td>9.96</td>\n",
              "      <td>187300</td>\n",
              "      <td>9.96</td>\n",
              "      <td>10.26</td>\n",
              "      <td>yfinance</td>\n",
              "      <td>2024-05-03 16:32:16.637547</td>\n",
              "    </tr>\n",
              "    <tr>\n",
              "      <th>1</th>\n",
              "      <td>2024-05-03</td>\n",
              "      <td>ABEV3</td>\n",
              "      <td>12.47</td>\n",
              "      <td>12.48</td>\n",
              "      <td>12.35</td>\n",
              "      <td>12.44</td>\n",
              "      <td>15843900</td>\n",
              "      <td>12.44</td>\n",
              "      <td>12.33</td>\n",
              "      <td>yfinance</td>\n",
              "      <td>2024-05-03 16:32:16.905137</td>\n",
              "    </tr>\n",
              "    <tr>\n",
              "      <th>2</th>\n",
              "      <td>2024-05-03</td>\n",
              "      <td>AERI3</td>\n",
              "      <td>0.56</td>\n",
              "      <td>0.57</td>\n",
              "      <td>0.56</td>\n",
              "      <td>0.56</td>\n",
              "      <td>1336800</td>\n",
              "      <td>0.56</td>\n",
              "      <td>0.56</td>\n",
              "      <td>yfinance</td>\n",
              "      <td>2024-05-03 16:32:17.127032</td>\n",
              "    </tr>\n",
              "    <tr>\n",
              "      <th>3</th>\n",
              "      <td>2024-05-03</td>\n",
              "      <td>ALLD3</td>\n",
              "      <td>7.38</td>\n",
              "      <td>7.70</td>\n",
              "      <td>7.38</td>\n",
              "      <td>7.49</td>\n",
              "      <td>123400</td>\n",
              "      <td>7.49</td>\n",
              "      <td>7.30</td>\n",
              "      <td>yfinance</td>\n",
              "      <td>2024-05-03 16:32:17.356795</td>\n",
              "    </tr>\n",
              "    <tr>\n",
              "      <th>4</th>\n",
              "      <td>2024-05-03</td>\n",
              "      <td>ALZR11</td>\n",
              "      <td>116.30</td>\n",
              "      <td>118.17</td>\n",
              "      <td>116.22</td>\n",
              "      <td>117.18</td>\n",
              "      <td>42743</td>\n",
              "      <td>117.18</td>\n",
              "      <td>116.47</td>\n",
              "      <td>yfinance</td>\n",
              "      <td>2024-05-03 16:32:17.594841</td>\n",
              "    </tr>\n",
              "    <tr>\n",
              "      <th>...</th>\n",
              "      <td>...</td>\n",
              "      <td>...</td>\n",
              "      <td>...</td>\n",
              "      <td>...</td>\n",
              "      <td>...</td>\n",
              "      <td>...</td>\n",
              "      <td>...</td>\n",
              "      <td>...</td>\n",
              "      <td>...</td>\n",
              "      <td>...</td>\n",
              "      <td>...</td>\n",
              "    </tr>\n",
              "    <tr>\n",
              "      <th>117</th>\n",
              "      <td>2024-05-03</td>\n",
              "      <td>VIVT3</td>\n",
              "      <td>49.86</td>\n",
              "      <td>50.84</td>\n",
              "      <td>49.52</td>\n",
              "      <td>50.56</td>\n",
              "      <td>2067400</td>\n",
              "      <td>50.56</td>\n",
              "      <td>49.66</td>\n",
              "      <td>yfinance</td>\n",
              "      <td>2024-05-03 16:33:23.063115</td>\n",
              "    </tr>\n",
              "    <tr>\n",
              "      <th>118</th>\n",
              "      <td>2024-05-03</td>\n",
              "      <td>VLID3</td>\n",
              "      <td>17.68</td>\n",
              "      <td>18.00</td>\n",
              "      <td>17.56</td>\n",
              "      <td>17.89</td>\n",
              "      <td>257700</td>\n",
              "      <td>17.89</td>\n",
              "      <td>17.40</td>\n",
              "      <td>yfinance</td>\n",
              "      <td>2024-05-03 16:33:23.318761</td>\n",
              "    </tr>\n",
              "    <tr>\n",
              "      <th>119</th>\n",
              "      <td>2024-05-03</td>\n",
              "      <td>WEGE3</td>\n",
              "      <td>38.99</td>\n",
              "      <td>38.99</td>\n",
              "      <td>38.24</td>\n",
              "      <td>38.65</td>\n",
              "      <td>3489900</td>\n",
              "      <td>38.65</td>\n",
              "      <td>38.85</td>\n",
              "      <td>yfinance</td>\n",
              "      <td>2024-05-03 16:33:23.591119</td>\n",
              "    </tr>\n",
              "    <tr>\n",
              "      <th>120</th>\n",
              "      <td>2024-05-03</td>\n",
              "      <td>XPML11</td>\n",
              "      <td>116.32</td>\n",
              "      <td>116.77</td>\n",
              "      <td>115.90</td>\n",
              "      <td>116.00</td>\n",
              "      <td>156032</td>\n",
              "      <td>116.00</td>\n",
              "      <td>116.00</td>\n",
              "      <td>yfinance</td>\n",
              "      <td>2024-05-03 16:33:26.025219</td>\n",
              "    </tr>\n",
              "    <tr>\n",
              "      <th>121</th>\n",
              "      <td>2024-05-03</td>\n",
              "      <td>ZAMP3</td>\n",
              "      <td>3.90</td>\n",
              "      <td>4.05</td>\n",
              "      <td>3.83</td>\n",
              "      <td>4.01</td>\n",
              "      <td>1653200</td>\n",
              "      <td>4.01</td>\n",
              "      <td>3.94</td>\n",
              "      <td>yfinance</td>\n",
              "      <td>2024-05-03 16:33:26.574769</td>\n",
              "    </tr>\n",
              "  </tbody>\n",
              "</table>\n",
              "<p>122 rows × 11 columns</p>\n",
              "</div>\n",
              "    <div class=\"colab-df-buttons\">\n",
              "\n",
              "  <div class=\"colab-df-container\">\n",
              "    <button class=\"colab-df-convert\" onclick=\"convertToInteractive('df-9a506dbb-2bf8-4319-9764-18bc99482c2d')\"\n",
              "            title=\"Convert this dataframe to an interactive table.\"\n",
              "            style=\"display:none;\">\n",
              "\n",
              "  <svg xmlns=\"http://www.w3.org/2000/svg\" height=\"24px\" viewBox=\"0 -960 960 960\">\n",
              "    <path d=\"M120-120v-720h720v720H120Zm60-500h600v-160H180v160Zm220 220h160v-160H400v160Zm0 220h160v-160H400v160ZM180-400h160v-160H180v160Zm440 0h160v-160H620v160ZM180-180h160v-160H180v160Zm440 0h160v-160H620v160Z\"/>\n",
              "  </svg>\n",
              "    </button>\n",
              "\n",
              "  <style>\n",
              "    .colab-df-container {\n",
              "      display:flex;\n",
              "      gap: 12px;\n",
              "    }\n",
              "\n",
              "    .colab-df-convert {\n",
              "      background-color: #E8F0FE;\n",
              "      border: none;\n",
              "      border-radius: 50%;\n",
              "      cursor: pointer;\n",
              "      display: none;\n",
              "      fill: #1967D2;\n",
              "      height: 32px;\n",
              "      padding: 0 0 0 0;\n",
              "      width: 32px;\n",
              "    }\n",
              "\n",
              "    .colab-df-convert:hover {\n",
              "      background-color: #E2EBFA;\n",
              "      box-shadow: 0px 1px 2px rgba(60, 64, 67, 0.3), 0px 1px 3px 1px rgba(60, 64, 67, 0.15);\n",
              "      fill: #174EA6;\n",
              "    }\n",
              "\n",
              "    .colab-df-buttons div {\n",
              "      margin-bottom: 4px;\n",
              "    }\n",
              "\n",
              "    [theme=dark] .colab-df-convert {\n",
              "      background-color: #3B4455;\n",
              "      fill: #D2E3FC;\n",
              "    }\n",
              "\n",
              "    [theme=dark] .colab-df-convert:hover {\n",
              "      background-color: #434B5C;\n",
              "      box-shadow: 0px 1px 3px 1px rgba(0, 0, 0, 0.15);\n",
              "      filter: drop-shadow(0px 1px 2px rgba(0, 0, 0, 0.3));\n",
              "      fill: #FFFFFF;\n",
              "    }\n",
              "  </style>\n",
              "\n",
              "    <script>\n",
              "      const buttonEl =\n",
              "        document.querySelector('#df-9a506dbb-2bf8-4319-9764-18bc99482c2d button.colab-df-convert');\n",
              "      buttonEl.style.display =\n",
              "        google.colab.kernel.accessAllowed ? 'block' : 'none';\n",
              "\n",
              "      async function convertToInteractive(key) {\n",
              "        const element = document.querySelector('#df-9a506dbb-2bf8-4319-9764-18bc99482c2d');\n",
              "        const dataTable =\n",
              "          await google.colab.kernel.invokeFunction('convertToInteractive',\n",
              "                                                    [key], {});\n",
              "        if (!dataTable) return;\n",
              "\n",
              "        const docLinkHtml = 'Like what you see? Visit the ' +\n",
              "          '<a target=\"_blank\" href=https://colab.research.google.com/notebooks/data_table.ipynb>data table notebook</a>'\n",
              "          + ' to learn more about interactive tables.';\n",
              "        element.innerHTML = '';\n",
              "        dataTable['output_type'] = 'display_data';\n",
              "        await google.colab.output.renderOutput(dataTable, element);\n",
              "        const docLink = document.createElement('div');\n",
              "        docLink.innerHTML = docLinkHtml;\n",
              "        element.appendChild(docLink);\n",
              "      }\n",
              "    </script>\n",
              "  </div>\n",
              "\n",
              "\n",
              "<div id=\"df-deedf238-7f56-4c91-81ee-2c2fd56dc810\">\n",
              "  <button class=\"colab-df-quickchart\" onclick=\"quickchart('df-deedf238-7f56-4c91-81ee-2c2fd56dc810')\"\n",
              "            title=\"Suggest charts\"\n",
              "            style=\"display:none;\">\n",
              "\n",
              "<svg xmlns=\"http://www.w3.org/2000/svg\" height=\"24px\"viewBox=\"0 0 24 24\"\n",
              "     width=\"24px\">\n",
              "    <g>\n",
              "        <path d=\"M19 3H5c-1.1 0-2 .9-2 2v14c0 1.1.9 2 2 2h14c1.1 0 2-.9 2-2V5c0-1.1-.9-2-2-2zM9 17H7v-7h2v7zm4 0h-2V7h2v10zm4 0h-2v-4h2v4z\"/>\n",
              "    </g>\n",
              "</svg>\n",
              "  </button>\n",
              "\n",
              "<style>\n",
              "  .colab-df-quickchart {\n",
              "      --bg-color: #E8F0FE;\n",
              "      --fill-color: #1967D2;\n",
              "      --hover-bg-color: #E2EBFA;\n",
              "      --hover-fill-color: #174EA6;\n",
              "      --disabled-fill-color: #AAA;\n",
              "      --disabled-bg-color: #DDD;\n",
              "  }\n",
              "\n",
              "  [theme=dark] .colab-df-quickchart {\n",
              "      --bg-color: #3B4455;\n",
              "      --fill-color: #D2E3FC;\n",
              "      --hover-bg-color: #434B5C;\n",
              "      --hover-fill-color: #FFFFFF;\n",
              "      --disabled-bg-color: #3B4455;\n",
              "      --disabled-fill-color: #666;\n",
              "  }\n",
              "\n",
              "  .colab-df-quickchart {\n",
              "    background-color: var(--bg-color);\n",
              "    border: none;\n",
              "    border-radius: 50%;\n",
              "    cursor: pointer;\n",
              "    display: none;\n",
              "    fill: var(--fill-color);\n",
              "    height: 32px;\n",
              "    padding: 0;\n",
              "    width: 32px;\n",
              "  }\n",
              "\n",
              "  .colab-df-quickchart:hover {\n",
              "    background-color: var(--hover-bg-color);\n",
              "    box-shadow: 0 1px 2px rgba(60, 64, 67, 0.3), 0 1px 3px 1px rgba(60, 64, 67, 0.15);\n",
              "    fill: var(--button-hover-fill-color);\n",
              "  }\n",
              "\n",
              "  .colab-df-quickchart-complete:disabled,\n",
              "  .colab-df-quickchart-complete:disabled:hover {\n",
              "    background-color: var(--disabled-bg-color);\n",
              "    fill: var(--disabled-fill-color);\n",
              "    box-shadow: none;\n",
              "  }\n",
              "\n",
              "  .colab-df-spinner {\n",
              "    border: 2px solid var(--fill-color);\n",
              "    border-color: transparent;\n",
              "    border-bottom-color: var(--fill-color);\n",
              "    animation:\n",
              "      spin 1s steps(1) infinite;\n",
              "  }\n",
              "\n",
              "  @keyframes spin {\n",
              "    0% {\n",
              "      border-color: transparent;\n",
              "      border-bottom-color: var(--fill-color);\n",
              "      border-left-color: var(--fill-color);\n",
              "    }\n",
              "    20% {\n",
              "      border-color: transparent;\n",
              "      border-left-color: var(--fill-color);\n",
              "      border-top-color: var(--fill-color);\n",
              "    }\n",
              "    30% {\n",
              "      border-color: transparent;\n",
              "      border-left-color: var(--fill-color);\n",
              "      border-top-color: var(--fill-color);\n",
              "      border-right-color: var(--fill-color);\n",
              "    }\n",
              "    40% {\n",
              "      border-color: transparent;\n",
              "      border-right-color: var(--fill-color);\n",
              "      border-top-color: var(--fill-color);\n",
              "    }\n",
              "    60% {\n",
              "      border-color: transparent;\n",
              "      border-right-color: var(--fill-color);\n",
              "    }\n",
              "    80% {\n",
              "      border-color: transparent;\n",
              "      border-right-color: var(--fill-color);\n",
              "      border-bottom-color: var(--fill-color);\n",
              "    }\n",
              "    90% {\n",
              "      border-color: transparent;\n",
              "      border-bottom-color: var(--fill-color);\n",
              "    }\n",
              "  }\n",
              "</style>\n",
              "\n",
              "  <script>\n",
              "    async function quickchart(key) {\n",
              "      const quickchartButtonEl =\n",
              "        document.querySelector('#' + key + ' button');\n",
              "      quickchartButtonEl.disabled = true;  // To prevent multiple clicks.\n",
              "      quickchartButtonEl.classList.add('colab-df-spinner');\n",
              "      try {\n",
              "        const charts = await google.colab.kernel.invokeFunction(\n",
              "            'suggestCharts', [key], {});\n",
              "      } catch (error) {\n",
              "        console.error('Error during call to suggestCharts:', error);\n",
              "      }\n",
              "      quickchartButtonEl.classList.remove('colab-df-spinner');\n",
              "      quickchartButtonEl.classList.add('colab-df-quickchart-complete');\n",
              "    }\n",
              "    (() => {\n",
              "      let quickchartButtonEl =\n",
              "        document.querySelector('#df-deedf238-7f56-4c91-81ee-2c2fd56dc810 button');\n",
              "      quickchartButtonEl.style.display =\n",
              "        google.colab.kernel.accessAllowed ? 'block' : 'none';\n",
              "    })();\n",
              "  </script>\n",
              "</div>\n",
              "\n",
              "  <div id=\"id_f2388666-7562-441f-8b84-4586678c421e\">\n",
              "    <style>\n",
              "      .colab-df-generate {\n",
              "        background-color: #E8F0FE;\n",
              "        border: none;\n",
              "        border-radius: 50%;\n",
              "        cursor: pointer;\n",
              "        display: none;\n",
              "        fill: #1967D2;\n",
              "        height: 32px;\n",
              "        padding: 0 0 0 0;\n",
              "        width: 32px;\n",
              "      }\n",
              "\n",
              "      .colab-df-generate:hover {\n",
              "        background-color: #E2EBFA;\n",
              "        box-shadow: 0px 1px 2px rgba(60, 64, 67, 0.3), 0px 1px 3px 1px rgba(60, 64, 67, 0.15);\n",
              "        fill: #174EA6;\n",
              "      }\n",
              "\n",
              "      [theme=dark] .colab-df-generate {\n",
              "        background-color: #3B4455;\n",
              "        fill: #D2E3FC;\n",
              "      }\n",
              "\n",
              "      [theme=dark] .colab-df-generate:hover {\n",
              "        background-color: #434B5C;\n",
              "        box-shadow: 0px 1px 3px 1px rgba(0, 0, 0, 0.15);\n",
              "        filter: drop-shadow(0px 1px 2px rgba(0, 0, 0, 0.3));\n",
              "        fill: #FFFFFF;\n",
              "      }\n",
              "    </style>\n",
              "    <button class=\"colab-df-generate\" onclick=\"generateWithVariable('df')\"\n",
              "            title=\"Generate code using this dataframe.\"\n",
              "            style=\"display:none;\">\n",
              "\n",
              "  <svg xmlns=\"http://www.w3.org/2000/svg\" height=\"24px\"viewBox=\"0 0 24 24\"\n",
              "       width=\"24px\">\n",
              "    <path d=\"M7,19H8.4L18.45,9,17,7.55,7,17.6ZM5,21V16.75L18.45,3.32a2,2,0,0,1,2.83,0l1.4,1.43a1.91,1.91,0,0,1,.58,1.4,1.91,1.91,0,0,1-.58,1.4L9.25,21ZM18.45,9,17,7.55Zm-12,3A5.31,5.31,0,0,0,4.9,8.1,5.31,5.31,0,0,0,1,6.5,5.31,5.31,0,0,0,4.9,4.9,5.31,5.31,0,0,0,6.5,1,5.31,5.31,0,0,0,8.1,4.9,5.31,5.31,0,0,0,12,6.5,5.46,5.46,0,0,0,6.5,12Z\"/>\n",
              "  </svg>\n",
              "    </button>\n",
              "    <script>\n",
              "      (() => {\n",
              "      const buttonEl =\n",
              "        document.querySelector('#id_f2388666-7562-441f-8b84-4586678c421e button.colab-df-generate');\n",
              "      buttonEl.style.display =\n",
              "        google.colab.kernel.accessAllowed ? 'block' : 'none';\n",
              "\n",
              "      buttonEl.onclick = () => {\n",
              "        google.colab.notebook.generateWithVariable('df');\n",
              "      }\n",
              "      })();\n",
              "    </script>\n",
              "  </div>\n",
              "\n",
              "    </div>\n",
              "  </div>\n"
            ],
            "application/vnd.google.colaboratory.intrinsic+json": {
              "type": "dataframe",
              "variable_name": "df",
              "summary": "{\n  \"name\": \"df\",\n  \"rows\": 122,\n  \"fields\": [\n    {\n      \"column\": \"Date\",\n      \"properties\": {\n        \"dtype\": \"string\",\n        \"num_unique_values\": 2,\n        \"samples\": [\n          \"2024-05-02\",\n          \"2024-05-03\"\n        ],\n        \"semantic_type\": \"\",\n        \"description\": \"\"\n      }\n    },\n    {\n      \"column\": \"Ticker\",\n      \"properties\": {\n        \"dtype\": \"string\",\n        \"num_unique_values\": 120,\n        \"samples\": [\n          \"GGRC11\",\n          \"GRND3\"\n        ],\n        \"semantic_type\": \"\",\n        \"description\": \"\"\n      }\n    },\n    {\n      \"column\": \"Open\",\n      \"properties\": {\n        \"dtype\": \"number\",\n        \"std\": 11507.172638884655,\n        \"min\": 0.56,\n        \"max\": 127130.46,\n        \"num_unique_values\": 118,\n        \"samples\": [\n          32.26,\n          40.47\n        ],\n        \"semantic_type\": \"\",\n        \"description\": \"\"\n      }\n    },\n    {\n      \"column\": \"High\",\n      \"properties\": {\n        \"dtype\": \"number\",\n        \"std\": 11657.10791937262,\n        \"min\": 0.57,\n        \"max\": 128786.96,\n        \"num_unique_values\": 119,\n        \"samples\": [\n          32.59,\n          40.95\n        ],\n        \"semantic_type\": \"\",\n        \"description\": \"\"\n      }\n    },\n    {\n      \"column\": \"Low\",\n      \"properties\": {\n        \"dtype\": \"number\",\n        \"std\": 11507.190036823016,\n        \"min\": 0.54,\n        \"max\": 127130.46,\n        \"num_unique_values\": 117,\n        \"samples\": [\n          11.22,\n          116.22\n        ],\n        \"semantic_type\": \"\",\n        \"description\": \"\"\n      }\n    },\n    {\n      \"column\": \"Close\",\n      \"properties\": {\n        \"dtype\": \"number\",\n        \"std\": 11644.438792823179,\n        \"min\": 0.55,\n        \"max\": 128646.81,\n        \"num_unique_values\": 120,\n        \"samples\": [\n          11.22,\n          6.09\n        ],\n        \"semantic_type\": \"\",\n        \"description\": \"\"\n      }\n    },\n    {\n      \"column\": \"Volume\",\n      \"properties\": {\n        \"dtype\": \"number\",\n        \"std\": 12057636,\n        \"min\": 0,\n        \"max\": 82589800,\n        \"num_unique_values\": 117,\n        \"samples\": [\n          14552300,\n          42743\n        ],\n        \"semantic_type\": \"\",\n        \"description\": \"\"\n      }\n    },\n    {\n      \"column\": \"Adj Close\",\n      \"properties\": {\n        \"dtype\": \"number\",\n        \"std\": 11644.438792823179,\n        \"min\": 0.55,\n        \"max\": 128646.81,\n        \"num_unique_values\": 120,\n        \"samples\": [\n          11.22,\n          6.09\n        ],\n        \"semantic_type\": \"\",\n        \"description\": \"\"\n      }\n    },\n    {\n      \"column\": \"Adj Close Ant\",\n      \"properties\": {\n        \"dtype\": \"number\",\n        \"std\": 11506.42340542888,\n        \"min\": 0.56,\n        \"max\": 127122.0,\n        \"num_unique_values\": 117,\n        \"samples\": [\n          10.84,\n          116.47\n        ],\n        \"semantic_type\": \"\",\n        \"description\": \"\"\n      }\n    },\n    {\n      \"column\": \"Source\",\n      \"properties\": {\n        \"dtype\": \"string\",\n        \"num_unique_values\": 1,\n        \"samples\": [\n          \"yfinance\"\n        ],\n        \"semantic_type\": \"\",\n        \"description\": \"\"\n      }\n    },\n    {\n      \"column\": \"Timestamp\",\n      \"properties\": {\n        \"dtype\": \"string\",\n        \"num_unique_values\": 122,\n        \"samples\": [\n          \"2024-05-03 16:32:31.847886\"\n        ],\n        \"semantic_type\": \"\",\n        \"description\": \"\"\n      }\n    }\n  ]\n}"
            }
          },
          "metadata": {},
          "execution_count": 78
        }
      ]
    },
    {
      "cell_type": "code",
      "source": [
        "df = spark.createDataFrame(df)\n",
        "df.show()"
      ],
      "metadata": {
        "colab": {
          "base_uri": "https://localhost:8080/"
        },
        "id": "jQVd2RRxs74-",
        "outputId": "be1fa2ab-12cc-42ab-c1fd-4c4d89c87bb1"
      },
      "execution_count": null,
      "outputs": [
        {
          "output_type": "stream",
          "name": "stdout",
          "text": [
            "+----------+------+-----+------+------+------+--------+---------+-------------+--------+--------------------+\n",
            "|      Date|Ticker| Open|  High|   Low| Close|  Volume|Adj Close|Adj Close Ant|  Source|           Timestamp|\n",
            "+----------+------+-----+------+------+------+--------+---------+-------------+--------+--------------------+\n",
            "|2024-05-03| AALR3| 10.4| 10.45|  9.74|  9.96|  187300|     9.96|        10.26|yfinance|2024-05-03 16:32:...|\n",
            "|2024-05-03| ABEV3|12.47| 12.48| 12.35| 12.44|15843900|    12.44|        12.33|yfinance|2024-05-03 16:32:...|\n",
            "|2024-05-03| AERI3| 0.56|  0.57|  0.56|  0.56| 1336800|     0.56|         0.56|yfinance|2024-05-03 16:32:...|\n",
            "|2024-05-03| ALLD3| 7.38|   7.7|  7.38|  7.49|  123400|     7.49|          7.3|yfinance|2024-05-03 16:32:...|\n",
            "|2024-05-03|ALZR11|116.3|118.17|116.22|117.18|   42743|   117.18|       116.47|yfinance|2024-05-03 16:32:...|\n",
            "|2024-05-03| AMAR3| 1.66|  1.73|   1.6|  1.65|  667500|     1.65|         1.67|yfinance|2024-05-03 16:32:...|\n",
            "|2024-05-03| AMER3| 0.57|  0.58|  0.54|  0.55|20310800|     0.55|         0.56|yfinance|2024-05-03 16:32:...|\n",
            "|2024-05-03| AZUL4|10.55|  11.0| 10.53| 10.95|19212300|    10.95|        10.16|yfinance|2024-05-03 16:32:...|\n",
            "|2024-05-03| B3SA3|11.34| 11.61| 11.25| 11.41|75084000|    11.41|        11.06|yfinance|2024-05-03 16:32:...|\n",
            "|2024-05-03| BBAS3|28.02| 28.36|  27.9| 28.34|12904800|    28.34|        27.71|yfinance|2024-05-03 16:32:...|\n",
            "|2024-05-03| BBDC4|13.98| 14.06| 13.67| 13.71|45875000|    13.71|        13.82|yfinance|2024-05-03 16:32:...|\n",
            "|2024-05-02|BBPO11|96.75| 96.75| 96.75| 96.75|       0|    96.75|        96.75|yfinance|2024-05-03 16:32:...|\n",
            "|2024-05-03| BBSE3| 32.7| 32.85|  32.5| 32.83| 2219200|    32.83|        32.42|yfinance|2024-05-03 16:32:...|\n",
            "|2024-05-03|BCFF11| 8.94|   9.0|  8.93|  8.95|  271606|     8.95|         8.94|yfinance|2024-05-03 16:32:...|\n",
            "|2024-05-03| BEEF3| 6.12|  6.28|  6.11|  6.27| 6551700|     6.27|         6.07|yfinance|2024-05-03 16:32:...|\n",
            "|2024-05-03| BHIA3| 8.11|  8.25|  7.77|   8.0| 9372400|      8.0|         7.89|yfinance|2024-05-03 16:32:...|\n",
            "|2024-05-03| BMGB4| 3.29|   3.4|  3.28|  3.38|  573600|     3.38|         3.28|yfinance|2024-05-03 16:32:...|\n",
            "|2024-05-03|BPAC11|34.72| 35.52| 34.67| 35.52| 8787900|    35.52|        34.17|yfinance|2024-05-03 16:32:...|\n",
            "|2024-05-03| BRAP4|20.32| 20.41| 20.02| 20.27| 3167300|    20.27|        20.21|yfinance|2024-05-03 16:32:...|\n",
            "|2024-05-03| BRAP4|20.32| 20.41| 20.02| 20.27| 3167300|    20.27|        20.21|yfinance|2024-05-03 16:32:...|\n",
            "+----------+------+-----+------+------+------+--------+---------+-------------+--------+--------------------+\n",
            "only showing top 20 rows\n",
            "\n"
          ]
        }
      ]
    },
    {
      "cell_type": "code",
      "source": [
        "df.printSchema()"
      ],
      "metadata": {
        "colab": {
          "base_uri": "https://localhost:8080/"
        },
        "id": "hlawqjEatCjN",
        "outputId": "093a4f55-39d0-4a6c-b101-83af70cc9541"
      },
      "execution_count": null,
      "outputs": [
        {
          "output_type": "stream",
          "name": "stdout",
          "text": [
            "root\n",
            " |-- Date: string (nullable = true)\n",
            " |-- Ticker: string (nullable = true)\n",
            " |-- Open: double (nullable = true)\n",
            " |-- High: double (nullable = true)\n",
            " |-- Low: double (nullable = true)\n",
            " |-- Close: double (nullable = true)\n",
            " |-- Volume: long (nullable = true)\n",
            " |-- Adj Close: double (nullable = true)\n",
            " |-- Adj Close Ant: double (nullable = true)\n",
            " |-- Source: string (nullable = true)\n",
            " |-- Timestamp: string (nullable = true)\n",
            "\n"
          ]
        }
      ]
    },
    {
      "cell_type": "code",
      "source": [
        "df = df.withColumn('Adj Close', F.col('Adj Close').cast('float'))\n",
        "df.show()"
      ],
      "metadata": {
        "colab": {
          "base_uri": "https://localhost:8080/"
        },
        "id": "58OJezNKtT36",
        "outputId": "5c114a39-48cf-4f36-b40e-3ca30a5812f2"
      },
      "execution_count": null,
      "outputs": [
        {
          "output_type": "stream",
          "name": "stdout",
          "text": [
            "+----------+------+-----+------+------+------+--------+---------+-------------+--------+--------------------+\n",
            "|      Date|Ticker| Open|  High|   Low| Close|  Volume|Adj Close|Adj Close Ant|  Source|           Timestamp|\n",
            "+----------+------+-----+------+------+------+--------+---------+-------------+--------+--------------------+\n",
            "|2024-05-03| AALR3| 10.4| 10.45|  9.74|  9.96|  187300|     9.96|        10.26|yfinance|2024-05-03 16:32:...|\n",
            "|2024-05-03| ABEV3|12.47| 12.48| 12.35| 12.44|15843900|    12.44|        12.33|yfinance|2024-05-03 16:32:...|\n",
            "|2024-05-03| AERI3| 0.56|  0.57|  0.56|  0.56| 1336800|     0.56|         0.56|yfinance|2024-05-03 16:32:...|\n",
            "|2024-05-03| ALLD3| 7.38|   7.7|  7.38|  7.49|  123400|     7.49|          7.3|yfinance|2024-05-03 16:32:...|\n",
            "|2024-05-03|ALZR11|116.3|118.17|116.22|117.18|   42743|   117.18|       116.47|yfinance|2024-05-03 16:32:...|\n",
            "|2024-05-03| AMAR3| 1.66|  1.73|   1.6|  1.65|  667500|     1.65|         1.67|yfinance|2024-05-03 16:32:...|\n",
            "|2024-05-03| AMER3| 0.57|  0.58|  0.54|  0.55|20310800|     0.55|         0.56|yfinance|2024-05-03 16:32:...|\n",
            "|2024-05-03| AZUL4|10.55|  11.0| 10.53| 10.95|19212300|    10.95|        10.16|yfinance|2024-05-03 16:32:...|\n",
            "|2024-05-03| B3SA3|11.34| 11.61| 11.25| 11.41|75084000|    11.41|        11.06|yfinance|2024-05-03 16:32:...|\n",
            "|2024-05-03| BBAS3|28.02| 28.36|  27.9| 28.34|12904800|    28.34|        27.71|yfinance|2024-05-03 16:32:...|\n",
            "|2024-05-03| BBDC4|13.98| 14.06| 13.67| 13.71|45875000|    13.71|        13.82|yfinance|2024-05-03 16:32:...|\n",
            "|2024-05-02|BBPO11|96.75| 96.75| 96.75| 96.75|       0|    96.75|        96.75|yfinance|2024-05-03 16:32:...|\n",
            "|2024-05-03| BBSE3| 32.7| 32.85|  32.5| 32.83| 2219200|    32.83|        32.42|yfinance|2024-05-03 16:32:...|\n",
            "|2024-05-03|BCFF11| 8.94|   9.0|  8.93|  8.95|  271606|     8.95|         8.94|yfinance|2024-05-03 16:32:...|\n",
            "|2024-05-03| BEEF3| 6.12|  6.28|  6.11|  6.27| 6551700|     6.27|         6.07|yfinance|2024-05-03 16:32:...|\n",
            "|2024-05-03| BHIA3| 8.11|  8.25|  7.77|   8.0| 9372400|      8.0|         7.89|yfinance|2024-05-03 16:32:...|\n",
            "|2024-05-03| BMGB4| 3.29|   3.4|  3.28|  3.38|  573600|     3.38|         3.28|yfinance|2024-05-03 16:32:...|\n",
            "|2024-05-03|BPAC11|34.72| 35.52| 34.67| 35.52| 8787900|    35.52|        34.17|yfinance|2024-05-03 16:32:...|\n",
            "|2024-05-03| BRAP4|20.32| 20.41| 20.02| 20.27| 3167300|    20.27|        20.21|yfinance|2024-05-03 16:32:...|\n",
            "|2024-05-03| BRAP4|20.32| 20.41| 20.02| 20.27| 3167300|    20.27|        20.21|yfinance|2024-05-03 16:32:...|\n",
            "+----------+------+-----+------+------+------+--------+---------+-------------+--------+--------------------+\n",
            "only showing top 20 rows\n",
            "\n"
          ]
        }
      ]
    },
    {
      "cell_type": "code",
      "source": [
        "df = df.withColumn('sigla', F.lit('BR'))"
      ],
      "metadata": {
        "id": "u1RPYIAIxkt5"
      },
      "execution_count": null,
      "outputs": []
    },
    {
      "cell_type": "code",
      "source": [
        "w_row = W.partitionBy(F.col('Date')).orderBy(F.col('Volume'))\n",
        "\n",
        "df = df.withColumn('lead_vol',\n",
        "              F.lead('Volume').over(w_row)\n",
        "              )\\\n",
        "  .withColumn('dif',\n",
        "              (F.col('lead_vol') - F.col('Volume'))\n",
        "              )\\\n",
        "  .drop('sigla')\n",
        "\n",
        "#df.show()"
      ],
      "metadata": {
        "id": "AAsa0EgyykK9"
      },
      "execution_count": null,
      "outputs": []
    },
    {
      "cell_type": "code",
      "source": [
        "# 6min\n",
        "df.explain(True)"
      ],
      "metadata": {
        "colab": {
          "base_uri": "https://localhost:8080/"
        },
        "id": "IZPwch2AfYvZ",
        "outputId": "a1ed7a51-26a8-4219-d35b-67671075b33f"
      },
      "execution_count": null,
      "outputs": [
        {
          "output_type": "stream",
          "name": "stdout",
          "text": [
            "== Parsed Logical Plan ==\n",
            "Project [Date#1731, Ticker#1732, Open#1733, High#1734, Low#1735, Close#1736, Volume#1737L, Adj Close#1798, Adj Close Ant#1739, Source#1740, Timestamp#1741, lead_vol#1897L, dif#1912L]\n",
            "+- Project [Date#1731, Ticker#1732, Open#1733, High#1734, Low#1735, Close#1736, Volume#1737L, Adj Close#1798, Adj Close Ant#1739, Source#1740, Timestamp#1741, sigla#1855, lead_vol#1897L, (lead_vol#1897L - Volume#1737L) AS dif#1912L]\n",
            "   +- Project [Date#1731, Ticker#1732, Open#1733, High#1734, Low#1735, Close#1736, Volume#1737L, Adj Close#1798, Adj Close Ant#1739, Source#1740, Timestamp#1741, sigla#1855, lead_vol#1897L, dif#1882L]\n",
            "      +- Project [Date#1731, Ticker#1732, Open#1733, High#1734, Low#1735, Close#1736, Volume#1737L, Adj Close#1798, Adj Close Ant#1739, Source#1740, Timestamp#1741, sigla#1855, dif#1882L, lead_vol#1897L, lead_vol#1897L]\n",
            "         +- Window [lead(Volume#1737L, 1, null) windowspecdefinition(Date#1731, Volume#1737L ASC NULLS FIRST, specifiedwindowframe(RowFrame, 1, 1)) AS lead_vol#1897L], [Date#1731], [Volume#1737L ASC NULLS FIRST]\n",
            "            +- Project [Date#1731, Ticker#1732, Open#1733, High#1734, Low#1735, Close#1736, Volume#1737L, Adj Close#1798, Adj Close Ant#1739, Source#1740, Timestamp#1741, sigla#1855, dif#1882L]\n",
            "               +- Project [Date#1731, Ticker#1732, Open#1733, High#1734, Low#1735, Close#1736, Volume#1737L, Adj Close#1798, Adj Close Ant#1739, Source#1740, Timestamp#1741, sigla#1855, lead_vol#1868L, (lead_vol#1868L - Volume#1737L) AS dif#1882L]\n",
            "                  +- Project [Date#1731, Ticker#1732, Open#1733, High#1734, Low#1735, Close#1736, Volume#1737L, Adj Close#1798, Adj Close Ant#1739, Source#1740, Timestamp#1741, sigla#1855, lead_vol#1868L]\n",
            "                     +- Project [Date#1731, Ticker#1732, Open#1733, High#1734, Low#1735, Close#1736, Volume#1737L, Adj Close#1798, Adj Close Ant#1739, Source#1740, Timestamp#1741, sigla#1855, lead_vol#1868L, lead_vol#1868L]\n",
            "                        +- Window [lead(Volume#1737L, 1, null) windowspecdefinition(Date#1731, Volume#1737L ASC NULLS FIRST, specifiedwindowframe(RowFrame, 1, 1)) AS lead_vol#1868L], [Date#1731], [Volume#1737L ASC NULLS FIRST]\n",
            "                           +- Project [Date#1731, Ticker#1732, Open#1733, High#1734, Low#1735, Close#1736, Volume#1737L, Adj Close#1798, Adj Close Ant#1739, Source#1740, Timestamp#1741, sigla#1855]\n",
            "                              +- Project [Date#1731, Ticker#1732, Open#1733, High#1734, Low#1735, Close#1736, Volume#1737L, Adj Close#1798, Adj Close Ant#1739, Source#1740, Timestamp#1741, BR AS sigla#1855]\n",
            "                                 +- Project [Date#1731, Ticker#1732, Open#1733, High#1734, Low#1735, Close#1736, Volume#1737L, cast(Adj Close#1738 as float) AS Adj Close#1798, Adj Close Ant#1739, Source#1740, Timestamp#1741]\n",
            "                                    +- LogicalRDD [Date#1731, Ticker#1732, Open#1733, High#1734, Low#1735, Close#1736, Volume#1737L, Adj Close#1738, Adj Close Ant#1739, Source#1740, Timestamp#1741], false\n",
            "\n",
            "== Analyzed Logical Plan ==\n",
            "Date: string, Ticker: string, Open: double, High: double, Low: double, Close: double, Volume: bigint, Adj Close: float, Adj Close Ant: double, Source: string, Timestamp: string, lead_vol: bigint, dif: bigint\n",
            "Project [Date#1731, Ticker#1732, Open#1733, High#1734, Low#1735, Close#1736, Volume#1737L, Adj Close#1798, Adj Close Ant#1739, Source#1740, Timestamp#1741, lead_vol#1897L, dif#1912L]\n",
            "+- Project [Date#1731, Ticker#1732, Open#1733, High#1734, Low#1735, Close#1736, Volume#1737L, Adj Close#1798, Adj Close Ant#1739, Source#1740, Timestamp#1741, sigla#1855, lead_vol#1897L, (lead_vol#1897L - Volume#1737L) AS dif#1912L]\n",
            "   +- Project [Date#1731, Ticker#1732, Open#1733, High#1734, Low#1735, Close#1736, Volume#1737L, Adj Close#1798, Adj Close Ant#1739, Source#1740, Timestamp#1741, sigla#1855, lead_vol#1897L, dif#1882L]\n",
            "      +- Project [Date#1731, Ticker#1732, Open#1733, High#1734, Low#1735, Close#1736, Volume#1737L, Adj Close#1798, Adj Close Ant#1739, Source#1740, Timestamp#1741, sigla#1855, dif#1882L, lead_vol#1897L, lead_vol#1897L]\n",
            "         +- Window [lead(Volume#1737L, 1, null) windowspecdefinition(Date#1731, Volume#1737L ASC NULLS FIRST, specifiedwindowframe(RowFrame, 1, 1)) AS lead_vol#1897L], [Date#1731], [Volume#1737L ASC NULLS FIRST]\n",
            "            +- Project [Date#1731, Ticker#1732, Open#1733, High#1734, Low#1735, Close#1736, Volume#1737L, Adj Close#1798, Adj Close Ant#1739, Source#1740, Timestamp#1741, sigla#1855, dif#1882L]\n",
            "               +- Project [Date#1731, Ticker#1732, Open#1733, High#1734, Low#1735, Close#1736, Volume#1737L, Adj Close#1798, Adj Close Ant#1739, Source#1740, Timestamp#1741, sigla#1855, lead_vol#1868L, (lead_vol#1868L - Volume#1737L) AS dif#1882L]\n",
            "                  +- Project [Date#1731, Ticker#1732, Open#1733, High#1734, Low#1735, Close#1736, Volume#1737L, Adj Close#1798, Adj Close Ant#1739, Source#1740, Timestamp#1741, sigla#1855, lead_vol#1868L]\n",
            "                     +- Project [Date#1731, Ticker#1732, Open#1733, High#1734, Low#1735, Close#1736, Volume#1737L, Adj Close#1798, Adj Close Ant#1739, Source#1740, Timestamp#1741, sigla#1855, lead_vol#1868L, lead_vol#1868L]\n",
            "                        +- Window [lead(Volume#1737L, 1, null) windowspecdefinition(Date#1731, Volume#1737L ASC NULLS FIRST, specifiedwindowframe(RowFrame, 1, 1)) AS lead_vol#1868L], [Date#1731], [Volume#1737L ASC NULLS FIRST]\n",
            "                           +- Project [Date#1731, Ticker#1732, Open#1733, High#1734, Low#1735, Close#1736, Volume#1737L, Adj Close#1798, Adj Close Ant#1739, Source#1740, Timestamp#1741, sigla#1855]\n",
            "                              +- Project [Date#1731, Ticker#1732, Open#1733, High#1734, Low#1735, Close#1736, Volume#1737L, Adj Close#1798, Adj Close Ant#1739, Source#1740, Timestamp#1741, BR AS sigla#1855]\n",
            "                                 +- Project [Date#1731, Ticker#1732, Open#1733, High#1734, Low#1735, Close#1736, Volume#1737L, cast(Adj Close#1738 as float) AS Adj Close#1798, Adj Close Ant#1739, Source#1740, Timestamp#1741]\n",
            "                                    +- LogicalRDD [Date#1731, Ticker#1732, Open#1733, High#1734, Low#1735, Close#1736, Volume#1737L, Adj Close#1738, Adj Close Ant#1739, Source#1740, Timestamp#1741], false\n",
            "\n",
            "== Optimized Logical Plan ==\n",
            "Project [Date#1731, Ticker#1732, Open#1733, High#1734, Low#1735, Close#1736, Volume#1737L, Adj Close#1798, Adj Close Ant#1739, Source#1740, Timestamp#1741, lead_vol#1897L, (lead_vol#1897L - Volume#1737L) AS dif#1912L]\n",
            "+- Window [lead(Volume#1737L, 1, null) windowspecdefinition(Date#1731, Volume#1737L ASC NULLS FIRST, specifiedwindowframe(RowFrame, 1, 1)) AS lead_vol#1897L], [Date#1731], [Volume#1737L ASC NULLS FIRST]\n",
            "   +- Project [Date#1731, Ticker#1732, Open#1733, High#1734, Low#1735, Close#1736, Volume#1737L, cast(Adj Close#1738 as float) AS Adj Close#1798, Adj Close Ant#1739, Source#1740, Timestamp#1741]\n",
            "      +- LogicalRDD [Date#1731, Ticker#1732, Open#1733, High#1734, Low#1735, Close#1736, Volume#1737L, Adj Close#1738, Adj Close Ant#1739, Source#1740, Timestamp#1741], false\n",
            "\n",
            "== Physical Plan ==\n",
            "AdaptiveSparkPlan isFinalPlan=false\n",
            "+- Project [Date#1731, Ticker#1732, Open#1733, High#1734, Low#1735, Close#1736, Volume#1737L, Adj Close#1798, Adj Close Ant#1739, Source#1740, Timestamp#1741, lead_vol#1897L, (lead_vol#1897L - Volume#1737L) AS dif#1912L]\n",
            "   +- Window [lead(Volume#1737L, 1, null) windowspecdefinition(Date#1731, Volume#1737L ASC NULLS FIRST, specifiedwindowframe(RowFrame, 1, 1)) AS lead_vol#1897L], [Date#1731], [Volume#1737L ASC NULLS FIRST]\n",
            "      +- Sort [Date#1731 ASC NULLS FIRST, Volume#1737L ASC NULLS FIRST], false, 0\n",
            "         +- Exchange hashpartitioning(Date#1731, 200), ENSURE_REQUIREMENTS, [plan_id=674]\n",
            "            +- Project [Date#1731, Ticker#1732, Open#1733, High#1734, Low#1735, Close#1736, Volume#1737L, cast(Adj Close#1738 as float) AS Adj Close#1798, Adj Close Ant#1739, Source#1740, Timestamp#1741]\n",
            "               +- Scan ExistingRDD[Date#1731,Ticker#1732,Open#1733,High#1734,Low#1735,Close#1736,Volume#1737L,Adj Close#1738,Adj Close Ant#1739,Source#1740,Timestamp#1741]\n",
            "\n"
          ]
        }
      ]
    },
    {
      "cell_type": "code",
      "source": [
        "# 22min\n",
        "df.show()"
      ],
      "metadata": {
        "id": "pOcXXeFl4LDY",
        "colab": {
          "base_uri": "https://localhost:8080/"
        },
        "outputId": "6392a0d1-1793-4c17-f3c3-2c82d051a87d"
      },
      "execution_count": null,
      "outputs": [
        {
          "output_type": "stream",
          "name": "stdout",
          "text": [
            "+----------+------+---------+---------+---------+---------+------+---------+-------------+--------+--------------------+--------+-----+\n",
            "|      Date|Ticker|     Open|     High|      Low|    Close|Volume|Adj Close|Adj Close Ant|  Source|           Timestamp|lead_vol|  dif|\n",
            "+----------+------+---------+---------+---------+---------+------+---------+-------------+--------+--------------------+--------+-----+\n",
            "|2024-05-02|BBPO11|    96.75|    96.75|    96.75|    96.75|     0|    96.75|        96.75|yfinance|2024-05-03 16:32:...|       0|    0|\n",
            "|2024-05-02| DTCY3|      5.2|      5.2|      5.2|      5.2|     0|      5.2|          5.2|yfinance|2024-05-03 16:32:...|       0|    0|\n",
            "|2024-05-02| SLED4|      1.6|      1.6|      1.6|      1.6|     0|      1.6|          1.6|yfinance|2024-05-03 16:33:...|    null| null|\n",
            "|2024-05-03|  IBOV|127130.46|128786.96|127130.46|128646.81|     0|128646.81|     127122.0|yfinance|2024-05-03 16:32:...|    1576| 1576|\n",
            "|2024-05-03|RBRD11|    40.47|    40.95|    39.45|    39.65|  1576|    39.65|        40.41|yfinance|2024-05-03 16:33:...|    1600|   24|\n",
            "|2024-05-03| PLAS3|      6.2|      6.2|     5.81|     6.15|  1600|     6.15|          6.0|yfinance|2024-05-03 16:33:...|    2889| 1289|\n",
            "|2024-05-03|RCRB11|   155.15|   159.79|   155.15|   159.64|  2889|   159.64|        155.0|yfinance|2024-05-03 16:33:...|    3288|  399|\n",
            "|2024-05-03|QAGR11|     47.2|    47.23|    46.17|    46.51|  3288|    46.51|        47.64|yfinance|2024-05-03 16:33:...|    5100| 1812|\n",
            "|2024-05-03| TPIS3|     3.89|     3.89|     3.83|     3.87|  5100|     3.87|         3.85|yfinance|2024-05-03 16:33:...|    7706| 2606|\n",
            "|2024-05-03|RECT11|    37.69|     38.2|    37.67|    38.17|  7706|    38.17|        37.69|yfinance|2024-05-03 16:33:...|   18699|10993|\n",
            "|2024-05-03|KNRI11|   163.15|    164.2|   162.95|    164.0| 18699|    164.0|       162.95|yfinance|2024-05-03 16:32:...|   18828|  129|\n",
            "|2024-05-03|HGBS11|   220.82|   222.49|   220.72|   221.72| 18828|   221.72|       220.82|yfinance|2024-05-03 16:32:...|   23035| 4207|\n",
            "|2024-05-03|VILG11|    91.51|     94.0|    91.51|    93.87| 23035|    93.87|        91.49|yfinance|2024-05-03 16:33:...|   24600| 1565|\n",
            "|2024-05-03|HCTR11|    32.21|    32.48|    32.08|    32.34| 24600|    32.34|        32.35|yfinance|2024-05-03 16:32:...|   26896| 2296|\n",
            "|2024-05-03|HGLG11|   165.31|   166.85|   165.08|   166.58| 26896|   166.58|       164.98|yfinance|2024-05-03 16:32:...|   26896|    0|\n",
            "|2024-05-03|HGLG11|   165.31|   166.85|   165.08|   166.58| 26896|   166.58|       164.98|yfinance|2024-05-03 16:32:...|   36756| 9860|\n",
            "|2024-05-03|TGAR11|   124.79|   125.45|   124.37|   125.31| 36756|   125.31|        124.3|yfinance|2024-05-03 16:33:...|   42743| 5987|\n",
            "|2024-05-03|ALZR11|    116.3|   118.17|   116.22|   117.18| 42743|   117.18|       116.47|yfinance|2024-05-03 16:32:...|   50982| 8239|\n",
            "|2024-05-03|JSRE11|     71.3|    72.02|    69.82|    70.47| 50982|    70.47|        71.95|yfinance|2024-05-03 16:32:...|   83994|33012|\n",
            "|2024-05-03|HSML11|    95.65|     97.8|    95.65|    97.38| 83994|    97.38|        95.54|yfinance|2024-05-03 16:32:...|   96754|12760|\n",
            "+----------+------+---------+---------+---------+---------+------+---------+-------------+--------+--------------------+--------+-----+\n",
            "only showing top 20 rows\n",
            "\n"
          ]
        }
      ]
    },
    {
      "cell_type": "markdown",
      "source": [
        "**.repartition**"
      ],
      "metadata": {
        "id": "eripC-t_58n_"
      }
    },
    {
      "cell_type": "code",
      "source": [
        "# 29min\n",
        "df = df.repartition(4)"
      ],
      "metadata": {
        "id": "GqQFDwoF545W"
      },
      "execution_count": null,
      "outputs": []
    },
    {
      "cell_type": "code",
      "source": [
        "df.rdd.getNumPartitions()"
      ],
      "metadata": {
        "colab": {
          "base_uri": "https://localhost:8080/"
        },
        "id": "MesY1hLK6OBG",
        "outputId": "5f322da5-e10f-4f3d-dca7-e58c3e50dce5"
      },
      "execution_count": null,
      "outputs": [
        {
          "output_type": "execute_result",
          "data": {
            "text/plain": [
              "4"
            ]
          },
          "metadata": {},
          "execution_count": 92
        }
      ]
    },
    {
      "cell_type": "markdown",
      "source": [
        ".cash()"
      ],
      "metadata": {
        "id": "vq0iPBHx9ASK"
      }
    },
    {
      "cell_type": "code",
      "source": [
        "# 43min\n",
        "df_cached = df.cache()"
      ],
      "metadata": {
        "id": "RJQyxX2z9CkY"
      },
      "execution_count": null,
      "outputs": []
    },
    {
      "cell_type": "markdown",
      "source": [
        ".persist()"
      ],
      "metadata": {
        "id": "piy7XqVu_ArX"
      }
    },
    {
      "cell_type": "markdown",
      "source": [
        ".persist() é um metodo bem semelhante ao .cache(), a diferença e que com o metodo persist(), voce escolher onde ele irá armazenar as informações:"
      ],
      "metadata": {
        "id": "D9xd36k__FZ1"
      }
    },
    {
      "cell_type": "markdown",
      "source": [
        "* pyspark.StorageLevel.MEMORY_AND_DISK\n",
        "* pyspark.StorageLevel.DISK_ONLY\n",
        "* pyspark.StorageLevel.MEMORY_ONLY\n",
        "\n",
        "\n"
      ],
      "metadata": {
        "id": "FqU0CjkgAHDp"
      }
    },
    {
      "cell_type": "code",
      "source": [
        "import pyspark\n",
        "\n",
        "df_cached = df.persist(pyspark.StorageLevel.DISK_ONLY)"
      ],
      "metadata": {
        "id": "8LY1khVT-jxs"
      },
      "execution_count": null,
      "outputs": []
    },
    {
      "cell_type": "markdown",
      "source": [
        ".toPandas()\n"
      ],
      "metadata": {
        "id": "L3FMFfqDAlYI"
      }
    },
    {
      "cell_type": "code",
      "source": [
        "df_cached.toPandas()"
      ],
      "metadata": {
        "colab": {
          "base_uri": "https://localhost:8080/",
          "height": 424
        },
        "id": "b87gms0AAqXr",
        "outputId": "727cb3dc-97d8-44e7-b7dd-2fb7f8324a62"
      },
      "execution_count": null,
      "outputs": [
        {
          "output_type": "execute_result",
          "data": {
            "text/plain": [
              "           Date Ticker   Open   High    Low  Close    Volume  Adj Close  \\\n",
              "0    2024-05-03  STBP3  14.07  14.36  13.87  13.95   4848600  13.950000   \n",
              "1    2024-05-03  BMGB4   3.29   3.40   3.28   3.38    573600   3.380000   \n",
              "2    2024-05-03  COGN3   2.30   2.38   2.30   2.35  29925700   2.350000   \n",
              "3    2024-05-03  VLID3  17.68  18.00  17.56  17.89    257700  17.889999   \n",
              "4    2024-05-03  ESPA3   0.94   1.01   0.93   0.94   1471100   0.940000   \n",
              "..          ...    ...    ...    ...    ...    ...       ...        ...   \n",
              "117  2024-05-03  WEGE3  38.99  38.99  38.24  38.65   3489900  38.650002   \n",
              "118  2024-05-03  ABEV3  12.47  12.48  12.35  12.44  15843900  12.440000   \n",
              "119  2024-05-03  PLAS3   6.20   6.20   5.81   6.15      1600   6.150000   \n",
              "120  2024-05-03  TRPL4  25.99  26.35  25.86  26.22   2279600  26.219999   \n",
              "121  2024-05-03  CEAB3  11.44  12.00  11.36  11.97   2562100  11.970000   \n",
              "\n",
              "     Adj Close Ant    Source                   Timestamp    lead_vol  \\\n",
              "0            14.00  yfinance  2024-05-03 16:33:12.069784   4874100.0   \n",
              "1             3.28  yfinance  2024-05-03 16:32:31.226432    587500.0   \n",
              "2             2.23  yfinance  2024-05-03 16:32:39.168643  35582300.0   \n",
              "3            17.40  yfinance  2024-05-03 16:33:23.318761    261500.0   \n",
              "4             0.93  yfinance  2024-05-03 16:32:45.482464   1576400.0   \n",
              "..             ...       ...                         ...         ...   \n",
              "117          38.85  yfinance  2024-05-03 16:33:23.591119   4319000.0   \n",
              "118          12.33  yfinance  2024-05-03 16:32:16.905137  17557800.0   \n",
              "119           6.00  yfinance  2024-05-03 16:33:06.779639      2889.0   \n",
              "120          25.70  yfinance  2024-05-03 16:33:21.388359   2562100.0   \n",
              "121          11.14  yfinance  2024-05-03 16:32:35.620689   2706900.0   \n",
              "\n",
              "           dif  \n",
              "0      25500.0  \n",
              "1      13900.0  \n",
              "2    5656600.0  \n",
              "3       3800.0  \n",
              "4     105300.0  \n",
              "..         ...  \n",
              "117   829100.0  \n",
              "118  1713900.0  \n",
              "119     1289.0  \n",
              "120   282500.0  \n",
              "121   144800.0  \n",
              "\n",
              "[122 rows x 13 columns]"
            ],
            "text/html": [
              "\n",
              "  <div id=\"df-89396505-5ebf-4b29-9137-34c627af489f\" class=\"colab-df-container\">\n",
              "    <div>\n",
              "<style scoped>\n",
              "    .dataframe tbody tr th:only-of-type {\n",
              "        vertical-align: middle;\n",
              "    }\n",
              "\n",
              "    .dataframe tbody tr th {\n",
              "        vertical-align: top;\n",
              "    }\n",
              "\n",
              "    .dataframe thead th {\n",
              "        text-align: right;\n",
              "    }\n",
              "</style>\n",
              "<table border=\"1\" class=\"dataframe\">\n",
              "  <thead>\n",
              "    <tr style=\"text-align: right;\">\n",
              "      <th></th>\n",
              "      <th>Date</th>\n",
              "      <th>Ticker</th>\n",
              "      <th>Open</th>\n",
              "      <th>High</th>\n",
              "      <th>Low</th>\n",
              "      <th>Close</th>\n",
              "      <th>Volume</th>\n",
              "      <th>Adj Close</th>\n",
              "      <th>Adj Close Ant</th>\n",
              "      <th>Source</th>\n",
              "      <th>Timestamp</th>\n",
              "      <th>lead_vol</th>\n",
              "      <th>dif</th>\n",
              "    </tr>\n",
              "  </thead>\n",
              "  <tbody>\n",
              "    <tr>\n",
              "      <th>0</th>\n",
              "      <td>2024-05-03</td>\n",
              "      <td>STBP3</td>\n",
              "      <td>14.07</td>\n",
              "      <td>14.36</td>\n",
              "      <td>13.87</td>\n",
              "      <td>13.95</td>\n",
              "      <td>4848600</td>\n",
              "      <td>13.950000</td>\n",
              "      <td>14.00</td>\n",
              "      <td>yfinance</td>\n",
              "      <td>2024-05-03 16:33:12.069784</td>\n",
              "      <td>4874100.0</td>\n",
              "      <td>25500.0</td>\n",
              "    </tr>\n",
              "    <tr>\n",
              "      <th>1</th>\n",
              "      <td>2024-05-03</td>\n",
              "      <td>BMGB4</td>\n",
              "      <td>3.29</td>\n",
              "      <td>3.40</td>\n",
              "      <td>3.28</td>\n",
              "      <td>3.38</td>\n",
              "      <td>573600</td>\n",
              "      <td>3.380000</td>\n",
              "      <td>3.28</td>\n",
              "      <td>yfinance</td>\n",
              "      <td>2024-05-03 16:32:31.226432</td>\n",
              "      <td>587500.0</td>\n",
              "      <td>13900.0</td>\n",
              "    </tr>\n",
              "    <tr>\n",
              "      <th>2</th>\n",
              "      <td>2024-05-03</td>\n",
              "      <td>COGN3</td>\n",
              "      <td>2.30</td>\n",
              "      <td>2.38</td>\n",
              "      <td>2.30</td>\n",
              "      <td>2.35</td>\n",
              "      <td>29925700</td>\n",
              "      <td>2.350000</td>\n",
              "      <td>2.23</td>\n",
              "      <td>yfinance</td>\n",
              "      <td>2024-05-03 16:32:39.168643</td>\n",
              "      <td>35582300.0</td>\n",
              "      <td>5656600.0</td>\n",
              "    </tr>\n",
              "    <tr>\n",
              "      <th>3</th>\n",
              "      <td>2024-05-03</td>\n",
              "      <td>VLID3</td>\n",
              "      <td>17.68</td>\n",
              "      <td>18.00</td>\n",
              "      <td>17.56</td>\n",
              "      <td>17.89</td>\n",
              "      <td>257700</td>\n",
              "      <td>17.889999</td>\n",
              "      <td>17.40</td>\n",
              "      <td>yfinance</td>\n",
              "      <td>2024-05-03 16:33:23.318761</td>\n",
              "      <td>261500.0</td>\n",
              "      <td>3800.0</td>\n",
              "    </tr>\n",
              "    <tr>\n",
              "      <th>4</th>\n",
              "      <td>2024-05-03</td>\n",
              "      <td>ESPA3</td>\n",
              "      <td>0.94</td>\n",
              "      <td>1.01</td>\n",
              "      <td>0.93</td>\n",
              "      <td>0.94</td>\n",
              "      <td>1471100</td>\n",
              "      <td>0.940000</td>\n",
              "      <td>0.93</td>\n",
              "      <td>yfinance</td>\n",
              "      <td>2024-05-03 16:32:45.482464</td>\n",
              "      <td>1576400.0</td>\n",
              "      <td>105300.0</td>\n",
              "    </tr>\n",
              "    <tr>\n",
              "      <th>...</th>\n",
              "      <td>...</td>\n",
              "      <td>...</td>\n",
              "      <td>...</td>\n",
              "      <td>...</td>\n",
              "      <td>...</td>\n",
              "      <td>...</td>\n",
              "      <td>...</td>\n",
              "      <td>...</td>\n",
              "      <td>...</td>\n",
              "      <td>...</td>\n",
              "      <td>...</td>\n",
              "      <td>...</td>\n",
              "      <td>...</td>\n",
              "    </tr>\n",
              "    <tr>\n",
              "      <th>117</th>\n",
              "      <td>2024-05-03</td>\n",
              "      <td>WEGE3</td>\n",
              "      <td>38.99</td>\n",
              "      <td>38.99</td>\n",
              "      <td>38.24</td>\n",
              "      <td>38.65</td>\n",
              "      <td>3489900</td>\n",
              "      <td>38.650002</td>\n",
              "      <td>38.85</td>\n",
              "      <td>yfinance</td>\n",
              "      <td>2024-05-03 16:33:23.591119</td>\n",
              "      <td>4319000.0</td>\n",
              "      <td>829100.0</td>\n",
              "    </tr>\n",
              "    <tr>\n",
              "      <th>118</th>\n",
              "      <td>2024-05-03</td>\n",
              "      <td>ABEV3</td>\n",
              "      <td>12.47</td>\n",
              "      <td>12.48</td>\n",
              "      <td>12.35</td>\n",
              "      <td>12.44</td>\n",
              "      <td>15843900</td>\n",
              "      <td>12.440000</td>\n",
              "      <td>12.33</td>\n",
              "      <td>yfinance</td>\n",
              "      <td>2024-05-03 16:32:16.905137</td>\n",
              "      <td>17557800.0</td>\n",
              "      <td>1713900.0</td>\n",
              "    </tr>\n",
              "    <tr>\n",
              "      <th>119</th>\n",
              "      <td>2024-05-03</td>\n",
              "      <td>PLAS3</td>\n",
              "      <td>6.20</td>\n",
              "      <td>6.20</td>\n",
              "      <td>5.81</td>\n",
              "      <td>6.15</td>\n",
              "      <td>1600</td>\n",
              "      <td>6.150000</td>\n",
              "      <td>6.00</td>\n",
              "      <td>yfinance</td>\n",
              "      <td>2024-05-03 16:33:06.779639</td>\n",
              "      <td>2889.0</td>\n",
              "      <td>1289.0</td>\n",
              "    </tr>\n",
              "    <tr>\n",
              "      <th>120</th>\n",
              "      <td>2024-05-03</td>\n",
              "      <td>TRPL4</td>\n",
              "      <td>25.99</td>\n",
              "      <td>26.35</td>\n",
              "      <td>25.86</td>\n",
              "      <td>26.22</td>\n",
              "      <td>2279600</td>\n",
              "      <td>26.219999</td>\n",
              "      <td>25.70</td>\n",
              "      <td>yfinance</td>\n",
              "      <td>2024-05-03 16:33:21.388359</td>\n",
              "      <td>2562100.0</td>\n",
              "      <td>282500.0</td>\n",
              "    </tr>\n",
              "    <tr>\n",
              "      <th>121</th>\n",
              "      <td>2024-05-03</td>\n",
              "      <td>CEAB3</td>\n",
              "      <td>11.44</td>\n",
              "      <td>12.00</td>\n",
              "      <td>11.36</td>\n",
              "      <td>11.97</td>\n",
              "      <td>2562100</td>\n",
              "      <td>11.970000</td>\n",
              "      <td>11.14</td>\n",
              "      <td>yfinance</td>\n",
              "      <td>2024-05-03 16:32:35.620689</td>\n",
              "      <td>2706900.0</td>\n",
              "      <td>144800.0</td>\n",
              "    </tr>\n",
              "  </tbody>\n",
              "</table>\n",
              "<p>122 rows × 13 columns</p>\n",
              "</div>\n",
              "    <div class=\"colab-df-buttons\">\n",
              "\n",
              "  <div class=\"colab-df-container\">\n",
              "    <button class=\"colab-df-convert\" onclick=\"convertToInteractive('df-89396505-5ebf-4b29-9137-34c627af489f')\"\n",
              "            title=\"Convert this dataframe to an interactive table.\"\n",
              "            style=\"display:none;\">\n",
              "\n",
              "  <svg xmlns=\"http://www.w3.org/2000/svg\" height=\"24px\" viewBox=\"0 -960 960 960\">\n",
              "    <path d=\"M120-120v-720h720v720H120Zm60-500h600v-160H180v160Zm220 220h160v-160H400v160Zm0 220h160v-160H400v160ZM180-400h160v-160H180v160Zm440 0h160v-160H620v160ZM180-180h160v-160H180v160Zm440 0h160v-160H620v160Z\"/>\n",
              "  </svg>\n",
              "    </button>\n",
              "\n",
              "  <style>\n",
              "    .colab-df-container {\n",
              "      display:flex;\n",
              "      gap: 12px;\n",
              "    }\n",
              "\n",
              "    .colab-df-convert {\n",
              "      background-color: #E8F0FE;\n",
              "      border: none;\n",
              "      border-radius: 50%;\n",
              "      cursor: pointer;\n",
              "      display: none;\n",
              "      fill: #1967D2;\n",
              "      height: 32px;\n",
              "      padding: 0 0 0 0;\n",
              "      width: 32px;\n",
              "    }\n",
              "\n",
              "    .colab-df-convert:hover {\n",
              "      background-color: #E2EBFA;\n",
              "      box-shadow: 0px 1px 2px rgba(60, 64, 67, 0.3), 0px 1px 3px 1px rgba(60, 64, 67, 0.15);\n",
              "      fill: #174EA6;\n",
              "    }\n",
              "\n",
              "    .colab-df-buttons div {\n",
              "      margin-bottom: 4px;\n",
              "    }\n",
              "\n",
              "    [theme=dark] .colab-df-convert {\n",
              "      background-color: #3B4455;\n",
              "      fill: #D2E3FC;\n",
              "    }\n",
              "\n",
              "    [theme=dark] .colab-df-convert:hover {\n",
              "      background-color: #434B5C;\n",
              "      box-shadow: 0px 1px 3px 1px rgba(0, 0, 0, 0.15);\n",
              "      filter: drop-shadow(0px 1px 2px rgba(0, 0, 0, 0.3));\n",
              "      fill: #FFFFFF;\n",
              "    }\n",
              "  </style>\n",
              "\n",
              "    <script>\n",
              "      const buttonEl =\n",
              "        document.querySelector('#df-89396505-5ebf-4b29-9137-34c627af489f button.colab-df-convert');\n",
              "      buttonEl.style.display =\n",
              "        google.colab.kernel.accessAllowed ? 'block' : 'none';\n",
              "\n",
              "      async function convertToInteractive(key) {\n",
              "        const element = document.querySelector('#df-89396505-5ebf-4b29-9137-34c627af489f');\n",
              "        const dataTable =\n",
              "          await google.colab.kernel.invokeFunction('convertToInteractive',\n",
              "                                                    [key], {});\n",
              "        if (!dataTable) return;\n",
              "\n",
              "        const docLinkHtml = 'Like what you see? Visit the ' +\n",
              "          '<a target=\"_blank\" href=https://colab.research.google.com/notebooks/data_table.ipynb>data table notebook</a>'\n",
              "          + ' to learn more about interactive tables.';\n",
              "        element.innerHTML = '';\n",
              "        dataTable['output_type'] = 'display_data';\n",
              "        await google.colab.output.renderOutput(dataTable, element);\n",
              "        const docLink = document.createElement('div');\n",
              "        docLink.innerHTML = docLinkHtml;\n",
              "        element.appendChild(docLink);\n",
              "      }\n",
              "    </script>\n",
              "  </div>\n",
              "\n",
              "\n",
              "<div id=\"df-78b1ac2b-2fa8-48df-b932-2ed60859ae56\">\n",
              "  <button class=\"colab-df-quickchart\" onclick=\"quickchart('df-78b1ac2b-2fa8-48df-b932-2ed60859ae56')\"\n",
              "            title=\"Suggest charts\"\n",
              "            style=\"display:none;\">\n",
              "\n",
              "<svg xmlns=\"http://www.w3.org/2000/svg\" height=\"24px\"viewBox=\"0 0 24 24\"\n",
              "     width=\"24px\">\n",
              "    <g>\n",
              "        <path d=\"M19 3H5c-1.1 0-2 .9-2 2v14c0 1.1.9 2 2 2h14c1.1 0 2-.9 2-2V5c0-1.1-.9-2-2-2zM9 17H7v-7h2v7zm4 0h-2V7h2v10zm4 0h-2v-4h2v4z\"/>\n",
              "    </g>\n",
              "</svg>\n",
              "  </button>\n",
              "\n",
              "<style>\n",
              "  .colab-df-quickchart {\n",
              "      --bg-color: #E8F0FE;\n",
              "      --fill-color: #1967D2;\n",
              "      --hover-bg-color: #E2EBFA;\n",
              "      --hover-fill-color: #174EA6;\n",
              "      --disabled-fill-color: #AAA;\n",
              "      --disabled-bg-color: #DDD;\n",
              "  }\n",
              "\n",
              "  [theme=dark] .colab-df-quickchart {\n",
              "      --bg-color: #3B4455;\n",
              "      --fill-color: #D2E3FC;\n",
              "      --hover-bg-color: #434B5C;\n",
              "      --hover-fill-color: #FFFFFF;\n",
              "      --disabled-bg-color: #3B4455;\n",
              "      --disabled-fill-color: #666;\n",
              "  }\n",
              "\n",
              "  .colab-df-quickchart {\n",
              "    background-color: var(--bg-color);\n",
              "    border: none;\n",
              "    border-radius: 50%;\n",
              "    cursor: pointer;\n",
              "    display: none;\n",
              "    fill: var(--fill-color);\n",
              "    height: 32px;\n",
              "    padding: 0;\n",
              "    width: 32px;\n",
              "  }\n",
              "\n",
              "  .colab-df-quickchart:hover {\n",
              "    background-color: var(--hover-bg-color);\n",
              "    box-shadow: 0 1px 2px rgba(60, 64, 67, 0.3), 0 1px 3px 1px rgba(60, 64, 67, 0.15);\n",
              "    fill: var(--button-hover-fill-color);\n",
              "  }\n",
              "\n",
              "  .colab-df-quickchart-complete:disabled,\n",
              "  .colab-df-quickchart-complete:disabled:hover {\n",
              "    background-color: var(--disabled-bg-color);\n",
              "    fill: var(--disabled-fill-color);\n",
              "    box-shadow: none;\n",
              "  }\n",
              "\n",
              "  .colab-df-spinner {\n",
              "    border: 2px solid var(--fill-color);\n",
              "    border-color: transparent;\n",
              "    border-bottom-color: var(--fill-color);\n",
              "    animation:\n",
              "      spin 1s steps(1) infinite;\n",
              "  }\n",
              "\n",
              "  @keyframes spin {\n",
              "    0% {\n",
              "      border-color: transparent;\n",
              "      border-bottom-color: var(--fill-color);\n",
              "      border-left-color: var(--fill-color);\n",
              "    }\n",
              "    20% {\n",
              "      border-color: transparent;\n",
              "      border-left-color: var(--fill-color);\n",
              "      border-top-color: var(--fill-color);\n",
              "    }\n",
              "    30% {\n",
              "      border-color: transparent;\n",
              "      border-left-color: var(--fill-color);\n",
              "      border-top-color: var(--fill-color);\n",
              "      border-right-color: var(--fill-color);\n",
              "    }\n",
              "    40% {\n",
              "      border-color: transparent;\n",
              "      border-right-color: var(--fill-color);\n",
              "      border-top-color: var(--fill-color);\n",
              "    }\n",
              "    60% {\n",
              "      border-color: transparent;\n",
              "      border-right-color: var(--fill-color);\n",
              "    }\n",
              "    80% {\n",
              "      border-color: transparent;\n",
              "      border-right-color: var(--fill-color);\n",
              "      border-bottom-color: var(--fill-color);\n",
              "    }\n",
              "    90% {\n",
              "      border-color: transparent;\n",
              "      border-bottom-color: var(--fill-color);\n",
              "    }\n",
              "  }\n",
              "</style>\n",
              "\n",
              "  <script>\n",
              "    async function quickchart(key) {\n",
              "      const quickchartButtonEl =\n",
              "        document.querySelector('#' + key + ' button');\n",
              "      quickchartButtonEl.disabled = true;  // To prevent multiple clicks.\n",
              "      quickchartButtonEl.classList.add('colab-df-spinner');\n",
              "      try {\n",
              "        const charts = await google.colab.kernel.invokeFunction(\n",
              "            'suggestCharts', [key], {});\n",
              "      } catch (error) {\n",
              "        console.error('Error during call to suggestCharts:', error);\n",
              "      }\n",
              "      quickchartButtonEl.classList.remove('colab-df-spinner');\n",
              "      quickchartButtonEl.classList.add('colab-df-quickchart-complete');\n",
              "    }\n",
              "    (() => {\n",
              "      let quickchartButtonEl =\n",
              "        document.querySelector('#df-78b1ac2b-2fa8-48df-b932-2ed60859ae56 button');\n",
              "      quickchartButtonEl.style.display =\n",
              "        google.colab.kernel.accessAllowed ? 'block' : 'none';\n",
              "    })();\n",
              "  </script>\n",
              "</div>\n",
              "\n",
              "    </div>\n",
              "  </div>\n"
            ],
            "application/vnd.google.colaboratory.intrinsic+json": {
              "type": "dataframe",
              "summary": "{\n  \"name\": \"df_cached\",\n  \"rows\": 122,\n  \"fields\": [\n    {\n      \"column\": \"Date\",\n      \"properties\": {\n        \"dtype\": \"object\",\n        \"num_unique_values\": 2,\n        \"samples\": [\n          \"2024-05-02\",\n          \"2024-05-03\"\n        ],\n        \"semantic_type\": \"\",\n        \"description\": \"\"\n      }\n    },\n    {\n      \"column\": \"Ticker\",\n      \"properties\": {\n        \"dtype\": \"string\",\n        \"num_unique_values\": 120,\n        \"samples\": [\n          \"SLED4\",\n          \"EQTL3\"\n        ],\n        \"semantic_type\": \"\",\n        \"description\": \"\"\n      }\n    },\n    {\n      \"column\": \"Open\",\n      \"properties\": {\n        \"dtype\": \"number\",\n        \"std\": 11507.172638884655,\n        \"min\": 0.56,\n        \"max\": 127130.46,\n        \"num_unique_values\": 118,\n        \"samples\": [\n          7.41,\n          8.11\n        ],\n        \"semantic_type\": \"\",\n        \"description\": \"\"\n      }\n    },\n    {\n      \"column\": \"High\",\n      \"properties\": {\n        \"dtype\": \"number\",\n        \"std\": 11657.107919372616,\n        \"min\": 0.57,\n        \"max\": 128786.96,\n        \"num_unique_values\": 119,\n        \"samples\": [\n          7.47,\n          32.48\n        ],\n        \"semantic_type\": \"\",\n        \"description\": \"\"\n      }\n    },\n    {\n      \"column\": \"Low\",\n      \"properties\": {\n        \"dtype\": \"number\",\n        \"std\": 11507.190036823014,\n        \"min\": 0.54,\n        \"max\": 127130.46,\n        \"num_unique_values\": 117,\n        \"samples\": [\n          1.6,\n          0.93\n        ],\n        \"semantic_type\": \"\",\n        \"description\": \"\"\n      }\n    },\n    {\n      \"column\": \"Close\",\n      \"properties\": {\n        \"dtype\": \"number\",\n        \"std\": 11644.438792823179,\n        \"min\": 0.55,\n        \"max\": 128646.81,\n        \"num_unique_values\": 120,\n        \"samples\": [\n          1.6,\n          31.63\n        ],\n        \"semantic_type\": \"\",\n        \"description\": \"\"\n      }\n    },\n    {\n      \"column\": \"Volume\",\n      \"properties\": {\n        \"dtype\": \"number\",\n        \"std\": 12057636,\n        \"min\": 0,\n        \"max\": 82589800,\n        \"num_unique_values\": 117,\n        \"samples\": [\n          0,\n          1471100\n        ],\n        \"semantic_type\": \"\",\n        \"description\": \"\"\n      }\n    },\n    {\n      \"column\": \"Adj Close\",\n      \"properties\": {\n        \"dtype\": \"float32\",\n        \"num_unique_values\": 120,\n        \"samples\": [\n          1.600000023841858,\n          31.6299991607666\n        ],\n        \"semantic_type\": \"\",\n        \"description\": \"\"\n      }\n    },\n    {\n      \"column\": \"Adj Close Ant\",\n      \"properties\": {\n        \"dtype\": \"number\",\n        \"std\": 11506.423405428879,\n        \"min\": 0.56,\n        \"max\": 127122.0,\n        \"num_unique_values\": 117,\n        \"samples\": [\n          1.6,\n          0.93\n        ],\n        \"semantic_type\": \"\",\n        \"description\": \"\"\n      }\n    },\n    {\n      \"column\": \"Source\",\n      \"properties\": {\n        \"dtype\": \"category\",\n        \"num_unique_values\": 1,\n        \"samples\": [\n          \"yfinance\"\n        ],\n        \"semantic_type\": \"\",\n        \"description\": \"\"\n      }\n    },\n    {\n      \"column\": \"Timestamp\",\n      \"properties\": {\n        \"dtype\": \"object\",\n        \"num_unique_values\": 122,\n        \"samples\": [\n          \"2024-05-03 16:32:42.184003\"\n        ],\n        \"semantic_type\": \"\",\n        \"description\": \"\"\n      }\n    },\n    {\n      \"column\": \"lead_vol\",\n      \"properties\": {\n        \"dtype\": \"number\",\n        \"std\": 12131603.801599389,\n        \"min\": 0.0,\n        \"max\": 82589800.0,\n        \"num_unique_values\": 117,\n        \"samples\": [\n          969800.0\n        ],\n        \"semantic_type\": \"\",\n        \"description\": \"\"\n      }\n    },\n    {\n      \"column\": \"dif\",\n      \"properties\": {\n        \"dtype\": \"number\",\n        \"std\": 2988038.722777015,\n        \"min\": 0.0,\n        \"max\": 29209000.0,\n        \"num_unique_values\": 114,\n        \"samples\": [\n          4300.0\n        ],\n        \"semantic_type\": \"\",\n        \"description\": \"\"\n      }\n    }\n  ]\n}"
            }
          },
          "metadata": {},
          "execution_count": 96
        }
      ]
    },
    {
      "cell_type": "code",
      "source": [
        "type(df_cached.toPandas())"
      ],
      "metadata": {
        "colab": {
          "base_uri": "https://localhost:8080/",
          "height": 204
        },
        "id": "xhVA3eCnCUXl",
        "outputId": "39afd776-0d55-453f-f875-58604e014648"
      },
      "execution_count": null,
      "outputs": [
        {
          "output_type": "execute_result",
          "data": {
            "text/plain": [
              "pandas.core.frame.DataFrame"
            ],
            "text/html": [
              "<div style=\"max-width:800px; border: 1px solid var(--colab-border-color);\"><style>\n",
              "      pre.function-repr-contents {\n",
              "        overflow-x: auto;\n",
              "        padding: 8px 12px;\n",
              "        max-height: 500px;\n",
              "      }\n",
              "\n",
              "      pre.function-repr-contents.function-repr-contents-collapsed {\n",
              "        cursor: pointer;\n",
              "        max-height: 100px;\n",
              "      }\n",
              "    </style>\n",
              "    <pre style=\"white-space: initial; background:\n",
              "         var(--colab-secondary-surface-color); padding: 8px 12px;\n",
              "         border-bottom: 1px solid var(--colab-border-color);\"><b>pandas.core.frame.DataFrame</b><br/>def __init__(data=None, index: Axes | None=None, columns: Axes | None=None, dtype: Dtype | None=None, copy: bool | None=None) -&gt; None</pre><pre class=\"function-repr-contents function-repr-contents-collapsed\" style=\"\"><a class=\"filepath\" style=\"display:none\" href=\"#\">/usr/local/lib/python3.10/dist-packages/pandas/core/frame.py</a>Two-dimensional, size-mutable, potentially heterogeneous tabular data.\n",
              "\n",
              "Data structure also contains labeled axes (rows and columns).\n",
              "Arithmetic operations align on both row and column labels. Can be\n",
              "thought of as a dict-like container for Series objects. The primary\n",
              "pandas data structure.\n",
              "\n",
              "Parameters\n",
              "----------\n",
              "data : ndarray (structured or homogeneous), Iterable, dict, or DataFrame\n",
              "    Dict can contain Series, arrays, constants, dataclass or list-like objects. If\n",
              "    data is a dict, column order follows insertion-order. If a dict contains Series\n",
              "    which have an index defined, it is aligned by its index. This alignment also\n",
              "    occurs if data is a Series or a DataFrame itself. Alignment is done on\n",
              "    Series/DataFrame inputs.\n",
              "\n",
              "    If data is a list of dicts, column order follows insertion-order.\n",
              "\n",
              "index : Index or array-like\n",
              "    Index to use for resulting frame. Will default to RangeIndex if\n",
              "    no indexing information part of input data and no index provided.\n",
              "columns : Index or array-like\n",
              "    Column labels to use for resulting frame when data does not have them,\n",
              "    defaulting to RangeIndex(0, 1, 2, ..., n). If data contains column labels,\n",
              "    will perform column selection instead.\n",
              "dtype : dtype, default None\n",
              "    Data type to force. Only a single dtype is allowed. If None, infer.\n",
              "copy : bool or None, default None\n",
              "    Copy data from inputs.\n",
              "    For dict data, the default of None behaves like ``copy=True``.  For DataFrame\n",
              "    or 2d ndarray input, the default of None behaves like ``copy=False``.\n",
              "    If data is a dict containing one or more Series (possibly of different dtypes),\n",
              "    ``copy=False`` will ensure that these inputs are not copied.\n",
              "\n",
              "    .. versionchanged:: 1.3.0\n",
              "\n",
              "See Also\n",
              "--------\n",
              "DataFrame.from_records : Constructor from tuples, also record arrays.\n",
              "DataFrame.from_dict : From dicts of Series, arrays, or dicts.\n",
              "read_csv : Read a comma-separated values (csv) file into DataFrame.\n",
              "read_table : Read general delimited file into DataFrame.\n",
              "read_clipboard : Read text from clipboard into DataFrame.\n",
              "\n",
              "Notes\n",
              "-----\n",
              "Please reference the :ref:`User Guide &lt;basics.dataframe&gt;` for more information.\n",
              "\n",
              "Examples\n",
              "--------\n",
              "Constructing DataFrame from a dictionary.\n",
              "\n",
              "&gt;&gt;&gt; d = {&#x27;col1&#x27;: [1, 2], &#x27;col2&#x27;: [3, 4]}\n",
              "&gt;&gt;&gt; df = pd.DataFrame(data=d)\n",
              "&gt;&gt;&gt; df\n",
              "   col1  col2\n",
              "0     1     3\n",
              "1     2     4\n",
              "\n",
              "Notice that the inferred dtype is int64.\n",
              "\n",
              "&gt;&gt;&gt; df.dtypes\n",
              "col1    int64\n",
              "col2    int64\n",
              "dtype: object\n",
              "\n",
              "To enforce a single dtype:\n",
              "\n",
              "&gt;&gt;&gt; df = pd.DataFrame(data=d, dtype=np.int8)\n",
              "&gt;&gt;&gt; df.dtypes\n",
              "col1    int8\n",
              "col2    int8\n",
              "dtype: object\n",
              "\n",
              "Constructing DataFrame from a dictionary including Series:\n",
              "\n",
              "&gt;&gt;&gt; d = {&#x27;col1&#x27;: [0, 1, 2, 3], &#x27;col2&#x27;: pd.Series([2, 3], index=[2, 3])}\n",
              "&gt;&gt;&gt; pd.DataFrame(data=d, index=[0, 1, 2, 3])\n",
              "   col1  col2\n",
              "0     0   NaN\n",
              "1     1   NaN\n",
              "2     2   2.0\n",
              "3     3   3.0\n",
              "\n",
              "Constructing DataFrame from numpy ndarray:\n",
              "\n",
              "&gt;&gt;&gt; df2 = pd.DataFrame(np.array([[1, 2, 3], [4, 5, 6], [7, 8, 9]]),\n",
              "...                    columns=[&#x27;a&#x27;, &#x27;b&#x27;, &#x27;c&#x27;])\n",
              "&gt;&gt;&gt; df2\n",
              "   a  b  c\n",
              "0  1  2  3\n",
              "1  4  5  6\n",
              "2  7  8  9\n",
              "\n",
              "Constructing DataFrame from a numpy ndarray that has labeled columns:\n",
              "\n",
              "&gt;&gt;&gt; data = np.array([(1, 2, 3), (4, 5, 6), (7, 8, 9)],\n",
              "...                 dtype=[(&quot;a&quot;, &quot;i4&quot;), (&quot;b&quot;, &quot;i4&quot;), (&quot;c&quot;, &quot;i4&quot;)])\n",
              "&gt;&gt;&gt; df3 = pd.DataFrame(data, columns=[&#x27;c&#x27;, &#x27;a&#x27;])\n",
              "...\n",
              "&gt;&gt;&gt; df3\n",
              "   c  a\n",
              "0  3  1\n",
              "1  6  4\n",
              "2  9  7\n",
              "\n",
              "Constructing DataFrame from dataclass:\n",
              "\n",
              "&gt;&gt;&gt; from dataclasses import make_dataclass\n",
              "&gt;&gt;&gt; Point = make_dataclass(&quot;Point&quot;, [(&quot;x&quot;, int), (&quot;y&quot;, int)])\n",
              "&gt;&gt;&gt; pd.DataFrame([Point(0, 0), Point(0, 3), Point(2, 3)])\n",
              "   x  y\n",
              "0  0  0\n",
              "1  0  3\n",
              "2  2  3\n",
              "\n",
              "Constructing DataFrame from Series/DataFrame:\n",
              "\n",
              "&gt;&gt;&gt; ser = pd.Series([1, 2, 3], index=[&quot;a&quot;, &quot;b&quot;, &quot;c&quot;])\n",
              "&gt;&gt;&gt; df = pd.DataFrame(data=ser, index=[&quot;a&quot;, &quot;c&quot;])\n",
              "&gt;&gt;&gt; df\n",
              "   0\n",
              "a  1\n",
              "c  3\n",
              "\n",
              "&gt;&gt;&gt; df1 = pd.DataFrame([1, 2, 3], index=[&quot;a&quot;, &quot;b&quot;, &quot;c&quot;], columns=[&quot;x&quot;])\n",
              "&gt;&gt;&gt; df2 = pd.DataFrame(data=df1, index=[&quot;a&quot;, &quot;c&quot;])\n",
              "&gt;&gt;&gt; df2\n",
              "   x\n",
              "a  1\n",
              "c  3</pre>\n",
              "      <script>\n",
              "      if (google.colab.kernel.accessAllowed && google.colab.files && google.colab.files.view) {\n",
              "        for (const element of document.querySelectorAll('.filepath')) {\n",
              "          element.style.display = 'block'\n",
              "          element.onclick = (event) => {\n",
              "            event.preventDefault();\n",
              "            event.stopPropagation();\n",
              "            google.colab.files.view(element.textContent, 490);\n",
              "          };\n",
              "        }\n",
              "      }\n",
              "      for (const element of document.querySelectorAll('.function-repr-contents')) {\n",
              "        element.onclick = (event) => {\n",
              "          event.preventDefault();\n",
              "          event.stopPropagation();\n",
              "          element.classList.toggle('function-repr-contents-collapsed');\n",
              "        };\n",
              "      }\n",
              "      </script>\n",
              "      </div>"
            ]
          },
          "metadata": {},
          "execution_count": 97
        }
      ]
    },
    {
      "cell_type": "markdown",
      "source": [
        ".collect()\n",
        "\n",
        "Esse metodo tras para a memoria do driver o conteudo do dataframe como um objeto de lista."
      ],
      "metadata": {
        "id": "Wxc5Lf1xCZdz"
      }
    },
    {
      "cell_type": "code",
      "source": [
        "type(df_cached.collect())"
      ],
      "metadata": {
        "colab": {
          "base_uri": "https://localhost:8080/"
        },
        "id": "YYyAfzICCqGA",
        "outputId": "4ff38b2a-b0d7-4369-9e0e-6c13d71bee13"
      },
      "execution_count": null,
      "outputs": [
        {
          "output_type": "execute_result",
          "data": {
            "text/plain": [
              "list"
            ]
          },
          "metadata": {},
          "execution_count": 98
        }
      ]
    },
    {
      "cell_type": "code",
      "source": [
        "df_cached.unpersist()"
      ],
      "metadata": {
        "colab": {
          "base_uri": "https://localhost:8080/"
        },
        "id": "YNc80mCVDf3e",
        "outputId": "e375e770-4743-4c21-b37f-e6af938f6125"
      },
      "execution_count": null,
      "outputs": [
        {
          "output_type": "execute_result",
          "data": {
            "text/plain": [
              "DataFrame[Date: string, Ticker: string, Open: double, High: double, Low: double, Close: double, Volume: bigint, Adj Close: float, Adj Close Ant: double, Source: string, Timestamp: string, lead_vol: bigint, dif: bigint]"
            ]
          },
          "metadata": {},
          "execution_count": 100
        }
      ]
    },
    {
      "cell_type": "markdown",
      "source": [
        "# **9.1 Pipeline**"
      ],
      "metadata": {
        "id": "FrS9tYlYEUfb"
      }
    },
    {
      "cell_type": "code",
      "source": [
        "# instalar as dependencias\n",
        "# baixar a versão mais recente do java8;\n",
        "!apt-get install openjdk-8-jdk-headless -qq > /dev/null\n",
        "#download via stp do hadoop\n",
        "!wget -q https://dlcdn.apache.org/spark/spark-3.4.3/spark-3.4.3-bin-hadoop3.tgz\n",
        "!tar xf spark-3.4.3-bin-hadoop3.tgz\n",
        "# instalar o Findspark\n",
        "!pip install -q findspark"
      ],
      "metadata": {
        "id": "nSp2GtmyEZtg"
      },
      "execution_count": 1,
      "outputs": []
    },
    {
      "cell_type": "code",
      "source": [
        "import os\n",
        "os.environ[\"JAVA_HOME\"] = \"/usr/lib/jvm/java-8-openjdk-amd64\"\n",
        "os.environ[\"SPARK_HOME\"] = \"/content/sample_data/spark-3.4.3-bin-hadoop3\"\n",
        "\n",
        "# utilizando findspark para que o spark seja \"importavel\"\n",
        "import findspark\n",
        "findspark.init('spark-3.4.3-bin-hadoop3')"
      ],
      "metadata": {
        "id": "J2Cbp7EMGMAS"
      },
      "execution_count": null,
      "outputs": []
    },
    {
      "cell_type": "markdown",
      "source": [
        "Desenvolvendo um pipeline"
      ],
      "metadata": {
        "id": "NIPMFlTuGZxP"
      }
    },
    {
      "cell_type": "code",
      "source": [
        "# 2min\n",
        "# criar duas pasta no seguinte caminho\n",
        "# /mnt/langing\n",
        "#             /cliente\n",
        "#             /endereco\n",
        "#             /fornecedor\n",
        "#             /produtos\n",
        "# /mnt/raw\n",
        "# /mnt/artefatos"
      ],
      "metadata": {
        "id": "riY6AW_HGNhU"
      },
      "execution_count": null,
      "outputs": []
    },
    {
      "cell_type": "code",
      "source": [
        "\n",
        "class toolkit():\n",
        "  def __init__(self, layer_raw):\n",
        "    self.nome_processo = 'cadastro'\n",
        "    self.layer_raw = layer_raw\n",
        "\n",
        "  def running2(self):\n",
        "    self.running()\n",
        "\n",
        "  def running(self):\n",
        "    print(self.nome_processo,self.layer_raw)\n",
        "\n",
        "tl = toolkit('raw_process').running2()\n",
        "\n",
        "\n"
      ],
      "metadata": {
        "colab": {
          "base_uri": "https://localhost:8080/"
        },
        "id": "jSC7geCyIJCr",
        "outputId": "a2177efc-312e-48f1-a375-673ad3f4a831"
      },
      "execution_count": null,
      "outputs": [
        {
          "output_type": "stream",
          "name": "stdout",
          "text": [
            "cadastro raw_process\n"
          ]
        }
      ]
    },
    {
      "cell_type": "markdown",
      "source": [
        "Agora vamos que vamos..."
      ],
      "metadata": {
        "id": "_VEGX7zqUfCb"
      }
    },
    {
      "cell_type": "code",
      "source": [
        "\n",
        "def readJson(selft):\n",
        "  with open('/mnt/artefatos/raw-pdv-tbge0020.json', 'r') as file_rows:\n",
        "    data = file_rows.read()\n",
        "  json_object = json.loads(data)\n",
        "  return json_object\n",
        "\n",
        "json_object = readJson()\n",
        "print(json_object[0]['SourceTable'])"
      ],
      "metadata": {
        "colab": {
          "base_uri": "https://localhost:8080/"
        },
        "id": "GImsCDl4VLA1",
        "outputId": "f78496bb-c211-4056-f091-06954aea73d6"
      },
      "execution_count": null,
      "outputs": [
        {
          "output_type": "stream",
          "name": "stdout",
          "text": [
            "tbge0020\n"
          ]
        }
      ]
    },
    {
      "cell_type": "code",
      "source": [
        "datetime.datetime.now().strftime('%Y-%m-%d %H:%M:%S')"
      ],
      "metadata": {
        "colab": {
          "base_uri": "https://localhost:8080/",
          "height": 35
        },
        "id": "3W68aulERk-n",
        "outputId": "616b16dd-616c-4b26-b92a-1c8f47111688"
      },
      "execution_count": null,
      "outputs": [
        {
          "output_type": "execute_result",
          "data": {
            "text/plain": [
              "'2024-05-07 22:57:06'"
            ],
            "application/vnd.google.colaboratory.intrinsic+json": {
              "type": "string"
            }
          },
          "metadata": {},
          "execution_count": 12
        }
      ]
    },
    {
      "cell_type": "code",
      "source": [
        "from pyspark.sql import SparkSession\n",
        "from pyspark.sql import functions as F\n",
        "import datetime\n",
        "import json\n",
        "\n",
        "class Toolkit():\n",
        "  def __init__(self,data_set,table):\n",
        "    self.data_set    = data_set\n",
        "    self.table       = table\n",
        "    # self.time_now    = datetime.datetime.now().strftime('%Y-%m-%d %H:%M:%S')\n",
        "    self.time_now    = '2024-05-04 22:57:06'\n",
        "    self.json_object = self.readJson()\n",
        "    self.spark       = self.getSparkSession()\n",
        "\n",
        "  def getSparkSession(self):\n",
        "    return SparkSession.builder.appName(self.data_set).getOrCreate()\n",
        "\n",
        "  def readCsv(self,controle='langing',sourcetable=None,delimiter='|'):\n",
        "    if sourcetable != None:\n",
        "      file_path = '/mnt/{}/{}/{}'.format(controle,self.data_set,self.json_object[0]['SourceTable'])\n",
        "    else:\n",
        "      raise Exception('Erro no nome do arquivo do dataset {}'.format(self.data_set))\n",
        "\n",
        "    return self.spark.read.csv(file_path, sep=delimiter)\n",
        "\n",
        "  def readParquet(self,controle='raw',sourcetable=None):\n",
        "    if sourcetable != None:\n",
        "      file_path = '/mnt/{}/{}/{}'.format(controle,self.data_set,self.json_object[0]['SourceTable'])\n",
        "    else:\n",
        "      raise Exception('Erro no nome do arquivo do dataset {}'.format(self.data_set))\n",
        "    return self.spark.read.parquet(file_path)\n",
        "\n",
        "  def readJson(self):\n",
        "    with open('/mnt/artefatos/raw-{}-{}.json'.format(self.data_set, self.table), 'r') as file_rows:\n",
        "      data = file_rows.read()\n",
        "    json_object = json.loads(data)\n",
        "    return json_object\n",
        "\n",
        "  def writeParquet(self, df, controle='raw', partition_by=['ano','mes','dia'], mode='append'):\n",
        "    # append para incrementar os dados da carga\n",
        "    # overwrite para sobrescrever os dados da carga\n",
        "    df.write\\\n",
        "      .mode(mode)\\\n",
        "      .format('parquet')\\\n",
        "      .partitionBy(partition_by)\\\n",
        "      .save('/mnt/{}/{}/{}'.format(controle, self.data_set, self.table))\n",
        "\n",
        "\n",
        "class raw(Toolkit):\n",
        "  def __init__(self):\n",
        "    self.name = 'pdv'\n",
        "    self.tbl_name = 'tbge0020'\n",
        "    super().__init__(self.name, self.tbl_name)\n",
        "    self.run()\n",
        "\n",
        "  def controlColumns(self, df):\n",
        "    df = df.withColumn('dth_carga',\n",
        "                       F.lit(self.time_now))\\\n",
        "           .withColumn('sigla',\n",
        "                       F.lit(self.tbl_name))\\\n",
        "           .withColumn('ano',\n",
        "                       F.year(F.col('dth_carga')))\\\n",
        "           .withColumn('mes',\n",
        "                       F.lpad(F.month(F.col('dth_carga')),2,'0'))\\\n",
        "           .withColumn('dia',\n",
        "                       F.dayofmonth(F.col('dth_carga')))\n",
        "    return df\n",
        "\n",
        "  def namedColumn(self, df):\n",
        "    json_object = self.readJson()\n",
        "    column_list = json_object[0]['Columns']\n",
        "    column_name = [i['Name'] for i in column_list]\n",
        "    df = df.toDF(*column_name)\n",
        "    return df\n",
        "\n",
        "  def dataClean(self,df):\n",
        "    json_object = self.readJson()\n",
        "    column_list = json_object[0]['Columns']\n",
        "    for column in column_list:\n",
        "      # validação\n",
        "      nr_old = int(\n",
        "          df.filter(\n",
        "              F.col(column['Name']).isNull()\n",
        "              ).count()\n",
        "          )\n",
        "      df = df.withColumn(column['Name'],\n",
        "                         F.col(column['Name']).cast(column['Datatype']))\n",
        "\n",
        "      nr_new = int(\n",
        "          df.filter(\n",
        "              F.col(column['Name']).isNull()).count()\n",
        "          )\n",
        "      if nr_new != nr_old:\n",
        "        raise Exception('Erro na coluna {} ao aplicar o casting para {}'.format(column['Name'], column['Datatype']))\n",
        "\n",
        "    df = df.withColumn('ano',F.col('ano').cast('string'))\n",
        "    df = df.withColumn('dia',F.col('dia').cast('string'))\n",
        "\n",
        "    return df\n",
        "\n",
        "\n",
        "  def run(self):\n",
        "    df = self.readCsv(sourcetable=self.readJson()[0]['SourceTable'])\n",
        "    df = self.namedColumn(df)\n",
        "    df = self.controlColumns(df)\n",
        "    df = self.dataClean(df)\n",
        "    df = df.filter(F.col('num_pdv') == ' 000000002.')\n",
        "    self.writeParquet(df, mode='append')\n",
        "    return df\n",
        "\n",
        "raw().run().show()\n"
      ],
      "metadata": {
        "colab": {
          "base_uri": "https://localhost:8080/"
        },
        "id": "JvcUj7ZCUJOu",
        "outputId": "a3382fd2-e6aa-4bbe-87ce-26b0de5af119"
      },
      "execution_count": null,
      "outputs": [
        {
          "output_type": "stream",
          "name": "stdout",
          "text": [
            "+-----------+----------------+--------------------+-------------------+-------------------+---------+----------+--------+-----------+-------+---------+---------+-------+---------+--------+------------+------------+---------------+-------------+--------+-----------+-------------------+--------+----+---+---+\n",
            "|    num_pdv|        cnpj_pdv|            nome_pdv|        criacao_pdv|    atualizacao_pdv|canal_pdv|celula_pdv|ativo_fl|carteira_fl|empr_fl|contr_pdv|saldo_pdv|seg_pdv|linha_pdv|cons_pdv|data_ult_mov|clas_mktg_cd|data_cred_conta|pdv_endr_desc|desc_cli|contato_cli|          dth_carga|   sigla| ano|mes|dia|\n",
            "+-----------+----------------+--------------------+-------------------+-------------------+---------+----------+--------+-----------+-------+---------+---------+-------+---------+--------+------------+------------+---------------+-------------+--------+-----------+-------------------+--------+----+---+---+\n",
            "| 000000002.| 12345678900988 |TESTE2           ...|1981-11-10 21:00:00|1981-11-10 03:00:00|     null|      null|       1|          0|      0|        0|  1322.67|   null|        E|       C|      210601|        AB01|     2021-07-18|    RUA A 200| PEQUENO|  guilherme|2024-05-04 22:57:06|tbge0020|2024| 05|  4|\n",
            "+-----------+----------------+--------------------+-------------------+-------------------+---------+----------+--------+-----------+-------+---------+---------+-------+---------+--------+------------+------------+---------------+-------------+--------+-----------+-------------------+--------+----+---+---+\n",
            "\n"
          ]
        }
      ]
    },
    {
      "cell_type": "code",
      "source": [
        "from pyspark.sql.window import Window as W\n",
        "\n",
        "class contexto(Toolkit):\n",
        "  def __init__(self):\n",
        "    self.data_set = 'pdv'\n",
        "    self.tbl_name = 'tbge0020'\n",
        "    super().__init__(self.data_set, self.tbl_name)\n",
        "    self.run()\n",
        "\n",
        "  def full(self,df):\n",
        "    ano,mes,dia = self.getLastPartition(df)\n",
        "    df_new = df\\\n",
        "      .filter(F.col('ano') == ano)\\\n",
        "      .filter(F.col('mes') == mes)\\\n",
        "      .filter(F.col('dia') == dia)\n",
        "\n",
        "    if int(df_new.count()) == 0 or type(df_new) == None:\n",
        "      raise Exception('O dataframe não possui nenhuma linha')\n",
        "    return df_new\n",
        "\n",
        "\n",
        "  def getLastPartition(self,df):\n",
        "    last_partition = df\\\n",
        "      .select('ano','mes','dia')\\\n",
        "      .distinct()\\\n",
        "      .orderBy('ano','mes',F.desc('dia'))\\\n",
        "      .collect()\n",
        "\n",
        "    ano = last_partition[0][0]\n",
        "    mes = last_partition[0][1]\n",
        "    dia = last_partition[0][2]\n",
        "\n",
        "    return ano,mes,dia\n",
        "\n",
        "  def getLastRow(self, df):\n",
        "    colunas = self.readJson()[0]['Columns']\n",
        "    lista_colunas_key = []\n",
        "    for coluna in colunas:\n",
        "      if coluna['PrimaryKey'] == 1:\n",
        "        lista_colunas_key.append(F.col(coluna['Name']))\n",
        "\n",
        "    window_ranked = W()\\\n",
        "      .partitionBy(*lista_colunas_key)\\\n",
        "      .orderBy(\n",
        "          F.col('ano').desc(),\n",
        "          F.col('mes').desc(),\n",
        "          F.col('dia').desc()\n",
        "          )\n",
        "\n",
        "    df_new = df.withColumn('ranked',\n",
        "                  F.row_number()\\\n",
        "                  .over(window_ranked))\\\n",
        "      .filter(F.col('ranked') == 1)\\\n",
        "      .drop('ranked')\n",
        "\n",
        "    return df_new\n",
        "\n",
        "  def run(self):\n",
        "    df= self.readParquet(controle='raw', sourcetable=self.readJson()[0]['SourceTable'])\n",
        "    extracao = self.readJson()[0]['ExtractionType']\n",
        "    if extracao == 'full':\n",
        "      df = self.full(df)\n",
        "      print('Processamento com full que truxe: ' + str(df.count()))\n",
        "    elif extracao == 'delta':\n",
        "      df = self.getLastRow(df)\n",
        "      print('Processamento com delta que truxe: ' + str(df.count()))\n",
        "    df.show()\n",
        "\n",
        "\n",
        "\n",
        "contexto()"
      ],
      "metadata": {
        "id": "rNIjh9Glnfap",
        "colab": {
          "base_uri": "https://localhost:8080/"
        },
        "outputId": "d2ff32e1-3692-45dd-b909-9939c8c20ca6"
      },
      "execution_count": null,
      "outputs": [
        {
          "output_type": "stream",
          "name": "stdout",
          "text": [
            "Processamento com delta que truxe: 4\n",
            "+-----------+----------------+--------------------+-------------------+-------------------+---------+----------+--------+-----------+-------+---------+---------+-------+---------+--------+------------+------------+---------------+-------------+--------+------------+-------------------+--------+----+---+---+\n",
            "|    num_pdv|        cnpj_pdv|            nome_pdv|        criacao_pdv|    atualizacao_pdv|canal_pdv|celula_pdv|ativo_fl|carteira_fl|empr_fl|contr_pdv|saldo_pdv|seg_pdv|linha_pdv|cons_pdv|data_ult_mov|clas_mktg_cd|data_cred_conta|pdv_endr_desc|desc_cli| contato_cli|          dth_carga|   sigla| ano|mes|dia|\n",
            "+-----------+----------------+--------------------+-------------------+-------------------+---------+----------+--------+-----------+-------+---------+---------+-------+---------+--------+------------+------------+---------------+-------------+--------+------------+-------------------+--------+----+---+---+\n",
            "| 000000001.| 12345678900987 |TESTE            ...|1981-11-10 21:00:00|1981-11-10 03:00:00|     null|      null|       1|          0|      0|        0|   556.77|   null|        E|       C|      210601|        AB01|     2021-07-10|    RUA A 120| GRANDE.|  CAIO M.   |2024-05-03 22:57:06|tbge0020|2024|  5|  3|\n",
            "| 000000002.| 12345678900988 |TESTE2           ...|1981-11-10 21:00:00|1981-11-10 03:00:00|     null|      null|       1|          0|      0|        0|  1322.67|   null|        E|       C|      210601|        AB01|     2021-07-18|    RUA A 200| PEQUENO|   guilherme|2024-05-04 22:57:06|tbge0020|2024|  5|  4|\n",
            "| 000000003.| 12345678900989 |TESTE3           ...|1981-11-10 21:00:00|1981-11-10 03:00:00|     null|      null|       1|          0|      0|        0|     21.0|   null|        E|       C|      210601|        AC01|     2021-07-17|   RUA JOSE A|   MEDIO|jonathan.   |2024-05-03 22:57:06|tbge0020|2024|  5|  3|\n",
            "| 000000004.| 12345678900990 |TESTE4           ...|1981-11-10 21:00:00|1981-11-10 03:00:00|     null|      null|       1|          0|      0|        0|   343.11|   null|        E|       C|      210601|        DB01|     2021-07-14|   AV 123 BC.| PEQUENO|   thiago.  |2024-05-03 22:57:06|tbge0020|2024|  5|  3|\n",
            "+-----------+----------------+--------------------+-------------------+-------------------+---------+----------+--------+-----------+-------+---------+---------+-------+---------+--------+------------+------------+---------------+-------------+--------+------------+-------------------+--------+----+---+---+\n",
            "\n"
          ]
        },
        {
          "output_type": "execute_result",
          "data": {
            "text/plain": [
              "<__main__.contexto at 0x7f732c7c38e0>"
            ]
          },
          "metadata": {},
          "execution_count": 126
        }
      ]
    }
  ]
}