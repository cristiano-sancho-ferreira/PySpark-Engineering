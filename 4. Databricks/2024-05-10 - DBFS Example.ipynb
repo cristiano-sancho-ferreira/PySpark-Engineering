{
 "cells": [
  {
   "cell_type": "markdown",
   "metadata": {
    "application/vnd.databricks.v1+cell": {
     "cellMetadata": {
      "byteLimit": 2048000,
      "rowLimit": 10000
     },
     "inputWidgets": {},
     "nuid": "96816ed7-b08a-4ca3-abb9-f99880c3535d",
     "showTitle": false,
     "title": ""
    }
   },
   "source": [
    "\n",
    "## Overview\n",
    "\n",
    "This notebook will show you how to create and query a table or DataFrame that you uploaded to DBFS. [DBFS](https://docs.databricks.com/user-guide/dbfs-databricks-file-system.html) is a Databricks File System that allows you to store data for querying inside of Databricks. This notebook assumes that you have a file already inside of DBFS that you would like to read from.\n",
    "\n",
    "This notebook is written in **Python** so the default cell type is Python. However, you can use different languages by using the `%LANGUAGE` syntax. Python, Scala, SQL, and R are all supported."
   ]
  },
  {
   "cell_type": "code",
   "execution_count": 0,
   "metadata": {
    "application/vnd.databricks.v1+cell": {
     "cellMetadata": {
      "byteLimit": 2048000,
      "rowLimit": 10000
     },
     "inputWidgets": {},
     "nuid": "6482be4c-f067-47c9-b0ac-35c938b94601",
     "showTitle": false,
     "title": ""
    }
   },
   "outputs": [
    {
     "output_type": "display_data",
     "data": {
      "text/html": [
       "<style scoped>\n",
       "  .table-result-container {\n",
       "    max-height: 300px;\n",
       "    overflow: auto;\n",
       "  }\n",
       "  table, th, td {\n",
       "    border: 1px solid black;\n",
       "    border-collapse: collapse;\n",
       "  }\n",
       "  th, td {\n",
       "    padding: 5px;\n",
       "  }\n",
       "  th {\n",
       "    text-align: left;\n",
       "  }\n",
       "</style><div class='table-result-container'><table class='table-result'><thead style='background-color: white'><tr><th>cep_id</th><th>nm_enredeco</th><th>bairro</th><th>cidade</th><th>UF</th></tr></thead><tbody><tr><td>305095</td><td>av jucelino cursino</td><td>centro</td><td>São paulo</td><td>SP</td></tr><tr><td>303989</td><td>av brasil</td><td>centro</td><td>São paulo</td><td>SP</td></tr><tr><td>400487</td><td>av interlargos</td><td>centro</td><td>São paulo</td><td>SP</td></tr><tr><td>512496</td><td>av copacabana</td><td>centro</td><td>Rio de Janeiro</td><td>RJ</td></tr><tr><td>965268</td><td>rua dom pedro primeiro</td><td>centro</td><td>São paulo</td><td>SP</td></tr><tr><td>931429</td><td>rua vicente giacaline</td><td>Vila zilda</td><td>São paulo</td><td>SP</td></tr><tr><td>287560</td><td>rua governador valadares</td><td>Vila zilda</td><td>São paulo</td><td>SP</td></tr><tr><td>840060</td><td>rua sérgio vicente</td><td>Vila zilda</td><td>São paulo</td><td>SP</td></tr><tr><td>746023</td><td>rua ana carolina fernandes</td><td>Vicenza</td><td>São paulo</td><td>SP</td></tr><tr><td>187173</td><td>rua sabrina freire</td><td>Vicenza</td><td>São paulo</td><td>SP</td></tr><tr><td>931949</td><td>rua capuava</td><td>Vicenza</td><td>São paulo</td><td>SP</td></tr><tr><td>871432</td><td>rua lucas matos</td><td>Vicenza</td><td>São paulo</td><td>SP</td></tr><tr><td>667061</td><td>alameda lorena</td><td>Nova Iorque</td><td>São paulo</td><td>SP</td></tr><tr><td>526407</td><td>alameda augusta</td><td>Nova Iorque</td><td>São paulo</td><td>SP</td></tr><tr><td>472787</td><td>alameda oscar portugal</td><td>Nova Iorque</td><td>São paulo</td><td>SP</td></tr></tbody></table></div>"
      ]
     },
     "metadata": {
      "application/vnd.databricks.v1+output": {
       "addedWidgets": {},
       "aggData": [],
       "aggError": "",
       "aggOverflow": false,
       "aggSchema": [],
       "aggSeriesLimitReached": false,
       "aggType": "",
       "arguments": {},
       "columnCustomDisplayInfos": {},
       "data": [
        [
         305095,
         "av jucelino cursino",
         "centro",
         "São paulo",
         "SP"
        ],
        [
         303989,
         "av brasil",
         "centro",
         "São paulo",
         "SP"
        ],
        [
         400487,
         "av interlargos",
         "centro",
         "São paulo",
         "SP"
        ],
        [
         512496,
         "av copacabana",
         "centro",
         "Rio de Janeiro",
         "RJ"
        ],
        [
         965268,
         "rua dom pedro primeiro",
         "centro",
         "São paulo",
         "SP"
        ],
        [
         931429,
         "rua vicente giacaline",
         "Vila zilda",
         "São paulo",
         "SP"
        ],
        [
         287560,
         "rua governador valadares",
         "Vila zilda",
         "São paulo",
         "SP"
        ],
        [
         840060,
         "rua sérgio vicente",
         "Vila zilda",
         "São paulo",
         "SP"
        ],
        [
         746023,
         "rua ana carolina fernandes",
         "Vicenza",
         "São paulo",
         "SP"
        ],
        [
         187173,
         "rua sabrina freire",
         "Vicenza",
         "São paulo",
         "SP"
        ],
        [
         931949,
         "rua capuava",
         "Vicenza",
         "São paulo",
         "SP"
        ],
        [
         871432,
         "rua lucas matos",
         "Vicenza",
         "São paulo",
         "SP"
        ],
        [
         667061,
         "alameda lorena",
         "Nova Iorque",
         "São paulo",
         "SP"
        ],
        [
         526407,
         "alameda augusta",
         "Nova Iorque",
         "São paulo",
         "SP"
        ],
        [
         472787,
         "alameda oscar portugal",
         "Nova Iorque",
         "São paulo",
         "SP"
        ]
       ],
       "datasetInfos": [],
       "dbfsResultPath": null,
       "isJsonSchema": true,
       "metadata": {},
       "overflow": false,
       "plotOptions": {
        "customPlotOptions": {},
        "displayType": "table",
        "pivotAggregation": null,
        "pivotColumns": null,
        "xColumns": null,
        "yColumns": null
       },
       "removedWidgets": [],
       "schema": [
        {
         "metadata": "{}",
         "name": "cep_id",
         "type": "\"integer\""
        },
        {
         "metadata": "{}",
         "name": "nm_enredeco",
         "type": "\"string\""
        },
        {
         "metadata": "{}",
         "name": "bairro",
         "type": "\"string\""
        },
        {
         "metadata": "{}",
         "name": "cidade",
         "type": "\"string\""
        },
        {
         "metadata": "{}",
         "name": "UF",
         "type": "\"string\""
        }
       ],
       "type": "table"
      }
     },
     "output_type": "display_data"
    }
   ],
   "source": [
    "# File location and type\n",
    "file_location = \"/FileStore/tables/endereco.txt\"\n",
    "file_type = \"csv\"\n",
    "\n",
    "# CSV options\n",
    "infer_schema = \"true\"\n",
    "first_row_is_header = \"true\"\n",
    "delimiter = \"|\"\n",
    "\n",
    "# The applied options are for CSV files. For other file types, these will be ignored.\n",
    "df = spark.read.format(file_type) \\\n",
    "  .option(\"inferSchema\", infer_schema) \\\n",
    "  .option(\"header\", first_row_is_header) \\\n",
    "  .option(\"sep\", delimiter) \\\n",
    "  .load(file_location)\n",
    "\n",
    "display(df)"
   ]
  },
  {
   "cell_type": "code",
   "execution_count": 0,
   "metadata": {
    "application/vnd.databricks.v1+cell": {
     "cellMetadata": {
      "byteLimit": 2048000,
      "rowLimit": 10000
     },
     "inputWidgets": {},
     "nuid": "bd82bb99-1479-4d5c-be10-8c36df0f1d44",
     "showTitle": false,
     "title": ""
    }
   },
   "outputs": [],
   "source": [
    "# Create a view or table\n",
    "\n",
    "temp_table_name = \"endereco_txt\"\n",
    "\n",
    "df.createOrReplaceTempView(temp_table_name)"
   ]
  },
  {
   "cell_type": "code",
   "execution_count": 0,
   "metadata": {
    "application/vnd.databricks.v1+cell": {
     "cellMetadata": {
      "byteLimit": 2048000,
      "implicitDf": true,
      "rowLimit": 10000
     },
     "inputWidgets": {},
     "nuid": "b5f66379-6f7f-42ec-8e82-d0e0926a1721",
     "showTitle": false,
     "title": ""
    }
   },
   "outputs": [
    {
     "output_type": "display_data",
     "data": {
      "text/html": [
       "<style scoped>\n",
       "  .table-result-container {\n",
       "    max-height: 300px;\n",
       "    overflow: auto;\n",
       "  }\n",
       "  table, th, td {\n",
       "    border: 1px solid black;\n",
       "    border-collapse: collapse;\n",
       "  }\n",
       "  th, td {\n",
       "    padding: 5px;\n",
       "  }\n",
       "  th {\n",
       "    text-align: left;\n",
       "  }\n",
       "</style><div class='table-result-container'><table class='table-result'><thead style='background-color: white'><tr><th>cep_id</th><th>nm_enredeco</th><th>bairro</th><th>cidade</th><th>UF</th></tr></thead><tbody><tr><td>305095</td><td>av jucelino cursino</td><td>centro</td><td>São paulo</td><td>SP</td></tr><tr><td>303989</td><td>av brasil</td><td>centro</td><td>São paulo</td><td>SP</td></tr><tr><td>400487</td><td>av interlargos</td><td>centro</td><td>São paulo</td><td>SP</td></tr><tr><td>512496</td><td>av copacabana</td><td>centro</td><td>Rio de Janeiro</td><td>RJ</td></tr><tr><td>965268</td><td>rua dom pedro primeiro</td><td>centro</td><td>São paulo</td><td>SP</td></tr><tr><td>931429</td><td>rua vicente giacaline</td><td>Vila zilda</td><td>São paulo</td><td>SP</td></tr><tr><td>287560</td><td>rua governador valadares</td><td>Vila zilda</td><td>São paulo</td><td>SP</td></tr><tr><td>840060</td><td>rua sérgio vicente</td><td>Vila zilda</td><td>São paulo</td><td>SP</td></tr><tr><td>746023</td><td>rua ana carolina fernandes</td><td>Vicenza</td><td>São paulo</td><td>SP</td></tr><tr><td>187173</td><td>rua sabrina freire</td><td>Vicenza</td><td>São paulo</td><td>SP</td></tr><tr><td>931949</td><td>rua capuava</td><td>Vicenza</td><td>São paulo</td><td>SP</td></tr><tr><td>871432</td><td>rua lucas matos</td><td>Vicenza</td><td>São paulo</td><td>SP</td></tr><tr><td>667061</td><td>alameda lorena</td><td>Nova Iorque</td><td>São paulo</td><td>SP</td></tr><tr><td>526407</td><td>alameda augusta</td><td>Nova Iorque</td><td>São paulo</td><td>SP</td></tr><tr><td>472787</td><td>alameda oscar portugal</td><td>Nova Iorque</td><td>São paulo</td><td>SP</td></tr></tbody></table></div>"
      ]
     },
     "metadata": {
      "application/vnd.databricks.v1+output": {
       "addedWidgets": {},
       "aggData": [],
       "aggError": "",
       "aggOverflow": false,
       "aggSchema": [],
       "aggSeriesLimitReached": false,
       "aggType": "",
       "arguments": {},
       "columnCustomDisplayInfos": {},
       "data": [
        [
         305095,
         "av jucelino cursino",
         "centro",
         "São paulo",
         "SP"
        ],
        [
         303989,
         "av brasil",
         "centro",
         "São paulo",
         "SP"
        ],
        [
         400487,
         "av interlargos",
         "centro",
         "São paulo",
         "SP"
        ],
        [
         512496,
         "av copacabana",
         "centro",
         "Rio de Janeiro",
         "RJ"
        ],
        [
         965268,
         "rua dom pedro primeiro",
         "centro",
         "São paulo",
         "SP"
        ],
        [
         931429,
         "rua vicente giacaline",
         "Vila zilda",
         "São paulo",
         "SP"
        ],
        [
         287560,
         "rua governador valadares",
         "Vila zilda",
         "São paulo",
         "SP"
        ],
        [
         840060,
         "rua sérgio vicente",
         "Vila zilda",
         "São paulo",
         "SP"
        ],
        [
         746023,
         "rua ana carolina fernandes",
         "Vicenza",
         "São paulo",
         "SP"
        ],
        [
         187173,
         "rua sabrina freire",
         "Vicenza",
         "São paulo",
         "SP"
        ],
        [
         931949,
         "rua capuava",
         "Vicenza",
         "São paulo",
         "SP"
        ],
        [
         871432,
         "rua lucas matos",
         "Vicenza",
         "São paulo",
         "SP"
        ],
        [
         667061,
         "alameda lorena",
         "Nova Iorque",
         "São paulo",
         "SP"
        ],
        [
         526407,
         "alameda augusta",
         "Nova Iorque",
         "São paulo",
         "SP"
        ],
        [
         472787,
         "alameda oscar portugal",
         "Nova Iorque",
         "São paulo",
         "SP"
        ]
       ],
       "datasetInfos": [],
       "dbfsResultPath": null,
       "isJsonSchema": true,
       "metadata": {},
       "overflow": false,
       "plotOptions": {
        "customPlotOptions": {},
        "displayType": "table",
        "pivotAggregation": null,
        "pivotColumns": null,
        "xColumns": null,
        "yColumns": null
       },
       "removedWidgets": [],
       "schema": [
        {
         "metadata": "{}",
         "name": "cep_id",
         "type": "\"integer\""
        },
        {
         "metadata": "{}",
         "name": "nm_enredeco",
         "type": "\"string\""
        },
        {
         "metadata": "{}",
         "name": "bairro",
         "type": "\"string\""
        },
        {
         "metadata": "{}",
         "name": "cidade",
         "type": "\"string\""
        },
        {
         "metadata": "{}",
         "name": "UF",
         "type": "\"string\""
        }
       ],
       "type": "table"
      }
     },
     "output_type": "display_data"
    }
   ],
   "source": [
    "%sql\n",
    "\n",
    "/* Query the created temp table in a SQL cell */\n",
    "\n",
    "select * from `endereco_txt`"
   ]
  },
  {
   "cell_type": "code",
   "execution_count": 0,
   "metadata": {
    "application/vnd.databricks.v1+cell": {
     "cellMetadata": {
      "byteLimit": 2048000,
      "rowLimit": 10000
     },
     "inputWidgets": {},
     "nuid": "db9631f6-bb4a-42ca-8a3c-0d48af932331",
     "showTitle": false,
     "title": ""
    }
   },
   "outputs": [],
   "source": [
    "# With this registered as a temp view, it will only be available to this particular notebook. If you'd like other users to be able to query this table, you can also create a table from the DataFrame.\n",
    "# Once saved, this table will persist across cluster restarts as well as allow various users across different notebooks to query this data.\n",
    "# To do so, choose your table name and uncomment the bottom line.\n",
    "\n",
    "permanent_table_name = \"endereco_txt\"\n",
    "\n",
    "# df.write.format(\"parquet\").saveAsTable(permanent_table_name)"
   ]
  },
  {
   "cell_type": "code",
   "execution_count": 0,
   "metadata": {
    "application/vnd.databricks.v1+cell": {
     "cellMetadata": {
      "byteLimit": 2048000,
      "rowLimit": 10000
     },
     "inputWidgets": {},
     "nuid": "89aa6e28-0f87-410a-8c0e-1c230960d0ba",
     "showTitle": false,
     "title": ""
    }
   },
   "outputs": [],
   "source": [
    "df.write.mode(\"overwrite\").saveAsTable(\"tb_endereco\")"
   ]
  },
  {
   "cell_type": "code",
   "execution_count": 0,
   "metadata": {
    "application/vnd.databricks.v1+cell": {
     "cellMetadata": {
      "byteLimit": 2048000,
      "rowLimit": 10000
     },
     "inputWidgets": {},
     "nuid": "7b014fde-f26a-4734-880e-1e94297d8fa7",
     "showTitle": false,
     "title": ""
    }
   },
   "outputs": [
    {
     "output_type": "display_data",
     "data": {
      "text/html": [
       "<style scoped>\n",
       "  .table-result-container {\n",
       "    max-height: 300px;\n",
       "    overflow: auto;\n",
       "  }\n",
       "  table, th, td {\n",
       "    border: 1px solid black;\n",
       "    border-collapse: collapse;\n",
       "  }\n",
       "  th, td {\n",
       "    padding: 5px;\n",
       "  }\n",
       "  th {\n",
       "    text-align: left;\n",
       "  }\n",
       "</style><div class='table-result-container'><table class='table-result'><thead style='background-color: white'><tr><th>cep_id</th><th>nm_enredeco</th><th>bairro</th><th>cidade</th><th>UF</th></tr></thead><tbody><tr><td>305095</td><td>av jucelino cursino</td><td>centro</td><td>São paulo</td><td>SP</td></tr><tr><td>303989</td><td>av brasil</td><td>centro</td><td>São paulo</td><td>SP</td></tr><tr><td>400487</td><td>av interlargos</td><td>centro</td><td>São paulo</td><td>SP</td></tr><tr><td>512496</td><td>av copacabana</td><td>centro</td><td>Rio de Janeiro</td><td>RJ</td></tr><tr><td>965268</td><td>rua dom pedro primeiro</td><td>centro</td><td>São paulo</td><td>SP</td></tr><tr><td>931429</td><td>rua vicente giacaline</td><td>Vila zilda</td><td>São paulo</td><td>SP</td></tr><tr><td>287560</td><td>rua governador valadares</td><td>Vila zilda</td><td>São paulo</td><td>SP</td></tr><tr><td>840060</td><td>rua sérgio vicente</td><td>Vila zilda</td><td>São paulo</td><td>SP</td></tr><tr><td>746023</td><td>rua ana carolina fernandes</td><td>Vicenza</td><td>São paulo</td><td>SP</td></tr><tr><td>187173</td><td>rua sabrina freire</td><td>Vicenza</td><td>São paulo</td><td>SP</td></tr><tr><td>931949</td><td>rua capuava</td><td>Vicenza</td><td>São paulo</td><td>SP</td></tr><tr><td>871432</td><td>rua lucas matos</td><td>Vicenza</td><td>São paulo</td><td>SP</td></tr><tr><td>667061</td><td>alameda lorena</td><td>Nova Iorque</td><td>São paulo</td><td>SP</td></tr><tr><td>526407</td><td>alameda augusta</td><td>Nova Iorque</td><td>São paulo</td><td>SP</td></tr><tr><td>472787</td><td>alameda oscar portugal</td><td>Nova Iorque</td><td>São paulo</td><td>SP</td></tr></tbody></table></div>"
      ]
     },
     "metadata": {
      "application/vnd.databricks.v1+output": {
       "addedWidgets": {},
       "aggData": [],
       "aggError": "",
       "aggOverflow": false,
       "aggSchema": [],
       "aggSeriesLimitReached": false,
       "aggType": "",
       "arguments": {},
       "columnCustomDisplayInfos": {},
       "data": [
        [
         305095,
         "av jucelino cursino",
         "centro",
         "São paulo",
         "SP"
        ],
        [
         303989,
         "av brasil",
         "centro",
         "São paulo",
         "SP"
        ],
        [
         400487,
         "av interlargos",
         "centro",
         "São paulo",
         "SP"
        ],
        [
         512496,
         "av copacabana",
         "centro",
         "Rio de Janeiro",
         "RJ"
        ],
        [
         965268,
         "rua dom pedro primeiro",
         "centro",
         "São paulo",
         "SP"
        ],
        [
         931429,
         "rua vicente giacaline",
         "Vila zilda",
         "São paulo",
         "SP"
        ],
        [
         287560,
         "rua governador valadares",
         "Vila zilda",
         "São paulo",
         "SP"
        ],
        [
         840060,
         "rua sérgio vicente",
         "Vila zilda",
         "São paulo",
         "SP"
        ],
        [
         746023,
         "rua ana carolina fernandes",
         "Vicenza",
         "São paulo",
         "SP"
        ],
        [
         187173,
         "rua sabrina freire",
         "Vicenza",
         "São paulo",
         "SP"
        ],
        [
         931949,
         "rua capuava",
         "Vicenza",
         "São paulo",
         "SP"
        ],
        [
         871432,
         "rua lucas matos",
         "Vicenza",
         "São paulo",
         "SP"
        ],
        [
         667061,
         "alameda lorena",
         "Nova Iorque",
         "São paulo",
         "SP"
        ],
        [
         526407,
         "alameda augusta",
         "Nova Iorque",
         "São paulo",
         "SP"
        ],
        [
         472787,
         "alameda oscar portugal",
         "Nova Iorque",
         "São paulo",
         "SP"
        ]
       ],
       "datasetInfos": [],
       "dbfsResultPath": null,
       "isJsonSchema": true,
       "metadata": {},
       "overflow": false,
       "plotOptions": {
        "customPlotOptions": {},
        "displayType": "table",
        "pivotAggregation": null,
        "pivotColumns": null,
        "xColumns": null,
        "yColumns": null
       },
       "removedWidgets": [],
       "schema": [
        {
         "metadata": "{}",
         "name": "cep_id",
         "type": "\"integer\""
        },
        {
         "metadata": "{}",
         "name": "nm_enredeco",
         "type": "\"string\""
        },
        {
         "metadata": "{}",
         "name": "bairro",
         "type": "\"string\""
        },
        {
         "metadata": "{}",
         "name": "cidade",
         "type": "\"string\""
        },
        {
         "metadata": "{}",
         "name": "UF",
         "type": "\"string\""
        }
       ],
       "type": "table"
      }
     },
     "output_type": "display_data"
    }
   ],
   "source": [
    "df_end = spark.table('tb_endereco')\n",
    "\n",
    "df_end.display()"
   ]
  },
  {
   "cell_type": "code",
   "execution_count": 0,
   "metadata": {
    "application/vnd.databricks.v1+cell": {
     "cellMetadata": {
      "byteLimit": 2048000,
      "rowLimit": 10000
     },
     "inputWidgets": {},
     "nuid": "d12349ec-5373-4623-9833-d8eadd042370",
     "showTitle": false,
     "title": ""
    }
   },
   "outputs": [
    {
     "output_type": "stream",
     "name": "stdout",
     "output_type": "stream",
     "text": [
      "+------+--------------------+-------+---------+---+\n|cep_id|         nm_enredeco| bairro|   cidade| UF|\n+------+--------------------+-------+---------+---+\n|746023|rua ana carolina ...|Vicenza|São paulo| SP|\n|187173|  rua sabrina freire|Vicenza|São paulo| SP|\n|931949|         rua capuava|Vicenza|São paulo| SP|\n|871432|     rua lucas matos|Vicenza|São paulo| SP|\n+------+--------------------+-------+---------+---+\n\n"
     ]
    }
   ],
   "source": [
    "from pyspark.sql import functions as F\n",
    "df_end.filter(F.col('bairro') == 'Vicenza').show()"
   ]
  },
  {
   "cell_type": "markdown",
   "metadata": {
    "application/vnd.databricks.v1+cell": {
     "cellMetadata": {
      "byteLimit": 2048000,
      "rowLimit": 10000
     },
     "inputWidgets": {},
     "nuid": "7ec5546e-3875-44f4-959c-f78d75d0bec8",
     "showTitle": true,
     "title": "_"
    },
    "jupyter": {
     "outputs_hidden": true
    }
   },
   "source": [
    "Aqui segue o link para download dos arquivos que vamos utilizar, já foi disponibilizado no último vídeo onde abordamos a parte de importação, mas ainda sim vamos disponibilizado a cada video da série.\n",
    "\n",
    "https://www.kaggle.com/datasets/olistbr/brazilian-ecommerce\n",
    "\n",
    "<img src='https://i.imgur.com/HRhd2Y0.png'>"
   ]
  },
  {
   "cell_type": "code",
   "execution_count": 0,
   "metadata": {
    "application/vnd.databricks.v1+cell": {
     "cellMetadata": {
      "byteLimit": 2048000,
      "rowLimit": 10000
     },
     "inputWidgets": {},
     "nuid": "90a06dc6-1262-4385-bdec-43fba8dc71a0",
     "showTitle": true,
     "title": "Import Libraries"
    }
   },
   "outputs": [],
   "source": [
    "from pyspark.sql import functions as F"
   ]
  },
  {
   "cell_type": "code",
   "execution_count": 0,
   "metadata": {
    "application/vnd.databricks.v1+cell": {
     "cellMetadata": {
      "byteLimit": 2048000,
      "rowLimit": 10000
     },
     "inputWidgets": {},
     "nuid": "769c60c5-896c-4884-b24f-11a6a7975c8e",
     "showTitle": true,
     "title": "Read Tables"
    }
   },
   "outputs": [],
   "source": [
    "df = spark.table('stock')"
   ]
  },
  {
   "cell_type": "code",
   "execution_count": 0,
   "metadata": {
    "application/vnd.databricks.v1+cell": {
     "cellMetadata": {
      "byteLimit": 2048000,
      "rowLimit": 10000
     },
     "inputWidgets": {},
     "nuid": "a1ae1d62-8732-4230-9720-c42fcb72409d",
     "showTitle": false,
     "title": ""
    }
   },
   "outputs": [
    {
     "output_type": "display_data",
     "data": {
      "text/html": [
       "<style scoped>\n",
       "  .table-result-container {\n",
       "    max-height: 300px;\n",
       "    overflow: auto;\n",
       "  }\n",
       "  table, th, td {\n",
       "    border: 1px solid black;\n",
       "    border-collapse: collapse;\n",
       "  }\n",
       "  th, td {\n",
       "    padding: 5px;\n",
       "  }\n",
       "  th {\n",
       "    text-align: left;\n",
       "  }\n",
       "</style><div class='table-result-container'><table class='table-result'><thead style='background-color: white'><tr><th>Open</th><th>High</th><th>Low</th><th>Close</th><th>Adj_Close</th><th>Volume</th><th>StokeName</th></tr></thead><tbody><tr><td>410.57000732421875</td><td>412.7200012207031</td><td>409.1000061035156</td><td>412.32000732421875</td><td>412.32000732421875</td><td>14670400</td><td>MSFT</td></tr><tr><td>4.539999961853027</td><td>4.550000190734863</td><td>4.409999847412109</td><td>4.409999847412109</td><td>4.409999847412109</td><td>3400</td><td>NURO</td></tr></tbody></table></div>"
      ]
     },
     "metadata": {
      "application/vnd.databricks.v1+output": {
       "addedWidgets": {},
       "aggData": [],
       "aggError": "",
       "aggOverflow": false,
       "aggSchema": [],
       "aggSeriesLimitReached": false,
       "aggType": "",
       "arguments": {},
       "columnCustomDisplayInfos": {},
       "data": [
        [
         410.57000732421875,
         412.7200012207031,
         409.1000061035156,
         412.32000732421875,
         412.32000732421875,
         14670400,
         "MSFT"
        ],
        [
         4.539999961853027,
         4.550000190734863,
         4.409999847412109,
         4.409999847412109,
         4.409999847412109,
         3400,
         "NURO"
        ]
       ],
       "datasetInfos": [],
       "dbfsResultPath": null,
       "isJsonSchema": true,
       "metadata": {},
       "overflow": false,
       "plotOptions": {
        "customPlotOptions": {},
        "displayType": "table",
        "pivotAggregation": null,
        "pivotColumns": null,
        "xColumns": null,
        "yColumns": null
       },
       "removedWidgets": [],
       "schema": [
        {
         "metadata": "{}",
         "name": "Open",
         "type": "\"double\""
        },
        {
         "metadata": "{}",
         "name": "High",
         "type": "\"double\""
        },
        {
         "metadata": "{}",
         "name": "Low",
         "type": "\"double\""
        },
        {
         "metadata": "{}",
         "name": "Close",
         "type": "\"double\""
        },
        {
         "metadata": "{}",
         "name": "Adj_Close",
         "type": "\"double\""
        },
        {
         "metadata": "{}",
         "name": "Volume",
         "type": "\"long\""
        },
        {
         "metadata": "{}",
         "name": "StokeName",
         "type": "\"string\""
        }
       ],
       "type": "table"
      }
     },
     "output_type": "display_data"
    },
    {
     "output_type": "display_data",
     "data": {
      "text/plain": [
       "Databricks visualization. Run in Databricks to view."
      ]
     },
     "metadata": {
      "application/vnd.databricks.v1.subcommand+json": {
       "baseErrorDetails": null,
       "bindings": {},
       "collapsed": false,
       "command": "%python\n__backend_agg_display_orig = display\n__backend_agg_dfs = []\ndef __backend_agg_display_new(df):\n    __backend_agg_df_modules = [\"pandas.core.frame\", \"databricks.koalas.frame\", \"pyspark.sql.dataframe\", \"pyspark.pandas.frame\", \"pyspark.sql.connect.dataframe\"]\n    if (type(df).__module__ in __backend_agg_df_modules and type(df).__name__ == 'DataFrame') or isinstance(df, list):\n        __backend_agg_dfs.append(df)\n\ndisplay = __backend_agg_display_new\n\ndef __backend_agg_user_code_fn():\n    import base64\n    exec(base64.standard_b64decode(\"ZGYuZGlzcGxheSgp\").decode())\n\ntry:\n    # run user code\n    __backend_agg_user_code_fn()\n\n    #reset display function\n    display = __backend_agg_display_orig\n\n    if len(__backend_agg_dfs) > 0:\n        # create a temp view\n        if type(__backend_agg_dfs[0]).__module__ == \"databricks.koalas.frame\":\n            # koalas dataframe\n            __backend_agg_dfs[0].to_spark().createOrReplaceTempView(\"DatabricksViewe3b7ac5\")\n        elif type(__backend_agg_dfs[0]).__module__ == \"pandas.core.frame\" or isinstance(__backend_agg_dfs[0], list):\n            # pandas dataframe\n            spark.createDataFrame(__backend_agg_dfs[0]).createOrReplaceTempView(\"DatabricksViewe3b7ac5\")\n        else:\n            __backend_agg_dfs[0].createOrReplaceTempView(\"DatabricksViewe3b7ac5\")\n        #run backend agg\n        display(spark.sql(\"\"\"WITH q AS (select * from DatabricksViewe3b7ac5) SELECT `StokeName`,SUM(`Volume`) `column_7e7b87eb5` FROM q GROUP BY `StokeName`\"\"\"))\n    else:\n        displayHTML(\"dataframe no longer exists. If you're using dataframe.display(), use display(dataframe) instead.\")\n\n\nfinally:\n    spark.sql(\"drop view if exists DatabricksViewe3b7ac5\")\n    display = __backend_agg_display_orig\n    del __backend_agg_display_new\n    del __backend_agg_display_orig\n    del __backend_agg_dfs\n    del __backend_agg_user_code_fn\n\n",
       "commandTitle": "Visualization 1",
       "commandType": "auto",
       "commandVersion": 0,
       "commentThread": [],
       "commentsVisible": false,
       "contentSha256Hex": null,
       "customPlotOptions": {
        "redashChart": [
         {
          "key": "type",
          "value": "CHART"
         },
         {
          "key": "options",
          "value": {
           "alignYAxesAtZero": true,
           "coefficient": 1,
           "columnConfigurationMap": {
            "x": {
             "column": "StokeName",
             "id": "column_7e7b87eb7"
            },
            "y": [
             {
              "column": "Open",
              "id": "column_7e7b87eb5",
              "transform": "AVG"
             }
            ]
           },
           "dateTimeFormat": "DD/MM/YYYY HH:mm",
           "direction": {
            "type": "counterclockwise"
           },
           "error_y": {
            "type": "data",
            "visible": true
           },
           "globalSeriesType": "column",
           "isAggregationOn": true,
           "legend": {
            "traceorder": "normal"
           },
           "missingValuesAsZero": true,
           "numberFormat": "0,0.[00000]",
           "percentFormat": "0[.]00%",
           "series": {
            "error_y": {
             "type": "data",
             "visible": true
            },
            "stacking": null
           },
           "seriesOptions": {
            "column_7e7b87eb5": {
             "type": "column",
             "yAxis": 0
            }
           },
           "showDataLabels": false,
           "sizemode": "diameter",
           "sortX": true,
           "sortY": true,
           "swappedAxes": false,
           "textFormat": "",
           "useAggregationsUi": true,
           "valuesOptions": {},
           "version": 2,
           "xAxis": {
            "labels": {
             "enabled": true
            },
            "type": "-"
           },
           "yAxis": [
            {
             "type": "-"
            },
            {
             "opposite": true,
             "type": "-"
            }
           ]
          }
         }
        ]
       },
       "datasetPreviewNameToCmdIdMap": {},
       "diffDeletes": [],
       "diffInserts": [],
       "displayType": "redashChart",
       "error": null,
       "errorDetails": null,
       "errorSummary": null,
       "errorTraceType": null,
       "finishTime": 0,
       "globalVars": {},
       "guid": "",
       "height": "auto",
       "hideCommandCode": false,
       "hideCommandResult": false,
       "iPythonMetadata": null,
       "inputWidgets": {},
       "isLockedInExamMode": false,
       "latestUser": "a user",
       "latestUserId": null,
       "listResultMetadata": null,
       "metadata": {},
       "nuid": "4c994e5a-ee12-4046-9754-22d06899298e",
       "origId": 0,
       "parentHierarchy": [],
       "pivotAggregation": null,
       "pivotColumns": null,
       "position": 22.0,
       "resultDbfsErrorMessage": null,
       "resultDbfsStatus": "INLINED_IN_TREE",
       "results": null,
       "showCommandTitle": false,
       "startTime": 0,
       "state": "input",
       "streamStates": {},
       "subcommandOptions": {
        "queryPlan": {
         "groups": [
          {
           "column": "StokeName",
           "type": "column"
          }
         ],
         "selects": [
          {
           "column": "StokeName",
           "type": "column"
          },
          {
           "alias": "column_7e7b87eb5",
           "args": [
            {
             "column": "Open",
             "type": "column"
            }
           ],
           "function": "AVG",
           "type": "function"
          }
         ]
        }
       },
       "submitTime": 0,
       "subtype": "tableResultSubCmd.visualization",
       "tableResultIndex": 0,
       "useConsistentColors": false,
       "version": "CommandV1",
       "width": "auto",
       "workflows": [],
       "xColumns": null,
       "yColumns": null
      }
     },
     "output_type": "display_data"
    }
   ],
   "source": [
    "df.display()"
   ]
  }
 ],
 "metadata": {
  "application/vnd.databricks.v1+notebook": {
   "dashboards": [],
   "language": "python",
   "notebookMetadata": {
    "mostRecentlyExecutedCommandWithImplicitDF": {
     "commandId": 3487687516220886,
     "dataframes": [
      "_sqldf"
     ]
    },
    "pythonIndentUnit": 2
   },
   "notebookName": "2024-05-10 - DBFS Example",
   "widgets": {}
  }
 },
 "nbformat": 4,
 "nbformat_minor": 0
}
