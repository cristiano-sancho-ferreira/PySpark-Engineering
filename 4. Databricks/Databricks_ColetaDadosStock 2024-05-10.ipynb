{
 "cells": [
  {
   "cell_type": "code",
   "execution_count": 0,
   "metadata": {
    "application/vnd.databricks.v1+cell": {
     "cellMetadata": {
      "byteLimit": 2048000,
      "rowLimit": 10000
     },
     "inputWidgets": {},
     "nuid": "62492be5-0c42-4d92-a707-29b3074be57e",
     "showTitle": false,
     "title": ""
    }
   },
   "outputs": [
    {
     "output_type": "stream",
     "name": "stdout",
     "output_type": "stream",
     "text": [
      "Collecting yfinance\r\n  Using cached yfinance-0.2.38-py2.py3-none-any.whl (72 kB)\r\nCollecting appdirs>=1.4.4\r\n  Using cached appdirs-1.4.4-py2.py3-none-any.whl (9.6 kB)\r\nRequirement already satisfied: lxml>=4.9.1 in /local_disk0/.ephemeral_nfs/cluster_libraries/python/lib/python3.9/site-packages (from yfinance) (5.2.1)\r\nRequirement already satisfied: beautifulsoup4>=4.11.1 in /databricks/python3/lib/python3.9/site-packages (from yfinance) (4.11.1)\r\nCollecting pytz>=2022.5\r\n  Using cached pytz-2024.1-py2.py3-none-any.whl (505 kB)\r\nCollecting peewee>=3.16.2\r\n  Using cached peewee-3.17.5.tar.gz (3.0 MB)\r\n  Installing build dependencies ... \u001B[?25l-\b \b\\\b \b|\b \b/\b \b-\b \bdone\r\n\u001B[?25h  Getting requirements to build wheel ... \u001B[?25l-\b \berror\r\n\u001B[31m  ERROR: Command errored out with exit status 1:\r\n   command: /local_disk0/.ephemeral_nfs/envs/pythonEnv-43970eee-6492-4bbd-9ce0-2b67ac59a439/bin/python /local_disk0/.ephemeral_nfs/envs/pythonEnv-43970eee-6492-4bbd-9ce0-2b67ac59a439/lib/python3.9/site-packages/pip/_vendor/pep517/in_process/_in_process.py get_requires_for_build_wheel /tmp/tmpv78ikabg\r\n       cwd: /tmp/pip-install-vrdfxp1z/peewee_786cdff2ff454f54990b6c92f4b534c8\r\n  Complete output (38 lines):\r\n  \r\n  Error compiling Cython file:\r\n  ------------------------------------------------------------\r\n  ...\r\n  \r\n  \r\n  # We define an xConnect function, but leave xCreate NULL so that the\r\n  # table-function can be called eponymously.\r\n  cdef int pwConnect(sqlite3 *db, void *pAux, int argc, const char *const*argv,\r\n                     sqlite3_vtab **ppVtab, char **pzErr) noexcept with gil:\r\n                                                         ^\r\n  ------------------------------------------------------------\r\n  \r\n  playhouse/_sqlite_ext.pyx:389:56: Syntax error in C variable declaration\r\n  Compiling playhouse/_sqlite_ext.pyx because it depends on /databricks/python/lib/python3.9/site-packages/Cython/Includes/libc/string.pxd.\r\n  [1/1] Cythonizing playhouse/_sqlite_ext.pyx\r\n  Traceback (most recent call last):\r\n    File \"/local_disk0/.ephemeral_nfs/envs/pythonEnv-43970eee-6492-4bbd-9ce0-2b67ac59a439/lib/python3.9/site-packages/pip/_vendor/pep517/in_process/_in_process.py\", line 349, in <module>\r\n      main()\r\n    File \"/local_disk0/.ephemeral_nfs/envs/pythonEnv-43970eee-6492-4bbd-9ce0-2b67ac59a439/lib/python3.9/site-packages/pip/_vendor/pep517/in_process/_in_process.py\", line 331, in main\r\n      json_out['return_val'] = hook(**hook_input['kwargs'])\r\n    File \"/local_disk0/.ephemeral_nfs/envs/pythonEnv-43970eee-6492-4bbd-9ce0-2b67ac59a439/lib/python3.9/site-packages/pip/_vendor/pep517/in_process/_in_process.py\", line 117, in get_requires_for_build_wheel\r\n      return hook(config_settings)\r\n    File \"/databricks/python/lib/python3.9/site-packages/setuptools/build_meta.py\", line 177, in get_requires_for_build_wheel\r\n      return self._get_build_requires(\r\n    File \"/databricks/python/lib/python3.9/site-packages/setuptools/build_meta.py\", line 159, in _get_build_requires\r\n      self.run_setup()\r\n    File \"/databricks/python/lib/python3.9/site-packages/setuptools/build_meta.py\", line 174, in run_setup\r\n      exec(compile(code, __file__, 'exec'), locals())\r\n    File \"setup.py\", line 201, in <module>\r\n      _do_setup(extension_support, sqlite_extension_support)\r\n    File \"setup.py\", line 196, in _do_setup\r\n      ext_modules=cythonize(ext_modules))\r\n    File \"/databricks/python/lib/python3.9/site-packages/Cython/Build/Dependencies.py\", line 1127, in cythonize\r\n      cythonize_one(*args)\r\n    File \"/databricks/python/lib/python3.9/site-packages/Cython/Build/Dependencies.py\", line 1250, in cythonize_one\r\n      raise CompileError(None, pyx_file)\r\n  Cython.Compiler.Errors.CompileError: playhouse/_sqlite_ext.pyx\r\n  ----------------------------------------\u001B[0m\r\n\u001B[33mWARNING: Discarding https://files.pythonhosted.org/packages/1e/d4/22c2909b5a0b36e69471e699d673c2985f7691ca29870798a29e0a3d0e2b/peewee-3.17.5.tar.gz#sha256=e1b6a64192207fd3ddb4e1188054820f42aef0aadfa749e3981af3c119a76420 (from https://pypi.org/simple/peewee/). Command errored out with exit status 1: /local_disk0/.ephemeral_nfs/envs/pythonEnv-43970eee-6492-4bbd-9ce0-2b67ac59a439/bin/python /local_disk0/.ephemeral_nfs/envs/pythonEnv-43970eee-6492-4bbd-9ce0-2b67ac59a439/lib/python3.9/site-packages/pip/_vendor/pep517/in_process/_in_process.py get_requires_for_build_wheel /tmp/tmpv78ikabg Check the logs for full command output.\u001B[0m\r\n\u001B[?25h  Using cached peewee-3.17.3.tar.gz (3.0 MB)\r\n  Installing build dependencies ... \u001B[?25l-\b \b\\\b \b|\b \b/\b \bdone\r\n\u001B[?25h  Getting requirements to build wheel ... \u001B[?25l-\b \berror\r\n\u001B[31m  ERROR: Command errored out with exit status 1:\r\n   command: /local_disk0/.ephemeral_nfs/envs/pythonEnv-43970eee-6492-4bbd-9ce0-2b67ac59a439/bin/python /local_disk0/.ephemeral_nfs/envs/pythonEnv-43970eee-6492-4bbd-9ce0-2b67ac59a439/lib/python3.9/site-packages/pip/_vendor/pep517/in_process/_in_process.py get_requires_for_build_wheel /tmp/tmp7ws6wris\r\n       cwd: /tmp/pip-install-vrdfxp1z/peewee_e123f7205f104ae48ce59e00f671d7a0\r\n  Complete output (40 lines):\r\n  \r\n  Error compiling Cython file:\r\n  ------------------------------------------------------------\r\n  ...\r\n  \r\n  \r\n  # We define an xConnect function, but leave xCreate NULL so that the\r\n  # table-function can be called eponymously.\r\n  cdef int pwConnect(sqlite3 *db, void *pAux, int argc, const char *const*argv,\r\n                     sqlite3_vtab **ppVtab, char **pzErr) noexcept with gil:\r\n                                                         ^\r\n  ------------------------------------------------------------\r\n  \r\n  playhouse/_sqlite_ext.pyx:389:56: Syntax error in C variable declaration\r\n  Compiling playhouse/_sqlite_ext.pyx because it depends on /databricks/python/lib/python3.9/site-packages/Cython/Includes/libc/string.pxd.\r\n  [1/1] Cythonizing playhouse/_sqlite_ext.pyx\r\n  Traceback (most recent call last):\r\n    File \"/local_disk0/.ephemeral_nfs/envs/pythonEnv-43970eee-6492-4bbd-9ce0-2b67ac59a439/lib/python3.9/site-packages/pip/_vendor/pep517/in_process/_in_process.py\", line 349, in <module>\r\n      main()\r\n    File \"/local_disk0/.ephemeral_nfs/envs/pythonEnv-43970eee-6492-4bbd-9ce0-2b67ac59a439/lib/python3.9/site-packages/pip/_vendor/pep517/in_process/_in_process.py\", line 331, in main\r\n      json_out['return_val'] = hook(**hook_input['kwargs'])\r\n    File \"/local_disk0/.ephemeral_nfs/envs/pythonEnv-43970eee-6492-4bbd-9ce0-2b67ac59a439/lib/python3.9/site-packages/pip/_vendor/pep517/in_process/_in_process.py\", line 117, in get_requires_for_build_wheel\r\n      return hook(config_settings)\r\n    File \"/databricks/python/lib/python3.9/site-packages/setuptools/build_meta.py\", line 177, in get_requires_for_build_wheel\r\n      return self._get_build_requires(\r\n    File \"/databricks/python/lib/python3.9/site-packages/setuptools/build_meta.py\", line 159, in _get_build_requires\r\n      self.run_setup()\r\n    File \"/databricks/python/lib/python3.9/site-packages/setuptools/build_meta.py\", line 281, in run_setup\r\n      super(_BuildMetaLegacyBackend,\r\n    File \"/databricks/python/lib/python3.9/site-packages/setuptools/build_meta.py\", line 174, in run_setup\r\n      exec(compile(code, __file__, 'exec'), locals())\r\n    File \"setup.py\", line 196, in <module>\r\n      _do_setup(extension_support, sqlite_extension_support)\r\n    File \"setup.py\", line 191, in _do_setup\r\n      ext_modules=cythonize(ext_modules))\r\n    File \"/databricks/python/lib/python3.9/site-packages/Cython/Build/Dependencies.py\", line 1127, in cythonize\r\n      cythonize_one(*args)\r\n    File \"/databricks/python/lib/python3.9/site-packages/Cython/Build/Dependencies.py\", line 1250, in cythonize_one\r\n      raise CompileError(None, pyx_file)\r\n  Cython.Compiler.Errors.CompileError: playhouse/_sqlite_ext.pyx\r\n  ----------------------------------------\u001B[0m\r\n\u001B[33mWARNING: Discarding https://files.pythonhosted.org/packages/7a/b1/2331e6b1fc8c61686dd9276f34142265462640eb0dd431246e30c4461065/peewee-3.17.3.tar.gz#sha256=ef15f90b628e41a584be8306cdc3243c51f73ce88b06154d9572f6d0284a0169 (from https://pypi.org/simple/peewee/). Command errored out with exit status 1: /local_disk0/.ephemeral_nfs/envs/pythonEnv-43970eee-6492-4bbd-9ce0-2b67ac59a439/bin/python /local_disk0/.ephemeral_nfs/envs/pythonEnv-43970eee-6492-4bbd-9ce0-2b67ac59a439/lib/python3.9/site-packages/pip/_vendor/pep517/in_process/_in_process.py get_requires_for_build_wheel /tmp/tmp7ws6wris Check the logs for full command output.\u001B[0m\r\n\u001B[?25h  Using cached peewee-3.17.2.tar.gz (938 kB)\r\n  Installing build dependencies ... \u001B[?25l-\b \b\\\b \b|\b \b/\b \bdone\r\n\u001B[?25h  Getting requirements to build wheel ... \u001B[?25l-\b \berror\r\n\u001B[31m  ERROR: Command errored out with exit status 1:\r\n   command: /local_disk0/.ephemeral_nfs/envs/pythonEnv-43970eee-6492-4bbd-9ce0-2b67ac59a439/bin/python /local_disk0/.ephemeral_nfs/envs/pythonEnv-43970eee-6492-4bbd-9ce0-2b67ac59a439/lib/python3.9/site-packages/pip/_vendor/pep517/in_process/_in_process.py get_requires_for_build_wheel /tmp/tmps_u8ol6c\r\n       cwd: /tmp/pip-install-vrdfxp1z/peewee_5bcb3ad714054b4db530a784de3d4397\r\n  Complete output (40 lines):\r\n  \r\n  Error compiling Cython file:\r\n  ------------------------------------------------------------\r\n  ...\r\n  \r\n  \r\n  # We define an xConnect function, but leave xCreate NULL so that the\r\n  # table-function can be called eponymously.\r\n  cdef int pwConnect(sqlite3 *db, void *pAux, int argc, const char *const*argv,\r\n                     sqlite3_vtab **ppVtab, char **pzErr) noexcept with gil:\r\n                                                         ^\r\n  ------------------------------------------------------------\r\n  \r\n  playhouse/_sqlite_ext.pyx:389:56: Syntax error in C variable declaration\r\n  Compiling playhouse/_sqlite_ext.pyx because it depends on /databricks/python/lib/python3.9/site-packages/Cython/Includes/libc/string.pxd.\r\n  [1/1] Cythonizing playhouse/_sqlite_ext.pyx\r\n  Traceback (most recent call last):\r\n    File \"/local_disk0/.ephemeral_nfs/envs/pythonEnv-43970eee-6492-4bbd-9ce0-2b67ac59a439/lib/python3.9/site-packages/pip/_vendor/pep517/in_process/_in_process.py\", line 349, in <module>\r\n      main()\r\n    File \"/local_disk0/.ephemeral_nfs/envs/pythonEnv-43970eee-6492-4bbd-9ce0-2b67ac59a439/lib/python3.9/site-packages/pip/_vendor/pep517/in_process/_in_process.py\", line 331, in main\r\n      json_out['return_val'] = hook(**hook_input['kwargs'])\r\n    File \"/local_disk0/.ephemeral_nfs/envs/pythonEnv-43970eee-6492-4bbd-9ce0-2b67ac59a439/lib/python3.9/site-packages/pip/_vendor/pep517/in_process/_in_process.py\", line 117, in get_requires_for_build_wheel\r\n      return hook(config_settings)\r\n    File \"/databricks/python/lib/python3.9/site-packages/setuptools/build_meta.py\", line 177, in get_requires_for_build_wheel\r\n      return self._get_build_requires(\r\n    File \"/databricks/python/lib/python3.9/site-packages/setuptools/build_meta.py\", line 159, in _get_build_requires\r\n      self.run_setup()\r\n    File \"/databricks/python/lib/python3.9/site-packages/setuptools/build_meta.py\", line 281, in run_setup\r\n      super(_BuildMetaLegacyBackend,\r\n    File \"/databricks/python/lib/python3.9/site-packages/setuptools/build_meta.py\", line 174, in run_setup\r\n      exec(compile(code, __file__, 'exec'), locals())\r\n    File \"setup.py\", line 196, in <module>\r\n      _do_setup(extension_support, sqlite_extension_support)\r\n    File \"setup.py\", line 191, in _do_setup\r\n      ext_modules=cythonize(ext_modules))\r\n    File \"/databricks/python/lib/python3.9/site-packages/Cython/Build/Dependencies.py\", line 1127, in cythonize\r\n      cythonize_one(*args)\r\n    File \"/databricks/python/lib/python3.9/site-packages/Cython/Build/Dependencies.py\", line 1250, in cythonize_one\r\n      raise CompileError(None, pyx_file)\r\n  Cython.Compiler.Errors.CompileError: playhouse/_sqlite_ext.pyx\r\n  ----------------------------------------\u001B[0m\r\n\u001B[33mWARNING: Discarding https://files.pythonhosted.org/packages/35/6d/54848039cd02f4aca217855570e8300a64d933f9791443aa3d7c02ecc901/peewee-3.17.2.tar.gz#sha256=2fe35224317d6b50e162ac44880a0d281d4ac0d53c7ae9d228eb769299618fb1 (from https://pypi.org/simple/peewee/). Command errored out with exit status 1: /local_disk0/.ephemeral_nfs/envs/pythonEnv-43970eee-6492-4bbd-9ce0-2b67ac59a439/bin/python /local_disk0/.ephemeral_nfs/envs/pythonEnv-43970eee-6492-4bbd-9ce0-2b67ac59a439/lib/python3.9/site-packages/pip/_vendor/pep517/in_process/_in_process.py get_requires_for_build_wheel /tmp/tmps_u8ol6c Check the logs for full command output.\u001B[0m\r\n\u001B[?25h  Using cached peewee-3.17.1.tar.gz (3.0 MB)\r\n  Installing build dependencies ... \u001B[?25l-\b \b\\\b \b|\b \b/\b \bdone\r\n\u001B[?25h  Getting requirements to build wheel ... \u001B[?25l-\b \berror\r\n\u001B[31m  ERROR: Command errored out with exit status 1:\r\n   command: /local_disk0/.ephemeral_nfs/envs/pythonEnv-43970eee-6492-4bbd-9ce0-2b67ac59a439/bin/python /local_disk0/.ephemeral_nfs/envs/pythonEnv-43970eee-6492-4bbd-9ce0-2b67ac59a439/lib/python3.9/site-packages/pip/_vendor/pep517/in_process/_in_process.py get_requires_for_build_wheel /tmp/tmpdbzyzhnm\r\n       cwd: /tmp/pip-install-vrdfxp1z/peewee_7e0bc89237154bb5ba6a814053f3a816\r\n  Complete output (40 lines):\r\n  \r\n  Error compiling Cython file:\r\n  ------------------------------------------------------------\r\n  ...\r\n  \r\n  \r\n  # We define an xConnect function, but leave xCreate NULL so that the\r\n  # table-function can be called eponymously.\r\n  cdef int pwConnect(sqlite3 *db, void *pAux, int argc, const char *const*argv,\r\n                     sqlite3_vtab **ppVtab, char **pzErr) noexcept with gil:\r\n                                                         ^\r\n  ------------------------------------------------------------\r\n  \r\n  playhouse/_sqlite_ext.pyx:389:56: Syntax error in C variable declaration\r\n  Compiling playhouse/_sqlite_ext.pyx because it depends on /databricks/python/lib/python3.9/site-packages/Cython/Includes/libc/string.pxd.\r\n  [1/1] Cythonizing playhouse/_sqlite_ext.pyx\r\n  Traceback (most recent call last):\r\n    File \"/local_disk0/.ephemeral_nfs/envs/pythonEnv-43970eee-6492-4bbd-9ce0-2b67ac59a439/lib/python3.9/site-packages/pip/_vendor/pep517/in_process/_in_process.py\", line 349, in <module>\r\n      main()\r\n    File \"/local_disk0/.ephemeral_nfs/envs/pythonEnv-43970eee-6492-4bbd-9ce0-2b67ac59a439/lib/python3.9/site-packages/pip/_vendor/pep517/in_process/_in_process.py\", line 331, in main\r\n      json_out['return_val'] = hook(**hook_input['kwargs'])\r\n    File \"/local_disk0/.ephemeral_nfs/envs/pythonEnv-43970eee-6492-4bbd-9ce0-2b67ac59a439/lib/python3.9/site-packages/pip/_vendor/pep517/in_process/_in_process.py\", line 117, in get_requires_for_build_wheel\r\n      return hook(config_settings)\r\n    File \"/databricks/python/lib/python3.9/site-packages/setuptools/build_meta.py\", line 177, in get_requires_for_build_wheel\r\n      return self._get_build_requires(\r\n    File \"/databricks/python/lib/python3.9/site-packages/setuptools/build_meta.py\", line 159, in _get_build_requires\r\n      self.run_setup()\r\n    File \"/databricks/python/lib/python3.9/site-packages/setuptools/build_meta.py\", line 281, in run_setup\r\n      super(_BuildMetaLegacyBackend,\r\n    File \"/databricks/python/lib/python3.9/site-packages/setuptools/build_meta.py\", line 174, in run_setup\r\n      exec(compile(code, __file__, 'exec'), locals())\r\n    File \"setup.py\", line 196, in <module>\r\n      _do_setup(extension_support, sqlite_extension_support)\r\n    File \"setup.py\", line 191, in _do_setup\r\n      ext_modules=cythonize(ext_modules))\r\n    File \"/databricks/python/lib/python3.9/site-packages/Cython/Build/Dependencies.py\", line 1127, in cythonize\r\n      cythonize_one(*args)\r\n    File \"/databricks/python/lib/python3.9/site-packages/Cython/Build/Dependencies.py\", line 1250, in cythonize_one\r\n      raise CompileError(None, pyx_file)\r\n  Cython.Compiler.Errors.CompileError: playhouse/_sqlite_ext.pyx\r\n  ----------------------------------------\u001B[0m\r\n\u001B[33mWARNING: Discarding https://files.pythonhosted.org/packages/8d/a5/89cdbc4a7f6d7a0624c120be102db770ee717aa371066581e3daf2beb96f/peewee-3.17.1.tar.gz#sha256=e009ac4227c4fdc0058a56e822ad5987684f0a1fbb20fed577200785102581c3 (from https://pypi.org/simple/peewee/). Command errored out with exit status 1: /local_disk0/.ephemeral_nfs/envs/pythonEnv-43970eee-6492-4bbd-9ce0-2b67ac59a439/bin/python /local_disk0/.ephemeral_nfs/envs/pythonEnv-43970eee-6492-4bbd-9ce0-2b67ac59a439/lib/python3.9/site-packages/pip/_vendor/pep517/in_process/_in_process.py get_requires_for_build_wheel /tmp/tmpdbzyzhnm Check the logs for full command output.\u001B[0m\r\n\u001B[?25h  Using cached peewee-3.17.0.tar.gz (2.9 MB)\r\n  Installing build dependencies ... \u001B[?25l-\b \b\\\b \b|\b \b/\b \bdone\r\n\u001B[?25h  Getting requirements to build wheel ... \u001B[?25l-\b \berror\r\n\u001B[31m  ERROR: Command errored out with exit status 1:\r\n   command: /local_disk0/.ephemeral_nfs/envs/pythonEnv-43970eee-6492-4bbd-9ce0-2b67ac59a439/bin/python /local_disk0/.ephemeral_nfs/envs/pythonEnv-43970eee-6492-4bbd-9ce0-2b67ac59a439/lib/python3.9/site-packages/pip/_vendor/pep517/in_process/_in_process.py get_requires_for_build_wheel /tmp/tmp629r_46x\r\n       cwd: /tmp/pip-install-vrdfxp1z/peewee_3c0a68d0d4f2402cb130227329a8dbb3\r\n  Complete output (40 lines):\r\n  \r\n  Error compiling Cython file:\r\n  ------------------------------------------------------------\r\n  ...\r\n  \r\n  \r\n  # We define an xConnect function, but leave xCreate NULL so that the\r\n  # table-function can be called eponymously.\r\n  cdef int pwConnect(sqlite3 *db, void *pAux, int argc, const char *const*argv,\r\n                     sqlite3_vtab **ppVtab, char **pzErr) noexcept with gil:\r\n                                                         ^\r\n  ------------------------------------------------------------\r\n  \r\n  playhouse/_sqlite_ext.pyx:389:56: Syntax error in C variable declaration\r\n  Compiling playhouse/_sqlite_ext.pyx because it depends on /databricks/python/lib/python3.9/site-packages/Cython/Includes/libc/string.pxd.\r\n  [1/1] Cythonizing playhouse/_sqlite_ext.pyx\r\n  Traceback (most recent call last):\r\n    File \"/local_disk0/.ephemeral_nfs/envs/pythonEnv-43970eee-6492-4bbd-9ce0-2b67ac59a439/lib/python3.9/site-packages/pip/_vendor/pep517/in_process/_in_process.py\", line 349, in <module>\r\n      main()\r\n    File \"/local_disk0/.ephemeral_nfs/envs/pythonEnv-43970eee-6492-4bbd-9ce0-2b67ac59a439/lib/python3.9/site-packages/pip/_vendor/pep517/in_process/_in_process.py\", line 331, in main\r\n      json_out['return_val'] = hook(**hook_input['kwargs'])\r\n    File \"/local_disk0/.ephemeral_nfs/envs/pythonEnv-43970eee-6492-4bbd-9ce0-2b67ac59a439/lib/python3.9/site-packages/pip/_vendor/pep517/in_process/_in_process.py\", line 117, in get_requires_for_build_wheel\r\n      return hook(config_settings)\r\n    File \"/databricks/python/lib/python3.9/site-packages/setuptools/build_meta.py\", line 177, in get_requires_for_build_wheel\r\n      return self._get_build_requires(\r\n    File \"/databricks/python/lib/python3.9/site-packages/setuptools/build_meta.py\", line 159, in _get_build_requires\r\n      self.run_setup()\r\n    File \"/databricks/python/lib/python3.9/site-packages/setuptools/build_meta.py\", line 281, in run_setup\r\n      super(_BuildMetaLegacyBackend,\r\n    File \"/databricks/python/lib/python3.9/site-packages/setuptools/build_meta.py\", line 174, in run_setup\r\n      exec(compile(code, __file__, 'exec'), locals())\r\n    File \"setup.py\", line 196, in <module>\r\n      _do_setup(extension_support, sqlite_extension_support)\r\n    File \"setup.py\", line 191, in _do_setup\r\n      ext_modules=cythonize(ext_modules))\r\n    File \"/databricks/python/lib/python3.9/site-packages/Cython/Build/Dependencies.py\", line 1127, in cythonize\r\n      cythonize_one(*args)\r\n    File \"/databricks/python/lib/python3.9/site-packages/Cython/Build/Dependencies.py\", line 1250, in cythonize_one\r\n      raise CompileError(None, pyx_file)\r\n  Cython.Compiler.Errors.CompileError: playhouse/_sqlite_ext.pyx\r\n  ----------------------------------------\u001B[0m\r\n\u001B[33mWARNING: Discarding https://files.pythonhosted.org/packages/6a/30/a727bb1420076b3c14b60911d111f0fc0449d31a1123a1ad18878a7a4e40/peewee-3.17.0.tar.gz#sha256=3a56967f28a43ca7a4287f4803752aeeb1a57a08dee2e839b99868181dfb5df8 (from https://pypi.org/simple/peewee/). Command errored out with exit status 1: /local_disk0/.ephemeral_nfs/envs/pythonEnv-43970eee-6492-4bbd-9ce0-2b67ac59a439/bin/python /local_disk0/.ephemeral_nfs/envs/pythonEnv-43970eee-6492-4bbd-9ce0-2b67ac59a439/lib/python3.9/site-packages/pip/_vendor/pep517/in_process/_in_process.py get_requires_for_build_wheel /tmp/tmp629r_46x Check the logs for full command output.\u001B[0m\r\n\u001B[?25h  Using cached peewee-3.16.3.tar.gz (928 kB)\r\n  Installing build dependencies ... \u001B[?25l-\b \b\\\b \b|\b \b/\b \bdone\r\n\u001B[?25h  Getting requirements to build wheel ... \u001B[?25l-\b \berror\r\n\u001B[31m  ERROR: Command errored out with exit status 1:\r\n   command: /local_disk0/.ephemeral_nfs/envs/pythonEnv-43970eee-6492-4bbd-9ce0-2b67ac59a439/bin/python /local_disk0/.ephemeral_nfs/envs/pythonEnv-43970eee-6492-4bbd-9ce0-2b67ac59a439/lib/python3.9/site-packages/pip/_vendor/pep517/in_process/_in_process.py get_requires_for_build_wheel /tmp/tmppgxrhbfz\r\n       cwd: /tmp/pip-install-vrdfxp1z/peewee_948cbe3693e74d219f8ef649c7dea135\r\n  Complete output (40 lines):\r\n  \r\n  Error compiling Cython file:\r\n  ------------------------------------------------------------\r\n  ...\r\n  \r\n  \r\n  # We define an xConnect function, but leave xCreate NULL so that the\r\n  # table-function can be called eponymously.\r\n  cdef int pwConnect(sqlite3 *db, void *pAux, int argc, const char *const*argv,\r\n                     sqlite3_vtab **ppVtab, char **pzErr) noexcept with gil:\r\n                                                         ^\r\n  ------------------------------------------------------------\r\n  \r\n  playhouse/_sqlite_ext.pyx:389:56: Syntax error in C variable declaration\r\n  Compiling playhouse/_sqlite_ext.pyx because it depends on /databricks/python/lib/python3.9/site-packages/Cython/Includes/libc/string.pxd.\r\n  [1/1] Cythonizing playhouse/_sqlite_ext.pyx\r\n  Traceback (most recent call last):\r\n    File \"/local_disk0/.ephemeral_nfs/envs/pythonEnv-43970eee-6492-4bbd-9ce0-2b67ac59a439/lib/python3.9/site-packages/pip/_vendor/pep517/in_process/_in_process.py\", line 349, in <module>\r\n      main()\r\n    File \"/local_disk0/.ephemeral_nfs/envs/pythonEnv-43970eee-6492-4bbd-9ce0-2b67ac59a439/lib/python3.9/site-packages/pip/_vendor/pep517/in_process/_in_process.py\", line 331, in main\r\n      json_out['return_val'] = hook(**hook_input['kwargs'])\r\n    File \"/local_disk0/.ephemeral_nfs/envs/pythonEnv-43970eee-6492-4bbd-9ce0-2b67ac59a439/lib/python3.9/site-packages/pip/_vendor/pep517/in_process/_in_process.py\", line 117, in get_requires_for_build_wheel\r\n      return hook(config_settings)\r\n    File \"/databricks/python/lib/python3.9/site-packages/setuptools/build_meta.py\", line 177, in get_requires_for_build_wheel\r\n      return self._get_build_requires(\r\n    File \"/databricks/python/lib/python3.9/site-packages/setuptools/build_meta.py\", line 159, in _get_build_requires\r\n      self.run_setup()\r\n    File \"/databricks/python/lib/python3.9/site-packages/setuptools/build_meta.py\", line 281, in run_setup\r\n      super(_BuildMetaLegacyBackend,\r\n    File \"/databricks/python/lib/python3.9/site-packages/setuptools/build_meta.py\", line 174, in run_setup\r\n      exec(compile(code, __file__, 'exec'), locals())\r\n    File \"setup.py\", line 196, in <module>\r\n      _do_setup(extension_support, sqlite_extension_support)\r\n    File \"setup.py\", line 191, in _do_setup\r\n      ext_modules=cythonize(ext_modules))\r\n    File \"/databricks/python/lib/python3.9/site-packages/Cython/Build/Dependencies.py\", line 1127, in cythonize\r\n      cythonize_one(*args)\r\n    File \"/databricks/python/lib/python3.9/site-packages/Cython/Build/Dependencies.py\", line 1250, in cythonize_one\r\n      raise CompileError(None, pyx_file)\r\n  Cython.Compiler.Errors.CompileError: playhouse/_sqlite_ext.pyx\r\n  ----------------------------------------\u001B[0m\r\n\u001B[33mWARNING: Discarding https://files.pythonhosted.org/packages/e2/1e/6455dc3c759af3e565414985c5c6f845d3e5f83bbf4a24cdd0aef9cc3f83/peewee-3.16.3.tar.gz#sha256=12b30e931193bc37b11f7c2ac646e3f67125a8b1a543ad6ab37ad124c8df7d16 (from https://pypi.org/simple/peewee/). Command errored out with exit status 1: /local_disk0/.ephemeral_nfs/envs/pythonEnv-43970eee-6492-4bbd-9ce0-2b67ac59a439/bin/python /local_disk0/.ephemeral_nfs/envs/pythonEnv-43970eee-6492-4bbd-9ce0-2b67ac59a439/lib/python3.9/site-packages/pip/_vendor/pep517/in_process/_in_process.py get_requires_for_build_wheel /tmp/tmppgxrhbfz Check the logs for full command output.\u001B[0m\r\n\u001B[?25h  Using cached peewee-3.16.2.tar.gz (2.9 MB)\r\n  Installing build dependencies ... \u001B[?25l-\b \b\\\b \b|\b \b/\b \bdone\r\n\u001B[?25h  Getting requirements to build wheel ... \u001B[?25l-\b \berror\r\n\u001B[31m  ERROR: Command errored out with exit status 1:\r\n   command: /local_disk0/.ephemeral_nfs/envs/pythonEnv-43970eee-6492-4bbd-9ce0-2b67ac59a439/bin/python /local_disk0/.ephemeral_nfs/envs/pythonEnv-43970eee-6492-4bbd-9ce0-2b67ac59a439/lib/python3.9/site-packages/pip/_vendor/pep517/in_process/_in_process.py get_requires_for_build_wheel /tmp/tmphxzcr6_n\r\n       cwd: /tmp/pip-install-vrdfxp1z/peewee_040c509f79254d5ebd38ffe3347a54fd\r\n  Complete output (40 lines):\r\n  \r\n  Error compiling Cython file:\r\n  ------------------------------------------------------------\r\n  ...\r\n      def autocommit(self):\r\n          if self.conn.initialized and self.conn.db:\r\n              return sqlite3_get_autocommit(self.conn.db) != 0\r\n  \r\n  \r\n  cdef int _commit_callback(void *userData) noexcept with gil:\r\n                                           ^\r\n  ------------------------------------------------------------\r\n  \r\n  playhouse/_sqlite_ext.pyx:1511:42: Syntax error in C variable declaration\r\n  Compiling playhouse/_sqlite_ext.pyx because it depends on /databricks/python/lib/python3.9/site-packages/Cython/Includes/libc/string.pxd.\r\n  [1/1] Cythonizing playhouse/_sqlite_ext.pyx\r\n  Traceback (most recent call last):\r\n    File \"/local_disk0/.ephemeral_nfs/envs/pythonEnv-43970eee-6492-4bbd-9ce0-2b67ac59a439/lib/python3.9/site-packages/pip/_vendor/pep517/in_process/_in_process.py\", line 349, in <module>\r\n      main()\r\n    File \"/local_disk0/.ephemeral_nfs/envs/pythonEnv-43970eee-6492-4bbd-9ce0-2b67ac59a439/lib/python3.9/site-packages/pip/_vendor/pep517/in_process/_in_process.py\", line 331, in main\r\n      json_out['return_val'] = hook(**hook_input['kwargs'])\r\n    File \"/local_disk0/.ephemeral_nfs/envs/pythonEnv-43970eee-6492-4bbd-9ce0-2b67ac59a439/lib/python3.9/site-packages/pip/_vendor/pep517/in_process/_in_process.py\", line 117, in get_requires_for_build_wheel\r\n      return hook(config_settings)\r\n    File \"/databricks/python/lib/python3.9/site-packages/setuptools/build_meta.py\", line 177, in get_requires_for_build_wheel\r\n      return self._get_build_requires(\r\n    File \"/databricks/python/lib/python3.9/site-packages/setuptools/build_meta.py\", line 159, in _get_build_requires\r\n      self.run_setup()\r\n    File \"/databricks/python/lib/python3.9/site-packages/setuptools/build_meta.py\", line 281, in run_setup\r\n      super(_BuildMetaLegacyBackend,\r\n    File \"/databricks/python/lib/python3.9/site-packages/setuptools/build_meta.py\", line 174, in run_setup\r\n      exec(compile(code, __file__, 'exec'), locals())\r\n    File \"setup.py\", line 196, in <module>\r\n      _do_setup(extension_support, sqlite_extension_support)\r\n    File \"setup.py\", line 191, in _do_setup\r\n      ext_modules=cythonize(ext_modules))\r\n    File \"/databricks/python/lib/python3.9/site-packages/Cython/Build/Dependencies.py\", line 1127, in cythonize\r\n      cythonize_one(*args)\r\n    File \"/databricks/python/lib/python3.9/site-packages/Cython/Build/Dependencies.py\", line 1250, in cythonize_one\r\n      raise CompileError(None, pyx_file)\r\n  Cython.Compiler.Errors.CompileError: playhouse/_sqlite_ext.pyx\r\n  ----------------------------------------\u001B[0m\r\n\u001B[33mWARNING: Discarding https://files.pythonhosted.org/packages/a9/50/1dd5ea74c559df4afb8391f8d05f0fec685dbe8effba13bb9072901eb288/peewee-3.16.2.tar.gz#sha256=10769981198c7311f84a0ca8db892fa213303a8eb1305deb795a71e7bd606a91 (from https://pypi.org/simple/peewee/). Command errored out with exit status 1: /local_disk0/.ephemeral_nfs/envs/pythonEnv-43970eee-6492-4bbd-9ce0-2b67ac59a439/bin/python /local_disk0/.ephemeral_nfs/envs/pythonEnv-43970eee-6492-4bbd-9ce0-2b67ac59a439/lib/python3.9/site-packages/pip/_vendor/pep517/in_process/_in_process.py get_requires_for_build_wheel /tmp/tmphxzcr6_n Check the logs for full command output.\u001B[0m\r\n\u001B[?25hCollecting yfinance\r\n  Downloading yfinance-0.2.37-py2.py3-none-any.whl (72 kB)\r\n\u001B[?25l\r\u001B[K     |████▌                           | 10 kB 4.8 MB/s eta 0:00:01\r\u001B[K     |█████████                       | 20 kB 4.2 MB/s eta 0:00:01\r\u001B[K     |█████████████▌                  | 30 kB 5.1 MB/s eta 0:00:01\r\u001B[K     |██████████████████              | 40 kB 5.9 MB/s eta 0:00:01\r\u001B[K     |██████████████████████▌         | 51 kB 3.0 MB/s eta 0:00:01\r\u001B[K     |███████████████████████████     | 61 kB 3.5 MB/s eta 0:00:01\r\u001B[K     |███████████████████████████████▍| 71 kB 4.0 MB/s eta 0:00:01\r\u001B[K     |████████████████████████████████| 72 kB 1.1 MB/s \r\n\u001B[?25h  Downloading yfinance-0.2.36-py2.py3-none-any.whl (72 kB)\r\n\u001B[?25l\r\u001B[K     |████▌                           | 10 kB 10.2 MB/s eta 0:00:01\r\u001B[K     |█████████                       | 20 kB 13.4 MB/s eta 0:00:01\r\u001B[K     |█████████████▋                  | 30 kB 16.5 MB/s eta 0:00:01\r\u001B[K     |██████████████████              | 40 kB 16.2 MB/s eta 0:00:01\r\u001B[K     |██████████████████████▋         | 51 kB 5.1 MB/s eta 0:00:01\r\u001B[K     |███████████████████████████▏    | 61 kB 5.8 MB/s eta 0:00:01\r\u001B[K     |███████████████████████████████▊| 71 kB 6.3 MB/s eta 0:00:01\r\u001B[K     |████████████████████████████████| 72 kB 769 kB/s \r\n\u001B[?25h  Downloading yfinance-0.2.35-py2.py3-none-any.whl (72 kB)\r\n\u001B[?25l\r\u001B[K     |████▌                           | 10 kB 12.6 MB/s eta 0:00:01\r\u001B[K     |█████████                       | 20 kB 16.4 MB/s eta 0:00:01\r\u001B[K     |█████████████▋                  | 30 kB 19.9 MB/s eta 0:00:01\r\u001B[K     |██████████████████▏             | 40 kB 20.0 MB/s eta 0:00:01\r\u001B[K     |██████████████████████▊         | 51 kB 3.3 MB/s eta 0:00:01\r\u001B[K     |███████████████████████████▎    | 61 kB 3.8 MB/s eta 0:00:01\r\u001B[K     |███████████████████████████████▊| 71 kB 4.3 MB/s eta 0:00:01\r\u001B[K     |████████████████████████████████| 72 kB 448 kB/s \r\n\u001B[?25h  Downloading yfinance-0.2.34-py2.py3-none-any.whl (72 kB)\r\n\u001B[?25l\r\u001B[K     |████▌                           | 10 kB 15.5 MB/s eta 0:00:01\r\u001B[K     |█████████                       | 20 kB 20.0 MB/s eta 0:00:01\r\u001B[K     |█████████████▋                  | 30 kB 24.8 MB/s eta 0:00:01\r\u001B[K     |██████████████████▏             | 40 kB 26.5 MB/s eta 0:00:01\r\u001B[K     |██████████████████████▊         | 51 kB 27.9 MB/s eta 0:00:01\r\u001B[K     |███████████████████████████▏    | 61 kB 29.1 MB/s eta 0:00:01\r\u001B[K     |███████████████████████████████▊| 71 kB 30.0 MB/s eta 0:00:01\r\u001B[K     |████████████████████████████████| 72 kB 695 kB/s \r\n\u001B[?25h  Downloading yfinance-0.2.33-py2.py3-none-any.whl (69 kB)\r\n\u001B[?25l\r\u001B[K     |████▊                           | 10 kB 20.3 MB/s eta 0:00:01\r\u001B[K     |█████████▌                      | 20 kB 4.2 MB/s eta 0:00:01\r\u001B[K     |██████████████▎                 | 30 kB 5.6 MB/s eta 0:00:01\r\u001B[K     |███████████████████             | 40 kB 7.0 MB/s eta 0:00:01\r\u001B[K     |███████████████████████▊        | 51 kB 8.1 MB/s eta 0:00:01\r\u001B[K     |████████████████████████████▌   | 61 kB 9.3 MB/s eta 0:00:01\r\u001B[K     |████████████████████████████████| 69 kB 4.7 MB/s \r\n\u001B[?25h  Downloading yfinance-0.2.32-py2.py3-none-any.whl (68 kB)\r\n\u001B[?25l\r\u001B[K     |████▊                           | 10 kB 18.9 MB/s eta 0:00:01\r\u001B[K     |█████████▌                      | 20 kB 25.0 MB/s eta 0:00:01\r\u001B[K     |██████████████▎                 | 30 kB 30.5 MB/s eta 0:00:01\r\u001B[K     |███████████████████             | 40 kB 33.6 MB/s eta 0:00:01\r\u001B[K     |███████████████████████▊        | 51 kB 36.0 MB/s eta 0:00:01\r\u001B[K     |████████████████████████████▌   | 61 kB 38.6 MB/s eta 0:00:01\r\u001B[K     |████████████████████████████████| 68 kB 6.1 MB/s \r\n\u001B[?25h  Downloading yfinance-0.2.31-py2.py3-none-any.whl (65 kB)\r\n\u001B[?25l\r\u001B[K     |█████                           | 10 kB 21.9 MB/s eta 0:00:01\r\u001B[K     |██████████                      | 20 kB 26.2 MB/s eta 0:00:01\r\u001B[K     |███████████████                 | 30 kB 31.8 MB/s eta 0:00:01\r\u001B[K     |████████████████████            | 40 kB 35.0 MB/s eta 0:00:01\r\u001B[K     |█████████████████████████       | 51 kB 36.9 MB/s eta 0:00:01\r\u001B[K     |██████████████████████████████  | 61 kB 39.2 MB/s eta 0:00:01\r\u001B[K     |████████████████████████████████| 65 kB 4.3 MB/s \r\n\u001B[?25h  Downloading yfinance-0.2.30-py2.py3-none-any.whl (65 kB)\r\n\u001B[?25l\r\u001B[K     |█████                           | 10 kB 20.8 MB/s eta 0:00:01\r\u001B[K     |██████████                      | 20 kB 26.8 MB/s eta 0:00:01\r\u001B[K     |███████████████                 | 30 kB 32.6 MB/s eta 0:00:01\r\u001B[K     |████████████████████            | 40 kB 35.4 MB/s eta 0:00:01\r\u001B[K     |█████████████████████████       | 51 kB 37.8 MB/s eta 0:00:01\r\u001B[K     |██████████████████████████████  | 61 kB 39.8 MB/s eta 0:00:01\r\u001B[K     |████████████████████████████████| 65 kB 2.0 MB/s \r\n\u001B[?25h  Downloading yfinance-0.2.29-py2.py3-none-any.whl (65 kB)\r\n\u001B[?25l\r\u001B[K     |█████                           | 10 kB 20.0 MB/s eta 0:00:01\r\u001B[K     |██████████                      | 20 kB 25.6 MB/s eta 0:00:01\r\u001B[K     |███████████████                 | 30 kB 31.1 MB/s eta 0:00:01\r\u001B[K     |████████████████████            | 40 kB 27.5 MB/s eta 0:00:01\r\u001B[K     |█████████████████████████▏      | 51 kB 28.4 MB/s eta 0:00:01\r\u001B[K     |██████████████████████████████▏ | 61 kB 28.4 MB/s eta 0:00:01\r\u001B[K     |████████████████████████████████| 65 kB 3.3 MB/s \r\n\u001B[?25h  Downloading yfinance-0.2.28-py2.py3-none-any.whl (65 kB)\r\n\u001B[?25l\r\u001B[K     |█████                           | 10 kB 15.9 MB/s eta 0:00:01\r\u001B[K     |██████████                      | 20 kB 22.6 MB/s eta 0:00:01\r\u001B[K     |███████████████                 | 30 kB 26.2 MB/s eta 0:00:01\r\u001B[K     |████████████████████            | 40 kB 28.6 MB/s eta 0:00:01\r\u001B[K     |█████████████████████████       | 51 kB 26.8 MB/s eta 0:00:01\r\u001B[K     |██████████████████████████████  | 61 kB 29.0 MB/s eta 0:00:01\r\u001B[K     |████████████████████████████████| 65 kB 4.1 MB/s \r\n\u001B[?25hRequirement already satisfied: numpy>=1.16.5 in /databricks/python3/lib/python3.9/site-packages (from yfinance) (1.21.5)\r\nCollecting html5lib>=1.1\r\n  Downloading html5lib-1.1-py2.py3-none-any.whl (112 kB)\r\n\u001B[?25l\r\u001B[K     |███                             | 10 kB 11.5 MB/s eta 0:00:01\r\u001B[K     |█████▉                          | 20 kB 15.0 MB/s eta 0:00:01\r\u001B[K     |████████▊                       | 30 kB 16.5 MB/s eta 0:00:01\r\u001B[K     |███████████▊                    | 40 kB 17.2 MB/s eta 0:00:01\r\u001B[K     |██████████████▋                 | 51 kB 18.0 MB/s eta 0:00:01\r\u001B[K     |█████████████████▌              | 61 kB 19.4 MB/s eta 0:00:01\r\u001B[K     |████████████████████▌           | 71 kB 18.7 MB/s eta 0:00:01\r\u001B[K     |███████████████████████▍        | 81 kB 19.8 MB/s eta 0:00:01\r\u001B[K     |██████████████████████████▎     | 92 kB 19.9 MB/s eta 0:00:01\r\u001B[K     |█████████████████████████████▏  | 102 kB 20.1 MB/s eta 0:00:01\r\u001B[K     |████████████████████████████████| 112 kB 20.1 MB/s \r\n\u001B[?25hRequirement already satisfied: pandas>=1.3.0 in /databricks/python3/lib/python3.9/site-packages (from yfinance) (1.4.2)\r\nCollecting multitasking>=0.0.7\r\n  Downloading multitasking-0.0.11-py3-none-any.whl (8.5 kB)\r\nCollecting frozendict>=2.3.4\r\n  Downloading frozendict-2.4.4-cp39-cp39-manylinux_2_17_x86_64.manylinux2014_x86_64.whl (116 kB)\r\n\u001B[?25l\r\u001B[K     |██▉                             | 10 kB 22.7 MB/s eta 0:00:01\r\u001B[K     |█████▋                          | 20 kB 28.7 MB/s eta 0:00:01\r\u001B[K     |████████▍                       | 30 kB 34.8 MB/s eta 0:00:01\r\u001B[K     |███████████▎                    | 40 kB 39.0 MB/s eta 0:00:01\r\u001B[K     |██████████████                  | 51 kB 40.3 MB/s eta 0:00:01\r\u001B[K     |████████████████▉               | 61 kB 42.9 MB/s eta 0:00:01\r\u001B[K     |███████████████████▋            | 71 kB 42.8 MB/s eta 0:00:01\r\u001B[K     |██████████████████████▌         | 81 kB 44.1 MB/s eta 0:00:01\r\u001B[K     |█████████████████████████▎      | 92 kB 45.9 MB/s eta 0:00:01\r\u001B[K     |████████████████████████████    | 102 kB 47.2 MB/s eta 0:00:01\r\u001B[K     |██████████████████████████████▉ | 112 kB 47.2 MB/s eta 0:00:01\r\u001B[K     |████████████████████████████████| 116 kB 47.2 MB/s \r\n\u001B[?25hCollecting requests>=2.31\r\n  Downloading requests-2.31.0-py3-none-any.whl (62 kB)\r\n\u001B[?25l\r\u001B[K     |█████▎                          | 10 kB 5.6 MB/s eta 0:00:01\r\u001B[K     |██████████▌                     | 20 kB 9.7 MB/s eta 0:00:01\r\u001B[K     |███████████████▊                | 30 kB 13.0 MB/s eta 0:00:01\r\u001B[K     |█████████████████████           | 40 kB 15.8 MB/s eta 0:00:01\r\u001B[K     |██████████████████████████▏     | 51 kB 18.0 MB/s eta 0:00:01\r\u001B[K     |███████████████████████████████▍| 61 kB 20.0 MB/s eta 0:00:01\r\u001B[K     |████████████████████████████████| 62 kB 1.4 MB/s \r\n\u001B[?25hRequirement already satisfied: soupsieve>1.2 in /databricks/python3/lib/python3.9/site-packages (from beautifulsoup4>=4.11.1->yfinance) (2.3.1)\r\nRequirement already satisfied: webencodings in /databricks/python3/lib/python3.9/site-packages (from html5lib>=1.1->yfinance) (0.5.1)\r\nRequirement already satisfied: six>=1.9 in /databricks/python3/lib/python3.9/site-packages (from html5lib>=1.1->yfinance) (1.16.0)\r\nRequirement already satisfied: python-dateutil>=2.8.1 in /databricks/python3/lib/python3.9/site-packages (from pandas>=1.3.0->yfinance) (2.8.2)\r\nRequirement already satisfied: idna<4,>=2.5 in /databricks/python3/lib/python3.9/site-packages (from requests>=2.31->yfinance) (3.3)\r\nRequirement already satisfied: charset-normalizer<4,>=2 in /databricks/python3/lib/python3.9/site-packages (from requests>=2.31->yfinance) (2.0.4)\r\nRequirement already satisfied: urllib3<3,>=1.21.1 in /databricks/python3/lib/python3.9/site-packages (from requests>=2.31->yfinance) (1.26.9)\r\nRequirement already satisfied: certifi>=2017.4.17 in /databricks/python3/lib/python3.9/site-packages (from requests>=2.31->yfinance) (2021.10.8)\r\nInstalling collected packages: pytz, requests, multitasking, html5lib, frozendict, appdirs, yfinance\r\n  Attempting uninstall: pytz\r\n    Found existing installation: pytz 2021.3\r\n    Not uninstalling pytz at /databricks/python3/lib/python3.9/site-packages, outside environment /local_disk0/.ephemeral_nfs/envs/pythonEnv-43970eee-6492-4bbd-9ce0-2b67ac59a439\r\n    Can't uninstall 'pytz'. No files were found to uninstall.\r\n  Attempting uninstall: requests\r\n    Found existing installation: requests 2.27.1\r\n    Not uninstalling requests at /databricks/python3/lib/python3.9/site-packages, outside environment /local_disk0/.ephemeral_nfs/envs/pythonEnv-43970eee-6492-4bbd-9ce0-2b67ac59a439\r\n    Can't uninstall 'requests'. No files were found to uninstall.\r\nSuccessfully installed appdirs-1.4.4 frozendict-2.4.4 html5lib-1.1 multitasking-0.0.11 pytz-2024.1 requests-2.31.0 yfinance-0.2.28\r\n\u001B[33mWARNING: You are using pip version 21.2.4; however, version 24.0 is available.\r\nYou should consider upgrading via the '/local_disk0/.ephemeral_nfs/envs/pythonEnv-43970eee-6492-4bbd-9ce0-2b67ac59a439/bin/python -m pip install --upgrade pip' command.\u001B[0m\r\n"
     ]
    }
   ],
   "source": [
    "!pip install yfinance"
   ]
  },
  {
   "cell_type": "code",
   "execution_count": 0,
   "metadata": {
    "application/vnd.databricks.v1+cell": {
     "cellMetadata": {
      "byteLimit": 2048000,
      "rowLimit": 10000
     },
     "inputWidgets": {},
     "nuid": "e6cf824a-a405-4e23-a85b-3dd394bf9def",
     "showTitle": false,
     "title": ""
    }
   },
   "outputs": [
    {
     "output_type": "stream",
     "name": "stdout",
     "output_type": "stream",
     "text": [
      "Out[5]: [FileInfo(path='dbfs:/FileStore/', name='FileStore/', size=0, modificationTime=0),\n FileInfo(path='dbfs:/databricks-datasets/', name='databricks-datasets/', size=0, modificationTime=0),\n FileInfo(path='dbfs:/databricks-results/', name='databricks-results/', size=0, modificationTime=0),\n FileInfo(path='dbfs:/tmp/', name='tmp/', size=0, modificationTime=0)]"
     ]
    }
   ],
   "source": [
    "# Listar os diretorios\n",
    "dbutils.fs.ls(\"/\")"
   ]
  },
  {
   "cell_type": "code",
   "execution_count": 0,
   "metadata": {
    "application/vnd.databricks.v1+cell": {
     "cellMetadata": {
      "byteLimit": 2048000,
      "rowLimit": 10000
     },
     "inputWidgets": {},
     "nuid": "02de7815-55bd-42fa-a7eb-f7f652c2c539",
     "showTitle": false,
     "title": ""
    }
   },
   "outputs": [
    {
     "output_type": "stream",
     "name": "stdout",
     "output_type": "stream",
     "text": [
      "Out[7]: True"
     ]
    }
   ],
   "source": [
    "# Criar novo diretorio\n",
    "dbutils.fs.mkdirs(\"/mnt/dados\")"
   ]
  },
  {
   "cell_type": "code",
   "execution_count": 0,
   "metadata": {
    "application/vnd.databricks.v1+cell": {
     "cellMetadata": {
      "byteLimit": 2048000,
      "rowLimit": 10000
     },
     "inputWidgets": {},
     "nuid": "8092d991-1fb2-4340-8656-22781222504b",
     "showTitle": false,
     "title": ""
    }
   },
   "outputs": [
    {
     "output_type": "stream",
     "name": "stdout",
     "output_type": "stream",
     "text": [
      "Out[9]: [FileInfo(path='dbfs:/mnt/dados/', name='dados/', size=0, modificationTime=0)]"
     ]
    }
   ],
   "source": [
    "# Listar os diretorios\n",
    "dbutils.fs.ls(\"/mnt\")"
   ]
  },
  {
   "cell_type": "code",
   "execution_count": 0,
   "metadata": {
    "application/vnd.databricks.v1+cell": {
     "cellMetadata": {
      "byteLimit": 2048000,
      "rowLimit": 10000
     },
     "inputWidgets": {},
     "nuid": "e0211916-a11e-443e-a164-1d3300604ea4",
     "showTitle": false,
     "title": ""
    }
   },
   "outputs": [],
   "source": [
    "from pandas_datareader import data as pdr\n",
    "from datetime import date\n",
    "import yfinance as yf\n",
    "yf.pdr_override()\n",
    "import pandas as pd\n",
    "import datetime as dtm\n",
    "from dateutil import parser\n",
    "from dateutil.relativedelta import relativedelta\n",
    "import pyspark\n",
    "from pyspark.sql import SparkSession\n",
    "from pyspark.sql.functions import col,lit\n",
    "from pyspark.sql.types import *\n",
    "import json\n",
    "import os\n",
    "from pyspark.sql import functions as f\n",
    "from pyspark.sql import window as w\n",
    "from functools import reduce\n",
    "import functools\n",
    "from pyspark.sql import DataFrame"
   ]
  },
  {
   "cell_type": "code",
   "execution_count": 0,
   "metadata": {
    "application/vnd.databricks.v1+cell": {
     "cellMetadata": {
      "byteLimit": 2048000,
      "rowLimit": 10000
     },
     "inputWidgets": {},
     "nuid": "d1e65f09-6f55-4833-abff-9cfca7842f77",
     "showTitle": false,
     "title": ""
    }
   },
   "outputs": [],
   "source": [
    "# Seleciona Stocks\n",
    "ticker_list=['MSFT', 'NURO']\n",
    "\n",
    "# Seleciona Periodo de Coleta\n",
    "start_date = dtm.datetime(2024,5,9) \n",
    "today = date.today()"
   ]
  },
  {
   "cell_type": "code",
   "execution_count": 0,
   "metadata": {
    "application/vnd.databricks.v1+cell": {
     "cellMetadata": {
      "byteLimit": 2048000,
      "rowLimit": 10000
     },
     "inputWidgets": {},
     "nuid": "5c881238-6ff9-4522-adc2-c0f9e818b665",
     "showTitle": false,
     "title": ""
    }
   },
   "outputs": [
    {
     "output_type": "stream",
     "name": "stdout",
     "output_type": "stream",
     "text": [
      "\r[*********************100%%**********************]  1 of 1 completed\n\r[*********************100%%**********************]  1 of 1 completed\n"
     ]
    },
    {
     "output_type": "display_data",
     "data": {
      "text/html": [
       "<style scoped>\n",
       "  .table-result-container {\n",
       "    max-height: 300px;\n",
       "    overflow: auto;\n",
       "  }\n",
       "  table, th, td {\n",
       "    border: 1px solid black;\n",
       "    border-collapse: collapse;\n",
       "  }\n",
       "  th, td {\n",
       "    padding: 5px;\n",
       "  }\n",
       "  th {\n",
       "    text-align: left;\n",
       "  }\n",
       "</style><div class='table-result-container'><table class='table-result'><thead style='background-color: white'><tr><th>Open</th><th>High</th><th>Low</th><th>Close</th><th>Adj_Close</th><th>Volume</th><th>StokeName</th></tr></thead><tbody><tr><td>410.57000732421875</td><td>412.7200012207031</td><td>409.1000061035156</td><td>412.32000732421875</td><td>412.32000732421875</td><td>14670400</td><td>MSFT</td></tr><tr><td>4.539999961853027</td><td>4.550000190734863</td><td>4.409999847412109</td><td>4.409999847412109</td><td>4.409999847412109</td><td>3400</td><td>NURO</td></tr></tbody></table></div>"
      ]
     },
     "metadata": {
      "application/vnd.databricks.v1+output": {
       "addedWidgets": {},
       "aggData": [],
       "aggError": "",
       "aggOverflow": false,
       "aggSchema": [],
       "aggSeriesLimitReached": false,
       "aggType": "",
       "arguments": {},
       "columnCustomDisplayInfos": {},
       "data": [
        [
         410.57000732421875,
         412.7200012207031,
         409.1000061035156,
         412.32000732421875,
         412.32000732421875,
         14670400,
         "MSFT"
        ],
        [
         4.539999961853027,
         4.550000190734863,
         4.409999847412109,
         4.409999847412109,
         4.409999847412109,
         3400,
         "NURO"
        ]
       ],
       "datasetInfos": [],
       "dbfsResultPath": null,
       "isJsonSchema": true,
       "metadata": {},
       "overflow": false,
       "plotOptions": {
        "customPlotOptions": {},
        "displayType": "table",
        "pivotAggregation": null,
        "pivotColumns": null,
        "xColumns": null,
        "yColumns": null
       },
       "removedWidgets": [],
       "schema": [
        {
         "metadata": "{}",
         "name": "Open",
         "type": "\"double\""
        },
        {
         "metadata": "{}",
         "name": "High",
         "type": "\"double\""
        },
        {
         "metadata": "{}",
         "name": "Low",
         "type": "\"double\""
        },
        {
         "metadata": "{}",
         "name": "Close",
         "type": "\"double\""
        },
        {
         "metadata": "{}",
         "name": "Adj_Close",
         "type": "\"double\""
        },
        {
         "metadata": "{}",
         "name": "Volume",
         "type": "\"long\""
        },
        {
         "metadata": "{}",
         "name": "StokeName",
         "type": "\"string\""
        }
       ],
       "type": "table"
      }
     },
     "output_type": "display_data"
    }
   ],
   "source": [
    "# Coleta Dados\n",
    "lista=[]\n",
    "\n",
    "for tik in ticker_list:\n",
    "  data = spark.createDataFrame(pdr.get_data_yahoo(tik, start=start_date, end=today))\n",
    "  data = data.withColumnRenamed('Adj Close', 'Adj_Close').withColumn('StokeName', lit(tik))\n",
    "  \n",
    "  lista.append(data)\n",
    "  #data = yf.Ticker(tik) \n",
    "  # Adiciona Novas Colunas\n",
    "  #data = data.withColumn('StokeName', lit(tik))\n",
    "  \n",
    "  #print(data.history(start=start_date, end=today))\n",
    "data = functools.reduce(DataFrame.union, lista)\n",
    "display(data)"
   ]
  },
  {
   "cell_type": "code",
   "execution_count": 0,
   "metadata": {
    "application/vnd.databricks.v1+cell": {
     "cellMetadata": {
      "byteLimit": 2048000,
      "rowLimit": 10000
     },
     "inputWidgets": {},
     "nuid": "fa53135b-3807-4e76-8f68-06746b26f942",
     "showTitle": false,
     "title": ""
    }
   },
   "outputs": [],
   "source": [
    "\n",
    "# Salva Dados no Formato Tabela\n",
    "data.write.mode('overwrite').saveAsTable('Stock')"
   ]
  },
  {
   "cell_type": "code",
   "execution_count": 0,
   "metadata": {
    "application/vnd.databricks.v1+cell": {
     "cellMetadata": {
      "byteLimit": 2048000,
      "rowLimit": 10000
     },
     "inputWidgets": {},
     "nuid": "356be74d-d424-4d6f-93de-e004f94f8a76",
     "showTitle": false,
     "title": ""
    }
   },
   "outputs": [],
   "source": [
    "\n",
    "# Salva Dados no Formato Parquet\n",
    "data.write.format('parquet').mode('overwrite').save('/mnt/dados/Stock.parquet')"
   ]
  },
  {
   "cell_type": "code",
   "execution_count": 0,
   "metadata": {
    "application/vnd.databricks.v1+cell": {
     "cellMetadata": {
      "byteLimit": 2048000,
      "rowLimit": 10000
     },
     "inputWidgets": {},
     "nuid": "baf1c1f7-44c4-4d43-a51f-0ccb4392767d",
     "showTitle": false,
     "title": ""
    }
   },
   "outputs": [
    {
     "output_type": "stream",
     "name": "stdout",
     "output_type": "stream",
     "text": [
      "Out[19]: [FileInfo(path='dbfs:/mnt/dados/Stock.parquet/', name='Stock.parquet/', size=0, modificationTime=0)]"
     ]
    }
   ],
   "source": [
    "# Lista Diretório\n",
    "dbutils.fs.ls('/mnt/dados')"
   ]
  },
  {
   "cell_type": "code",
   "execution_count": 0,
   "metadata": {
    "application/vnd.databricks.v1+cell": {
     "cellMetadata": {
      "byteLimit": 2048000,
      "rowLimit": 10000
     },
     "inputWidgets": {},
     "nuid": "0e6913da-c97d-47e7-abe3-b0c98c4559a6",
     "showTitle": false,
     "title": ""
    }
   },
   "outputs": [
    {
     "output_type": "display_data",
     "data": {
      "text/html": [
       "<style scoped>\n",
       "  .table-result-container {\n",
       "    max-height: 300px;\n",
       "    overflow: auto;\n",
       "  }\n",
       "  table, th, td {\n",
       "    border: 1px solid black;\n",
       "    border-collapse: collapse;\n",
       "  }\n",
       "  th, td {\n",
       "    padding: 5px;\n",
       "  }\n",
       "  th {\n",
       "    text-align: left;\n",
       "  }\n",
       "</style><div class='table-result-container'><table class='table-result'><thead style='background-color: white'><tr><th>Open</th><th>High</th><th>Low</th><th>Close</th><th>Adj_Close</th><th>Volume</th><th>StokeName</th></tr></thead><tbody><tr><td>410.57000732421875</td><td>412.7200012207031</td><td>409.1000061035156</td><td>412.32000732421875</td><td>412.32000732421875</td><td>14670400</td><td>MSFT</td></tr><tr><td>4.539999961853027</td><td>4.550000190734863</td><td>4.409999847412109</td><td>4.409999847412109</td><td>4.409999847412109</td><td>3400</td><td>NURO</td></tr></tbody></table></div>"
      ]
     },
     "metadata": {
      "application/vnd.databricks.v1+output": {
       "addedWidgets": {},
       "aggData": [],
       "aggError": "",
       "aggOverflow": false,
       "aggSchema": [],
       "aggSeriesLimitReached": false,
       "aggType": "",
       "arguments": {},
       "columnCustomDisplayInfos": {},
       "data": [
        [
         410.57000732421875,
         412.7200012207031,
         409.1000061035156,
         412.32000732421875,
         412.32000732421875,
         14670400,
         "MSFT"
        ],
        [
         4.539999961853027,
         4.550000190734863,
         4.409999847412109,
         4.409999847412109,
         4.409999847412109,
         3400,
         "NURO"
        ]
       ],
       "datasetInfos": [],
       "dbfsResultPath": null,
       "isJsonSchema": true,
       "metadata": {},
       "overflow": false,
       "plotOptions": {
        "customPlotOptions": {},
        "displayType": "table",
        "pivotAggregation": null,
        "pivotColumns": null,
        "xColumns": null,
        "yColumns": null
       },
       "removedWidgets": [],
       "schema": [
        {
         "metadata": "{}",
         "name": "Open",
         "type": "\"double\""
        },
        {
         "metadata": "{}",
         "name": "High",
         "type": "\"double\""
        },
        {
         "metadata": "{}",
         "name": "Low",
         "type": "\"double\""
        },
        {
         "metadata": "{}",
         "name": "Close",
         "type": "\"double\""
        },
        {
         "metadata": "{}",
         "name": "Adj_Close",
         "type": "\"double\""
        },
        {
         "metadata": "{}",
         "name": "Volume",
         "type": "\"long\""
        },
        {
         "metadata": "{}",
         "name": "StokeName",
         "type": "\"string\""
        }
       ],
       "type": "table"
      }
     },
     "output_type": "display_data"
    }
   ],
   "source": [
    "# Lendo Arquivo Parquet\n",
    "df_stock = spark.read.format('parquet').load('/mnt/dados/Stock.parquet')\n",
    "display(df_stock)"
   ]
  },
  {
   "cell_type": "code",
   "execution_count": 0,
   "metadata": {
    "application/vnd.databricks.v1+cell": {
     "cellMetadata": {
      "byteLimit": 2048000,
      "rowLimit": 10000
     },
     "inputWidgets": {},
     "nuid": "633658c9-5fac-487f-bc2a-0a0ae9f25a27",
     "showTitle": false,
     "title": ""
    }
   },
   "outputs": [
    {
     "output_type": "stream",
     "name": "stdout",
     "output_type": "stream",
     "text": [
      "+------------------+-----------------+-----------------+------------------+------------------+--------+---------+\n|              Open|             High|              Low|             Close|         Adj_Close|  Volume|StokeName|\n+------------------+-----------------+-----------------+------------------+------------------+--------+---------+\n|410.57000732421875|412.7200012207031|409.1000061035156|412.32000732421875|412.32000732421875|14670400|     MSFT|\n| 4.539999961853027|4.550000190734863|4.409999847412109| 4.409999847412109| 4.409999847412109|    3400|     NURO|\n+------------------+-----------------+-----------------+------------------+------------------+--------+---------+\n\n"
     ]
    }
   ],
   "source": [
    "df_stock.show()"
   ]
  },
  {
   "cell_type": "code",
   "execution_count": 0,
   "metadata": {
    "application/vnd.databricks.v1+cell": {
     "cellMetadata": {
      "byteLimit": 2048000,
      "implicitDf": true,
      "rowLimit": 10000
     },
     "inputWidgets": {},
     "nuid": "ea7d4359-ea07-491c-b9cc-8ee80e446888",
     "showTitle": false,
     "title": ""
    }
   },
   "outputs": [
    {
     "output_type": "display_data",
     "data": {
      "text/html": [
       "<style scoped>\n",
       "  .table-result-container {\n",
       "    max-height: 300px;\n",
       "    overflow: auto;\n",
       "  }\n",
       "  table, th, td {\n",
       "    border: 1px solid black;\n",
       "    border-collapse: collapse;\n",
       "  }\n",
       "  th, td {\n",
       "    padding: 5px;\n",
       "  }\n",
       "  th {\n",
       "    text-align: left;\n",
       "  }\n",
       "</style><div class='table-result-container'><table class='table-result'><thead style='background-color: white'><tr><th>Open</th><th>High</th><th>Low</th><th>Close</th><th>Adj_Close</th><th>Volume</th><th>StokeName</th></tr></thead><tbody><tr><td>410.57000732421875</td><td>412.7200012207031</td><td>409.1000061035156</td><td>412.32000732421875</td><td>412.32000732421875</td><td>14670400</td><td>MSFT</td></tr><tr><td>4.539999961853027</td><td>4.550000190734863</td><td>4.409999847412109</td><td>4.409999847412109</td><td>4.409999847412109</td><td>3400</td><td>NURO</td></tr></tbody></table></div>"
      ]
     },
     "metadata": {
      "application/vnd.databricks.v1+output": {
       "addedWidgets": {},
       "aggData": [],
       "aggError": "",
       "aggOverflow": false,
       "aggSchema": [],
       "aggSeriesLimitReached": false,
       "aggType": "",
       "arguments": {},
       "columnCustomDisplayInfos": {},
       "data": [
        [
         410.57000732421875,
         412.7200012207031,
         409.1000061035156,
         412.32000732421875,
         412.32000732421875,
         14670400,
         "MSFT"
        ],
        [
         4.539999961853027,
         4.550000190734863,
         4.409999847412109,
         4.409999847412109,
         4.409999847412109,
         3400,
         "NURO"
        ]
       ],
       "datasetInfos": [],
       "dbfsResultPath": null,
       "isJsonSchema": true,
       "metadata": {},
       "overflow": false,
       "plotOptions": {
        "customPlotOptions": {},
        "displayType": "table",
        "pivotAggregation": null,
        "pivotColumns": null,
        "xColumns": null,
        "yColumns": null
       },
       "removedWidgets": [],
       "schema": [
        {
         "metadata": "{}",
         "name": "Open",
         "type": "\"double\""
        },
        {
         "metadata": "{}",
         "name": "High",
         "type": "\"double\""
        },
        {
         "metadata": "{}",
         "name": "Low",
         "type": "\"double\""
        },
        {
         "metadata": "{}",
         "name": "Close",
         "type": "\"double\""
        },
        {
         "metadata": "{}",
         "name": "Adj_Close",
         "type": "\"double\""
        },
        {
         "metadata": "{}",
         "name": "Volume",
         "type": "\"long\""
        },
        {
         "metadata": "{}",
         "name": "StokeName",
         "type": "\"string\""
        }
       ],
       "type": "table"
      }
     },
     "output_type": "display_data"
    }
   ],
   "source": [
    "%sql\n",
    "\n",
    "select * from Stock;"
   ]
  },
  {
   "cell_type": "code",
   "execution_count": 0,
   "metadata": {
    "application/vnd.databricks.v1+cell": {
     "cellMetadata": {},
     "inputWidgets": {},
     "nuid": "badddba4-31c1-4ab0-a81c-9a081f6ee06b",
     "showTitle": false,
     "title": ""
    }
   },
   "outputs": [],
   "source": []
  }
 ],
 "metadata": {
  "application/vnd.databricks.v1+notebook": {
   "dashboards": [],
   "language": "python",
   "notebookMetadata": {
    "mostRecentlyExecutedCommandWithImplicitDF": {
     "commandId": 1459423229427049,
     "dataframes": [
      "_sqldf"
     ]
    },
    "pythonIndentUnit": 2
   },
   "notebookName": "ColetaDadosStock 2024-05-10",
   "widgets": {}
  }
 },
 "nbformat": 4,
 "nbformat_minor": 0
}
